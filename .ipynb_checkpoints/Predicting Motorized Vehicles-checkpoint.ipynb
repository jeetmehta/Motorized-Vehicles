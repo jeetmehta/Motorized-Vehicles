{
 "cells": [
  {
   "cell_type": "markdown",
   "metadata": {},
   "source": [
    "# Motorized Vehicles: Data Science Challenge\n",
    "\n",
    "Based on the E-Bike Survey Response Results from TO Open Data, the goal is to train a model to predict whether the responder will answer \"No - I do not have access to a private motorized vehicle\" to the question \"Does your household have access to any of the following types of private motorized vehicles?\". \n",
    "\n",
    "Clearly, since the goal is to predict whether the output for this feature is a given category, this is a problem of classification. The dataset is labelled (since we have access to survey respones to that question), and hence it is a supervised learning classification problem.\n",
    "\n",
    "The following notebook will cover the entire Data Science process, starting from loading the data, cleaning it, doing exploratory data analysis, creating a classification model and finally, evaluating the model.\n",
    "\n",
    "## Data Import & First Look\n",
    "\n",
    "Let's start by importing any necessary modules we need for data manipulation."
   ]
  },
  {
   "cell_type": "code",
   "execution_count": 3486,
   "metadata": {},
   "outputs": [],
   "source": [
    "# Import necessary modules\n",
    "import numpy as np\n",
    "import pandas as pd\n",
    "import matplotlib.pyplot as plt"
   ]
  },
  {
   "cell_type": "code",
   "execution_count": 3487,
   "metadata": {},
   "outputs": [],
   "source": [
    "# Read in survey data\n",
    "responses = pd.read_csv(\"E-Bike_Survey_Responses.csv\")"
   ]
  },
  {
   "cell_type": "code",
   "execution_count": 3488,
   "metadata": {},
   "outputs": [
    {
     "data": {
      "text/html": [
       "<div>\n",
       "<table border=\"1\" class=\"dataframe\">\n",
       "  <thead>\n",
       "    <tr style=\"text-align: right;\">\n",
       "      <th></th>\n",
       "      <th>Timestamp</th>\n",
       "      <th>What age range do you fall in?</th>\n",
       "      <th>Sex</th>\n",
       "      <th>How would you describe your level of physical health?</th>\n",
       "      <th>What level of education have you reached?</th>\n",
       "      <th>What is your household income?</th>\n",
       "      <th>Which category best describes your employment?</th>\n",
       "      <th>What Toronto district is your primary address located in?</th>\n",
       "      <th>On average what distance do you travel most days of the week?</th>\n",
       "      <th>On average how long is your commute?</th>\n",
       "      <th>...</th>\n",
       "      <th>Do you support any of the following statements?</th>\n",
       "      <th>When you use Toronto's Multi-Use Trails do you mostly</th>\n",
       "      <th>Are you aware that the Multi-Use Paths have a speed limit of 20 km/h?</th>\n",
       "      <th>Have you witnessed a collision or conflict on a trail between</th>\n",
       "      <th>Do you think more should be done to manage trail users who do not respect the 20 km/h speed limit?</th>\n",
       "      <th>Currently any kind of e-bike may use a multi-use path if they are propelled by pedaling only and those propelled by motor power may be fined</th>\n",
       "      <th>When you use Toronto's bicycle lanes do you mostly</th>\n",
       "      <th>Currently any kind of e-bike may use a bicycle lane if they are propelled by pedaling only and those propelled by motor power may be fined</th>\n",
       "      <th>With regards to illegal use of bicycles and e-bikes on sidewalks should the City</th>\n",
       "      <th>Toronto Bylaws consider personal mobility devices (such as electric wheel chairs) to be pedestrians In your opinion should the City</th>\n",
       "    </tr>\n",
       "  </thead>\n",
       "  <tbody>\n",
       "    <tr>\n",
       "      <th>0</th>\n",
       "      <td>2013-04-10 12:10</td>\n",
       "      <td>35 to 49</td>\n",
       "      <td>Male</td>\n",
       "      <td>Good</td>\n",
       "      <td>Post graduate</td>\n",
       "      <td>$100K+</td>\n",
       "      <td>Self Employed</td>\n",
       "      <td>Central Toronto York or East York</td>\n",
       "      <td>Under 2 km</td>\n",
       "      <td>15 minutes or less</td>\n",
       "      <td>...</td>\n",
       "      <td>On scooter type e-bikes the pedals are unneces...</td>\n",
       "      <td>drive a motor propelled e-bike</td>\n",
       "      <td>No</td>\n",
       "      <td>pedestrians and/or runners a conflict relating...</td>\n",
       "      <td>No - the trails are fine as they are</td>\n",
       "      <td>The bylaw should be modified to allow any kind...</td>\n",
       "      <td>drive a scooter type e-bike propelled by an el...</td>\n",
       "      <td>The bylaw should be modified to allow e-bikes ...</td>\n",
       "      <td>be tolerant of bikes and e-bikes on the walksi...</td>\n",
       "      <td>Institute a speed limit for sidewalks</td>\n",
       "    </tr>\n",
       "    <tr>\n",
       "      <th>1</th>\n",
       "      <td>2013-04-10 12:30</td>\n",
       "      <td>18 to 34</td>\n",
       "      <td>Male</td>\n",
       "      <td>Excellent</td>\n",
       "      <td>University degree</td>\n",
       "      <td>$40K to $59K</td>\n",
       "      <td>Full Time</td>\n",
       "      <td>Central Toronto York or East York</td>\n",
       "      <td>10 - 20 km</td>\n",
       "      <td>30 - 44 minutes</td>\n",
       "      <td>...</td>\n",
       "      <td>On scooter type e-bikes the pedals are unneces...</td>\n",
       "      <td>I very rarely use any of Toronto's Multi-Use P...</td>\n",
       "      <td>No</td>\n",
       "      <td>I am not aware of any conflicts on the trails</td>\n",
       "      <td>No - the trails are fine as they are</td>\n",
       "      <td>No changes are necessary to the existing bylaw</td>\n",
       "      <td>drive a scooter type e-bike propelled by an el...</td>\n",
       "      <td>The bylaw should be modified to allow e-bikes ...</td>\n",
       "      <td>maintain the existing programs for signage edu...</td>\n",
       "      <td>Do nothing</td>\n",
       "    </tr>\n",
       "    <tr>\n",
       "      <th>2</th>\n",
       "      <td>2013-04-10 12:33</td>\n",
       "      <td>50 to 64</td>\n",
       "      <td>Male</td>\n",
       "      <td>Good</td>\n",
       "      <td>University degree</td>\n",
       "      <td>$40K to $59K</td>\n",
       "      <td>Self Employed</td>\n",
       "      <td>Central Toronto York or East York</td>\n",
       "      <td>10 - 20 km</td>\n",
       "      <td>15 minutes or less</td>\n",
       "      <td>...</td>\n",
       "      <td>Most scooter type e-bikes are wider than a bic...</td>\n",
       "      <td>cycle I very rarely use any of Toronto's Multi...</td>\n",
       "      <td>No</td>\n",
       "      <td>I am not aware of any conflicts on the trails</td>\n",
       "      <td>Yes - more signage Yes - more enforcement (tic...</td>\n",
       "      <td>No changes are necessary to the existing bylaw</td>\n",
       "      <td>ride a road bicycle or a fixie</td>\n",
       "      <td>No changes are necessary to the existing bylaw</td>\n",
       "      <td>increase signage increase enforcement increase...</td>\n",
       "      <td>only wheelchairs at walking speed</td>\n",
       "    </tr>\n",
       "    <tr>\n",
       "      <th>3</th>\n",
       "      <td>2013-04-10 12:52</td>\n",
       "      <td>50 to 64</td>\n",
       "      <td>Male</td>\n",
       "      <td>Good</td>\n",
       "      <td>4 years university no degree</td>\n",
       "      <td>$80K to $99K</td>\n",
       "      <td>Self Employed</td>\n",
       "      <td>Central Toronto York or East York</td>\n",
       "      <td>Under 2 km</td>\n",
       "      <td>15 minutes or less</td>\n",
       "      <td>...</td>\n",
       "      <td>On scooter type e-bikes the pedals are unneces...</td>\n",
       "      <td>cycle</td>\n",
       "      <td>No</td>\n",
       "      <td>a conflict between cyclists and pedestrians a ...</td>\n",
       "      <td>Yes - more signage Yes - more enforcement (tic...</td>\n",
       "      <td>Motorized vehicles should generally not be all...</td>\n",
       "      <td>ride a commuter or cruiser style bicycle</td>\n",
       "      <td>Motorized vehicles should generally not be all...</td>\n",
       "      <td>increase signage increase enforcement</td>\n",
       "      <td>Update the definition of a personal mobility d...</td>\n",
       "    </tr>\n",
       "    <tr>\n",
       "      <th>4</th>\n",
       "      <td>2013-04-10 13:24</td>\n",
       "      <td>18 to 34</td>\n",
       "      <td>Male</td>\n",
       "      <td>Very good</td>\n",
       "      <td>College or trade school diploma</td>\n",
       "      <td>$40K to $59K</td>\n",
       "      <td>Self Employed</td>\n",
       "      <td>Central Toronto York or East York</td>\n",
       "      <td>5 - 10 km</td>\n",
       "      <td>15 minutes or less</td>\n",
       "      <td>...</td>\n",
       "      <td>Most scooter type e-bikes are wider than a bic...</td>\n",
       "      <td>cycle I very rarely use any of Toronto's Multi...</td>\n",
       "      <td>No</td>\n",
       "      <td>I am not aware of any conflicts on the trails</td>\n",
       "      <td>No - the trails are fine as they are</td>\n",
       "      <td>Motorized vehicles should generally not be all...</td>\n",
       "      <td>ride a road bicycle or a fixie</td>\n",
       "      <td>Motorized vehicles should generally not be all...</td>\n",
       "      <td>maintain the existing programs for signage edu...</td>\n",
       "      <td>Update the definition of a personal mobility d...</td>\n",
       "    </tr>\n",
       "    <tr>\n",
       "      <th>5</th>\n",
       "      <td>2013-04-10 13:26</td>\n",
       "      <td>35 to 49</td>\n",
       "      <td>Male</td>\n",
       "      <td>Very good</td>\n",
       "      <td>College or trade school diploma</td>\n",
       "      <td>$40K to $59K</td>\n",
       "      <td>Full Time</td>\n",
       "      <td>Central Toronto York or East York</td>\n",
       "      <td>10 - 20 km</td>\n",
       "      <td>16 - 29 minutes</td>\n",
       "      <td>...</td>\n",
       "      <td>scooter style e-bikes are different than pedal...</td>\n",
       "      <td>cycle</td>\n",
       "      <td>No</td>\n",
       "      <td>a conflict between e-biker and a cyclist</td>\n",
       "      <td>Yes - more educational programs</td>\n",
       "      <td>Motorized vehicles should generally not be all...</td>\n",
       "      <td>ride a road bicycle or a fixie</td>\n",
       "      <td>Motorized vehicles should generally not be all...</td>\n",
       "      <td>increase education</td>\n",
       "      <td>Update the definition of a personal mobility d...</td>\n",
       "    </tr>\n",
       "    <tr>\n",
       "      <th>6</th>\n",
       "      <td>2013-04-10 13:27</td>\n",
       "      <td>18 to 34</td>\n",
       "      <td>Male</td>\n",
       "      <td>Good</td>\n",
       "      <td>College or trade school diploma</td>\n",
       "      <td>$100K+</td>\n",
       "      <td>Full Time</td>\n",
       "      <td>Central Toronto York or East York</td>\n",
       "      <td>5 - 10 km</td>\n",
       "      <td>15 minutes or less</td>\n",
       "      <td>...</td>\n",
       "      <td>scooter style e-bikes are different than pedal...</td>\n",
       "      <td>cycle</td>\n",
       "      <td>No</td>\n",
       "      <td>a conflict relating to a dog(s) a conflict bet...</td>\n",
       "      <td>Yes - more signage Yes - more educational prog...</td>\n",
       "      <td>The bylaw should be modified to allow any kind...</td>\n",
       "      <td>ride a commuter or cruiser style bicycle</td>\n",
       "      <td>An e-bike should never be in a bike lane</td>\n",
       "      <td>increase signage increase enforcement increase...</td>\n",
       "      <td>Update the definition of a personal mobility d...</td>\n",
       "    </tr>\n",
       "    <tr>\n",
       "      <th>7</th>\n",
       "      <td>2013-04-10 13:28</td>\n",
       "      <td>35 to 49</td>\n",
       "      <td>Male</td>\n",
       "      <td>Very good</td>\n",
       "      <td>Post graduate</td>\n",
       "      <td>$100K+</td>\n",
       "      <td>Full Time</td>\n",
       "      <td>Central Toronto York or East York</td>\n",
       "      <td>Under 2 km</td>\n",
       "      <td>15 minutes or less</td>\n",
       "      <td>...</td>\n",
       "      <td>scooter style e-bikes are different than pedal...</td>\n",
       "      <td>run</td>\n",
       "      <td>No</td>\n",
       "      <td>pedestrians and/or runners a conflict relating...</td>\n",
       "      <td>Yes - more signage</td>\n",
       "      <td>Motorized vehicles should generally not be all...</td>\n",
       "      <td>ride a mountain downhill or BMX bicycle</td>\n",
       "      <td>Motorized vehicles should generally not be all...</td>\n",
       "      <td>maintain the existing programs for signage edu...</td>\n",
       "      <td>Update the definition of a personal mobility d...</td>\n",
       "    </tr>\n",
       "    <tr>\n",
       "      <th>8</th>\n",
       "      <td>2013-04-10 13:31</td>\n",
       "      <td>35 to 49</td>\n",
       "      <td>Female</td>\n",
       "      <td>Fairly good</td>\n",
       "      <td>Post graduate</td>\n",
       "      <td>$80K to $99K</td>\n",
       "      <td>Unemployed</td>\n",
       "      <td>Central Toronto York or East York</td>\n",
       "      <td>5 - 10 km</td>\n",
       "      <td>15 minutes or less</td>\n",
       "      <td>...</td>\n",
       "      <td>scooter style e-bikes are different than pedal...</td>\n",
       "      <td>walk</td>\n",
       "      <td>No</td>\n",
       "      <td>a conflict relating to a dog(s) a conflict bet...</td>\n",
       "      <td>Yes - more signage Yes - more enforcement (tic...</td>\n",
       "      <td>No changes are necessary to the existing bylaw</td>\n",
       "      <td>ride a mountain downhill or BMX bicycle</td>\n",
       "      <td>The bylaw should be modified to allow e-bikes ...</td>\n",
       "      <td>increase signage increase enforcement increase...</td>\n",
       "      <td>Update the definition of a personal mobility d...</td>\n",
       "    </tr>\n",
       "    <tr>\n",
       "      <th>9</th>\n",
       "      <td>2013-04-10 13:33</td>\n",
       "      <td>18 to 34</td>\n",
       "      <td>Male</td>\n",
       "      <td>Good</td>\n",
       "      <td>College or trade school diploma</td>\n",
       "      <td>$60K to $79K</td>\n",
       "      <td>Full Time</td>\n",
       "      <td>Central Toronto York or East York</td>\n",
       "      <td>20 -35 km</td>\n",
       "      <td>15 minutes or less</td>\n",
       "      <td>...</td>\n",
       "      <td>scooter style e-bikes are different than pedal...</td>\n",
       "      <td>walk</td>\n",
       "      <td>No</td>\n",
       "      <td>I am not aware of any conflicts on the trails</td>\n",
       "      <td>Yes - more signage Yes - more enforcement (tic...</td>\n",
       "      <td>No changes are necessary to the existing bylaw</td>\n",
       "      <td>ride a commuter or cruiser style bicycle</td>\n",
       "      <td>No changes are necessary to the existing bylaw</td>\n",
       "      <td>increase signage increase enforcement increase...</td>\n",
       "      <td>Update the definition of a personal mobility d...</td>\n",
       "    </tr>\n",
       "  </tbody>\n",
       "</table>\n",
       "<p>10 rows × 22 columns</p>\n",
       "</div>"
      ],
      "text/plain": [
       "          Timestamp What age range do you fall in?     Sex  \\\n",
       "0  2013-04-10 12:10                       35 to 49    Male   \n",
       "1  2013-04-10 12:30                       18 to 34    Male   \n",
       "2  2013-04-10 12:33                       50 to 64    Male   \n",
       "3  2013-04-10 12:52                       50 to 64    Male   \n",
       "4  2013-04-10 13:24                       18 to 34    Male   \n",
       "5  2013-04-10 13:26                       35 to 49    Male   \n",
       "6  2013-04-10 13:27                       18 to 34    Male   \n",
       "7  2013-04-10 13:28                       35 to 49    Male   \n",
       "8  2013-04-10 13:31                       35 to 49  Female   \n",
       "9  2013-04-10 13:33                       18 to 34    Male   \n",
       "\n",
       "  How would you describe your level of physical health?  \\\n",
       "0                                               Good      \n",
       "1                                          Excellent      \n",
       "2                                               Good      \n",
       "3                                               Good      \n",
       "4                                          Very good      \n",
       "5                                          Very good      \n",
       "6                                               Good      \n",
       "7                                          Very good      \n",
       "8                                        Fairly good      \n",
       "9                                               Good      \n",
       "\n",
       "  What level of education have you reached? What is your household income?  \\\n",
       "0                             Post graduate                         $100K+   \n",
       "1                         University degree                   $40K to $59K   \n",
       "2                         University degree                   $40K to $59K   \n",
       "3              4 years university no degree                   $80K to $99K   \n",
       "4           College or trade school diploma                   $40K to $59K   \n",
       "5           College or trade school diploma                   $40K to $59K   \n",
       "6           College or trade school diploma                         $100K+   \n",
       "7                             Post graduate                         $100K+   \n",
       "8                             Post graduate                   $80K to $99K   \n",
       "9           College or trade school diploma                   $60K to $79K   \n",
       "\n",
       "  Which category best describes your employment?  \\\n",
       "0                                  Self Employed   \n",
       "1                                      Full Time   \n",
       "2                                  Self Employed   \n",
       "3                                  Self Employed   \n",
       "4                                  Self Employed   \n",
       "5                                      Full Time   \n",
       "6                                      Full Time   \n",
       "7                                      Full Time   \n",
       "8                                     Unemployed   \n",
       "9                                      Full Time   \n",
       "\n",
       "  What Toronto district is your primary address located in?  \\\n",
       "0                  Central Toronto York or East York          \n",
       "1                  Central Toronto York or East York          \n",
       "2                  Central Toronto York or East York          \n",
       "3                  Central Toronto York or East York          \n",
       "4                  Central Toronto York or East York          \n",
       "5                  Central Toronto York or East York          \n",
       "6                  Central Toronto York or East York          \n",
       "7                  Central Toronto York or East York          \n",
       "8                  Central Toronto York or East York          \n",
       "9                  Central Toronto York or East York          \n",
       "\n",
       "  On average what distance do you travel most days of the week?  \\\n",
       "0                                         Under 2 km              \n",
       "1                                         10 - 20 km              \n",
       "2                                         10 - 20 km              \n",
       "3                                         Under 2 km              \n",
       "4                                          5 - 10 km              \n",
       "5                                         10 - 20 km              \n",
       "6                                          5 - 10 km              \n",
       "7                                         Under 2 km              \n",
       "8                                          5 - 10 km              \n",
       "9                                          20 -35 km              \n",
       "\n",
       "  On average how long is your commute?  \\\n",
       "0                   15 minutes or less   \n",
       "1                      30 - 44 minutes   \n",
       "2                   15 minutes or less   \n",
       "3                   15 minutes or less   \n",
       "4                   15 minutes or less   \n",
       "5                      16 - 29 minutes   \n",
       "6                   15 minutes or less   \n",
       "7                   15 minutes or less   \n",
       "8                   15 minutes or less   \n",
       "9                   15 minutes or less   \n",
       "\n",
       "                                                                  ...                                                                  \\\n",
       "0                                                                 ...                                                                   \n",
       "1                                                                 ...                                                                   \n",
       "2                                                                 ...                                                                   \n",
       "3                                                                 ...                                                                   \n",
       "4                                                                 ...                                                                   \n",
       "5                                                                 ...                                                                   \n",
       "6                                                                 ...                                                                   \n",
       "7                                                                 ...                                                                   \n",
       "8                                                                 ...                                                                   \n",
       "9                                                                 ...                                                                   \n",
       "\n",
       "     Do you support any of the following statements?  \\\n",
       "0  On scooter type e-bikes the pedals are unneces...   \n",
       "1  On scooter type e-bikes the pedals are unneces...   \n",
       "2  Most scooter type e-bikes are wider than a bic...   \n",
       "3  On scooter type e-bikes the pedals are unneces...   \n",
       "4  Most scooter type e-bikes are wider than a bic...   \n",
       "5  scooter style e-bikes are different than pedal...   \n",
       "6  scooter style e-bikes are different than pedal...   \n",
       "7  scooter style e-bikes are different than pedal...   \n",
       "8  scooter style e-bikes are different than pedal...   \n",
       "9  scooter style e-bikes are different than pedal...   \n",
       "\n",
       "  When you use Toronto's Multi-Use Trails do you mostly  \\\n",
       "0                     drive a motor propelled e-bike      \n",
       "1  I very rarely use any of Toronto's Multi-Use P...      \n",
       "2  cycle I very rarely use any of Toronto's Multi...      \n",
       "3                                              cycle      \n",
       "4  cycle I very rarely use any of Toronto's Multi...      \n",
       "5                                              cycle      \n",
       "6                                              cycle      \n",
       "7                                                run      \n",
       "8                                               walk      \n",
       "9                                               walk      \n",
       "\n",
       "  Are you aware that the Multi-Use Paths have a speed limit of 20 km/h?  \\\n",
       "0                                                 No                      \n",
       "1                                                 No                      \n",
       "2                                                 No                      \n",
       "3                                                 No                      \n",
       "4                                                 No                      \n",
       "5                                                 No                      \n",
       "6                                                 No                      \n",
       "7                                                 No                      \n",
       "8                                                 No                      \n",
       "9                                                 No                      \n",
       "\n",
       "  Have you witnessed a collision or conflict on a trail between  \\\n",
       "0  pedestrians and/or runners a conflict relating...              \n",
       "1      I am not aware of any conflicts on the trails              \n",
       "2      I am not aware of any conflicts on the trails              \n",
       "3  a conflict between cyclists and pedestrians a ...              \n",
       "4      I am not aware of any conflicts on the trails              \n",
       "5           a conflict between e-biker and a cyclist              \n",
       "6  a conflict relating to a dog(s) a conflict bet...              \n",
       "7  pedestrians and/or runners a conflict relating...              \n",
       "8  a conflict relating to a dog(s) a conflict bet...              \n",
       "9      I am not aware of any conflicts on the trails              \n",
       "\n",
       "  Do you think more should be done to manage trail users who do not respect the 20 km/h speed limit?  \\\n",
       "0               No - the trails are fine as they are                                                   \n",
       "1               No - the trails are fine as they are                                                   \n",
       "2  Yes - more signage Yes - more enforcement (tic...                                                   \n",
       "3  Yes - more signage Yes - more enforcement (tic...                                                   \n",
       "4               No - the trails are fine as they are                                                   \n",
       "5                    Yes - more educational programs                                                   \n",
       "6  Yes - more signage Yes - more educational prog...                                                   \n",
       "7                                 Yes - more signage                                                   \n",
       "8  Yes - more signage Yes - more enforcement (tic...                                                   \n",
       "9  Yes - more signage Yes - more enforcement (tic...                                                   \n",
       "\n",
       "  Currently any kind of e-bike may use a multi-use path if they are propelled by pedaling only and those propelled by motor power may be fined   \\\n",
       "0  The bylaw should be modified to allow any kind...                                                                                              \n",
       "1     No changes are necessary to the existing bylaw                                                                                              \n",
       "2     No changes are necessary to the existing bylaw                                                                                              \n",
       "3  Motorized vehicles should generally not be all...                                                                                              \n",
       "4  Motorized vehicles should generally not be all...                                                                                              \n",
       "5  Motorized vehicles should generally not be all...                                                                                              \n",
       "6  The bylaw should be modified to allow any kind...                                                                                              \n",
       "7  Motorized vehicles should generally not be all...                                                                                              \n",
       "8     No changes are necessary to the existing bylaw                                                                                              \n",
       "9     No changes are necessary to the existing bylaw                                                                                              \n",
       "\n",
       "  When you use Toronto's bicycle lanes do you mostly  \\\n",
       "0  drive a scooter type e-bike propelled by an el...   \n",
       "1  drive a scooter type e-bike propelled by an el...   \n",
       "2                     ride a road bicycle or a fixie   \n",
       "3           ride a commuter or cruiser style bicycle   \n",
       "4                     ride a road bicycle or a fixie   \n",
       "5                     ride a road bicycle or a fixie   \n",
       "6           ride a commuter or cruiser style bicycle   \n",
       "7            ride a mountain downhill or BMX bicycle   \n",
       "8            ride a mountain downhill or BMX bicycle   \n",
       "9           ride a commuter or cruiser style bicycle   \n",
       "\n",
       "  Currently any kind of e-bike may use a bicycle lane if they are propelled by pedaling only and those propelled by motor power may be fined   \\\n",
       "0  The bylaw should be modified to allow e-bikes ...                                                                                            \n",
       "1  The bylaw should be modified to allow e-bikes ...                                                                                            \n",
       "2     No changes are necessary to the existing bylaw                                                                                            \n",
       "3  Motorized vehicles should generally not be all...                                                                                            \n",
       "4  Motorized vehicles should generally not be all...                                                                                            \n",
       "5  Motorized vehicles should generally not be all...                                                                                            \n",
       "6          An e-bike should never be in a bike lane                                                                                             \n",
       "7  Motorized vehicles should generally not be all...                                                                                            \n",
       "8  The bylaw should be modified to allow e-bikes ...                                                                                            \n",
       "9     No changes are necessary to the existing bylaw                                                                                            \n",
       "\n",
       "  With regards to illegal use of bicycles and e-bikes on sidewalks should the City   \\\n",
       "0  be tolerant of bikes and e-bikes on the walksi...                                  \n",
       "1  maintain the existing programs for signage edu...                                  \n",
       "2  increase signage increase enforcement increase...                                  \n",
       "3              increase signage increase enforcement                                  \n",
       "4  maintain the existing programs for signage edu...                                  \n",
       "5                                 increase education                                  \n",
       "6  increase signage increase enforcement increase...                                  \n",
       "7  maintain the existing programs for signage edu...                                  \n",
       "8  increase signage increase enforcement increase...                                  \n",
       "9  increase signage increase enforcement increase...                                  \n",
       "\n",
       "  Toronto Bylaws consider personal mobility devices (such as electric wheel chairs) to be pedestrians In your opinion should the City  \n",
       "0              Institute a speed limit for sidewalks                                                                                   \n",
       "1                                         Do nothing                                                                                   \n",
       "2                  only wheelchairs at walking speed                                                                                   \n",
       "3  Update the definition of a personal mobility d...                                                                                   \n",
       "4  Update the definition of a personal mobility d...                                                                                   \n",
       "5  Update the definition of a personal mobility d...                                                                                   \n",
       "6  Update the definition of a personal mobility d...                                                                                   \n",
       "7  Update the definition of a personal mobility d...                                                                                   \n",
       "8  Update the definition of a personal mobility d...                                                                                   \n",
       "9  Update the definition of a personal mobility d...                                                                                   \n",
       "\n",
       "[10 rows x 22 columns]"
      ]
     },
     "execution_count": 3488,
     "metadata": {},
     "output_type": "execute_result"
    }
   ],
   "source": [
    "# Take a look at available features + responses\n",
    "responses.head(10)"
   ]
  },
  {
   "cell_type": "markdown",
   "metadata": {},
   "source": [
    "**Note: ** Looking at the above dataframe, we can see that there's 22 different columns/features of data, each one corresponding to a different survey question. Since Pandas shortens the df to fit the given view, let's look at the complete list of columns below.\n",
    "\n"
   ]
  },
  {
   "cell_type": "code",
   "execution_count": 3489,
   "metadata": {},
   "outputs": [
    {
     "data": {
      "text/plain": [
       "Index([u'Timestamp', u'What age range do you fall in?', u'Sex',\n",
       "       u'How would you describe your level of physical health?',\n",
       "       u'What level of education have you reached?',\n",
       "       u'What is your household income?',\n",
       "       u'Which category best describes your employment?',\n",
       "       u'What Toronto district is your primary address located in?',\n",
       "       u'On average what distance do you travel most days of the week?',\n",
       "       u'On average how long is your commute?',\n",
       "       u'Which transportation option do you end up using most often?',\n",
       "       u'Does your household have access to any of the following private motorized vehicles?',\n",
       "       u'Do you support any of the following statements?',\n",
       "       u'When you use Toronto's Multi-Use Trails do you mostly',\n",
       "       u'Are you aware that the Multi-Use Paths have a speed limit of 20 km/h?',\n",
       "       u'Have you witnessed a collision or conflict on a trail between',\n",
       "       u'Do you think more should be done to manage trail users who do not respect the 20 km/h speed limit?',\n",
       "       u'Currently any kind of e-bike may use a multi-use path if they are propelled by pedaling only and those propelled by motor power may be fined ',\n",
       "       u'When you use Toronto's bicycle lanes do you mostly',\n",
       "       u'Currently any kind of e-bike may use a bicycle lane if they are propelled by pedaling only and those propelled by motor power may be fined ',\n",
       "       u'With regards to illegal use of bicycles and e-bikes on sidewalks should the City ',\n",
       "       u'Toronto Bylaws consider personal mobility devices (such as electric wheel chairs) to be pedestrians In your opinion should the City'],\n",
       "      dtype='object')"
      ]
     },
     "execution_count": 3489,
     "metadata": {},
     "output_type": "execute_result"
    }
   ],
   "source": [
    "responses.columns"
   ]
  },
  {
   "cell_type": "markdown",
   "metadata": {},
   "source": [
    "The target/output variable (\"Does your household have access to any of the following private motorized vehicles?\") is one of the given columns (Column # 10 to be precise). The remaining variables will be the *feature variables* used to train the model. \n",
    "\n",
    "Noticing that almost all the questions are *categorical* in nature (meaning they take on a fixed value from a given set of multiple possiblities), let's take a look at all the possible values that each category can have:"
   ]
  },
  {
   "cell_type": "code",
   "execution_count": 3490,
   "metadata": {},
   "outputs": [
    {
     "data": {
      "text/html": [
       "<div>\n",
       "<table border=\"1\" class=\"dataframe\">\n",
       "  <thead>\n",
       "    <tr style=\"text-align: right;\">\n",
       "      <th></th>\n",
       "      <th>Timestamp</th>\n",
       "      <th>What age range do you fall in?</th>\n",
       "      <th>Sex</th>\n",
       "      <th>How would you describe your level of physical health?</th>\n",
       "      <th>What level of education have you reached?</th>\n",
       "      <th>What is your household income?</th>\n",
       "      <th>Which category best describes your employment?</th>\n",
       "      <th>What Toronto district is your primary address located in?</th>\n",
       "      <th>On average what distance do you travel most days of the week?</th>\n",
       "      <th>On average how long is your commute?</th>\n",
       "      <th>...</th>\n",
       "      <th>Do you support any of the following statements?</th>\n",
       "      <th>When you use Toronto's Multi-Use Trails do you mostly</th>\n",
       "      <th>Are you aware that the Multi-Use Paths have a speed limit of 20 km/h?</th>\n",
       "      <th>Have you witnessed a collision or conflict on a trail between</th>\n",
       "      <th>Do you think more should be done to manage trail users who do not respect the 20 km/h speed limit?</th>\n",
       "      <th>Currently any kind of e-bike may use a multi-use path if they are propelled by pedaling only and those propelled by motor power may be fined</th>\n",
       "      <th>When you use Toronto's bicycle lanes do you mostly</th>\n",
       "      <th>Currently any kind of e-bike may use a bicycle lane if they are propelled by pedaling only and those propelled by motor power may be fined</th>\n",
       "      <th>With regards to illegal use of bicycles and e-bikes on sidewalks should the City</th>\n",
       "      <th>Toronto Bylaws consider personal mobility devices (such as electric wheel chairs) to be pedestrians In your opinion should the City</th>\n",
       "    </tr>\n",
       "  </thead>\n",
       "  <tbody>\n",
       "    <tr>\n",
       "      <th>count</th>\n",
       "      <td>2238</td>\n",
       "      <td>2234</td>\n",
       "      <td>2221</td>\n",
       "      <td>2227</td>\n",
       "      <td>2220</td>\n",
       "      <td>2178</td>\n",
       "      <td>2223</td>\n",
       "      <td>2237</td>\n",
       "      <td>2237</td>\n",
       "      <td>2237</td>\n",
       "      <td>...</td>\n",
       "      <td>2238</td>\n",
       "      <td>2238</td>\n",
       "      <td>2238</td>\n",
       "      <td>2238</td>\n",
       "      <td>2237</td>\n",
       "      <td>2238</td>\n",
       "      <td>2238</td>\n",
       "      <td>2238</td>\n",
       "      <td>2238</td>\n",
       "      <td>2232</td>\n",
       "    </tr>\n",
       "    <tr>\n",
       "      <th>unique</th>\n",
       "      <td>1722</td>\n",
       "      <td>5</td>\n",
       "      <td>12</td>\n",
       "      <td>12</td>\n",
       "      <td>24</td>\n",
       "      <td>6</td>\n",
       "      <td>33</td>\n",
       "      <td>68</td>\n",
       "      <td>5</td>\n",
       "      <td>6</td>\n",
       "      <td>...</td>\n",
       "      <td>534</td>\n",
       "      <td>89</td>\n",
       "      <td>2</td>\n",
       "      <td>221</td>\n",
       "      <td>134</td>\n",
       "      <td>25</td>\n",
       "      <td>69</td>\n",
       "      <td>258</td>\n",
       "      <td>224</td>\n",
       "      <td>81</td>\n",
       "    </tr>\n",
       "    <tr>\n",
       "      <th>top</th>\n",
       "      <td>2013-04-12 11:19</td>\n",
       "      <td>35 to 49</td>\n",
       "      <td>Male</td>\n",
       "      <td>Very good</td>\n",
       "      <td>University degree</td>\n",
       "      <td>$100K+</td>\n",
       "      <td>Full Time</td>\n",
       "      <td>Central Toronto York or East York</td>\n",
       "      <td>5 - 10 km</td>\n",
       "      <td>16 - 29 minutes</td>\n",
       "      <td>...</td>\n",
       "      <td>scooter style e-bikes are different than pedal...</td>\n",
       "      <td>cycle</td>\n",
       "      <td>No</td>\n",
       "      <td>I am not aware of any conflicts on the trails</td>\n",
       "      <td>No - the trails are fine as they are</td>\n",
       "      <td>No changes are necessary to the existing bylaw</td>\n",
       "      <td>ride a commuter or cruiser style bicycle</td>\n",
       "      <td>No changes are necessary to the existing bylaw</td>\n",
       "      <td>maintain the existing programs for signage edu...</td>\n",
       "      <td>Update the definition of a personal mobility d...</td>\n",
       "    </tr>\n",
       "    <tr>\n",
       "      <th>freq</th>\n",
       "      <td>7</td>\n",
       "      <td>863</td>\n",
       "      <td>1554</td>\n",
       "      <td>891</td>\n",
       "      <td>895</td>\n",
       "      <td>831</td>\n",
       "      <td>1405</td>\n",
       "      <td>1634</td>\n",
       "      <td>847</td>\n",
       "      <td>782</td>\n",
       "      <td>...</td>\n",
       "      <td>84</td>\n",
       "      <td>738</td>\n",
       "      <td>1131</td>\n",
       "      <td>847</td>\n",
       "      <td>646</td>\n",
       "      <td>811</td>\n",
       "      <td>705</td>\n",
       "      <td>664</td>\n",
       "      <td>493</td>\n",
       "      <td>1379</td>\n",
       "    </tr>\n",
       "  </tbody>\n",
       "</table>\n",
       "<p>4 rows × 22 columns</p>\n",
       "</div>"
      ],
      "text/plain": [
       "               Timestamp What age range do you fall in?   Sex  \\\n",
       "count               2238                           2234  2221   \n",
       "unique              1722                              5    12   \n",
       "top     2013-04-12 11:19                       35 to 49  Male   \n",
       "freq                   7                            863  1554   \n",
       "\n",
       "       How would you describe your level of physical health?  \\\n",
       "count                                                2227      \n",
       "unique                                                 12      \n",
       "top                                             Very good      \n",
       "freq                                                  891      \n",
       "\n",
       "       What level of education have you reached?  \\\n",
       "count                                       2220   \n",
       "unique                                        24   \n",
       "top                            University degree   \n",
       "freq                                         895   \n",
       "\n",
       "       What is your household income?  \\\n",
       "count                            2178   \n",
       "unique                              6   \n",
       "top                            $100K+   \n",
       "freq                              831   \n",
       "\n",
       "       Which category best describes your employment?  \\\n",
       "count                                            2223   \n",
       "unique                                             33   \n",
       "top                                         Full Time   \n",
       "freq                                             1405   \n",
       "\n",
       "       What Toronto district is your primary address located in?  \\\n",
       "count                                                2237          \n",
       "unique                                                 68          \n",
       "top                     Central Toronto York or East York          \n",
       "freq                                                 1634          \n",
       "\n",
       "       On average what distance do you travel most days of the week?  \\\n",
       "count                                                2237              \n",
       "unique                                                  5              \n",
       "top                                             5 - 10 km              \n",
       "freq                                                  847              \n",
       "\n",
       "       On average how long is your commute?  \\\n",
       "count                                  2237   \n",
       "unique                                    6   \n",
       "top                         16 - 29 minutes   \n",
       "freq                                    782   \n",
       "\n",
       "                                                                       ...                                                                  \\\n",
       "count                                                                  ...                                                                   \n",
       "unique                                                                 ...                                                                   \n",
       "top                                                                    ...                                                                   \n",
       "freq                                                                   ...                                                                   \n",
       "\n",
       "          Do you support any of the following statements?  \\\n",
       "count                                                2238   \n",
       "unique                                                534   \n",
       "top     scooter style e-bikes are different than pedal...   \n",
       "freq                                                   84   \n",
       "\n",
       "       When you use Toronto's Multi-Use Trails do you mostly  \\\n",
       "count                                                2238      \n",
       "unique                                                 89      \n",
       "top                                                 cycle      \n",
       "freq                                                  738      \n",
       "\n",
       "       Are you aware that the Multi-Use Paths have a speed limit of 20 km/h?  \\\n",
       "count                                                2238                      \n",
       "unique                                                  2                      \n",
       "top                                                    No                      \n",
       "freq                                                 1131                      \n",
       "\n",
       "       Have you witnessed a collision or conflict on a trail between  \\\n",
       "count                                                2238              \n",
       "unique                                                221              \n",
       "top         I am not aware of any conflicts on the trails              \n",
       "freq                                                  847              \n",
       "\n",
       "       Do you think more should be done to manage trail users who do not respect the 20 km/h speed limit?  \\\n",
       "count                                                2237                                                   \n",
       "unique                                                134                                                   \n",
       "top                  No - the trails are fine as they are                                                   \n",
       "freq                                                  646                                                   \n",
       "\n",
       "       Currently any kind of e-bike may use a multi-use path if they are propelled by pedaling only and those propelled by motor power may be fined   \\\n",
       "count                                                2238                                                                                              \n",
       "unique                                                 25                                                                                              \n",
       "top        No changes are necessary to the existing bylaw                                                                                              \n",
       "freq                                                  811                                                                                              \n",
       "\n",
       "       When you use Toronto's bicycle lanes do you mostly  \\\n",
       "count                                                2238   \n",
       "unique                                                 69   \n",
       "top              ride a commuter or cruiser style bicycle   \n",
       "freq                                                  705   \n",
       "\n",
       "       Currently any kind of e-bike may use a bicycle lane if they are propelled by pedaling only and those propelled by motor power may be fined   \\\n",
       "count                                                2238                                                                                            \n",
       "unique                                                258                                                                                            \n",
       "top        No changes are necessary to the existing bylaw                                                                                            \n",
       "freq                                                  664                                                                                            \n",
       "\n",
       "       With regards to illegal use of bicycles and e-bikes on sidewalks should the City   \\\n",
       "count                                                2238                                  \n",
       "unique                                                224                                  \n",
       "top     maintain the existing programs for signage edu...                                  \n",
       "freq                                                  493                                  \n",
       "\n",
       "       Toronto Bylaws consider personal mobility devices (such as electric wheel chairs) to be pedestrians In your opinion should the City  \n",
       "count                                                2232                                                                                   \n",
       "unique                                                 81                                                                                   \n",
       "top     Update the definition of a personal mobility d...                                                                                   \n",
       "freq                                                 1379                                                                                   \n",
       "\n",
       "[4 rows x 22 columns]"
      ]
     },
     "execution_count": 3490,
     "metadata": {},
     "output_type": "execute_result"
    }
   ],
   "source": [
    "responses.describe()"
   ]
  },
  {
   "cell_type": "markdown",
   "metadata": {},
   "source": [
    "There's a few things we can immediately observe:\n",
    "\n",
    "**1) Missing Values**\n",
    "\n",
    "The total number of values/responses should be 2238, but many columns have a total # of responses less than this. This will need to be dealt with during cleaning.\n",
    "\n",
    "**2) Unique Values**\n",
    "\n",
    "Notice that each of the questions have a varying set of possible responses. Whereas the survey probably only lists a few given options, those answering likely have responded outside of those given options. For example, a few questions have a pretty small/contained set of answers (Age Range - 5 possible types of values, likely the different age ranges), whereas in contrast categories like Education or Support of Statements have a large variance in type of input. This will also need to be dealt with during cleaning.\n",
    "\n",
    "Having identified these issues and taken a first look at the data, we can now start the data cleaning process."
   ]
  },
  {
   "cell_type": "markdown",
   "metadata": {},
   "source": [
    "## Data Cleaning\n",
    "\n",
    "Like every Data Science process, the most important and time-consuming segment is cleaning the data and getting it ready for modelling. Since there's 22 total features (21 - X, 1 - Y), this will take some time but it is vital. \n",
    "\n",
    "\n",
    "### Target Variable\n",
    "\n",
    "Let's start with the target variable, which is the responses to the question * \"Does your household have access to any of the following private motorized vehicles?\"*\n",
    "\n",
    "Looking at the range of input responses:"
   ]
  },
  {
   "cell_type": "code",
   "execution_count": 3491,
   "metadata": {},
   "outputs": [
    {
     "data": {
      "text/plain": [
       "Yes - a car SUV truck or van                                                                                                                 1146\n",
       "No - I do not have access to a private motorized vehicle                                                                                      522\n",
       "Yes a motorcycle                                                                                                                              162\n",
       "Yes - a pedal assist type e-bike                                                                                                               99\n",
       "Yes - a scooter style e-bike                                                                                                                   85\n",
       "Yes - a car SUV truck or van Yes a motorcycle                                                                                                  25\n",
       "Yes - a car SUV truck or van Yes - a scooter style e-bike                                                                                      22\n",
       "Yes - a car SUV truck or van Yes - a pedal assist type e-bike                                                                                  20\n",
       "Yes a limited speed motorcycle (eg gas powered vespa)                                                                                          17\n",
       "Autoshare                                                                                                                                       9\n",
       "car share                                                                                                                                       4\n",
       "Yes - a gas moped                                                                                                                               4\n",
       "Yes - a car SUV truck or van Yes - a scooter style e-bike Yes - a pedal assist type e-bike                                                      3\n",
       "car and motorcycle                                                                                                                              3\n",
       "Car and motorcycle                                                                                                                              2\n",
       "zipcar                                                                                                                                          2\n",
       "car rental                                                                                                                                      2\n",
       "SUV and motorcycle                                                                                                                              2\n",
       "car & motorcycle                                                                                                                                2\n",
       "Yes - a car SUV truck or van Yes a motorcycle Yes - a scooter style e-bike Yes - a pedal assist type e-bike                                     2\n",
       "Yes - a car SUV truck or van No - I do not have access to a private motorized vehicle                                                           2\n",
       "Yes - a car SUV truck or van Yes a limited speed motorcycle (eg gas powered vespa)                                                              2\n",
       "motorcycle ebike car transit                                                                                                                    1\n",
       "this Q is set up to only allow one answer - we have a car m/c 2 gas-powered scooters (Vespa 200cc not LSM)                                      1\n",
       "the survey is only letting me click one but i have a scooter-style ebike as well                                                                1\n",
       "car van motorcycle                                                                                                                              1\n",
       "considering an e-bike                                                                                                                           1\n",
       "Survey does not allow for multiple answers                                                                                                      1\n",
       "autoshare                                                                                                                                       1\n",
       "zip car                                                                                                                                         1\n",
       "                                                                                                                                             ... \n",
       "Yes A Maxi-Scooter                                                                                                                              1\n",
       "SUV motorcycle limited speed motorcycle                                                                                                         1\n",
       "I can borrow a car from time to time                                                                                                            1\n",
       "yes Autoshare for use of car                                                                                                                    1\n",
       "car/truck/motorcycle/peddle bike                                                                                                                1\n",
       "SUV motorcycle scooter style ebike                                                                                                              1\n",
       "car and motorcycle (buttons don't work)                                                                                                         1\n",
       "i rent Zip cars when I need them                                                                                                                1\n",
       "No - I do not own a private motorized vehicle                                                                                                   1\n",
       "Car-sharing                                                                                                                                     1\n",
       "Yes - a car SUV truck or van I have a 200cc scooter  It's like a vespa but it's not limited speed  Considered a motorcycle by MTO               1\n",
       "can't choose ore than on the form                                                                                                               1\n",
       "bicycle                                                                                                                                         1\n",
       "car sharing                                                                                                                                     1\n",
       "Cars2Go                                                                                                                                         1\n",
       "Carshare                                                                                                                                        1\n",
       "have a Car2Go membership                                                                                                                        1\n",
       "car and motorcycle (survey only allows single value selection)                                                                                  1\n",
       "this does not accept all that apply                                                                                                             1\n",
       "AutoShare vehicles                                                                                                                              1\n",
       "5000W custom high power electric bicycle (non-scooter)                                                                                          1\n",
       "AutoShare                                                                                                                                       1\n",
       "Yes - a car SUV truck or van Yes - a gas moped Yes - a scooter style e-bike Yes - a pedal assist type e-bike                                    1\n",
       "membership in car-sharing service which we have not used to date                                                                                1\n",
       "Please note that this form does not allow the user to choose more than one option here My household has a car and a scooter style e-bike        1\n",
       "AutoShare when needed                                                                                                                           1\n",
       "car motorcycle gas scooter                                                                                                                      1\n",
       "A motor scooter                                                                                                                                 1\n",
       "Car motorcycle and SUV                                                                                                                          1\n",
       "Yes - a truck motorcycle and pedal assist e-bike                                                                                                1\n",
       "Name: Does your household have access to any of the following private motorized vehicles?, dtype: int64"
      ]
     },
     "execution_count": 3491,
     "metadata": {},
     "output_type": "execute_result"
    }
   ],
   "source": [
    "responses[\"Does your household have access to any of the following private motorized vehicles?\"].value_counts()"
   ]
  },
  {
   "cell_type": "markdown",
   "metadata": {},
   "source": [
    "We can see that although a majority of responses fall under a small set of values (either No, pedal assist type e-bike, scooter style e-bike, car SUV truck or van, Autoshare or limited speed motorcycle), there are a large number of values (approx. 140 values) that do ** not ** fit the given standard.\n",
    "\n",
    "These need to be intelligently dealt with/filtered, with some heurestics. Before we start, it's important to remember that we want to predict how likely the responder is to say **No**, so a negative response will be assigned a class of 1, and all positive responses (regardless of type of vehicle) will be assigned a class of 0.\n",
    "\n",
    "Regarding filtering heuristics, let's start with the basics\n",
    "\n",
    "1) If the response is \"No - I do not have access to a private motorized vehicle\", we assign it a value of 1\n",
    "\n",
    "2) One hypothesis I have is that if the response contains the word \"Yes\", it implies that they have access to some type of private motorized vehicle, and the resulting value is a 0. To test this hypothesis, let's look at the above *value_counts()* call, and all the values that have the word \"Yes\" in them:"
   ]
  },
  {
   "cell_type": "code",
   "execution_count": 3492,
   "metadata": {},
   "outputs": [
    {
     "data": {
      "text/plain": [
       "0                            Yes - a scooter style e-bike\n",
       "1                            Yes - a scooter style e-bike\n",
       "2                            Yes - a car SUV truck or van\n",
       "3                            Yes - a car SUV truck or van\n",
       "4                            Yes - a car SUV truck or van\n",
       "6                                        Yes a motorcycle\n",
       "7                            Yes - a car SUV truck or van\n",
       "8                            Yes - a car SUV truck or van\n",
       "9                            Yes - a car SUV truck or van\n",
       "11                           Yes - a car SUV truck or van\n",
       "13                           Yes - a car SUV truck or van\n",
       "15                           Yes - a car SUV truck or van\n",
       "16                           Yes - a car SUV truck or van\n",
       "18                           Yes - a car SUV truck or van\n",
       "19                           Yes - a car SUV truck or van\n",
       "20                           Yes - a car SUV truck or van\n",
       "21                           Yes - a car SUV truck or van\n",
       "22                           Yes - a car SUV truck or van\n",
       "23                           Yes - a car SUV truck or van\n",
       "25                           Yes - a car SUV truck or van\n",
       "27                           Yes - a car SUV truck or van\n",
       "28                           Yes - a car SUV truck or van\n",
       "29                           Yes - a car SUV truck or van\n",
       "30                           Yes - a scooter style e-bike\n",
       "31                           Yes - a car SUV truck or van\n",
       "32                           Yes - a car SUV truck or van\n",
       "34                           Yes - a car SUV truck or van\n",
       "36                           Yes - a car SUV truck or van\n",
       "38                           Yes - a car SUV truck or van\n",
       "39                           Yes - a car SUV truck or van\n",
       "                              ...                        \n",
       "2191    Yes - a car SUV truck or van No - I do not hav...\n",
       "2192                         Yes - a car SUV truck or van\n",
       "2194                         Yes - a car SUV truck or van\n",
       "2195                         Yes - a car SUV truck or van\n",
       "2196                         Yes - a car SUV truck or van\n",
       "2198                         Yes - a car SUV truck or van\n",
       "2199                         Yes - a car SUV truck or van\n",
       "2200                         Yes - a car SUV truck or van\n",
       "2202                         Yes - a car SUV truck or van\n",
       "2204                         Yes - a car SUV truck or van\n",
       "2205        Yes - a car SUV truck or van Yes a motorcycle\n",
       "2206    Yes - a car SUV truck or van Yes a limited spe...\n",
       "2208                         Yes - a car SUV truck or van\n",
       "2209    Yes - a car SUV truck or van Yes a motorcycle ...\n",
       "2210    Yes - a car SUV truck or van Yes - a scooter s...\n",
       "2211                         Yes - a car SUV truck or van\n",
       "2212    Yes - a car SUV truck or van Yes - a pedal ass...\n",
       "2213                         Yes - a car SUV truck or van\n",
       "2217                         Yes - a car SUV truck or van\n",
       "2218    Yes - a car SUV truck or van Yes - a scooter s...\n",
       "2219                         Yes - a car SUV truck or van\n",
       "2221                         Yes - a car SUV truck or van\n",
       "2225                         Yes - a car SUV truck or van\n",
       "2230                         Yes - a car SUV truck or van\n",
       "2231    Yes - a car SUV truck or van Yes - a pedal ass...\n",
       "2232                         Yes - a car SUV truck or van\n",
       "2234                         Yes - a car SUV truck or van\n",
       "2235    Yes - a car SUV truck or van Yes - a scooter s...\n",
       "2236                         Yes - a car SUV truck or van\n",
       "2237    Yes - a car SUV truck or van Yes - a pedal ass...\n",
       "Name: Does your household have access to any of the following private motorized vehicles?, dtype: object"
      ]
     },
     "execution_count": 3492,
     "metadata": {},
     "output_type": "execute_result"
    }
   ],
   "source": [
    "Y = responses[\"Does your household have access to any of the following private motorized vehicles?\"]\n",
    "Y[Y.str.contains(\"Yes\")]"
   ]
  },
  {
   "cell_type": "markdown",
   "metadata": {},
   "source": [
    "Given the above list + the original *value_counts()*, it's fair to say that the hypothesis does work. It's important to note the underlying assumption asssumes a \"Yes\" for this type of response (Yes - a car SUV truck or van No - I do not have access to a private motorized vehicle). This response, where the user has given both options, only occurs twice (as seen in *value_counts()*), and thus setting that to a Yes should be okay.\n",
    "\n",
    "After applying this rule, there's still quite a few values that are left out (probably to do with car rentals + people who didn't know how to deal with multiple options). Let's take a look:"
   ]
  },
  {
   "cell_type": "code",
   "execution_count": 3493,
   "metadata": {},
   "outputs": [
    {
     "data": {
      "text/plain": [
       "40      also motorcycle - not allowing more than one c...\n",
       "44                                   No - only autoshare \n",
       "45                   I can borrow a car from time to time\n",
       "72                                              Autoshare\n",
       "132     The author of this survey is a fuk'g idiot how...\n",
       "143                                             Car share\n",
       "156                               Car van motorcycle bike\n",
       "168     will only let you choose one so i will choose ...\n",
       "306                                             Autoshare\n",
       "316                                         Car and Vespa\n",
       "341                                    AutoShare vehicles\n",
       "372                      car and limited speed motorcycle\n",
       "393                                             autoshare\n",
       "422     Please note that this form does not allow the ...\n",
       "461                                                zipcar\n",
       "499                                           Car-sharing\n",
       "503                     can't choose ore than on the form\n",
       "518                                           car bicycle\n",
       "522            Survey does not allow for multiple answers\n",
       "542                                      car & motorcycle\n",
       "550                                  car truck motorcycle\n",
       "556            SUV Motorcycle (couldn't select multiples)\n",
       "582     Menu does not allow multiple selections despit...\n",
       "591                                             Autoshare\n",
       "599                                    Car and motorcycle\n",
       "646                                    Motorcycle and SUV\n",
       "677     a car motorcycle gas powered vespa-not limited...\n",
       "681     Car and pedal assist e-bike (the form doesn't ...\n",
       "691               car motorcycle limited speed motorcycle\n",
       "695                      car/truck/motorcycle/peddle bike\n",
       "                              ...                        \n",
       "1652           SUV and motorcycle only lets me choose one\n",
       "1654                                   car and motorcycle\n",
       "1655                                              Cars2Go\n",
       "1673              car and motorcycle (buttons don't work)\n",
       "1675                           car motorcycle gas scooter\n",
       "1677                   2 Cars 2 motorcycles and 1 scooter\n",
       "1682                    car and limited speed motorcycle \n",
       "1715    form will only accept one selection! I have a ...\n",
       "1732                            car and pedal assist bike\n",
       "1772                                            car share\n",
       "1787    I have a truck  Used this field to let you kno...\n",
       "1824                                   car van motorcycle\n",
       "1837                     i rent Zip cars when I need them\n",
       "1846                                              zip car\n",
       "1857                                               zipcar\n",
       "1863                                            car share\n",
       "1920                                          car rental \n",
       "1967    No - I do not have access to a private motoriz...\n",
       "1973                               rent or borrow vehicle\n",
       "1985                   pedal assisted scooter type e-bike\n",
       "2018    membership in car-sharing service which we hav...\n",
       "2068                                          car rental \n",
       "2106                                            Autoshare\n",
       "2108                                bicycle and autoshare\n",
       "2133                                    Car2Go membership\n",
       "2151                             have a Car2Go membership\n",
       "2176                                            Autoshare\n",
       "2177                                            Autoshare\n",
       "2197                                          car sharing\n",
       "2222    No - I do not have access to a private motoriz...\n",
       "Name: Does your household have access to any of the following private motorized vehicles?, dtype: object"
      ]
     },
     "execution_count": 3493,
     "metadata": {},
     "output_type": "execute_result"
    }
   ],
   "source": [
    "# Rule 1: If they said no -> Set value to 1\n",
    "Y[Y == \"No - I do not have access to a private motorized vehicle\"] = 1\n",
    "Y[Y == \"No - I do not own a private motorized vehicle\"] = 1\n",
    "\n",
    "# Rule 2: If their response contains the word Yes -> Set value to 0\n",
    "Y[Y.str.contains(\"Yes\").fillna(False)] = 0\n",
    "\n",
    "# Check out remaining data\n",
    "Y[Y != 0][Y != 1]"
   ]
  },
  {
   "cell_type": "markdown",
   "metadata": {},
   "source": [
    "Having gone through the dataset and cleaned a bulk of the data, it's clear that from what's remaining, there are a few standouts:\n",
    "\n",
    "1. Car Rental (Autoshare, Car2Go, Car Sharing, Rent/Borrow)\n",
    "2. People who have listed multiple vehicles\n",
    "\n",
    "For the purpose of this study, I'm assuming that a car rental/sharing service does **not count as the household having access to a motorized vehicle**. Thus, it will be mapped to a value of 1 (representing a \"No\"). Detecting this as a response also needs to be done intelligently, since there are string variants of the terms present throughout the dataset (i.e. Autoshare vs. autoshoare, Car2Go vs. Cars2Go etc.)\n",
    "\n",
    "For those that have listed multiple vehicles, this should be mapped to a value of 0 (representing a \"Yes\" to the question). Clearly from the numerous mentions regarding not being able to submit multiple options, this is a point of improvement for the form that will be discussed in the analysis section.\n",
    "\n",
    "Let's try and clean this remaining data"
   ]
  },
  {
   "cell_type": "code",
   "execution_count": 3494,
   "metadata": {},
   "outputs": [
    {
     "data": {
      "text/plain": [
       "0                                                                                                                                            1605\n",
       "1                                                                                                                                             523\n",
       "Autoshare                                                                                                                                       9\n",
       "car share                                                                                                                                       4\n",
       "car and motorcycle                                                                                                                              3\n",
       "SUV and motorcycle                                                                                                                              2\n",
       "car rental                                                                                                                                      2\n",
       "zipcar                                                                                                                                          2\n",
       "Car and motorcycle                                                                                                                              2\n",
       "car & motorcycle                                                                                                                                2\n",
       "Car and Motorcycle                                                                                                                              1\n",
       "zip car                                                                                                                                         1\n",
       "autoshare                                                                                                                                       1\n",
       "bicycle and autoshare                                                                                                                           1\n",
       "this Q is set up to only allow one answer - we have a car m/c 2 gas-powered scooters (Vespa 200cc not LSM)                                      1\n",
       "car motorcycle limited speed motorcycle                                                                                                         1\n",
       "I have access to car share car                                                                                                                  1\n",
       "2 Cars 2 motorcycles and 1 scooter                                                                                                              1\n",
       "form will only accept one selection! I have a car motorcycle limited speed motorcycle                                                           1\n",
       "motorcycle ebike car transit                                                                                                                    1\n",
       "occasional car rental                                                                                                                           1\n",
       "No - I do not have access to a private motorized vehicle car sharing                                                                            1\n",
       "A car and a motorcycle but your survey is flawed and wont let me select both options                                                            1\n",
       "AUTOSHARE                                                                                                                                       1\n",
       "Survey does not allow for multiple answers                                                                                                      1\n",
       "considering an e-bike                                                                                                                           1\n",
       "this should be a checkbox not a radio button                                                                                                    1\n",
       "also motorcycle - not allowing more than one choice                                                                                             1\n",
       "car van motorcycle                                                                                                                              1\n",
       "the survey is only letting me click one but i have a scooter-style ebike as well                                                                1\n",
       "                                                                                                                                             ... \n",
       "No - only autoshare                                                                                                                             1\n",
       "pedal assisted scooter type e-bike                                                                                                              1\n",
       "rent or borrow vehicle                                                                                                                          1\n",
       "Menu does not allow multiple selections despite the title Car and motorcycle                                                                    1\n",
       "car truck motorcycle                                                                                                                            1\n",
       "yes - car and motorcycle                                                                                                                        1\n",
       "SUV motorcycle limited speed motorcycle                                                                                                         1\n",
       "yes Autoshare for use of car                                                                                                                    1\n",
       "Car motorcycle                                                                                                                                  1\n",
       "car and motorcycle (survey only allows single value selection)                                                                                  1\n",
       "Car-sharing                                                                                                                                     1\n",
       "can't choose ore than on the form                                                                                                               1\n",
       "bicycle                                                                                                                                         1\n",
       "car sharing                                                                                                                                     1\n",
       "I have a truck  Used this field to let you know that I cannot select all that apply  This uses radio buttons                                    1\n",
       "Cars2Go                                                                                                                                         1\n",
       "Carshare                                                                                                                                        1\n",
       "car/truck/motorcycle/peddle bike                                                                                                                1\n",
       "have a Car2Go membership                                                                                                                        1\n",
       "this does not accept all that apply                                                                                                             1\n",
       "AutoShare vehicles                                                                                                                              1\n",
       "5000W custom high power electric bicycle (non-scooter)                                                                                          1\n",
       "AutoShare                                                                                                                                       1\n",
       "membership in car-sharing service which we have not used to date                                                                                1\n",
       "Please note that this form does not allow the user to choose more than one option here My household has a car and a scooter style e-bike        1\n",
       "AutoShare when needed                                                                                                                           1\n",
       "car motorcycle gas scooter                                                                                                                      1\n",
       "A motor scooter                                                                                                                                 1\n",
       "Car motorcycle and SUV                                                                                                                          1\n",
       "car and motorcycle (buttons don't work)                                                                                                         1\n",
       "Name: Does your household have access to any of the following private motorized vehicles?, dtype: int64"
      ]
     },
     "execution_count": 3494,
     "metadata": {},
     "output_type": "execute_result"
    }
   ],
   "source": [
    "Y.value_counts()"
   ]
  },
  {
   "cell_type": "code",
   "execution_count": 3495,
   "metadata": {},
   "outputs": [
    {
     "data": {
      "text/plain": [
       "0                                                                                                                                            1605\n",
       "1                                                                                                                                             568\n",
       "car and motorcycle                                                                                                                              3\n",
       "SUV and motorcycle                                                                                                                              2\n",
       "car & motorcycle                                                                                                                                2\n",
       "Car and motorcycle                                                                                                                              2\n",
       "2 Cars 2 motorcycles and 1 scooter                                                                                                              1\n",
       "bike                                                                                                                                            1\n",
       "motorcycle ebike car transit                                                                                                                    1\n",
       "form will only accept one selection! I have a car motorcycle limited speed motorcycle                                                           1\n",
       "car motorcycle limited speed motorcycle                                                                                                         1\n",
       "this Q is set up to only allow one answer - we have a car m/c 2 gas-powered scooters (Vespa 200cc not LSM)                                      1\n",
       "car van motorcycle                                                                                                                              1\n",
       "the survey is only letting me click one but i have a scooter-style ebike as well                                                                1\n",
       "atv sled                                                                                                                                        1\n",
       "Car motorcycle and SUV                                                                                                                          1\n",
       "car and limited speed motorcycle                                                                                                                1\n",
       "SUV Velomobile pedal assist ebike                                                                                                               1\n",
       "SUV and motorcycle only lets me choose one                                                                                                      1\n",
       "Bicycle                                                                                                                                         1\n",
       "A car and a motorcycle but your survey is flawed and wont let me select both options                                                            1\n",
       "car and limited speed motorcycle                                                                                                                1\n",
       "Car and pedal assist e-bike (the form doesn't allow multiple options)                                                                           1\n",
       "Cars and Motorcycles                                                                                                                            1\n",
       "SUV Motorcycle (couldn't select multiples)                                                                                                      1\n",
       "Motorcycle and SUV                                                                                                                              1\n",
       "a car motorcycle gas powered vespa-not limited speed survet wont let me choose all                                                              1\n",
       "Car and Motorcycle                                                                                                                              1\n",
       "will only let you choose one so i will choose scooter style ebike but i would have checked off a car as well                                    1\n",
       "The author of this survey is a fuk'g idiot how do i answer if i have more than one of these?                                                    1\n",
       "                                                                                                                                             ... \n",
       "car truck motorcycle                                                                                                                            1\n",
       "considering an e-bike                                                                                                                           1\n",
       "Menu does not allow multiple selections despite the title Car and motorcycle                                                                    1\n",
       "pedal assisted scooter type e-bike                                                                                                              1\n",
       "I can't choose all that apply  Car e-bike and pedal bike                                                                                        1\n",
       "A car and a scooter style ebike - this only allowed me one selection                                                                            1\n",
       "Car Motorcycle                                                                                                                                  1\n",
       "car bicycle                                                                                                                                     1\n",
       "both truck and many motorcycles and motorscooters all gas                                                                                       1\n",
       "motorcycle and car you set up this survey wrong so I cant choose two options                                                                    1\n",
       "Car suv motorcycle                                                                                                                              1\n",
       "Car and Vespa                                                                                                                                   1\n",
       "SUV motorcycle limited speed motorcycle                                                                                                         1\n",
       "car and motorcycle (survey only allows single value selection)                                                                                  1\n",
       "A motor scooter                                                                                                                                 1\n",
       "car motorcycle gas scooter                                                                                                                      1\n",
       "Please note that this form does not allow the user to choose more than one option here My household has a car and a scooter style e-bike        1\n",
       "5000W custom high power electric bicycle (non-scooter)                                                                                          1\n",
       "this does not accept all that apply                                                                                                             1\n",
       "car/truck/motorcycle/peddle bike                                                                                                                1\n",
       "I have a truck  Used this field to let you know that I cannot select all that apply  This uses radio buttons                                    1\n",
       "bicycle                                                                                                                                         1\n",
       "can't choose ore than on the form                                                                                                               1\n",
       "Car motorcycle                                                                                                                                  1\n",
       "car and motorcycle (buttons don't work)                                                                                                         1\n",
       "SUV motorcycle scooter style ebike                                                                                                              1\n",
       "car and pedal assist bike                                                                                                                       1\n",
       "also motorcycle - not allowing more than one choice                                                                                             1\n",
       "this should be a checkbox not a radio button                                                                                                    1\n",
       "Survey does not allow for multiple answers                                                                                                      1\n",
       "Name: Does your household have access to any of the following private motorized vehicles?, dtype: int64"
      ]
     },
     "execution_count": 3495,
     "metadata": {},
     "output_type": "execute_result"
    }
   ],
   "source": [
    "# Autoshare\n",
    "Y[Y.str.contains(\"Autoshare\") | Y.str.contains(\"AutoShare\") | Y.str.contains(\"autoshare\") | Y.str.contains(\"AUTOSHARE\")] = 1\n",
    "\n",
    "# Zipcar\n",
    "Y[Y.str.contains(\"Zipcar\") | Y.str.contains(\"zipcar\") | Y.str.contains(\"zip car\") | Y.str.contains(\"ZIPCAR\")] = 1\n",
    "\n",
    "# Car2Go\n",
    "Y[Y.str.contains(\"Car2Go\") | Y.str.contains(\"car2go\") | Y.str.contains(\"Cars2Go\") | Y.str.contains(\"CAR2GO\") | Y.str.contains(\"cars2go\")] = 1\n",
    "\n",
    "# Car rental\n",
    "Y[Y.str.contains(\"rent\").fillna(False)] = 1\n",
    "\n",
    "# Car sharing\n",
    "Y[Y.str.contains(\"shar\").fillna(False)] = 1\n",
    "\n",
    "# Car borrowing\n",
    "Y[Y.str.contains(\"borrow\").fillna(False)] = 1\n",
    "\n",
    "Y.value_counts()"
   ]
  },
  {
   "cell_type": "markdown",
   "metadata": {},
   "source": [
    "To complete this cleaning, based on the above responses a fair assumption is that the remaining answers all correspond to the multiple vehicles category. There are responders who have left comments regarding the inavailability of multiple options, and for them, I'm assuming that they require multiple options (and hence, have access to a private motorized vehicle).\n",
    "\n",
    "This assumption for the remaining values works really well, the only possible edge case being the entry \"Considering an e-bike\", in which case it can be written off as a false negative (statistically, the error is fairly insiginificant because of the massive ratio of 1's to 0's).\n",
    "\n",
    "Completing the target variable cleaning:"
   ]
  },
  {
   "cell_type": "code",
   "execution_count": 3496,
   "metadata": {},
   "outputs": [
    {
     "data": {
      "text/plain": [
       "0    1605\n",
       "1     633\n",
       "Name: Does your household have access to any of the following private motorized vehicles?, dtype: int64"
      ]
     },
     "execution_count": 3496,
     "metadata": {},
     "output_type": "execute_result"
    }
   ],
   "source": [
    "# Assume remaining values correspond to multiple vehicles -> YES\n",
    "Y[(Y != 0) & (Y != 1)] = 1\n",
    "Y.value_counts()"
   ]
  },
  {
   "cell_type": "markdown",
   "metadata": {},
   "source": [
    "### Feature Variables\n",
    "\n",
    "Having prepared the target variable, we now need to go through each feature variable and clean it accordingly. Let's start with age range, and make our way through the different features.\n",
    "\n",
    "#### Time Stamp\n",
    "\n",
    "The time that the survey has been taken seems completely irrelevant to the end classification goal, which is predicting whether they have accesss to any private motorized vehicles. In order to avoid overfitting, we must remove irrelevant features like this:"
   ]
  },
  {
   "cell_type": "code",
   "execution_count": 3497,
   "metadata": {},
   "outputs": [],
   "source": [
    "responses.drop(\"Timestamp\", axis = 1, inplace = True)"
   ]
  },
  {
   "cell_type": "markdown",
   "metadata": {},
   "source": [
    "#### Age Range\n",
    "\n",
    "Looking at the different age ranges, and the given number of values:"
   ]
  },
  {
   "cell_type": "code",
   "execution_count": 3498,
   "metadata": {},
   "outputs": [
    {
     "data": {
      "text/plain": [
       "35 to 49            863\n",
       "18 to 34            789\n",
       "50 to 64            463\n",
       "65 years or more    111\n",
       "17 or younger         8\n",
       "Name: What age range do you fall in?, dtype: int64"
      ]
     },
     "execution_count": 3498,
     "metadata": {},
     "output_type": "execute_result"
    }
   ],
   "source": [
    "ageRange = responses[\"What age range do you fall in?\"]\n",
    "ageRange.value_counts()"
   ]
  },
  {
   "cell_type": "code",
   "execution_count": 3499,
   "metadata": {},
   "outputs": [
    {
     "data": {
      "text/plain": [
       "count         2234\n",
       "unique           5\n",
       "top       35 to 49\n",
       "freq           863\n",
       "Name: What age range do you fall in?, dtype: object"
      ]
     },
     "execution_count": 3499,
     "metadata": {},
     "output_type": "execute_result"
    }
   ],
   "source": [
    "ageRange.describe()"
   ]
  },
  {
   "cell_type": "markdown",
   "metadata": {},
   "source": [
    "From the above information, we can see that the 5 available age ranges are:\n",
    "\n",
    "1. 17 or younger\n",
    "2. 18 to 34\n",
    "3. 35 to 49\n",
    "4. 50 to 64\n",
    "5. 65 years or more\n",
    "\n",
    "Since there's only 5 unique values in the dataset, we know that there isn't an issue with erroneous / invalid age ranges. However, instead of 2238 values we have 2234. Thus, we're **missing 4 values**. These numbers can be filled in simply by following the existing distribution in ages.\n",
    "\n",
    "As seen above, a majority of survey responders fall within the 18 to 34 / 35 to 49 categories (it's almost an equal split, 863 - 789). Thus, in order to fill the missing values we can just follow this distribution and assign 2 values to the 18 to 34 bucket, and another 2 to the 35 to 49 bucket. This ensures that we aren't meddling with the inherent distribution in the data.\n",
    "\n",
    "This can also be done in other ways (i.e creating a pivot table and looking at other factors like Education & Employment to determine Age Range), however since it's only 4 values within a dataset of 2238, this simple method will work well!"
   ]
  },
  {
   "cell_type": "code",
   "execution_count": 3500,
   "metadata": {},
   "outputs": [
    {
     "data": {
      "text/plain": [
       "count         2238\n",
       "unique           5\n",
       "top       35 to 49\n",
       "freq           865\n",
       "Name: What age range do you fall in?, dtype: object"
      ]
     },
     "execution_count": 3500,
     "metadata": {},
     "output_type": "execute_result"
    }
   ],
   "source": [
    "# Locate missing values\n",
    "ageRange[ageRange.isnull()]\n",
    "\n",
    "# Fill them in - 18 to 34\n",
    "ageRange[782] = \"18 to 34\"\n",
    "ageRange[845] = \"18 to 34\"\n",
    "\n",
    "# Fill them in - 35 to 49\n",
    "ageRange[868] = \"35 to 49\"\n",
    "ageRange[1931] = \"35 to 49\"\n",
    "\n",
    "ageRange.describe()"
   ]
  },
  {
   "cell_type": "markdown",
   "metadata": {},
   "source": [
    "Since this variable is categorical in nature, we should also map it to be a numerical value so that we can use it with our machine learning model. This can be done via a simple mapping:\n",
    "\n",
    "0 - 17 or younger\n",
    "    \n",
    "1 - 18 to 34\n",
    "    \n",
    "2 - 35 to 49\n",
    "    \n",
    "3 - 50 to 64\n",
    "    \n",
    "4 - 65 years or more"
   ]
  },
  {
   "cell_type": "code",
   "execution_count": 3501,
   "metadata": {},
   "outputs": [
    {
     "data": {
      "text/plain": [
       "2    865\n",
       "1    791\n",
       "3    463\n",
       "4    111\n",
       "0      8\n",
       "Name: What age range do you fall in?, dtype: int64"
      ]
     },
     "execution_count": 3501,
     "metadata": {},
     "output_type": "execute_result"
    }
   ],
   "source": [
    "# Mapping categories to numbers\n",
    "ageRange[ageRange == \"17 or younger\"] = 0\n",
    "ageRange[ageRange == \"18 to 34\"] = 1\n",
    "ageRange[ageRange == \"35 to 49\"] = 2\n",
    "ageRange[ageRange == \"50 to 64\"] = 3\n",
    "ageRange[ageRange == \"65 years or more\"] = 4\n",
    "\n",
    "ageRange.value_counts()"
   ]
  },
  {
   "cell_type": "markdown",
   "metadata": {},
   "source": [
    "#### Sex\n",
    "\n",
    "Similarly, let's take a look at the distribution of values for the gender/sex category."
   ]
  },
  {
   "cell_type": "code",
   "execution_count": 3502,
   "metadata": {},
   "outputs": [
    {
     "data": {
      "text/plain": [
       "Male                       1554\n",
       "Female                      657\n",
       "Genderqueer                   1\n",
       "Irrelevant                    1\n",
       "please                        1\n",
       "Transgender                   1\n",
       "trans                         1\n",
       "Trans Female                  1\n",
       "they                          1\n",
       "unspecified                   1\n",
       "prefer not to disclose        1\n",
       "fifth                         1\n",
       "Name: Sex, dtype: int64"
      ]
     },
     "execution_count": 3502,
     "metadata": {},
     "output_type": "execute_result"
    }
   ],
   "source": [
    "gender = responses[\"Sex\"]\n",
    "gender.value_counts()"
   ]
  },
  {
   "cell_type": "code",
   "execution_count": 3503,
   "metadata": {},
   "outputs": [
    {
     "data": {
      "text/plain": [
       "count     2221\n",
       "unique      12\n",
       "top       Male\n",
       "freq      1554\n",
       "Name: Sex, dtype: object"
      ]
     },
     "execution_count": 3503,
     "metadata": {},
     "output_type": "execute_result"
    }
   ],
   "source": [
    "gender.describe()"
   ]
  },
  {
   "cell_type": "markdown",
   "metadata": {},
   "source": [
    "There are two issues here:\n",
    "\n",
    "1. Missing values (2221 total values instead of 2238)\n",
    "2. Unspecified/Other genders\n",
    "\n",
    "Missing values can be dealt similarly to how it was dealt above, by following the distribution in the data. In this case, the survey is heavily male dominant (1554 Males to 657 Females) and thus the remaining 17 values can be added as \"Males\" without skewing the existing data.\n",
    "\n",
    "There are 10 other unique values that responders have provided, ranging from \"Transgender\" to \"Prefer not to disclose\". All of these can be grouped under one \"Other category\" to simplify analysis."
   ]
  },
  {
   "cell_type": "code",
   "execution_count": 3504,
   "metadata": {},
   "outputs": [
    {
     "data": {
      "text/plain": [
       "count     2238\n",
       "unique      12\n",
       "top       Male\n",
       "freq      1571\n",
       "Name: Sex, dtype: object"
      ]
     },
     "execution_count": 3504,
     "metadata": {},
     "output_type": "execute_result"
    }
   ],
   "source": [
    "# Fill in missing values\n",
    "gender[gender.isnull()] = \"Male\"\n",
    "gender.describe()"
   ]
  },
  {
   "cell_type": "code",
   "execution_count": 3505,
   "metadata": {},
   "outputs": [
    {
     "data": {
      "text/plain": [
       "Male                 1571\n",
       "Female                657\n",
       "Other/Unspecified      10\n",
       "Name: Sex, dtype: int64"
      ]
     },
     "execution_count": 3505,
     "metadata": {},
     "output_type": "execute_result"
    }
   ],
   "source": [
    "# Group all other genders (other than Male/Female) into their own \"Other\" category\n",
    "gender[(gender != \"Male\") & (gender != \"Female\")] = \"Other/Unspecified\"\n",
    "gender.value_counts()"
   ]
  },
  {
   "cell_type": "markdown",
   "metadata": {},
   "source": [
    "Converting to a numerical feature, we will map the categories like so:\n",
    "\n",
    "0 - Male\n",
    "\n",
    "1 - Female\n",
    "\n",
    "2 - Other/Unspecified\n"
   ]
  },
  {
   "cell_type": "code",
   "execution_count": 3506,
   "metadata": {},
   "outputs": [
    {
     "data": {
      "text/plain": [
       "0    1571\n",
       "1     657\n",
       "2      10\n",
       "Name: Sex, dtype: int64"
      ]
     },
     "execution_count": 3506,
     "metadata": {},
     "output_type": "execute_result"
    }
   ],
   "source": [
    "gender[gender == \"Male\"] = 0\n",
    "gender[gender == \"Female\"] = 1\n",
    "gender[gender == \"Other/Unspecified\"] = 2\n",
    "\n",
    "gender.value_counts()"
   ]
  },
  {
   "cell_type": "markdown",
   "metadata": {},
   "source": [
    "#### Physical Health\n",
    "\n",
    "Let's observe the distribution of values for physical health:"
   ]
  },
  {
   "cell_type": "code",
   "execution_count": 3507,
   "metadata": {},
   "outputs": [
    {
     "data": {
      "text/plain": [
       "Very good                                    891\n",
       "Good                                         667\n",
       "Excellent                                    411\n",
       "Fairly good                                  210\n",
       "Poor                                          41\n",
       "healing fractured heel                         1\n",
       "Disabled                                       1\n",
       "need knee replacement                          1\n",
       "In poor shape but active & improving           1\n",
       "healthy but with arthritis mobilty issues      1\n",
       "Back Injury                                    1\n",
       "Obese diabetic but trying to be healthy        1\n",
       "Name: How would you describe your level of physical health?, dtype: int64"
      ]
     },
     "execution_count": 3507,
     "metadata": {},
     "output_type": "execute_result"
    }
   ],
   "source": [
    "physicalHealth = responses[\"How would you describe your level of physical health?\"]\n",
    "physicalHealth.value_counts()"
   ]
  },
  {
   "cell_type": "code",
   "execution_count": 3508,
   "metadata": {},
   "outputs": [
    {
     "data": {
      "text/plain": [
       "count          2227\n",
       "unique           12\n",
       "top       Very good\n",
       "freq            891\n",
       "Name: How would you describe your level of physical health?, dtype: object"
      ]
     },
     "execution_count": 3508,
     "metadata": {},
     "output_type": "execute_result"
    }
   ],
   "source": [
    "physicalHealth.describe()"
   ]
  },
  {
   "cell_type": "markdown",
   "metadata": {},
   "source": [
    "Judging from the above categories, there seems to be the following hiearchy of buckets/values (this is the assumed distribution moving forward):\n",
    "\n",
    "Disabled -> Poor -> Fairly good -> Good -> Very good -> Excellent\n",
    "\n",
    "The disabled category is assumed to include responders that are either permanently or temporarily disabled (via an injury / illness / health impairment). \n",
    "\n",
    "With regards to issues with this feature, the same two problem persist:\n",
    "\n",
    "1. Missing Values (2227 as opposed to 2238)\n",
    "2. Unique Values (most of which fall under the disabled category -> easy to deal with)\n",
    "\n",
    "Dealing with the missing values can be done in the same manner as done so far, by following the given distribution in the data (since the number of missing values is pretty small, only 11). As seen above, a majority of responders report themselves in \"Very good\" shape, or \"Good\" shape. There's approximately twice as many people that reported being in \"Excellent\" shape, as opposed to \"Fairly good\" shape. Following this distribution, we can fill out 4/11 values as \"Very good\", 3/11 values as \"Good\", 2 values as \"Excellent\", and one each for \"Fairly good\" and \"Poor\". The goal is to distribute values in a way that produces the least amount of skew in the existing distribution. Let's do this:"
   ]
  },
  {
   "cell_type": "code",
   "execution_count": 3509,
   "metadata": {},
   "outputs": [
    {
     "data": {
      "text/plain": [
       "count          2238\n",
       "unique           12\n",
       "top       Very good\n",
       "freq            895\n",
       "Name: How would you describe your level of physical health?, dtype: object"
      ]
     },
     "execution_count": 3509,
     "metadata": {},
     "output_type": "execute_result"
    }
   ],
   "source": [
    "# Locate missing values\n",
    "physicalHealth[physicalHealth.isnull()]\n",
    "\n",
    "# Update missing values based on distribution\n",
    "physicalHealth[215] = \"Very good\"\n",
    "physicalHealth[357] = \"Very good\"\n",
    "physicalHealth[555] = \"Very good\"\n",
    "physicalHealth[782] = \"Very good\"\n",
    "\n",
    "physicalHealth[868] = \"Good\"\n",
    "physicalHealth[1079] = \"Good\"\n",
    "physicalHealth[1131] = \"Good\"\n",
    "\n",
    "physicalHealth[1656] = \"Excellent\"\n",
    "physicalHealth[1693] = \"Excellent\"\n",
    "\n",
    "physicalHealth[1931] = \"Fairly good\"\n",
    "\n",
    "physicalHealth[2076] = \"Poor\"\n",
    "\n",
    "physicalHealth.describe()"
   ]
  },
  {
   "cell_type": "code",
   "execution_count": 3510,
   "metadata": {},
   "outputs": [
    {
     "data": {
      "text/plain": [
       "Very good                                    895\n",
       "Good                                         670\n",
       "Excellent                                    413\n",
       "Fairly good                                  211\n",
       "Poor                                          42\n",
       "healing fractured heel                         1\n",
       "Disabled                                       1\n",
       "need knee replacement                          1\n",
       "In poor shape but active & improving           1\n",
       "healthy but with arthritis mobilty issues      1\n",
       "Back Injury                                    1\n",
       "Obese diabetic but trying to be healthy        1\n",
       "Name: How would you describe your level of physical health?, dtype: int64"
      ]
     },
     "execution_count": 3510,
     "metadata": {},
     "output_type": "execute_result"
    }
   ],
   "source": [
    "physicalHealth.value_counts()"
   ]
  },
  {
   "cell_type": "code",
   "execution_count": 3511,
   "metadata": {},
   "outputs": [
    {
     "data": {
      "text/plain": [
       "Very good      895\n",
       "Good           670\n",
       "Excellent      413\n",
       "Fairly good    211\n",
       "Poor            43\n",
       "Disabled         6\n",
       "Name: How would you describe your level of physical health?, dtype: int64"
      ]
     },
     "execution_count": 3511,
     "metadata": {},
     "output_type": "execute_result"
    }
   ],
   "source": [
    "# Single edge case: belongs to Poor category\n",
    "physicalHealth[physicalHealth == \"In poor shape but active & improving\"] = \"Poor\"\n",
    "\n",
    "# Remaining entries can be filed as Disabled\n",
    "physicalHealth[(physicalHealth != \"Very good\") & (physicalHealth != \"Fairly good\") & (physicalHealth != \"Good\") & (physicalHealth != \"Excellent\") & (physicalHealth != \"Poor\")] = \"Disabled\"\n",
    "physicalHealth.value_counts()"
   ]
  },
  {
   "cell_type": "markdown",
   "metadata": {},
   "source": [
    "Like always, we need to convert these categories to numeric values in order to use them. We will map the categories like so:\n",
    "\n",
    "0 - Disabled\n",
    "\n",
    "1 - Poor\n",
    "\n",
    "2 - Fairly good\n",
    "\n",
    "3 - Good\n",
    "\n",
    "4 - Very good\n",
    "\n",
    "5 - Excellent"
   ]
  },
  {
   "cell_type": "code",
   "execution_count": 3512,
   "metadata": {},
   "outputs": [
    {
     "data": {
      "text/plain": [
       "4    895\n",
       "3    670\n",
       "5    413\n",
       "2    211\n",
       "1     43\n",
       "0      6\n",
       "Name: How would you describe your level of physical health?, dtype: int64"
      ]
     },
     "execution_count": 3512,
     "metadata": {},
     "output_type": "execute_result"
    }
   ],
   "source": [
    "physicalHealth[physicalHealth == \"Disabled\"] = 0\n",
    "physicalHealth[physicalHealth == \"Poor\"] = 1\n",
    "physicalHealth[physicalHealth == \"Fairly good\"] = 2\n",
    "physicalHealth[physicalHealth == \"Good\"] = 3\n",
    "physicalHealth[physicalHealth == \"Very good\"] = 4\n",
    "physicalHealth[physicalHealth == \"Excellent\"] = 5\n",
    "\n",
    "physicalHealth.value_counts()"
   ]
  },
  {
   "cell_type": "markdown",
   "metadata": {},
   "source": [
    "#### Education\n"
   ]
  },
  {
   "cell_type": "code",
   "execution_count": 3513,
   "metadata": {},
   "outputs": [
    {
     "data": {
      "text/plain": [
       "University degree                                    895\n",
       "Post graduate                                        591\n",
       "College or trade school diploma                      521\n",
       "High school diploma                                  192\n",
       "Some university                                        2\n",
       "Professional Certifications                            1\n",
       "college degree (not university and not a diploma)      1\n",
       "Grade 9                                                1\n",
       "Graduate                                               1\n",
       "still in school                                        1\n",
       "in HS                                                  1\n",
       "Professional degree                                    1\n",
       "University Student                                     1\n",
       "university                                             1\n",
       "M D                                                    1\n",
       "working towards OSSD                                   1\n",
       "some university                                        1\n",
       "some uni                                               1\n",
       "PhD                                                    1\n",
       "4 years university no degree                           1\n",
       "High school Student                                    1\n",
       "Some University                                        1\n",
       "Law School                                             1\n",
       "Grade 8                                                1\n",
       "Name: What level of education have you reached?, dtype: int64"
      ]
     },
     "execution_count": 3513,
     "metadata": {},
     "output_type": "execute_result"
    }
   ],
   "source": [
    "education = responses[\"What level of education have you reached?\"]\n",
    "education.value_counts()"
   ]
  },
  {
   "cell_type": "code",
   "execution_count": 3514,
   "metadata": {},
   "outputs": [
    {
     "data": {
      "text/plain": [
       "count                  2220\n",
       "unique                   24\n",
       "top       University degree\n",
       "freq                    895\n",
       "Name: What level of education have you reached?, dtype: object"
      ]
     },
     "execution_count": 3514,
     "metadata": {},
     "output_type": "execute_result"
    }
   ],
   "source": [
    "education.describe()"
   ]
  },
  {
   "cell_type": "markdown",
   "metadata": {},
   "source": [
    "As we can see above, there is a quite a bit of variability in the answers provided. There are also 18 missing values in the data, although if we follow the distribution these values will not be difficult to fill in.\n",
    "\n",
    "The primary issue with the Education category is dealing with the variability in responses. Some of the responses include people who dropped out of high school, others are currently students (either in high school or in university). \n",
    "\n",
    "Here, an assumption is made that the question \"What level of education have you reached?\" implies/equals \"What is the highest degree of education/schooling you have **attained/completed?**\". The latter is typical wording for a question of this nature, and it allows you to group existing students into buckets as well (for example: a University student has attained a High School Diploma). Thus, there's also room for improvement with regards to the question in this category.\n",
    "\n",
    "Note that we're also assuming that professional/online certifications do **not** count as a formal \"education\" level/category.\n",
    "\n",
    "Given this information, the set of categories that can be created are:\n",
    "\n",
    "1. Postgraduate (implies a Masters, PhD, M.D., Law etc)\n",
    "2. University degree\n",
    "3. College or Trade School Diploma\n",
    "4. High School Diploma (OSSD or equivalent)\n",
    "5. No formal educational credential (implies that the responder is still a high school student, or had dropped out)\n",
    "\n",
    "Let's see if we can get this:"
   ]
  },
  {
   "cell_type": "code",
   "execution_count": 3515,
   "metadata": {},
   "outputs": [
    {
     "data": {
      "text/plain": [
       "University degree                                    895\n",
       "Post graduate                                        591\n",
       "College or trade school diploma                      521\n",
       "High school diploma                                  193\n",
       "No formal educational credential                       4\n",
       "Some university                                        2\n",
       "Professional Certifications                            1\n",
       "college degree (not university and not a diploma)      1\n",
       "Grade 9                                                1\n",
       "Graduate                                               1\n",
       "Professional degree                                    1\n",
       "university                                             1\n",
       "M D                                                    1\n",
       "Law School                                             1\n",
       "some university                                        1\n",
       "some uni                                               1\n",
       "PhD                                                    1\n",
       "4 years university no degree                           1\n",
       "Some University                                        1\n",
       "Grade 8                                                1\n",
       "Name: What level of education have you reached?, dtype: int64"
      ]
     },
     "execution_count": 3515,
     "metadata": {},
     "output_type": "execute_result"
    }
   ],
   "source": [
    "# Filter existing students\n",
    "education[(education.str.contains(\"student\", False).fillna(False)) & (education.str.contains(\"University\", False))] = \"High school diploma \"\n",
    "education[(education.str.contains(\"student\", False).fillna(False)) & (education.str.contains(\"High school\", False))] = \"No formal educational credential\"\n",
    "\n",
    "education[education.str.contains(\"in\", False).fillna(False) & ((education.str.contains(\"HS\", False)) | (education.str.contains(\"school\", False)) | (education.str.contains(\"OSSD\", False)))] = \"No formal educational credential\"\n",
    "education.value_counts()"
   ]
  },
  {
   "cell_type": "code",
   "execution_count": 3516,
   "metadata": {},
   "outputs": [
    {
     "data": {
      "text/plain": [
       "3                            4 years university no degree\n",
       "630                                       Some university\n",
       "764     college degree (not university and not a diploma)\n",
       "880                                       Some University\n",
       "1712                                      some university\n",
       "1784                                           university\n",
       "1787                                      Some university\n",
       "2048                                             some uni\n",
       "Name: What level of education have you reached?, dtype: object"
      ]
     },
     "execution_count": 3516,
     "metadata": {},
     "output_type": "execute_result"
    }
   ],
   "source": [
    "# Look at university graduates\n",
    "education[((education.str.contains(\"university\", False)) | (education.str.contains(\"uni\", False))) & (education != \"University degree\")]"
   ]
  },
  {
   "cell_type": "markdown",
   "metadata": {},
   "source": [
    "From the above breakdown, we can see two edge cases:\n",
    "\n",
    "1. 4 years university no degree (should be classified as a high school diploma)\n",
    "2. College Degree (not university and not a diploma)\n",
    "\n",
    "The second category is a tricky response, and essentially a design decision as to which category it should fall under. Since generally degree's are a higher form of education / higher education level in comparison to diplomas (regardless of whether it's achieved from a university or a college), I'm assuming that this should fall under the \"University degree\" category.\n",
    "\n",
    "Let's deal with these edge cases (again, ideally the survey question should be changed to better the input responses, or the edge case filtering can be done more intelligently, but for the sake of brevity we can deal with these 2 cases individually)."
   ]
  },
  {
   "cell_type": "code",
   "execution_count": 3517,
   "metadata": {},
   "outputs": [
    {
     "data": {
      "text/plain": [
       "630     Some university\n",
       "689            Graduate\n",
       "880     Some University\n",
       "1712    some university\n",
       "1784         university\n",
       "1787    Some university\n",
       "2048           some uni\n",
       "Name: What level of education have you reached?, dtype: object"
      ]
     },
     "execution_count": 3517,
     "metadata": {},
     "output_type": "execute_result"
    }
   ],
   "source": [
    "# Deal with one-offs / edge cases\n",
    "education[3] = \"High school diploma \"\n",
    "education[764] = \"University degree\"\n",
    "education[((education.str.contains(\"university\", False)) | (education.str.contains(\"uni\", False)) | (education.str.contains(\"graduate\", False))) & (education != \"University degree\") & (education != \"Post graduate\")]"
   ]
  },
  {
   "cell_type": "code",
   "execution_count": 3518,
   "metadata": {},
   "outputs": [
    {
     "data": {
      "text/plain": [
       "University degree                   903\n",
       "Post graduate                       591\n",
       "College or trade school diploma     521\n",
       "High school diploma                 194\n",
       "No formal educational credential      4\n",
       "Professional Certifications           1\n",
       "Law School                            1\n",
       "PhD                                   1\n",
       "M D                                   1\n",
       "Professional degree                   1\n",
       "Grade 9                               1\n",
       "Grade 8                               1\n",
       "Name: What level of education have you reached?, dtype: int64"
      ]
     },
     "execution_count": 3518,
     "metadata": {},
     "output_type": "execute_result"
    }
   ],
   "source": [
    "# Assuming that responders that have put \"some university/uni\" or \"graduate\" are graduates from that/a university\n",
    "education[((education.str.contains(\"university\", False)) | (education.str.contains(\"uni\", False)) | (education.str.contains(\"graduate\", False))) & (education != \"University degree\") & (education != \"Post graduate\")] = \"University degree\"\n",
    "education.value_counts()"
   ]
  },
  {
   "cell_type": "markdown",
   "metadata": {},
   "source": [
    "Having done a bulk of the filtering, now the only unique values left either correspond to post graduate programs (i.e. PhD, M.D, LLB etc.) or those with no formal educational credential (i.e. Professional certification, high school dropouts etc.).\n",
    "\n",
    "Note that ideally, doctorate programs should be their own category. It doesn't make sense to add that category now however, since it's impossible to tell how many responders that responded with \"Post graduate\" held doctorate degrees (and wrote that down as the best possible answer). This is another point of improvement for the survey."
   ]
  },
  {
   "cell_type": "code",
   "execution_count": 3519,
   "metadata": {},
   "outputs": [
    {
     "data": {
      "text/plain": [
       "University degree                   903\n",
       "Post graduate                       594\n",
       "College or trade school diploma     521\n",
       "High school diploma                 194\n",
       "No formal educational credential      4\n",
       "Professional Certifications           1\n",
       "Professional degree                   1\n",
       "Grade 9                               1\n",
       "Grade 8                               1\n",
       "Name: What level of education have you reached?, dtype: int64"
      ]
     },
     "execution_count": 3519,
     "metadata": {},
     "output_type": "execute_result"
    }
   ],
   "source": [
    "# Classify doctorate/post graduate programs\n",
    "education[(education.str.contains(\"PhD\", False)) | (education.str.contains(\"M D\", False)) | (education.str.contains(\"Law School\", False))] = \"Post graduate\"\n",
    "education.value_counts()"
   ]
  },
  {
   "cell_type": "code",
   "execution_count": 3520,
   "metadata": {},
   "outputs": [
    {
     "data": {
      "text/plain": [
       "University degree                   903\n",
       "Post graduate                       594\n",
       "College or trade school diploma     521\n",
       "High school diploma                 194\n",
       "No formal educational credential      8\n",
       "Name: What level of education have you reached?, dtype: int64"
      ]
     },
     "execution_count": 3520,
     "metadata": {},
     "output_type": "execute_result"
    }
   ],
   "source": [
    "# Classify remaining as \"No formal educational credential\"\n",
    "education[(education != \"University degree\") & (education != \"Post graduate\") & (education != \"College or trade school diploma\") & (education != \"High school diploma \") & (education != \"No formal educational credential\") & (education.notnull())] = \"No formal educational credential\"\n",
    "education.value_counts()"
   ]
  },
  {
   "cell_type": "markdown",
   "metadata": {},
   "source": [
    "Having dealt with the variability in input, we now need to go in and fill missing values. Again, this can be done in numerous ways, like looking at other categories, ie. Income or Employment and inferring the education. However, inferrence based methods are both complex (for the given number of missing values, it doens't necessarily make sense) and also require the other categories to be clean data (which isn't true).\n",
    "\n",
    "Hence, we'll follow the method of using the existing distribution of data to our advantage. Currently, there's an overwhelming majority of responders that have university degrees. Twice as many responders have university degrees, in comparison to those with post graduate degrees or college diplomas. Following this distribution, we get:"
   ]
  },
  {
   "cell_type": "code",
   "execution_count": 3521,
   "metadata": {},
   "outputs": [
    {
     "data": {
      "text/plain": [
       "232     NaN\n",
       "245     NaN\n",
       "491     NaN\n",
       "782     NaN\n",
       "805     NaN\n",
       "845     NaN\n",
       "868     NaN\n",
       "877     NaN\n",
       "887     NaN\n",
       "1058    NaN\n",
       "1197    NaN\n",
       "1340    NaN\n",
       "1376    NaN\n",
       "1656    NaN\n",
       "1841    NaN\n",
       "1931    NaN\n",
       "1958    NaN\n",
       "1991    NaN\n",
       "Name: What level of education have you reached?, dtype: object"
      ]
     },
     "execution_count": 3521,
     "metadata": {},
     "output_type": "execute_result"
    }
   ],
   "source": [
    "# Locate missing values\n",
    "education[education.isnull()]"
   ]
  },
  {
   "cell_type": "code",
   "execution_count": 3522,
   "metadata": {},
   "outputs": [
    {
     "data": {
      "text/plain": [
       "count                  2238\n",
       "unique                    5\n",
       "top       University degree\n",
       "freq                    912\n",
       "Name: What level of education have you reached?, dtype: object"
      ]
     },
     "execution_count": 3522,
     "metadata": {},
     "output_type": "execute_result"
    }
   ],
   "source": [
    "# Fill missing values\n",
    "education.fillna(\"University degree\", limit = 9, inplace=True)\n",
    "education.fillna(\"Post graduate\", limit = 4, inplace=True)\n",
    "education.fillna(\"College or trade school diploma\", limit = 4, inplace=True)\n",
    "education.fillna(\"High school diploma \", limit = 1, inplace=True)\n",
    "education.describe()"
   ]
  },
  {
   "cell_type": "markdown",
   "metadata": {},
   "source": [
    "Converting these categories to numerical features, we get:\n",
    "\n",
    "0 - No formal educational credential\n",
    "\n",
    "1 - High school diploma\n",
    "\n",
    "2 - College or trade school diploma\n",
    "\n",
    "3 - University degree\n",
    "\n",
    "4 - Post graduate\n"
   ]
  },
  {
   "cell_type": "code",
   "execution_count": 3523,
   "metadata": {},
   "outputs": [
    {
     "data": {
      "text/plain": [
       "3    912\n",
       "4    598\n",
       "2    525\n",
       "1    195\n",
       "0      8\n",
       "Name: What level of education have you reached?, dtype: int64"
      ]
     },
     "execution_count": 3523,
     "metadata": {},
     "output_type": "execute_result"
    }
   ],
   "source": [
    "education[education == \"No formal educational credential\"] = 0\n",
    "education[education == \"High school diploma \"] = 1\n",
    "education[education == \"College or trade school diploma\"] = 2\n",
    "education[education == \"University degree\"] = 3\n",
    "education[education == \"Post graduate\"] = 4\n",
    "\n",
    "education.value_counts()"
   ]
  },
  {
   "cell_type": "markdown",
   "metadata": {},
   "source": [
    "#### Household Income\n"
   ]
  },
  {
   "cell_type": "code",
   "execution_count": 3524,
   "metadata": {},
   "outputs": [
    {
     "data": {
      "text/plain": [
       "$100K+          831\n",
       "$60K to $79K    372\n",
       "$80K to $99K    335\n",
       "$40K to $59K    298\n",
       "$20K to $39K    235\n",
       "Under $20K      107\n",
       "Name: What is your household income?, dtype: int64"
      ]
     },
     "execution_count": 3524,
     "metadata": {},
     "output_type": "execute_result"
    }
   ],
   "source": [
    "income = responses[\"What is your household income?\"]\n",
    "income.value_counts()"
   ]
  },
  {
   "cell_type": "code",
   "execution_count": 3525,
   "metadata": {},
   "outputs": [
    {
     "data": {
      "text/plain": [
       "count       2178\n",
       "unique         6\n",
       "top       $100K+\n",
       "freq         831\n",
       "Name: What is your household income?, dtype: object"
      ]
     },
     "execution_count": 3525,
     "metadata": {},
     "output_type": "execute_result"
    }
   ],
   "source": [
    "income.describe()"
   ]
  },
  {
   "cell_type": "markdown",
   "metadata": {},
   "source": [
    "The only issue here is **missing values**, we're missing 60 values to be precise. \n",
    "\n",
    "Rather than just trying to mimic the distribution, let's see if we can be more intelligent here. Intuitively, a primary hypothesis that makes sense is that the **higher your education level, the greater your household income**. Thus, in order to assign the missing incomes, we can do it based on the responder's education level.\n",
    "\n",
    "Let's take a look at the education level of those missing values:"
   ]
  },
  {
   "cell_type": "code",
   "execution_count": 3526,
   "metadata": {},
   "outputs": [
    {
     "data": {
      "text/plain": [
       "23      4\n",
       "60      3\n",
       "245     3\n",
       "361     3\n",
       "417     3\n",
       "530     2\n",
       "609     3\n",
       "659     3\n",
       "678     4\n",
       "696     3\n",
       "706     2\n",
       "755     4\n",
       "782     3\n",
       "810     4\n",
       "827     4\n",
       "845     3\n",
       "868     3\n",
       "877     3\n",
       "887     3\n",
       "908     2\n",
       "917     3\n",
       "939     3\n",
       "1008    2\n",
       "1089    4\n",
       "1136    4\n",
       "1197    4\n",
       "1208    4\n",
       "1211    2\n",
       "1376    4\n",
       "1385    3\n",
       "1490    3\n",
       "1604    3\n",
       "1621    1\n",
       "1653    2\n",
       "1676    4\n",
       "1684    3\n",
       "1711    2\n",
       "1783    2\n",
       "1796    2\n",
       "1805    4\n",
       "1828    4\n",
       "1841    2\n",
       "1899    3\n",
       "1931    2\n",
       "1935    2\n",
       "1937    2\n",
       "1975    3\n",
       "1991    1\n",
       "2014    3\n",
       "2028    3\n",
       "2029    3\n",
       "2050    4\n",
       "2059    4\n",
       "2061    4\n",
       "2073    3\n",
       "2137    4\n",
       "2184    3\n",
       "2187    3\n",
       "2205    1\n",
       "2222    2\n",
       "Name: What level of education have you reached?, dtype: object"
      ]
     },
     "execution_count": 3526,
     "metadata": {},
     "output_type": "execute_result"
    }
   ],
   "source": [
    "# Education Level of missing income values\n",
    "responses[\"What level of education have you reached?\"][income[income.isnull()].index]"
   ]
  },
  {
   "cell_type": "code",
   "execution_count": 3527,
   "metadata": {},
   "outputs": [
    {
     "data": {
      "text/plain": [
       "3    346\n",
       "4    294\n",
       "2    138\n",
       "1     50\n",
       "0      3\n",
       "Name: What level of education have you reached?, dtype: int64"
      ]
     },
     "execution_count": 3527,
     "metadata": {},
     "output_type": "execute_result"
    }
   ],
   "source": [
    "# Education level of people with 100K+ incomes\n",
    "responses[\"What level of education have you reached?\"][income[income == \"$100K+\"].index].value_counts()"
   ]
  },
  {
   "cell_type": "code",
   "execution_count": 3528,
   "metadata": {},
   "outputs": [
    {
     "data": {
      "text/plain": [
       "3    147\n",
       "2     86\n",
       "4     76\n",
       "1     24\n",
       "0      2\n",
       "Name: What level of education have you reached?, dtype: int64"
      ]
     },
     "execution_count": 3528,
     "metadata": {},
     "output_type": "execute_result"
    }
   ],
   "source": [
    "# Education level of people with $80K to $99K incomes\n",
    "responses[\"What level of education have you reached?\"][income[income == \"$80K to $99K\"].index].value_counts()"
   ]
  },
  {
   "cell_type": "code",
   "execution_count": 3529,
   "metadata": {},
   "outputs": [
    {
     "data": {
      "text/plain": [
       "3    81\n",
       "2    61\n",
       "1    47\n",
       "4    46\n",
       "Name: What level of education have you reached?, dtype: int64"
      ]
     },
     "execution_count": 3529,
     "metadata": {},
     "output_type": "execute_result"
    }
   ],
   "source": [
    "# Education level of people with $20K to #39K incomes\n",
    "responses[\"What level of education have you reached?\"][income[income == \"$20K to $39K\"].index].value_counts()"
   ]
  },
  {
   "cell_type": "markdown",
   "metadata": {},
   "source": [
    "Based on the above information, it's clear that the hypothesis mentioned earlier generally holds true. There's definitely exceptions (where people with no formal educational credential have a $100K+ income or postgraduate degree holders have a lower income), but generally the rule holds. This can be seen above, where 100K+ incomes are generally dominated by Education levels of \"University degree\" or \"Post graduate\". In contrast, 60-79K incomes are dominated by Education levels of \"University degree\" or \"College/Trade School diploma\".\n",
    "\n",
    "Based on the above information, we can make the following split:\n",
    "\n",
    "Post graduate -> 100K+ income\n",
    "\n",
    "1/2 of University degree holders -> 100K+ income\n",
    "\n",
    "1/2 of University degree holders -> 80K - 99K\n",
    "\n",
    "College or Trade school diploma -> 60K - 79K\n",
    "\n",
    "High school diploma -> 20K - 39K"
   ]
  },
  {
   "cell_type": "code",
   "execution_count": 3530,
   "metadata": {},
   "outputs": [
    {
     "data": {
      "text/plain": [
       "count       2195\n",
       "unique         6\n",
       "top       $100K+\n",
       "freq         848\n",
       "Name: What is your household income?, dtype: object"
      ]
     },
     "execution_count": 3530,
     "metadata": {},
     "output_type": "execute_result"
    }
   ],
   "source": [
    "# Post graduate (have to use temp because of the way pandas does inplace with variables)\n",
    "temp = income[responses[\"What level of education have you reached?\"] == 4]\n",
    "temp.fillna(\"$100K+\", inplace=True)\n",
    "income[responses[\"What level of education have you reached?\"] == 4] = temp\n",
    "income.describe()"
   ]
  },
  {
   "cell_type": "code",
   "execution_count": 3531,
   "metadata": {},
   "outputs": [
    {
     "data": {
      "text/plain": [
       "count       2221\n",
       "unique         6\n",
       "top       $100K+\n",
       "freq         874\n",
       "Name: What is your household income?, dtype: object"
      ]
     },
     "execution_count": 3531,
     "metadata": {},
     "output_type": "execute_result"
    }
   ],
   "source": [
    "# University degree\n",
    "temp = income[responses[\"What level of education have you reached?\"] == 3]\n",
    "temp.fillna(\"$100K+\", limit = len(temp)/2, inplace=True)\n",
    "temp.fillna(\"$80K to $99K\", inplace=True)\n",
    "income[responses[\"What level of education have you reached?\"] == 3] = temp\n",
    "income.describe()"
   ]
  },
  {
   "cell_type": "code",
   "execution_count": 3532,
   "metadata": {},
   "outputs": [
    {
     "data": {
      "text/plain": [
       "count       2235\n",
       "unique         6\n",
       "top       $100K+\n",
       "freq         874\n",
       "Name: What is your household income?, dtype: object"
      ]
     },
     "execution_count": 3532,
     "metadata": {},
     "output_type": "execute_result"
    }
   ],
   "source": [
    "# College or Trade School diploma\n",
    "temp = income[responses[\"What level of education have you reached?\"] == 2]\n",
    "temp.fillna(\"$60K to $79K\", inplace=True)\n",
    "income[responses[\"What level of education have you reached?\"] == 2] = temp\n",
    "income.describe()"
   ]
  },
  {
   "cell_type": "code",
   "execution_count": 3533,
   "metadata": {},
   "outputs": [
    {
     "data": {
      "text/plain": [
       "count       2238\n",
       "unique         6\n",
       "top       $100K+\n",
       "freq         874\n",
       "Name: What is your household income?, dtype: object"
      ]
     },
     "execution_count": 3533,
     "metadata": {},
     "output_type": "execute_result"
    }
   ],
   "source": [
    "# High school diploma\n",
    "temp = income[responses[\"What level of education have you reached?\"] == 1]\n",
    "temp.fillna(\"$20K to $39K\", inplace=True)\n",
    "income[responses[\"What level of education have you reached?\"] == 1] = temp\n",
    "income.describe()"
   ]
  },
  {
   "cell_type": "code",
   "execution_count": 3534,
   "metadata": {},
   "outputs": [
    {
     "data": {
      "text/plain": [
       "$100K+          874\n",
       "$60K to $79K    386\n",
       "$80K to $99K    335\n",
       "$40K to $59K    298\n",
       "$20K to $39K    238\n",
       "Under $20K      107\n",
       "Name: What is your household income?, dtype: int64"
      ]
     },
     "execution_count": 3534,
     "metadata": {},
     "output_type": "execute_result"
    }
   ],
   "source": [
    "income.value_counts()"
   ]
  },
  {
   "cell_type": "markdown",
   "metadata": {},
   "source": [
    "Mapping these categories to numerical features, we get:\n",
    "\n",
    "0 - Under $20K\n",
    "\n",
    "1 - $20K to $39K\n",
    "\n",
    "2 - $40K to $59K\n",
    "\n",
    "3 - $60K to $79K\n",
    "\n",
    "4 - $80K to $99K\n",
    "\n",
    "5 - $100K+"
   ]
  },
  {
   "cell_type": "code",
   "execution_count": 3535,
   "metadata": {},
   "outputs": [
    {
     "data": {
      "text/plain": [
       "5    874\n",
       "3    386\n",
       "4    335\n",
       "2    298\n",
       "1    238\n",
       "0    107\n",
       "Name: What is your household income?, dtype: int64"
      ]
     },
     "execution_count": 3535,
     "metadata": {},
     "output_type": "execute_result"
    }
   ],
   "source": [
    "income[income == \"Under $20K\"] = 0\n",
    "income[income == \"$20K to $39K\"] = 1\n",
    "income[income == \"$40K to $59K\"] = 2\n",
    "income[income == \"$60K to $79K\"] = 3\n",
    "income[income == \"$80K to $99K\"] = 4\n",
    "income[income == \"$100K+\"] = 5\n",
    "\n",
    "income.value_counts()"
   ]
  },
  {
   "cell_type": "markdown",
   "metadata": {},
   "source": [
    "#### Employment"
   ]
  },
  {
   "cell_type": "code",
   "execution_count": 3536,
   "metadata": {},
   "outputs": [
    {
     "data": {
      "text/plain": [
       "Full Time                                                                                                                            1405\n",
       "Self Employed                                                                                                                         361\n",
       "Retired                                                                                                                               136\n",
       "Part Time                                                                                                                             121\n",
       "Student                                                                                                                               118\n",
       "Unemployed                                                                                                                             37\n",
       "Home Maker                                                                                                                             17\n",
       "disabled                                                                                                                                2\n",
       "ODSP                                                                                                                                    2\n",
       "part time while I write                                                                                                                 1\n",
       "Free-lance and home maker                                                                                                               1\n",
       "full time casual                                                                                                                        1\n",
       "Extreme full-time                                                                                                                       1\n",
       "DISSABLE                                                                                                                                1\n",
       "I don't understand the rationale for these demographic questions and I'm not sure the privacy statements meets CIMS requirements        1\n",
       "Disability pension                                                                                                                      1\n",
       "ltip disability                                                                                                                         1\n",
       "Contract                                                                                                                                1\n",
       "semi-retired self-employed                                                                                                              1\n",
       "FT Contract                                                                                                                             1\n",
       "Freelance Contractor                                                                                                                    1\n",
       "contract                                                                                                                                1\n",
       "Seasonal Full-Time                                                                                                                      1\n",
       "full time work and student                                                                                                              1\n",
       "DISABLED                                                                                                                                1\n",
       "occasional teacher                                                                                                                      1\n",
       "Full time job 3 days a week own startup rest of time                                                                                    1\n",
       "arts worker - partial full time                                                                                                         1\n",
       "none of your business                                                                                                                   1\n",
       "Free Lance                                                                                                                              1\n",
       "Freelance Artist                                                                                                                        1\n",
       "Student/internship                                                                                                                      1\n",
       "Doctoral Student                                                                                                                        1\n",
       "Name: Which category best describes your employment?, dtype: int64"
      ]
     },
     "execution_count": 3536,
     "metadata": {},
     "output_type": "execute_result"
    }
   ],
   "source": [
    "employment = responses['Which category best describes your employment?']\n",
    "employment.value_counts()"
   ]
  },
  {
   "cell_type": "code",
   "execution_count": 3537,
   "metadata": {},
   "outputs": [
    {
     "data": {
      "text/plain": [
       "count          2223\n",
       "unique           33\n",
       "top       Full Time\n",
       "freq           1405\n",
       "Name: Which category best describes your employment?, dtype: object"
      ]
     },
     "execution_count": 3537,
     "metadata": {},
     "output_type": "execute_result"
    }
   ],
   "source": [
    "employment.describe()"
   ]
  },
  {
   "cell_type": "markdown",
   "metadata": {},
   "source": [
    "Similar to other categories, there are:\n",
    "\n",
    "1. 15 Missing Values\n",
    "2. Unique Values needed to be categorized\n",
    "\n",
    "Since there is an overwhelmingly large majority of Full Time workers (> 60%), we will categorize the 15 missing values as Full Time as well.\n",
    "\n",
    "Regarding the unique values, judging from the responses, it's reasonable to assume that Free Lance / Contract falls under the \"Self Employed\" category. For answers like \"None of your business\", we will assume \"Unemployed\". For responders that fall under both category, as long as they're placed under one of the corresponding labels we will assume that their \"employment\" has been recorded (this may need to change when we manipulate features during model selection and prediction)."
   ]
  },
  {
   "cell_type": "code",
   "execution_count": 3538,
   "metadata": {},
   "outputs": [
    {
     "data": {
      "text/plain": [
       "count          2238\n",
       "unique           33\n",
       "top       Full Time\n",
       "freq           1420\n",
       "Name: Which category best describes your employment?, dtype: object"
      ]
     },
     "execution_count": 3538,
     "metadata": {},
     "output_type": "execute_result"
    }
   ],
   "source": [
    "# Missing values\n",
    "employment.fillna(\"Full Time\", inplace = True)\n",
    "employment.describe()"
   ]
  },
  {
   "cell_type": "code",
   "execution_count": 3539,
   "metadata": {},
   "outputs": [
    {
     "data": {
      "text/plain": [
       "Full Time                                                                                                                            1420\n",
       "Self Employed                                                                                                                         369\n",
       "Retired                                                                                                                               136\n",
       "Part Time                                                                                                                             124\n",
       "Student                                                                                                                               121\n",
       "Unemployed                                                                                                                             37\n",
       "Home Maker                                                                                                                             17\n",
       "Disabled                                                                                                                                8\n",
       "none of your business                                                                                                                   1\n",
       "Full time job 3 days a week own startup rest of time                                                                                    1\n",
       "Seasonal Full-Time                                                                                                                      1\n",
       "I don't understand the rationale for these demographic questions and I'm not sure the privacy statements meets CIMS requirements        1\n",
       "full time casual                                                                                                                        1\n",
       "Extreme full-time                                                                                                                       1\n",
       "Name: Which category best describes your employment?, dtype: int64"
      ]
     },
     "execution_count": 3539,
     "metadata": {},
     "output_type": "execute_result"
    }
   ],
   "source": [
    "# Filter unique values and categorize accordingly\n",
    "\n",
    "employment[(employment.str.contains(\"student\", False)) & (employment != \"Student\")] = \"Student\"\n",
    "\n",
    "employment[(employment.str.contains(\"disab\", False) | (employment.str.contains(\"dissab\", False)) | employment.str.contains(\"odsp\", False))] = \"Disabled\"\n",
    "\n",
    "employment[employment.str.contains(\"contract\", False) | employment.str.contains(\"free\", False) | employment.str.contains(\"self\")] = \"Self Employed\"\n",
    "\n",
    "employment[(employment.str.contains(\"occas\", False) | employment.str.contains(\"part\")) & (employment != \"Part Time\")] = \"Part Time\"\n",
    "\n",
    "employment.value_counts()"
   ]
  },
  {
   "cell_type": "code",
   "execution_count": 3540,
   "metadata": {},
   "outputs": [
    {
     "data": {
      "text/plain": [
       "Full Time        1424\n",
       "Self Employed     369\n",
       "Retired           136\n",
       "Part Time         124\n",
       "Student           121\n",
       "Unemployed         39\n",
       "Home Maker         17\n",
       "Disabled            8\n",
       "Name: Which category best describes your employment?, dtype: int64"
      ]
     },
     "execution_count": 3540,
     "metadata": {},
     "output_type": "execute_result"
    }
   ],
   "source": [
    "# Assuming casual/seasonal employees are still full-time (based on Google search of Employment Rules/Categories)\n",
    "employment[employment.str.contains(\"full\", False) & (employment != \"Full Time\")] = \"Full Time\"\n",
    "\n",
    "# Classify remaining as Unemployed (only 2 values, an incorrect assumption doesn't necessarily hurt us)\n",
    "employment[(employment != \"Full Time\") & (employment != \"Part Time\") & (employment != \"Self Employed\") & (employment != \"Retired\") & (employment != \"Student\") & (employment != \"Home Maker\") & (employment != \"Disabled\") & (employment != \"Unemployed\")] = \"Unemployed\"\n",
    "\n",
    "employment.value_counts()"
   ]
  },
  {
   "cell_type": "markdown",
   "metadata": {},
   "source": [
    "Let's convert these categories to numerical features with the following mapping:\n",
    "\n",
    "0 - Disabled\n",
    "\n",
    "1 - Unemployed\n",
    "\n",
    "2 - Retired\n",
    "\n",
    "3 - Home Maker\n",
    "\n",
    "4 - Student\n",
    "\n",
    "5 - Part Time\n",
    "\n",
    "6 - Self Employed\n",
    "\n",
    "7 - Full Time"
   ]
  },
  {
   "cell_type": "code",
   "execution_count": 3541,
   "metadata": {},
   "outputs": [
    {
     "data": {
      "text/plain": [
       "7    1424\n",
       "6     369\n",
       "2     136\n",
       "5     124\n",
       "4     121\n",
       "1      39\n",
       "3      17\n",
       "0       8\n",
       "Name: Which category best describes your employment?, dtype: int64"
      ]
     },
     "execution_count": 3541,
     "metadata": {},
     "output_type": "execute_result"
    }
   ],
   "source": [
    "employment[employment == \"Disabled\"] = 0\n",
    "employment[employment == \"Unemployed\"] = 1\n",
    "employment[employment == \"Retired\"] = 2\n",
    "employment[employment == \"Home Maker\"] = 3\n",
    "employment[employment == \"Student\"] = 4\n",
    "employment[employment == \"Part Time\"] = 5\n",
    "employment[employment == \"Self Employed\"] = 6\n",
    "employment[employment == \"Full Time\"] = 7\n",
    "\n",
    "employment.value_counts()"
   ]
  },
  {
   "cell_type": "markdown",
   "metadata": {},
   "source": [
    "#### Toronto District"
   ]
  },
  {
   "cell_type": "code",
   "execution_count": 3542,
   "metadata": {},
   "outputs": [
    {
     "data": {
      "text/plain": [
       "Central Toronto York or East York                                                1634\n",
       "Etobicoke                                                                         236\n",
       "North York                                                                        129\n",
       "Scarborough                                                                       120\n",
       "Mississauga                                                                        24\n",
       "Brampton                                                                            9\n",
       "Waterloo                                                                            4\n",
       "Pickering                                                                           4\n",
       "Guelph                                                                              3\n",
       "oshawa                                                                              3\n",
       "Richmond Hill                                                                       3\n",
       "Oakville                                                                            3\n",
       "GTA                                                                                 2\n",
       "Markham                                                                             2\n",
       "Hamilton                                                                            2\n",
       "Ottawa                                                                              2\n",
       "markham                                                                             2\n",
       "Bulington                                                                           2\n",
       "Vaughan                                                                             2\n",
       "mississauga                                                                         2\n",
       "ottawa                                                                              2\n",
       "Beaches                                                                             1\n",
       "Whitby                                                                              1\n",
       "mississauga east                                                                    1\n",
       "York Region                                                                         1\n",
       "South Africa                                                                        1\n",
       "out of town                                                                         1\n",
       "Kingston                                                                            1\n",
       "niagara region                                                                      1\n",
       "i live in hamilton partner lives in north york                                      1\n",
       "                                                                                 ... \n",
       "Paris Ontario                                                                       1\n",
       "Guelph                                                                              1\n",
       "Barrie                                                                              1\n",
       "Ajax                                                                                1\n",
       "I used to live in central Toronto still visit for extended periods regularly        1\n",
       "Richmomd Hill                                                                       1\n",
       "durham region                                                                       1\n",
       "whitby                                                                              1\n",
       "Victoria BC                                                                         1\n",
       "other                                                                               1\n",
       "Bangkok                                                                             1\n",
       "Milton                                                                              1\n",
       "St Catharines Ontario                                                               1\n",
       "High Park                                                                           1\n",
       "Beach                                                                               1\n",
       "Burlington                                                                          1\n",
       "Bloor West Village                                                                  1\n",
       "west end                                                                            1\n",
       "Halton                                                                              1\n",
       "brampton                                                                            1\n",
       "Thornhill                                                                           1\n",
       "St Catharines                                                                       1\n",
       "Work in TO                                                                          1\n",
       "KW                                                                                  1\n",
       "Durham                                                                              1\n",
       "Woodbridge                                                                          1\n",
       "City of Orillia                                                                     1\n",
       "beaches                                                                             1\n",
       "YORK REGION                                                                         1\n",
       "cambridge                                                                           1\n",
       "Name: What Toronto district is your primary address located in?, dtype: int64"
      ]
     },
     "execution_count": 3542,
     "metadata": {},
     "output_type": "execute_result"
    }
   ],
   "source": [
    "torontoDistrict = responses[\"What Toronto district is your primary address located in?\"]\n",
    "torontoDistrict.value_counts()"
   ]
  },
  {
   "cell_type": "code",
   "execution_count": 3543,
   "metadata": {},
   "outputs": [
    {
     "data": {
      "text/plain": [
       "count                                  2237\n",
       "unique                                   68\n",
       "top       Central Toronto York or East York\n",
       "freq                                   1634\n",
       "Name: What Toronto district is your primary address located in?, dtype: object"
      ]
     },
     "execution_count": 3543,
     "metadata": {},
     "output_type": "execute_result"
    }
   ],
   "source": [
    "torontoDistrict.describe()"
   ]
  },
  {
   "cell_type": "code",
   "execution_count": 3544,
   "metadata": {},
   "outputs": [
    {
     "data": {
      "text/plain": [
       "count                                  2238\n",
       "unique                                   68\n",
       "top       Central Toronto York or East York\n",
       "freq                                   1635\n",
       "Name: What Toronto district is your primary address located in?, dtype: object"
      ]
     },
     "execution_count": 3544,
     "metadata": {},
     "output_type": "execute_result"
    }
   ],
   "source": [
    "# Only one missing value -> assign to the majority (Central Toronto York or East York)\n",
    "torontoDistrict.fillna(\"Central Toronto York or East York\", inplace = True)\n",
    "torontoDistrict.describe()"
   ]
  },
  {
   "cell_type": "markdown",
   "metadata": {},
   "source": [
    "Regarding the number of unique answers that exist, it's important to remember that the question is *What Toronto District is your primary address located in*.\n",
    "\n",
    "Toronto has 4 primary districts:\n",
    "1. Toronto East/Central York\n",
    "2. Etobicoke\n",
    "3. Scarborough\n",
    "4. North York\n",
    "\n",
    "This is seen in the image below (taken from the City of Toronto's website):\n",
    "<img src = \"https://www1.toronto.ca/City%20Of%20Toronto/Toronto%20Building/Shared%20Content/Images/Ward%20Images/torontoWard_1540x1140.jpg\" />\n",
    "\n",
    "Thus, all cities outside of these 4 entries can be grouped together into a common \"Outside the above 4 districts\" entry! This includes the GTA, and any other residences outside of the 4 primary districts of the city. This should also be how the survey is structured, and thus acts as an additional improvement reccomendation."
   ]
  },
  {
   "cell_type": "code",
   "execution_count": 3545,
   "metadata": {},
   "outputs": [
    {
     "data": {
      "text/plain": [
       "21                         Mississauga\n",
       "49                            Hamilton\n",
       "61                         out of town\n",
       "79                         Mississauga\n",
       "96                         mississauga\n",
       "130                              other\n",
       "135                             oshawa\n",
       "171                           Hamilton\n",
       "218                          Pickering\n",
       "235                           Brampton\n",
       "241                             Guelph\n",
       "248                           Waterloo\n",
       "274                             oshawa\n",
       "321                        Mississauga\n",
       "323                            Markham\n",
       "330                      Richmomd Hill\n",
       "360                             Durham\n",
       "364                        Leslieville\n",
       "391                              Ajax \n",
       "395                             ottawa\n",
       "447                           Oakville\n",
       "451                          Thornhill\n",
       "458                        Mississauga\n",
       "463                        Mississauga\n",
       "465                           Brampton\n",
       "485                        Mississauga\n",
       "496                             oshawa\n",
       "510                      GTA FOR LIFE!\n",
       "519                        Mississauga\n",
       "522                         Work in TO\n",
       "                     ...              \n",
       "1567                           Vaughan\n",
       "1585                          brampton\n",
       "1625                          Brampton\n",
       "1641                          Brampton\n",
       "1645                           leaside\n",
       "1678                          Brampton\n",
       "1679    never north of bloor downtown \n",
       "1690                       Mississauga\n",
       "1708               Peterborough County\n",
       "1711             St Catharines Ontario\n",
       "1720                    niagara region\n",
       "1723                           beaches\n",
       "1731                     durham region\n",
       "1735                           Guelph \n",
       "1741                       Mississauga\n",
       "1742                       Mississauga\n",
       "1810                         cambridge\n",
       "1880                       Mississauga\n",
       "1895                          west end\n",
       "1897                          Brampton\n",
       "1956                            ottawa\n",
       "2053                       Mississauga\n",
       "2080                   City of Orillia\n",
       "2082                  mississauga east\n",
       "2092                       Mississauga\n",
       "2096                       not sharing\n",
       "2138                           markham\n",
       "2180                       Mississauga\n",
       "2184                            Guelph\n",
       "2210                       Mississauga\n",
       "Name: What Toronto district is your primary address located in?, dtype: object"
      ]
     },
     "execution_count": 3545,
     "metadata": {},
     "output_type": "execute_result"
    }
   ],
   "source": [
    "# Get values outside of Toronto\n",
    "torontoDistrict[~torontoDistrict.str.contains(\"York\", False) & ~torontoDistrict.str.contains(\"Etobicoke\", False) & ~torontoDistrict.str.contains(\"Scarborough\", False)]"
   ]
  },
  {
   "cell_type": "code",
   "execution_count": 3546,
   "metadata": {},
   "outputs": [
    {
     "data": {
      "text/plain": [
       "Central Toronto York or East York                      1635\n",
       "Etobicoke                                               236\n",
       "North York                                              129\n",
       "Scarborough                                             120\n",
       "Outside of the above 4 primary districts of Toronto     115\n",
       "York Region                                               1\n",
       "YORK REGION                                               1\n",
       "i live in hamilton partner lives in north york            1\n",
       "Name: What Toronto district is your primary address located in?, dtype: int64"
      ]
     },
     "execution_count": 3546,
     "metadata": {},
     "output_type": "execute_result"
    }
   ],
   "source": [
    "# Assign to new category\n",
    "torontoDistrict[~torontoDistrict.str.contains(\"York\", False) & ~torontoDistrict.str.contains(\"Etobicoke\", False) & ~torontoDistrict.str.contains(\"Scarborough\", False)] = \"Outside of the above 4 primary districts of Toronto\"\n",
    "torontoDistrict.value_counts()"
   ]
  },
  {
   "cell_type": "code",
   "execution_count": 3547,
   "metadata": {},
   "outputs": [
    {
     "data": {
      "text/plain": [
       "Central Toronto York or East York                      1635\n",
       "Etobicoke                                               236\n",
       "North York                                              129\n",
       "Scarborough                                             120\n",
       "Outside of the above 4 primary districts of Toronto     118\n",
       "Name: What Toronto district is your primary address located in?, dtype: int64"
      ]
     },
     "execution_count": 3547,
     "metadata": {},
     "output_type": "execute_result"
    }
   ],
   "source": [
    "# Assign remaining values to appropriate region -> York Region is NOT a part of Toronto\n",
    "torontoDistrict[torontoDistrict.str.contains(\"york region\", False)] = \"Outside of the above 4 primary districts of Toronto\"\n",
    "\n",
    "# The person responding has their primary residence in Hamilton -> not in Toronto\n",
    "torontoDistrict[torontoDistrict.str.contains(\"hamilton\")] = \"Outside of the above 4 primary districts of Toronto\"\n",
    "\n",
    "torontoDistrict.value_counts()"
   ]
  },
  {
   "cell_type": "markdown",
   "metadata": {},
   "source": [
    "Converting the above to numerical values, we get:\n",
    "\n",
    "0 - Outside of the above 4 primary districts of Toronto\n",
    "\n",
    "1 - Central Toronto York or East York\n",
    "\n",
    "2 - Etobicoke\n",
    "\n",
    "3 - North York\n",
    "\n",
    "4 - Scarborough\n"
   ]
  },
  {
   "cell_type": "code",
   "execution_count": 3548,
   "metadata": {},
   "outputs": [
    {
     "data": {
      "text/plain": [
       "1    1635\n",
       "2     236\n",
       "3     129\n",
       "4     120\n",
       "0     118\n",
       "Name: What Toronto district is your primary address located in?, dtype: int64"
      ]
     },
     "execution_count": 3548,
     "metadata": {},
     "output_type": "execute_result"
    }
   ],
   "source": [
    "torontoDistrict[torontoDistrict == \"Outside of the above 4 primary districts of Toronto\"] = 0\n",
    "torontoDistrict[torontoDistrict == \"Central Toronto York or East York\"] = 1\n",
    "torontoDistrict[torontoDistrict == \"Etobicoke\"] = 2\n",
    "torontoDistrict[torontoDistrict == \"North York\"] = 3\n",
    "torontoDistrict[torontoDistrict == \"Scarborough\"] = 4\n",
    "\n",
    "torontoDistrict.value_counts()"
   ]
  },
  {
   "cell_type": "markdown",
   "metadata": {},
   "source": [
    "#### Commute Distance\n"
   ]
  },
  {
   "cell_type": "code",
   "execution_count": 3549,
   "metadata": {},
   "outputs": [
    {
     "data": {
      "text/plain": [
       "5 - 10 km     847\n",
       "10 - 20 km    653\n",
       "Over 35 km    293\n",
       "20 -35 km     248\n",
       "Under 2 km    196\n",
       "Name: On average what distance do you travel most days of the week?, dtype: int64"
      ]
     },
     "execution_count": 3549,
     "metadata": {},
     "output_type": "execute_result"
    }
   ],
   "source": [
    "commuteDist = responses[\"On average what distance do you travel most days of the week?\"]\n",
    "commuteDist.value_counts()"
   ]
  },
  {
   "cell_type": "code",
   "execution_count": 3550,
   "metadata": {},
   "outputs": [
    {
     "data": {
      "text/plain": [
       "count          2237\n",
       "unique            5\n",
       "top       5 - 10 km\n",
       "freq            847\n",
       "Name: On average what distance do you travel most days of the week?, dtype: object"
      ]
     },
     "execution_count": 3550,
     "metadata": {},
     "output_type": "execute_result"
    }
   ],
   "source": [
    "commuteDist.describe()"
   ]
  },
  {
   "cell_type": "markdown",
   "metadata": {},
   "source": [
    "This category is fairly clean, we're only missing one value so it's easy to assign it to the majority, which is 5 - 10 km in this case."
   ]
  },
  {
   "cell_type": "code",
   "execution_count": 3551,
   "metadata": {},
   "outputs": [
    {
     "data": {
      "text/plain": [
       "count          2238\n",
       "unique            5\n",
       "top       5 - 10 km\n",
       "freq            848\n",
       "Name: On average what distance do you travel most days of the week?, dtype: object"
      ]
     },
     "execution_count": 3551,
     "metadata": {},
     "output_type": "execute_result"
    }
   ],
   "source": [
    "# Fill missing value with majority\n",
    "commuteDist.fillna(\"5 - 10 km\", inplace = True)\n",
    "commuteDist.describe()"
   ]
  },
  {
   "cell_type": "markdown",
   "metadata": {},
   "source": [
    "Let's map it to a set of numerical values:\n",
    "\n",
    "0 - Under 2 km\n",
    "\n",
    "1 - 5 - 10 km\n",
    "\n",
    "2 - 10 - 20 km\n",
    "\n",
    "3 - 20 - 35 km\n",
    "\n",
    "4 - Over 35 km\n"
   ]
  },
  {
   "cell_type": "code",
   "execution_count": 3552,
   "metadata": {},
   "outputs": [
    {
     "data": {
      "text/plain": [
       "1    848\n",
       "2    653\n",
       "4    293\n",
       "3    248\n",
       "0    196\n",
       "Name: On average what distance do you travel most days of the week?, dtype: int64"
      ]
     },
     "execution_count": 3552,
     "metadata": {},
     "output_type": "execute_result"
    }
   ],
   "source": [
    "commuteDist[commuteDist == \"Under 2 km\"] = 0\n",
    "commuteDist[commuteDist == \"5 - 10 km\"] = 1\n",
    "commuteDist[commuteDist == \"10 - 20 km\"] = 2\n",
    "commuteDist[commuteDist == \"20 -35 km\"] = 3\n",
    "commuteDist[commuteDist == \"Over 35 km\"] = 4\n",
    "\n",
    "commuteDist.value_counts()"
   ]
  },
  {
   "cell_type": "markdown",
   "metadata": {},
   "source": [
    "#### Commute Length"
   ]
  },
  {
   "cell_type": "code",
   "execution_count": 3553,
   "metadata": {},
   "outputs": [
    {
     "data": {
      "text/plain": [
       "16 - 29 minutes         782\n",
       "30 - 44 minutes         565\n",
       "15 minutes or less      375\n",
       "45 minutes - 1 hour     246\n",
       "I do not commute        167\n",
       "over 1 hour each way    102\n",
       "Name: On average how long is your commute?, dtype: int64"
      ]
     },
     "execution_count": 3553,
     "metadata": {},
     "output_type": "execute_result"
    }
   ],
   "source": [
    "commuteLength = responses[\"On average how long is your commute?\"]\n",
    "commuteLength.value_counts()"
   ]
  },
  {
   "cell_type": "code",
   "execution_count": 3554,
   "metadata": {},
   "outputs": [
    {
     "data": {
      "text/plain": [
       "count                2237\n",
       "unique                  6\n",
       "top       16 - 29 minutes\n",
       "freq                  782\n",
       "Name: On average how long is your commute?, dtype: object"
      ]
     },
     "execution_count": 3554,
     "metadata": {},
     "output_type": "execute_result"
    }
   ],
   "source": [
    "commuteLength.describe()"
   ]
  },
  {
   "cell_type": "markdown",
   "metadata": {},
   "source": [
    "Likewise, similar to the commute distance category, we repeat the process:"
   ]
  },
  {
   "cell_type": "code",
   "execution_count": 3555,
   "metadata": {},
   "outputs": [
    {
     "data": {
      "text/plain": [
       "count                2238\n",
       "unique                  6\n",
       "top       16 - 29 minutes\n",
       "freq                  783\n",
       "Name: On average how long is your commute?, dtype: object"
      ]
     },
     "execution_count": 3555,
     "metadata": {},
     "output_type": "execute_result"
    }
   ],
   "source": [
    "commuteLength.fillna(\"16 - 29 minutes\", inplace = True)\n",
    "commuteLength.describe()"
   ]
  },
  {
   "cell_type": "markdown",
   "metadata": {},
   "source": [
    "Mapping it to numerical features yields:\n",
    "\n",
    "0 - I do not commute\n",
    "\n",
    "1 - 15 minutes or less\n",
    "\n",
    "2 - 16 - 29 minutes\n",
    "\n",
    "3 - 30 - 44 minutes\n",
    "\n",
    "4 - 45 minutes - 1 hour\n",
    "\n",
    "5 - over 1 hour each way\n"
   ]
  },
  {
   "cell_type": "code",
   "execution_count": 3556,
   "metadata": {},
   "outputs": [
    {
     "data": {
      "text/plain": [
       "2    783\n",
       "3    565\n",
       "1    375\n",
       "4    246\n",
       "0    167\n",
       "5    102\n",
       "Name: On average how long is your commute?, dtype: int64"
      ]
     },
     "execution_count": 3556,
     "metadata": {},
     "output_type": "execute_result"
    }
   ],
   "source": [
    "commuteLength[commuteLength == \"I do not commute\"] = 0\n",
    "commuteLength[commuteLength == \"15 minutes or less\"] = 1\n",
    "commuteLength[commuteLength == \"16 - 29 minutes\"] = 2\n",
    "commuteLength[commuteLength == \"30 - 44 minutes\"] = 3\n",
    "commuteLength[commuteLength == \"45 minutes - 1 hour\"] = 4\n",
    "commuteLength[commuteLength == \"over 1 hour each way\"] = 5\n",
    "\n",
    "commuteLength.value_counts()"
   ]
  },
  {
   "cell_type": "markdown",
   "metadata": {},
   "source": [
    "#### Transportation Option\n"
   ]
  },
  {
   "cell_type": "code",
   "execution_count": 3557,
   "metadata": {},
   "outputs": [
    {
     "data": {
      "text/plain": [
       "bicycle                                                                                       777\n",
       "private motor vehicle (car truck SUV van motorcycle gas limited speed motorcycle or moped)    631\n",
       "transit                                                                                       364\n",
       "walking                                                                                       247\n",
       "scooter type e-bike                                                                           105\n",
       "pedal assist type e-bike                                                                       86\n",
       "personal mobility device (electric wheelchair)                                                  2\n",
       "Motor scooter                                                                                   1\n",
       "Motorcycle                                                                                      1\n",
       "I cover Ontario for work so Car but in TO- TTC and Bike are easier options                      1\n",
       "Hybrid Car                                                                                      1\n",
       "Car in winter bicycle in summer                                                                 1\n",
       "bike in summer transit in winter                                                                1\n",
       "CONDO SHUTTLE BUS                                                                               1\n",
       "all                                                                                             1\n",
       "Motorcycle depends on weather                                                                   1\n",
       "combination of transit and walking                                                              1\n",
       "depends on the season three seasons bike one transit                                            1\n",
       "transit or bicycle (weather dependent)                                                          1\n",
       "Cycling/transit highly seasonal 50:50                                                           1\n",
       "depends on season Transit in winter e-bike in summer                                            1\n",
       "5000W custom high power electric bicycle (non-scooter)                                          1\n",
       "skateboard/longboard                                                                            1\n",
       "Winter TTC Other seasons Bike                                                                   1\n",
       "taxi                                                                                            1\n",
       "electric assist bicycle                                                                         1\n",
       "running                                                                                         1\n",
       "private motor vehicle                                                                           1\n",
       "transit & bicycle                                                                               1\n",
       "pedal assisted scooter type e-bike                                                              1\n",
       "rollerblades                                                                                    1\n",
       "transit in winter otherwise e-bike                                                              1\n",
       "bike in good weather                                                                            1\n",
       "Name: Which transportation option do you end up using most often?, dtype: int64"
      ]
     },
     "execution_count": 3557,
     "metadata": {},
     "output_type": "execute_result"
    }
   ],
   "source": [
    "transOption = responses[\"Which transportation option do you end up using most often?\"]\n",
    "transOption.value_counts()"
   ]
  },
  {
   "cell_type": "code",
   "execution_count": 3558,
   "metadata": {},
   "outputs": [
    {
     "data": {
      "text/plain": [
       "count        2238\n",
       "unique         33\n",
       "top       bicycle\n",
       "freq          777\n",
       "Name: Which transportation option do you end up using most often?, dtype: object"
      ]
     },
     "execution_count": 3558,
     "metadata": {},
     "output_type": "execute_result"
    }
   ],
   "source": [
    "transOption.describe()"
   ]
  },
  {
   "cell_type": "markdown",
   "metadata": {},
   "source": [
    "Based on the above information, it's clear that although there are no missing values, there is quite a bit of variability in the input data that will need to be resolved.\n",
    "\n",
    "A major pattern that can be observed from the above information is that people's mode of transportation seems to be seasonal, where transit/TTC is adopted during the winter, and bike/bicyles/walking is used when it's warmer. To avoid registering a given mode of transportation twice for each user, a decision needs to be made in these cases regarding what to classify the response as. \n",
    "\n",
    "Since the weather is generally colder for a majority of the year (i.e. motorcycle season is only generally from April/May to September), I've assumed that their primary mode of transport is what's listed for the winter (usually transit). This may assumption may lead to some errors, but they're for one-offs (whereas the dataset has 2238 values). "
   ]
  },
  {
   "cell_type": "code",
   "execution_count": 3559,
   "metadata": {},
   "outputs": [
    {
     "data": {
      "text/plain": [
       "179                      bike in summer transit in winter\n",
       "364                                     transit & bicycle\n",
       "422     depends on season Transit in winter e-bike in ...\n",
       "798     depends on the season three seasons bike one t...\n",
       "1045               transit or bicycle (weather dependent)\n",
       "1442                Cycling/transit highly seasonal 50:50\n",
       "1685    I cover Ontario for work so Car but in TO- TTC...\n",
       "1837                       Winter TTC Other seasons Bike \n",
       "1969                   transit in winter otherwise e-bike\n",
       "2018                   combination of transit and walking\n",
       "Name: Which transportation option do you end up using most often?, dtype: object"
      ]
     },
     "execution_count": 3559,
     "metadata": {},
     "output_type": "execute_result"
    }
   ],
   "source": [
    "# Seasonal mentions of transit\n",
    "transOption[(transOption.str.contains(\"transit\", False) | transOption.str.contains(\"ttc\", False))  & (transOption != \"transit\")]"
   ]
  },
  {
   "cell_type": "code",
   "execution_count": 3560,
   "metadata": {},
   "outputs": [
    {
     "data": {
      "text/plain": [
       "bicycle                                                                                       777\n",
       "private motor vehicle (car truck SUV van motorcycle gas limited speed motorcycle or moped)    631\n",
       "transit                                                                                       374\n",
       "walking                                                                                       247\n",
       "scooter type e-bike                                                                           105\n",
       "pedal assist type e-bike                                                                       86\n",
       "personal mobility device (electric wheelchair)                                                  2\n",
       "Motorcycle depends on weather                                                                   1\n",
       "all                                                                                             1\n",
       "CONDO SHUTTLE BUS                                                                               1\n",
       "Car in winter bicycle in summer                                                                 1\n",
       "Motor scooter                                                                                   1\n",
       "Hybrid Car                                                                                      1\n",
       "rollerblades                                                                                    1\n",
       "Motorcycle                                                                                      1\n",
       "pedal assisted scooter type e-bike                                                              1\n",
       "5000W custom high power electric bicycle (non-scooter)                                          1\n",
       "skateboard/longboard                                                                            1\n",
       "taxi                                                                                            1\n",
       "electric assist bicycle                                                                         1\n",
       "running                                                                                         1\n",
       "private motor vehicle                                                                           1\n",
       "bike in good weather                                                                            1\n",
       "Name: Which transportation option do you end up using most often?, dtype: int64"
      ]
     },
     "execution_count": 3560,
     "metadata": {},
     "output_type": "execute_result"
    }
   ],
   "source": [
    "# Set those values to = \"transit\" (default to winter solution)\n",
    "transOption[(transOption.str.contains(\"transit\", False) | transOption.str.contains(\"ttc\", False))  & (transOption != \"transit\")] = \"transit\"\n",
    "transOption.value_counts()"
   ]
  },
  {
   "cell_type": "code",
   "execution_count": 3561,
   "metadata": {},
   "outputs": [
    {
     "data": {
      "text/plain": [
       "156       Motorcycle depends on weather\n",
       "1385               bike in good weather\n",
       "1981    Car in winter bicycle in summer\n",
       "Name: Which transportation option do you end up using most often?, dtype: object"
      ]
     },
     "execution_count": 3561,
     "metadata": {},
     "output_type": "execute_result"
    }
   ],
   "source": [
    "# Look at other seasonal mentions\n",
    "transOption[transOption.str.contains(\"winter\", False) | transOption.str.contains(\"summer\", False) | transOption.str.contains(\"weather\", False)]"
   ]
  },
  {
   "cell_type": "code",
   "execution_count": 3562,
   "metadata": {},
   "outputs": [],
   "source": [
    "# Set to given options (default to winter if choice is given)\n",
    "transOption[1981] = \"private motor vehicle (car truck SUV van motorcycle gas limited speed motorcycle or moped)\"\n",
    "transOption[1385] = \"private motor vehicle (car truck SUV van motorcycle gas limited speed motorcycle or moped)\"\n",
    "transOption[156] = \"private motor vehicle (car truck SUV van motorcycle gas limited speed motorcycle or moped)\""
   ]
  },
  {
   "cell_type": "code",
   "execution_count": 3563,
   "metadata": {},
   "outputs": [
    {
     "data": {
      "text/plain": [
       "bicycle                                                                                       777\n",
       "private motor vehicle (car truck SUV van motorcycle gas limited speed motorcycle or moped)    634\n",
       "transit                                                                                       374\n",
       "walking                                                                                       247\n",
       "scooter type e-bike                                                                           105\n",
       "pedal assist type e-bike                                                                       86\n",
       "personal mobility device (electric wheelchair)                                                  2\n",
       "electric assist bicycle                                                                         1\n",
       "taxi                                                                                            1\n",
       "skateboard/longboard                                                                            1\n",
       "5000W custom high power electric bicycle (non-scooter)                                          1\n",
       "pedal assisted scooter type e-bike                                                              1\n",
       "Motorcycle                                                                                      1\n",
       "Hybrid Car                                                                                      1\n",
       "Motor scooter                                                                                   1\n",
       "CONDO SHUTTLE BUS                                                                               1\n",
       "all                                                                                             1\n",
       "running                                                                                         1\n",
       "private motor vehicle                                                                           1\n",
       "rollerblades                                                                                    1\n",
       "Name: Which transportation option do you end up using most often?, dtype: int64"
      ]
     },
     "execution_count": 3563,
     "metadata": {},
     "output_type": "execute_result"
    }
   ],
   "source": [
    "transOption.value_counts()"
   ]
  },
  {
   "cell_type": "code",
   "execution_count": 3564,
   "metadata": {},
   "outputs": [
    {
     "data": {
      "text/plain": [
       "469                                  skateboard/longboard\n",
       "782                                 private motor vehicle\n",
       "786                                               running\n",
       "904     5000W custom high power electric bicycle (non-...\n",
       "985                               electric assist bicycle\n",
       "990                                          rollerblades\n",
       "1071                                                 taxi\n",
       "1436                                        Motor scooter\n",
       "1509                                           Motorcycle\n",
       "1617                                                  all\n",
       "1805                                    CONDO SHUTTLE BUS\n",
       "1852                                           Hybrid Car\n",
       "1985                   pedal assisted scooter type e-bike\n",
       "Name: Which transportation option do you end up using most often?, dtype: object"
      ]
     },
     "execution_count": 3564,
     "metadata": {},
     "output_type": "execute_result"
    }
   ],
   "source": [
    "# View remaining edge cases\n",
    "transOption[(transOption != \"transit\") & (transOption != \"walking\") & (transOption != \"bicycle\") & (transOption != \"private motor vehicle (car truck SUV van motorcycle gas limited speed motorcycle or moped)\") & (transOption != \"scooter type e-bike\") & (transOption != \"pedal assist type e-bike\") & (transOption != \"personal mobility device (electric wheelchair)\")]"
   ]
  },
  {
   "cell_type": "code",
   "execution_count": 3565,
   "metadata": {},
   "outputs": [
    {
     "data": {
      "text/plain": [
       "bicycle                                                                                       777\n",
       "private motor vehicle (car truck SUV van motorcycle gas limited speed motorcycle or moped)    639\n",
       "transit                                                                                       374\n",
       "walking                                                                                       247\n",
       "scooter type e-bike                                                                           105\n",
       "pedal assist type e-bike                                                                       89\n",
       "personal mobility devices                                                                       4\n",
       "running                                                                                         1\n",
       "CONDO SHUTTLE BUS                                                                               1\n",
       "all                                                                                             1\n",
       "Name: Which transportation option do you end up using most often?, dtype: int64"
      ]
     },
     "execution_count": 3565,
     "metadata": {},
     "output_type": "execute_result"
    }
   ],
   "source": [
    "# Deal with edge cases - motorized vehicles that got left out\n",
    "transOption[((transOption != \"transit\") & (transOption != \"walking\") & (transOption != \"bicycle\") & (transOption != \"private motor vehicle (car truck SUV van motorcycle gas limited speed motorcycle or moped)\") & (transOption != \"scooter type e-bike\") & (transOption != \"pedal assist type e-bike\") & (transOption != \"personal mobility device (electric wheelchair)\")) & (transOption.str.contains(\"motor\", False))] = \"private motor vehicle (car truck SUV van motorcycle gas limited speed motorcycle or moped)\"\n",
    "transOption[(transOption != \"transit\") & (transOption != \"walking\") & (transOption != \"bicycle\") & (transOption != \"private motor vehicle (car truck SUV van motorcycle gas limited speed motorcycle or moped)\") & (transOption != \"scooter type e-bike\") & (transOption != \"pedal assist type e-bike\") & (transOption != \"personal mobility device (electric wheelchair)\") & (transOption.str.contains(\"car\", False) | transOption.str.contains(\"taxi\", False))] = \"private motor vehicle (car truck SUV van motorcycle gas limited speed motorcycle or moped)\"\n",
    "\n",
    "# Electric/e-bikes that got left out\n",
    "transOption[(transOption != \"transit\") & (transOption != \"walking\") & (transOption != \"bicycle\") & (transOption != \"private motor vehicle (car truck SUV van motorcycle gas limited speed motorcycle or moped)\") & (transOption != \"scooter type e-bike\") & (transOption != \"pedal assist type e-bike\") & (transOption != \"personal mobility device (electric wheelchair)\") & (transOption.str.contains(\"electric\", False) | transOption.str.contains(\"e-bike\", False))] = \"pedal assist type e-bike\"\n",
    "\n",
    "# # Group skateboard, longboard, rollerblades etc. all into \"Other private mobility devices\"\n",
    "transOption[(transOption != \"transit\") & (transOption != \"walking\") & (transOption != \"bicycle\") & (transOption != \"private motor vehicle (car truck SUV van motorcycle gas limited speed motorcycle or moped)\") & (transOption != \"scooter type e-bike\") & (transOption != \"pedal assist type e-bike\") & (transOption != \"personal mobility device (electric wheelchair)\") & (transOption.str.contains(\"board\", False) | transOption.str.contains(\"blade\", False))] = \"personal mobility devices\"\n",
    "transOption[(transOption == \"personal mobility device (electric wheelchair)\")] = \"personal mobility devices\"\n",
    "\n",
    "transOption.value_counts()"
   ]
  },
  {
   "cell_type": "code",
   "execution_count": 3566,
   "metadata": {},
   "outputs": [
    {
     "data": {
      "text/plain": [
       "bicycle                                                                                       778\n",
       "private motor vehicle (car truck SUV van motorcycle gas limited speed motorcycle or moped)    639\n",
       "transit                                                                                       375\n",
       "walking                                                                                       248\n",
       "scooter type e-bike                                                                           105\n",
       "pedal assist type e-bike                                                                       89\n",
       "personal mobility devices                                                                       4\n",
       "Name: Which transportation option do you end up using most often?, dtype: int64"
      ]
     },
     "execution_count": 3566,
     "metadata": {},
     "output_type": "execute_result"
    }
   ],
   "source": [
    "# Finish remaining edge cases\n",
    "transOption[transOption == \"running\"] = \"walking\"\n",
    "transOption[transOption == \"CONDO SHUTTLE BUS\"] = \"transit\"\n",
    "transOption[transOption == \"all\"] = \"bicycle\" # assign to majority\n",
    "transOption.value_counts()"
   ]
  },
  {
   "cell_type": "markdown",
   "metadata": {},
   "source": [
    "Finally, mapping these categories to numerical indices:\n",
    "\n",
    "0 - walking\n",
    "\n",
    "1 - personal mobility devices\n",
    "\n",
    "2 - bicycle\n",
    "\n",
    "3 - pedal assist type e-bike\n",
    "\n",
    "4 - scooter type e-bike\n",
    "\n",
    "5 - private motor vehicle (car truck SUV van motorcycle gas limited speed motorcycle or moped)\n",
    "\n",
    "6 - transit\n"
   ]
  },
  {
   "cell_type": "code",
   "execution_count": 3567,
   "metadata": {},
   "outputs": [
    {
     "data": {
      "text/plain": [
       "2    778\n",
       "5    639\n",
       "6    375\n",
       "0    248\n",
       "4    105\n",
       "3     89\n",
       "1      4\n",
       "Name: Which transportation option do you end up using most often?, dtype: int64"
      ]
     },
     "execution_count": 3567,
     "metadata": {},
     "output_type": "execute_result"
    }
   ],
   "source": [
    "transOption[transOption == \"walking\"] = 0\n",
    "transOption[transOption == \"personal mobility devices\"] = 1\n",
    "transOption[transOption == \"bicycle\"] = 2\n",
    "transOption[transOption == \"pedal assist type e-bike\"] = 3\n",
    "transOption[transOption == \"scooter type e-bike\"] = 4\n",
    "transOption[transOption == \"private motor vehicle (car truck SUV van motorcycle gas limited speed motorcycle or moped)\"] = 5\n",
    "transOption[transOption == \"transit\"] = 6\n",
    "\n",
    "transOption.value_counts()"
   ]
  },
  {
   "cell_type": "markdown",
   "metadata": {},
   "source": [
    "#### Statement Support"
   ]
  },
  {
   "cell_type": "code",
   "execution_count": 3568,
   "metadata": {},
   "outputs": [
    {
     "data": {
      "text/plain": [
       "scooter style e-bikes are different than pedal assisted bicycle type e-bikes and should not be considered as one vehicle category Most scooter type e-bikes are wider than a bicycle Most scooter type e-bikes weigh more than an average bicycle Most e-bikes are able to travel further distances than an average cyclist of average fitness  Most e-bikes are able to sustain higher average speeds than an average cyclist of average fitness Most e-bikes are able to accelerate more quickly than an average cyclist of average fitness E-bikes should require a license E-bikes should be required to have insurance                                                                                                                                                                                                      84\n",
       "Most scooter type e-bikes are wider than a bicycle Most scooter type e-bikes weigh more than an average bicycle Most e-bikes are able to travel further distances than an average cyclist of average fitness  Most e-bikes are able to sustain higher average speeds than an average cyclist of average fitness Most e-bikes are able to accelerate more quickly than an average cyclist of average fitness E-bikes should require a license E-bikes should be required to have insurance                                                                                                                                                                                                                                                                                                                                        58\n",
       "scooter style e-bikes are different than pedal assisted bicycle type e-bikes and should not be considered as one vehicle category On scooter type e-bikes the pedals are unnecessary and should not be required Most scooter type e-bikes are wider than a bicycle Most scooter type e-bikes weigh more than an average bicycle Most e-bikes are able to travel further distances than an average cyclist of average fitness  Most e-bikes are able to sustain higher average speeds than an average cyclist of average fitness Most e-bikes are able to accelerate more quickly than an average cyclist of average fitness E-bikes should require a license E-bikes should be required to have insurance                                                                                                                        57\n",
       "scooter style e-bikes are different than pedal assisted bicycle type e-bikes and should not be considered as one vehicle category On scooter type e-bikes the pedals are unnecessary and should not be required Most scooter type e-bikes are wider than a bicycle Most scooter type e-bikes weigh more than an average bicycle Most e-bikes are able to travel further distances than an average cyclist of average fitness  Most e-bikes are able to sustain higher average speeds than an average cyclist of average fitness Most e-bikes are able to accelerate more quickly than an average cyclist of average fitness E-bikes are a green transportation option which should be encouraged E-bikes should require a license E-bikes should be required to have insurance                                                   56\n",
       "Most scooter type e-bikes are wider than a bicycle Most scooter type e-bikes weigh more than an average bicycle Most e-bikes are able to sustain higher average speeds than an average cyclist of average fitness Most e-bikes are able to accelerate more quickly than an average cyclist of average fitness E-bikes should require a license E-bikes should be required to have insurance                                                                                                                                                                                                                                                                                                                                                                                                                                      49\n",
       "scooter style e-bikes are different than pedal assisted bicycle type e-bikes and should not be considered as one vehicle category Most scooter type e-bikes are wider than a bicycle Most scooter type e-bikes weigh more than an average bicycle Most e-bikes are able to sustain higher average speeds than an average cyclist of average fitness Most e-bikes are able to accelerate more quickly than an average cyclist of average fitness E-bikes should require a license E-bikes should be required to have insurance                                                                                                                                                                                                                                                                                                    42\n",
       "scooter style e-bikes are different than pedal assisted bicycle type e-bikes and should not be considered as one vehicle category On scooter type e-bikes the pedals are unnecessary and should not be required Most scooter type e-bikes are wider than a bicycle Most scooter type e-bikes weigh more than an average bicycle Most e-bikes are able to travel further distances than an average cyclist of average fitness  Most e-bikes are able to sustain higher average speeds than an average cyclist of average fitness Most e-bikes are able to accelerate more quickly than an average cyclist of average fitness E-bikes are a green transportation option which should be encouraged                                                                                                                                 41\n",
       "scooter style e-bikes are different than pedal assisted bicycle type e-bikes and should not be considered as one vehicle category Most scooter type e-bikes are wider than a bicycle Most scooter type e-bikes weigh more than an average bicycle E-bikes should require a license E-bikes should be required to have insurance                                                                                                                                                                                                                                                                                                                                                                                                                                                                                                  32\n",
       "scooter style e-bikes are different than pedal assisted bicycle type e-bikes and should not be considered as one vehicle category Most scooter type e-bikes are wider than a bicycle Most scooter type e-bikes weigh more than an average bicycle Most e-bikes are able to travel further distances than an average cyclist of average fitness  Most e-bikes are able to sustain higher average speeds than an average cyclist of average fitness Most e-bikes are able to accelerate more quickly than an average cyclist of average fitness E-bikes are a green transportation option which should be encouraged E-bikes should require a license E-bikes should be required to have insurance                                                                                                                                 30\n",
       "scooter style e-bikes are different than pedal assisted bicycle type e-bikes and should not be considered as one vehicle category Most scooter type e-bikes are wider than a bicycle Most scooter type e-bikes weigh more than an average bicycle Most e-bikes are able to travel further distances than an average cyclist of average fitness  Most e-bikes are able to sustain higher average speeds than an average cyclist of average fitness Most e-bikes are able to accelerate more quickly than an average cyclist of average fitness E-bikes are a green transportation option which should be encouraged                                                                                                                                                                                                               29\n",
       "scooter style e-bikes are different than pedal assisted bicycle type e-bikes and should not be considered as one vehicle category On scooter type e-bikes the pedals are unnecessary and should not be required Most scooter type e-bikes are wider than a bicycle Most scooter type e-bikes weigh more than an average bicycle Most e-bikes are able to travel further distances than an average cyclist of average fitness  Most e-bikes are able to sustain higher average speeds than an average cyclist of average fitness Most e-bikes are able to accelerate more quickly than an average cyclist of average fitness E-bikes are a green transportation option which should be encouraged E-bikes should require a license E-bikes should be required to have insurance E-bikes should be allowed to carry a passenger    28\n",
       "E-bikes are a green transportation option which should be encouraged                                                                                                                                                                                                                                                                                                                                                                                                                                                                                                                                                                                                                                                                                                                                                             27\n",
       "Most scooter type e-bikes are wider than a bicycle Most scooter type e-bikes weigh more than an average bicycle E-bikes should require a license E-bikes should be required to have insurance                                                                                                                                                                                                                                                                                                                                                                                                                                                                                                                                                                                                                                    27\n",
       "scooter style e-bikes are different than pedal assisted bicycle type e-bikes and should not be considered as one vehicle category On scooter type e-bikes the pedals are unnecessary and should not be required Most scooter type e-bikes are wider than a bicycle Most scooter type e-bikes weigh more than an average bicycle Most e-bikes are able to travel further distances than an average cyclist of average fitness  Most e-bikes are able to sustain higher average speeds than an average cyclist of average fitness Most e-bikes are able to accelerate more quickly than an average cyclist of average fitness E-bikes are a green transportation option which should be encouraged E-bikes should be allowed to carry a passenger                                                                                  24\n",
       "scooter style e-bikes are different than pedal assisted bicycle type e-bikes and should not be considered as one vehicle category On scooter type e-bikes the pedals are unnecessary and should not be required Most scooter type e-bikes are wider than a bicycle Most scooter type e-bikes weigh more than an average bicycle Most e-bikes are able to sustain higher average speeds than an average cyclist of average fitness Most e-bikes are able to accelerate more quickly than an average cyclist of average fitness E-bikes should require a license E-bikes should be required to have insurance                                                                                                                                                                                                                      23\n",
       "scooter style e-bikes are different than pedal assisted bicycle type e-bikes and should not be considered as one vehicle category Most scooter type e-bikes are wider than a bicycle Most scooter type e-bikes weigh more than an average bicycle Most e-bikes are able to travel further distances than an average cyclist of average fitness  Most e-bikes are able to sustain higher average speeds than an average cyclist of average fitness Most e-bikes are able to accelerate more quickly than an average cyclist of average fitness                                                                                                                                                                                                                                                                                    23\n",
       "Most scooter type e-bikes are wider than a bicycle Most scooter type e-bikes weigh more than an average bicycle Most e-bikes are able to travel further distances than an average cyclist of average fitness  Most e-bikes are able to sustain higher average speeds than an average cyclist of average fitness Most e-bikes are able to accelerate more quickly than an average cyclist of average fitness E-bikes are a green transportation option which should be encouraged E-bikes should require a license E-bikes should be required to have insurance                                                                                                                                                                                                                                                                   21\n",
       "E-bikes should require a license E-bikes should be required to have insurance                                                                                                                                                                                                                                                                                                                                                                                                                                                                                                                                                                                                                                                                                                                                                    20\n",
       "scooter style e-bikes are different than pedal assisted bicycle type e-bikes and should not be considered as one vehicle category On scooter type e-bikes the pedals are unnecessary and should not be required Most scooter type e-bikes are wider than a bicycle Most scooter type e-bikes weigh more than an average bicycle E-bikes are a green transportation option which should be encouraged                                                                                                                                                                                                                                                                                                                                                                                                                             18\n",
       "Most scooter type e-bikes are wider than a bicycle Most scooter type e-bikes weigh more than an average bicycle E-bikes are a green transportation option which should be encouraged                                                                                                                                                                                                                                                                                                                                                                                                                                                                                                                                                                                                                                             17\n",
       "scooter style e-bikes are different than pedal assisted bicycle type e-bikes and should not be considered as one vehicle category On scooter type e-bikes the pedals are unnecessary and should not be required Most scooter type e-bikes are wider than a bicycle Most scooter type e-bikes weigh more than an average bicycle E-bikes should require a license E-bikes should be required to have insurance                                                                                                                                                                                                                                                                                                                                                                                                                    16\n",
       "scooter style e-bikes are different than pedal assisted bicycle type e-bikes and should not be considered as one vehicle category Most scooter type e-bikes are wider than a bicycle Most scooter type e-bikes weigh more than an average bicycle E-bikes are a green transportation option which should be encouraged                                                                                                                                                                                                                                                                                                                                                                                                                                                                                                           16\n",
       "scooter style e-bikes are different than pedal assisted bicycle type e-bikes and should not be considered as one vehicle category Most scooter type e-bikes are wider than a bicycle Most scooter type e-bikes weigh more than an average bicycle Most e-bikes are able to sustain higher average speeds than an average cyclist of average fitness Most e-bikes are able to accelerate more quickly than an average cyclist of average fitness E-bikes are a green transportation option which should be encouraged                                                                                                                                                                                                                                                                                                             15\n",
       "On scooter type e-bikes the pedals are unnecessary and should not be required Most scooter type e-bikes are wider than a bicycle Most scooter type e-bikes weigh more than an average bicycle Most e-bikes are able to travel further distances than an average cyclist of average fitness  Most e-bikes are able to sustain higher average speeds than an average cyclist of average fitness Most e-bikes are able to accelerate more quickly than an average cyclist of average fitness E-bikes are a green transportation option which should be encouraged                                                                                                                                                                                                                                                                   15\n",
       "Most e-bikes are able to travel further distances than an average cyclist of average fitness  E-bikes are a green transportation option which should be encouraged                                                                                                                                                                                                                                                                                                                                                                                                                                                                                                                                                                                                                                                               15\n",
       "scooter style e-bikes are different than pedal assisted bicycle type e-bikes and should not be considered as one vehicle category Most scooter type e-bikes are wider than a bicycle Most scooter type e-bikes weigh more than an average bicycle Most e-bikes are able to sustain higher average speeds than an average cyclist of average fitness Most e-bikes are able to accelerate more quickly than an average cyclist of average fitness E-bikes are a green transportation option which should be encouraged E-bikes should require a license E-bikes should be required to have insurance                                                                                                                                                                                                                               15\n",
       "scooter style e-bikes are different than pedal assisted bicycle type e-bikes and should not be considered as one vehicle category On scooter type e-bikes the pedals are unnecessary and should not be required Most scooter type e-bikes are wider than a bicycle Most scooter type e-bikes weigh more than an average bicycle Most e-bikes are able to travel further distances than an average cyclist of average fitness  Most e-bikes are able to sustain higher average speeds than an average cyclist of average fitness Most e-bikes are able to accelerate more quickly than an average cyclist of average fitness                                                                                                                                                                                                      15\n",
       "On scooter type e-bikes the pedals are unnecessary and should not be required Most scooter type e-bikes are wider than a bicycle Most scooter type e-bikes weigh more than an average bicycle Most e-bikes are able to travel further distances than an average cyclist of average fitness  Most e-bikes are able to sustain higher average speeds than an average cyclist of average fitness Most e-bikes are able to accelerate more quickly than an average cyclist of average fitness E-bikes should require a license E-bikes should be required to have insurance                                                                                                                                                                                                                                                          14\n",
       "I do not agree with any of these statements                                                                                                                                                                                                                                                                                                                                                                                                                                                                                                                                                                                                                                                                                                                                                                                      14\n",
       "Most scooter type e-bikes are wider than a bicycle Most scooter type e-bikes weigh more than an average bicycle Most e-bikes are able to travel further distances than an average cyclist of average fitness  Most e-bikes are able to sustain higher average speeds than an average cyclist of average fitness E-bikes should require a license E-bikes should be required to have insurance                                                                                                                                                                                                                                                                                                                                                                                                                                    13\n",
       "                                                                                                                                                                                                                                                                                                                                                                                                                                                                                                                                                                                                                                                                                                                                                                                                                                 ..\n",
       "scooter style e-bikes are different than pedal assisted bicycle type e-bikes and should not be considered as one vehicle category On scooter type e-bikes the pedals are unnecessary and should not be required Most scooter type e-bikes are wider than a bicycle Most scooter type e-bikes weigh more than an average bicycle Most e-bikes are able to accelerate more quickly than an average cyclist of average fitness                                                                                                                                                                                                                                                                                                                                                                                                       1\n",
       "Most scooter type e-bikes are wider than a bicycle Most scooter type e-bikes weigh more than an average bicycle Most e-bikes are able to accelerate more quickly than an average cyclist of average fitness E-bikes are a green transportation option which should be encouraged E-bikes should require a license E-bikes should be required to have insurance                                                                                                                                                                                                                                                                                                                                                                                                                                                                    1\n",
       "On scooter type e-bikes the pedals are unnecessary and should not be required Most scooter type e-bikes are wider than a bicycle Most e-bikes are able to sustain higher average speeds than an average cyclist of average fitness E-bikes are a green transportation option which should be encouraged E-bikes should require a license E-bikes should be required to have insurance                                                                                                                                                                                                                                                                                                                                                                                                                                             1\n",
       "Most scooter type e-bikes are wider than a bicycle Most scooter type e-bikes weigh more than an average bicycle Most e-bikes are able to travel further distances than an average cyclist of average fitness  Most e-bikes are able to sustain higher average speeds than an average cyclist of average fitness Most e-bikes are able to accelerate more quickly than an average cyclist of average fitness E-bikes are a green transportation option which should be encouraged E-bikes should require a license E-bikes should be allowed to carry a passenger                                                                                                                                                                                                                                                                  1\n",
       "scooter style e-bikes are different than pedal assisted bicycle type e-bikes and should not be considered as one vehicle category Most e-bikes are able to travel further distances than an average cyclist of average fitness  Most e-bikes are able to sustain higher average speeds than an average cyclist of average fitness Most e-bikes are able to accelerate more quickly than an average cyclist of average fitness E-bikes are a green transportation option which should be encouraged                                                                                                                                                                                                                                                                                                                                1\n",
       "scooter style e-bikes are different than pedal assisted bicycle type e-bikes and should not be considered as one vehicle category Most e-bikes are able to travel further distances than an average cyclist of average fitness  E-bikes are a green transportation option which should be encouraged E-bikes should require a license E-bikes should be allowed to carry a passenger                                                                                                                                                                                                                                                                                                                                                                                                                                              1\n",
       "scooter style e-bikes are different than pedal assisted bicycle type e-bikes and should not be considered as one vehicle category On scooter type e-bikes the pedals are unnecessary and should not be required Most scooter type e-bikes weigh more than an average bicycle Most e-bikes are able to travel further distances than an average cyclist of average fitness  Most e-bikes are able to sustain higher average speeds than an average cyclist of average fitness Most e-bikes are able to accelerate more quickly than an average cyclist of average fitness E-bikes should be allowed to carry a passenger                                                                                                                                                                                                           1\n",
       "On scooter type e-bikes the pedals are unnecessary and should not be required Most e-bikes are able to travel further distances than an average cyclist of average fitness  E-bikes should be allowed to carry a passenger                                                                                                                                                                                                                                                                                                                                                                                                                                                                                                                                                                                                        1\n",
       "scooter style e-bikes are different than pedal assisted bicycle type e-bikes and should not be considered as one vehicle category Most scooter type e-bikes weigh more than an average bicycle Most e-bikes are able to travel further distances than an average cyclist of average fitness  E-bikes should be required to have insurance                                                                                                                                                                                                                                                                                                                                                                                                                                                                                         1\n",
       "Most scooter type e-bikes are wider than a bicycle Most e-bikes are able to sustain higher average speeds than an average cyclist of average fitness E-bikes should require a license E-bikes should be required to have insurance                                                                                                                                                                                                                                                                                                                                                                                                                                                                                                                                                                                                1\n",
       "scooter style e-bikes are different than pedal assisted bicycle type e-bikes and should not be considered as one vehicle category On scooter type e-bikes the pedals are unnecessary and should not be required E-bikes are a green transportation option which should be encouraged E-bikes should require a license                                                                                                                                                                                                                                                                                                                                                                                                                                                                                                             1\n",
       "Most scooter type e-bikes weigh more than an average bicycle Most e-bikes are able to travel further distances than an average cyclist of average fitness  Most e-bikes are able to accelerate more quickly than an average cyclist of average fitness                                                                                                                                                                                                                                                                                                                                                                                                                                                                                                                                                                            1\n",
       "Most e-bikes are able to sustain higher average speeds than an average cyclist of average fitness Most e-bikes are able to accelerate more quickly than an average cyclist of average fitness E-bikes are a green transportation option which should be encouraged E-bikes should be allowed to carry a passenger                                                                                                                                                                                                                                                                                                                                                                                                                                                                                                                 1\n",
       "scooter style e-bikes are different than pedal assisted bicycle type e-bikes and should not be considered as one vehicle category On scooter type e-bikes the pedals are unnecessary and should not be required Most scooter type e-bikes weigh more than an average bicycle Most e-bikes are able to travel further distances than an average cyclist of average fitness  Most e-bikes are able to sustain higher average speeds than an average cyclist of average fitness E-bikes are a green transportation option which should be encouraged E-bikes should be required to have insurance                                                                                                                                                                                                                                    1\n",
       "On scooter type e-bikes the pedals are unnecessary and should not be required Most scooter type e-bikes are wider than a bicycle Most scooter type e-bikes weigh more than an average bicycle E-bikes are a green transportation option which should be encouraged E-bikes should require a license E-bikes should be required to have insurance E-bikes should be allowed to carry a passenger                                                                                                                                                                                                                                                                                                                                                                                                                                   1\n",
       "scooter style e-bikes are different than pedal assisted bicycle type e-bikes and should not be considered as one vehicle category Most e-bikes are able to sustain higher average speeds than an average cyclist of average fitness Most e-bikes are able to accelerate more quickly than an average cyclist of average fitness E-bikes are a green transportation option which should be encouraged E-bikes should be required to have insurance                                                                                                                                                                                                                                                                                                                                                                                 1\n",
       "On scooter type e-bikes the pedals are unnecessary and should not be required Most scooter type e-bikes are wider than a bicycle Most scooter type e-bikes weigh more than an average bicycle Most e-bikes are able to sustain higher average speeds than an average cyclist of average fitness E-bikes should be allowed to carry a passenger                                                                                                                                                                                                                                                                                                                                                                                                                                                                                    1\n",
       "scooter style e-bikes are different than pedal assisted bicycle type e-bikes and should not be considered as one vehicle category On scooter type e-bikes the pedals are unnecessary and should not be required Most scooter type e-bikes are wider than a bicycle Most scooter type e-bikes weigh more than an average bicycle Most e-bikes are able to travel further distances than an average cyclist of average fitness  Most e-bikes are able to sustain higher average speeds than an average cyclist of average fitness Most e-bikes are able to accelerate more quickly than an average cyclist of average fitness E-bikes should require a license E-bikes should be allowed to carry a passenger                                                                                                                       1\n",
       "Most scooter type e-bikes are wider than a bicycle Most scooter type e-bikes weigh more than an average bicycle Most e-bikes are able to sustain higher average speeds than an average cyclist of average fitness E-bikes should be required to have insurance E-bikes should be allowed to carry a passenger                                                                                                                                                                                                                                                                                                                                                                                                                                                                                                                     1\n",
       "On scooter type e-bikes the pedals are unnecessary and should not be required Most scooter type e-bikes are wider than a bicycle E-bikes should require a license E-bikes should be required to have insurance                                                                                                                                                                                                                                                                                                                                                                                                                                                                                                                                                                                                                    1\n",
       "On scooter type e-bikes the pedals are unnecessary and should not be required Most scooter type e-bikes are wider than a bicycle Most scooter type e-bikes weigh more than an average bicycle                                                                                                                                                                                                                                                                                                                                                                                                                                                                                                                                                                                                                                     1\n",
       "scooter style e-bikes are different than pedal assisted bicycle type e-bikes and should not be considered as one vehicle category Most e-bikes are able to sustain higher average speeds than an average cyclist of average fitness Most e-bikes are able to accelerate more quickly than an average cyclist of average fitness E-bikes are a green transportation option which should be encouraged                                                                                                                                                                                                                                                                                                                                                                                                                              1\n",
       "scooter style e-bikes are different than pedal assisted bicycle type e-bikes and should not be considered as one vehicle category On scooter type e-bikes the pedals are unnecessary and should not be required Most scooter type e-bikes are wider than a bicycle Most scooter type e-bikes weigh more than an average bicycle E-bikes should be allowed to carry a passenger                                                                                                                                                                                                                                                                                                                                                                                                                                                    1\n",
       "Most scooter type e-bikes weigh more than an average bicycle Most e-bikes are able to travel further distances than an average cyclist of average fitness  E-bikes are a green transportation option which should be encouraged E-bikes should require a license E-bikes should be required to have insurance                                                                                                                                                                                                                                                                                                                                                                                                                                                                                                                     1\n",
       "scooter style e-bikes are different than pedal assisted bicycle type e-bikes and should not be considered as one vehicle category Most scooter type e-bikes weigh more than an average bicycle Most e-bikes are able to sustain higher average speeds than an average cyclist of average fitness                                                                                                                                                                                                                                                                                                                                                                                                                                                                                                                                  1\n",
       "Most e-bikes are able to sustain higher average speeds than an average cyclist of average fitness                                                                                                                                                                                                                                                                                                                                                                                                                                                                                                                                                                                                                                                                                                                                 1\n",
       "Most e-bikes are able to accelerate more quickly than an average cyclist of average fitness E-bikes should require a license                                                                                                                                                                                                                                                                                                                                                                                                                                                                                                                                                                                                                                                                                                      1\n",
       "scooter style e-bikes are different than pedal assisted bicycle type e-bikes and should not be considered as one vehicle category On scooter type e-bikes the pedals are unnecessary and should not be required Most scooter type e-bikes weigh more than an average bicycle Most e-bikes are able to sustain higher average speeds than an average cyclist of average fitness Most e-bikes are able to accelerate more quickly than an average cyclist of average fitness E-bikes should be required to have insurance                                                                                                                                                                                                                                                                                                           1\n",
       "scooter style e-bikes are different than pedal assisted bicycle type e-bikes and should not be considered as one vehicle category On scooter type e-bikes the pedals are unnecessary and should not be required Most scooter type e-bikes are wider than an average cyclist on their bicycle Most scooter type e-bikes and their drivers weigh more than an average cyclist and their bicycle Most e-bikes are able to sustain higher average speeds than an average cyclist of average fitness Most e-bikes are able to accelerate more quickly than an average cyclist of average fitness E-bikes are a green transportation option which should be encouraged E-bikes should be allowed to drive more quickly than 32 km/h when on City Streets to keep up with other cars trucks and other faster motor vehicles              1\n",
       "scooter style e-bikes are different than pedal assisted bicycle type e-bikes and should not be considered as one vehicle category Most scooter type e-bikes weigh more than an average bicycle Most e-bikes are able to sustain higher average speeds than an average cyclist of average fitness Most e-bikes are able to accelerate more quickly than an average cyclist of average fitness E-bikes should require a license                                                                                                                                                                                                                                                                                                                                                                                                     1\n",
       "Name: Do you support any of the following statements?, dtype: int64"
      ]
     },
     "execution_count": 3568,
     "metadata": {},
     "output_type": "execute_result"
    }
   ],
   "source": [
    "support = responses[\"Do you support any of the following statements?\"]\n",
    "support.value_counts()"
   ]
  },
  {
   "cell_type": "code",
   "execution_count": 3569,
   "metadata": {},
   "outputs": [
    {
     "data": {
      "text/plain": [
       "count                                                  2238\n",
       "unique                                                  534\n",
       "top       scooter style e-bikes are different than pedal...\n",
       "freq                                                     84\n",
       "Name: Do you support any of the following statements?, dtype: object"
      ]
     },
     "execution_count": 3569,
     "metadata": {},
     "output_type": "execute_result"
    }
   ],
   "source": [
    "support.describe()"
   ]
  },
  {
   "cell_type": "markdown",
   "metadata": {},
   "source": [
    "Similar to the transportation method option, this segment doesn't have any missing values but there definitely needs to be intelligent cleaning/extraction of the data. Taking a look at the question, and the given responses, we can imagine that the question looks like this \"Do you support any of the following statements?\", where a **checbox of items** shows the following options:\n",
    "\n",
    "1. Scooter style e-bikes are different than pedal assisted bicycle type E-bikes and should not be considered as one vehicle category\n",
    "2. On scooter type e-bikes the pedals are unnecessary and should not be required\n",
    "3. Most scooter type e-bikes are wider than a bicycle\n",
    "4. Most scooter type e-bikes weigh more than an average bicycle\n",
    "5. Most e-bikes are able to travel further distances than an average cyclist of average fitness\n",
    "6. Most e-bikes are able to sustain higher average speeds than an average cyclist of average fitness\n",
    "7. Most e-bikes are able to accelerate more quickly than an average cyclist of average fitness\n",
    "8. E-bikes should require a license\n",
    "9. E-bikes should be required to have insurance\n",
    "10. E-bikes should be allowed to carry a passenger\n",
    "11. E-bikes are a green transportation option which should be encouraged\n",
    "12. I do not agree with any of these statements\n",
    "\n",
    "Given that users can select any combination of the above statements, how do we clean/map the resulting variability in data? If we take a look at the actual statements, notice that they all follow a general \"image/representation\" of the E-bike (specifically the scooter type e-bike).\n",
    "\n",
    "The first statement (#1) is about it's vehicle category.\n",
    "The next 3 statements (#2 - #4) are about the shape of the e-bike\n",
    "The next 3 statements (#5 - #7) are about the performance of the e-bike\n",
    "The final 2 statements (#8 - #9) are regarding regulating the e-bike\n",
    "\n",
    "Cumulatively, the statements tend to judge certain aspects of the responder's knowledge about scooter assisted e-bikes, and thus whether they agree/support a given number of statements can quantify how well they know the vehicle, how well they know it's shape, performance and it's regulation constraints. Thus, a simple way to map this resulting data is to keep a **count of the number of statements that the responder supports**.\n",
    "\n",
    "Other ways also exist to map this data, including perhaps creating different boolean categories (i.e Shape, Performance, Regulation etc.), and using the responded statements to fill in 1s/0s in each of those categories. This is a valid option, and may be utilized if the current method doesn't provide relevant features!\n",
    "\n",
    "Let's start by looking at anyone who checked off the \"I do not agree with any of these statements\". The resulting # should automatically be 0 for these responders, even if there are noisy/erroneous inputs (i.e. people who checked off / supported certain statements, and also selected \"I do not agree with any...\")."
   ]
  },
  {
   "cell_type": "code",
   "execution_count": 3570,
   "metadata": {},
   "outputs": [
    {
     "data": {
      "text/plain": [
       "70            I do not agree with any of these statements\n",
       "99            I do not agree with any of these statements\n",
       "160           I do not agree with any of these statements\n",
       "706           I do not agree with any of these statements\n",
       "755           I do not agree with any of these statements\n",
       "799           I do not agree with any of these statements\n",
       "816           I do not agree with any of these statements\n",
       "824     E-bikes are a green transportation option whic...\n",
       "902     scooter style e-bikes are different than pedal...\n",
       "1011    Most e-bikes are able to travel further distan...\n",
       "1016          I do not agree with any of these statements\n",
       "1431          I do not agree with any of these statements\n",
       "1484          I do not agree with any of these statements\n",
       "1693          I do not agree with any of these statements\n",
       "1799          I do not agree with any of these statements\n",
       "1858    scooter style e-bikes are different than pedal...\n",
       "1973          I do not agree with any of these statements\n",
       "2149          I do not agree with any of these statements\n",
       "Name: Do you support any of the following statements?, dtype: object"
      ]
     },
     "execution_count": 3570,
     "metadata": {},
     "output_type": "execute_result"
    }
   ],
   "source": [
    "# Those that didn't agree with any of the statements -> 0\n",
    "support[support.str.contains(\"I do not agree with any of these statements\")] # confirms the presence of some noisy inputs"
   ]
  },
  {
   "cell_type": "code",
   "execution_count": 3571,
   "metadata": {},
   "outputs": [],
   "source": [
    "# Set count to 0\n",
    "statement_count = [0] * len(responses)\n",
    "\n",
    "checklist = [\n",
    "    \"Scooter style e-bikes are different than pedal assisted bicycle type E-bikes and should not be considered as one vehicle category\",\n",
    "    \"Most scooter type e-bikes are wider than a bicycle\",\n",
    "    \"Most scooter type e-bikes weigh more than an average bicycle\",\n",
    "    \"Most e-bikes are able to travel further distances than an average cyclist of average fitness\",\n",
    "    \"Most e-bikes are able to sustain higher average speeds than an average cyclist of average fitness\",\n",
    "    \"Most e-bikes are able to accelerate more quickly than an average cyclist of average fitness\",\n",
    "    \"E-bikes should require a license\",\n",
    "    \"E-bikes should be required to have insurance\",\n",
    "    \"On scooter type e-bikes the pedals are unnecessary and should not be required\",\n",
    "    \"E-bikes are a green transportation option which should be encouraged\",\n",
    "    \"E-bikes should be allowed to carry a passenger\",\n",
    "]\n",
    "\n",
    "for statement in checklist:\n",
    "    statement_count += support.str.count(statement)\n",
    "\n",
    "# Reset any fields with erroneous other inputs to zero (if they said they didn't agree with any of the above statements)\n",
    "statement_count[support[support.str.contains(\"I do not agree with any of these statements\")].index] = 0\n",
    "\n",
    "# Replace dataset column with count\n",
    "responses[\"Do you support any of the following statements?\"] = statement_count"
   ]
  },
  {
   "cell_type": "markdown",
   "metadata": {},
   "source": [
    "#### Toronto's Multi Trail Useage"
   ]
  },
  {
   "cell_type": "code",
   "execution_count": 3572,
   "metadata": {},
   "outputs": [
    {
     "data": {
      "text/plain": [
       "cycle                                                                                                                                                                         738\n",
       "walk cycle                                                                                                                                                                    282\n",
       "walk                                                                                                                                                                          267\n",
       "I very rarely use any of Toronto's Multi-Use Paths                                                                                                                            196\n",
       "walk run cycle                                                                                                                                                                 93\n",
       "pedal a pedal assist type e-bike                                                                                                                                               67\n",
       "walk with a stroller young child or pet                                                                                                                                        67\n",
       "run                                                                                                                                                                            56\n",
       "run cycle                                                                                                                                                                      53\n",
       "walk walk with a stroller young child or pet cycle                                                                                                                             43\n",
       "walk run                                                                                                                                                                       32\n",
       "drive a motor propelled e-bike                                                                                                                                                 27\n",
       "walk I very rarely use any of Toronto's Multi-Use Paths                                                                                                                        23\n",
       "walk walk with a stroller young child or pet                                                                                                                                   22\n",
       "walk run skate cycle                                                                                                                                                           21\n",
       "walk walk with a stroller young child or pet run cycle                                                                                                                         20\n",
       "skate cycle                                                                                                                                                                    15\n",
       "walk cycle I very rarely use any of Toronto's Multi-Use Paths                                                                                                                  14\n",
       "walk with a stroller young child or pet cycle                                                                                                                                  13\n",
       "cycle pedal a pedal assist type e-bike                                                                                                                                         13\n",
       "walk walk with a stroller young child or pet run skate cycle                                                                                                                   12\n",
       "cycle I very rarely use any of Toronto's Multi-Use Paths                                                                                                                       11\n",
       "walk walk with a stroller young child or pet run                                                                                                                               11\n",
       "walk pedal a pedal assist type e-bike                                                                                                                                          11\n",
       "walk cycle pedal a pedal assist type e-bike                                                                                                                                     9\n",
       "skate                                                                                                                                                                           8\n",
       "walk skate cycle                                                                                                                                                                8\n",
       "walk with a stroller young child or pet run cycle                                                                                                                               7\n",
       "walk skate                                                                                                                                                                      7\n",
       "run skate cycle                                                                                                                                                                 6\n",
       "                                                                                                                                                                             ... \n",
       "ride a normal bike                                                                                                                                                              1\n",
       "cycle pedal a pedal assist type e-bike drive a motor propelled e-bike Ottawa paths are 20 km/h and open for e-bikes but not scooters                                            1\n",
       "walk walk with a stroller young child or pet run pedal a pedal assist type e-bike                                                                                               1\n",
       "walk pedal bike                                                                                                                                                                 1\n",
       "I very rarely use any of Toronto's Multi-Use Paths I use Orillia's multi-use trails where all legal ebikes are allowed with pedestrians roller bladers disability scooters      1\n",
       "I do not use e-bikes are prohibited :-(                                                                                                                                         1\n",
       "walk run skate                                                                                                                                                                  1\n",
       "walk with a stroller young child or pet skate cycle                                                                                                                             1\n",
       "walk run drive a motor propelled e-bike                                                                                                                                         1\n",
       "walk walk with a stroller young child or pet run skate cycle pedal a pedal assist type e-bike drive a motor propelled e-bike                                                    1\n",
       "walk Should give examples: High Park nature trails? Path across Queen's Park? Not sure what you're referring to                                                                 1\n",
       "run I very rarely use any of Toronto's Multi-Use Paths                                                                                                                          1\n",
       "walk with a stroller young child or pet skate                                                                                                                                   1\n",
       "walk walk with a stroller young child or pet run cycle I very rarely use any of Toronto's Multi-Use Paths                                                                       1\n",
       "walk walk with a stroller young child or pet pedal a pedal assist type e-bike drive a motor propelled e-bike                                                                    1\n",
       "use a wheelchair or similar mobility device                                                                                                                                     1\n",
       "e-scooter                                                                                                                                                                       1\n",
       "walk run cycle drive a motor propelled e-bike 5000W custom high power electric bicycle (non-scooter)                                                                            1\n",
       "walk dog walking daily Bike weekly in summmer for me                                                                                                                            1\n",
       "a motor-assisted bicycle is a moped under the hta                                                                                                                               1\n",
       "walk with a stroller young child or pet pedal a pedal assist type e-bike                                                                                                        1\n",
       "walk walk with a stroller young child or pet skate cycle pedal a pedal assist type e-bike                                                                                       1\n",
       "walk cycle pedal a pedal assist type e-bike I very rarely use any of Toronto's Multi-Use Paths                                                                                  1\n",
       "pedal a pedal assist type e-bike When visiting TA                                                                                                                               1\n",
       "E-bikes are banned I do not use paths or trails                                                                                                                                 1\n",
       "walk pedal a pedal assist type e-bike I very rarely use any of Toronto's Multi-Use Paths                                                                                        1\n",
       "skate pedal a pedal assist type e-bike                                                                                                                                          1\n",
       "walk pedal a pedal assist type e-bike drive a motor propelled e-bike                                                                                                            1\n",
       "drive a motor propelled e-bike I very rarely use any of Toronto's Multi-Use Paths                                                                                               1\n",
       "walk skate cycle pedal a pedal assist type e-bike drive a motor propelled e-bike                                                                                                1\n",
       "Name: When you use Toronto's Multi-Use Trails do you mostly, dtype: int64"
      ]
     },
     "execution_count": 3572,
     "metadata": {},
     "output_type": "execute_result"
    }
   ],
   "source": [
    "multiTrails = responses[\"When you use Toronto's Multi-Use Trails do you mostly\"]\n",
    "multiTrails.value_counts()"
   ]
  },
  {
   "cell_type": "code",
   "execution_count": 3573,
   "metadata": {},
   "outputs": [
    {
     "data": {
      "text/plain": [
       "count      2238\n",
       "unique       89\n",
       "top       cycle\n",
       "freq        738\n",
       "Name: When you use Toronto's Multi-Use Trails do you mostly, dtype: object"
      ]
     },
     "execution_count": 3573,
     "metadata": {},
     "output_type": "execute_result"
    }
   ],
   "source": [
    "multiTrails.describe()"
   ]
  },
  {
   "cell_type": "markdown",
   "metadata": {},
   "source": [
    "Similar to the above feature, the format of this question also seems to be in a checklist + comments format. There seem to be a few primary options:\n",
    "\n",
    "1. Walk\n",
    "2. Walk with a stroller, young child or pet\n",
    "3. Run\n",
    "4. Cycle\n",
    "5. Skate\n",
    "6. Pedal a pedal-assist type e-bike\n",
    "7. Drive a motor propelled e-bike\n",
    "8. I rarely use any of Toronto's Multi-Use Paths\n",
    "\n",
    "There are a variety of ways to deal with the vast number of combinations. It's important in this case to keep the end goal in mind, which is to classify/determine whether a household has access to a **motorized** vehicle or not.\n",
    "\n",
    "The end goal can inform how best to group these categories together. It's important to do so in order instead of rolling each category into it's own feature in order to **avoid overfitting the target model**. Rationally as well, it's important to select features that significantly impact the final predictions. \n",
    "\n",
    "It seems like the idea of motorized vehicles appears in the above categories with pedal-assist and motor propelled e-bikes, so we can already judge that it'll be necessary to abstract that out to a seperate category (cannot roll/sum all the features into a singular number like above). The rest of the options (walk, walk with a stroller..., run etc.) don't seem as relevant to the final classification, and can be rolled into one. Thus, this column should be split into two seperate features/columns, each an integer value (count of the modes of transport listed):\n",
    "\n",
    "1. Non-Motorized Mode of Transport (i.e. walk, run, cycle, skate etc.)\n",
    "2. Motorized Mode of Transport (i.e. pedal assist e-bike, motor propelled e-bike)\n",
    "\n",
    "A response of \"I rarely use any of Toronto's Multi-Use Paths\" would indicate a zero in each category. People that responded with this category, but also checked other modes of transport will **not have their modes of transport count** (keeping only statistically significant data).\n",
    "\n",
    "For example: \"walk skate cycle pedal a pedal assist type e-bike drive a motor propelled e-bike\" would produce the following counts.\n",
    "\n",
    "Non-Motorized: 3\n",
    "\n",
    "Motorized: 2\n",
    "\n",
    "Let's implement this:"
   ]
  },
  {
   "cell_type": "code",
   "execution_count": 3574,
   "metadata": {},
   "outputs": [
    {
     "data": {
      "text/plain": [
       "Index([u'What age range do you fall in?', u'Sex',\n",
       "       u'How would you describe your level of physical health?',\n",
       "       u'What level of education have you reached?',\n",
       "       u'What is your household income?',\n",
       "       u'Which category best describes your employment?',\n",
       "       u'What Toronto district is your primary address located in?',\n",
       "       u'On average what distance do you travel most days of the week?',\n",
       "       u'On average how long is your commute?',\n",
       "       u'Which transportation option do you end up using most often?',\n",
       "       u'Does your household have access to any of the following private motorized vehicles?',\n",
       "       u'Do you support any of the following statements?',\n",
       "       u'Are you aware that the Multi-Use Paths have a speed limit of 20 km/h?',\n",
       "       u'Have you witnessed a collision or conflict on a trail between',\n",
       "       u'Do you think more should be done to manage trail users who do not respect the 20 km/h speed limit?',\n",
       "       u'Currently any kind of e-bike may use a multi-use path if they are propelled by pedaling only and those propelled by motor power may be fined ',\n",
       "       u'When you use Toronto's bicycle lanes do you mostly',\n",
       "       u'Currently any kind of e-bike may use a bicycle lane if they are propelled by pedaling only and those propelled by motor power may be fined ',\n",
       "       u'With regards to illegal use of bicycles and e-bikes on sidewalks should the City ',\n",
       "       u'Toronto Bylaws consider personal mobility devices (such as electric wheel chairs) to be pedestrians In your opinion should the City',\n",
       "       u'Multi-Use Trails - # of Different Motorized Transport Modes Used',\n",
       "       u'Multi-Use Trails - # of Different Non Motorized Transport Modes Used'],\n",
       "      dtype='object')"
      ]
     },
     "execution_count": 3574,
     "metadata": {},
     "output_type": "execute_result"
    }
   ],
   "source": [
    "# Initialize lists\n",
    "motorized = np.array([0] * len(responses))\n",
    "non_motorized = np.array([0] * len(responses))\n",
    "\n",
    "# Increment non-motorized counters accordingly -> TODO: Abstract to function (remove duplication)\n",
    "non_motorized[multiTrails[(multiTrails.str.contains(\"cycle\"))  & ~(multiTrails.str.contains(\"I very rarely use any of Toronto's Multi-Use Paths\"))].index] += 1\n",
    "non_motorized[multiTrails[(multiTrails.str.contains(\"walk\"))  & ~(multiTrails.str.contains(\"I very rarely use any of Toronto's Multi-Use Paths\"))].index] += 1\n",
    "non_motorized[multiTrails[(multiTrails.str.contains(\"run\"))  & ~(multiTrails.str.contains(\"I very rarely use any of Toronto's Multi-Use Paths\"))].index] += 1\n",
    "non_motorized[multiTrails[(multiTrails.str.contains(\"skate\"))  & ~(multiTrails.str.contains(\"I very rarely use any of Toronto's Multi-Use Paths\"))].index] += 1\n",
    "non_motorized[multiTrails[(multiTrails.str.contains(\"walk with a stroller young child or pet\"))  & ~(multiTrails.str.contains(\"I very rarely use any of Toronto's Multi-Use Paths\"))].index] += 1\n",
    "\n",
    "# Increment motorized counters accordingly -> same thing as above\n",
    "motorized[multiTrails[(multiTrails.str.contains(\"pedal a pedal assist type e-bike\"))  & ~(multiTrails.str.contains(\"I very rarely use any of Toronto's Multi-Use Paths\"))].index] += 1\n",
    "motorized[multiTrails[(multiTrails.str.contains(\"drive a motor propelled e-bike\"))  & ~(multiTrails.str.contains(\"I very rarely use any of Toronto's Multi-Use Paths\"))].index] += 1\n",
    "\n",
    "# Remove old column and add these two\n",
    "responses.drop(\"When you use Toronto's Multi-Use Trails do you mostly\", axis=1, inplace=True)\n",
    "responses[\"Multi-Use Trails - # of Different Motorized Transport Modes Used\"] = motorized\n",
    "responses[\"Multi-Use Trails - # of Different Non Motorized Transport Modes Used\"] = motorized\n",
    "responses.columns"
   ]
  },
  {
   "cell_type": "markdown",
   "metadata": {},
   "source": [
    "#### Multi Use Path: Speed Limit Awareness"
   ]
  },
  {
   "cell_type": "code",
   "execution_count": 3575,
   "metadata": {},
   "outputs": [
    {
     "data": {
      "text/plain": [
       "No     1131\n",
       "Yes    1107\n",
       "Name: Are you aware that the Multi-Use Paths have a speed limit of 20 km/h?, dtype: int64"
      ]
     },
     "execution_count": 3575,
     "metadata": {},
     "output_type": "execute_result"
    }
   ],
   "source": [
    "speedLimitAware = responses[\"Are you aware that the Multi-Use Paths have a speed limit of 20 km/h?\"]\n",
    "speedLimitAware.value_counts()"
   ]
  },
  {
   "cell_type": "code",
   "execution_count": 3576,
   "metadata": {},
   "outputs": [
    {
     "data": {
      "text/plain": [
       "count     2238\n",
       "unique       2\n",
       "top         No\n",
       "freq      1131\n",
       "Name: Are you aware that the Multi-Use Paths have a speed limit of 20 km/h?, dtype: object"
      ]
     },
     "execution_count": 3576,
     "metadata": {},
     "output_type": "execute_result"
    }
   ],
   "source": [
    "speedLimitAware.describe()"
   ]
  },
  {
   "cell_type": "markdown",
   "metadata": {},
   "source": [
    "Feature is already clean, the only thing left is to convert this categorical variable, to a numerical one (we will have to do the same to the remaining features at the end!)"
   ]
  },
  {
   "cell_type": "code",
   "execution_count": 3577,
   "metadata": {},
   "outputs": [
    {
     "name": "stderr",
     "output_type": "stream",
     "text": [
      "/Users/jeet/miniconda2/lib/python2.7/site-packages/ipykernel_launcher.py:2: SettingWithCopyWarning: \n",
      "A value is trying to be set on a copy of a slice from a DataFrame\n",
      "\n",
      "See the caveats in the documentation: http://pandas.pydata.org/pandas-docs/stable/indexing.html#indexing-view-versus-copy\n",
      "  \n",
      "/Users/jeet/miniconda2/lib/python2.7/site-packages/ipykernel_launcher.py:3: SettingWithCopyWarning: \n",
      "A value is trying to be set on a copy of a slice from a DataFrame\n",
      "\n",
      "See the caveats in the documentation: http://pandas.pydata.org/pandas-docs/stable/indexing.html#indexing-view-versus-copy\n",
      "  This is separate from the ipykernel package so we can avoid doing imports until\n"
     ]
    },
    {
     "data": {
      "text/plain": [
       "0    1131\n",
       "1    1107\n",
       "Name: Are you aware that the Multi-Use Paths have a speed limit of 20 km/h?, dtype: int64"
      ]
     },
     "execution_count": 3577,
     "metadata": {},
     "output_type": "execute_result"
    }
   ],
   "source": [
    "# Converting to numeric (ignore any SettingWithCopyWarnings)\n",
    "speedLimitAware[speedLimitAware == \"Yes\"] = 1\n",
    "speedLimitAware[speedLimitAware == \"No\"] = 0\n",
    "\n",
    "speedLimitAware.value_counts()"
   ]
  },
  {
   "cell_type": "markdown",
   "metadata": {},
   "source": [
    "#### Collision/Conflict"
   ]
  },
  {
   "cell_type": "code",
   "execution_count": 3578,
   "metadata": {},
   "outputs": [
    {
     "data": {
      "text/plain": [
       "I am not aware of any conflicts on the trails                                                                                                                                                                                                                                                              847\n",
       "a conflict between cyclists and pedestrians                                                                                                                                                                                                                                                                138\n",
       "a conflict relating to a dog(s)                                                                                                                                                                                                                                                                             80\n",
       "a conflict between an e-biker and a pedestrian a conflict between e-biker and a cyclist                                                                                                                                                                                                                     80\n",
       "a conflict between e-biker and a cyclist                                                                                                                                                                                                                                                                    54\n",
       "a conflict relating to a dog(s) a conflict between cyclists and pedestrians                                                                                                                                                                                                                                 51\n",
       "pedestrians and/or runners a conflict relating to a dog(s) a conflict relating to an in-line skater a conflict between cyclists and pedestrians a conflict between two cyclists a conflict between an e-biker and a pedestrian a conflict between e-biker and a cyclist                                     33\n",
       "a conflict relating to a dog(s) a conflict between cyclists and pedestrians a conflict between an e-biker and a pedestrian a conflict between e-biker and a cyclist                                                                                                                                         31\n",
       "a conflict between an e-biker and a pedestrian                                                                                                                                                                                                                                                              31\n",
       "a conflict between cyclists and pedestrians a conflict between an e-biker and a pedestrian a conflict between e-biker and a cyclist                                                                                                                                                                         30\n",
       "a conflict relating to a dog(s) a conflict between an e-biker and a pedestrian a conflict between e-biker and a cyclist                                                                                                                                                                                     29\n",
       "a conflict between two cyclists                                                                                                                                                                                                                                                                             27\n",
       "a conflict between cyclists and pedestrians a conflict between an e-biker and a pedestrian                                                                                                                                                                                                                  24\n",
       "a conflict between an e-biker and a pedestrian a conflict between e-biker and a cyclist a conflict between two e-bikers                                                                                                                                                                                     23\n",
       "a conflict relating to an in-line skater a conflict between cyclists and pedestrians                                                                                                                                                                                                                        22\n",
       "a conflict relating to an in-line skater                                                                                                                                                                                                                                                                    21\n",
       "a conflict relating to a dog(s) a conflict relating to an in-line skater a conflict between cyclists and pedestrians                                                                                                                                                                                        20\n",
       "a conflict between cyclists and pedestrians a conflict between two cyclists                                                                                                                                                                                                                                 20\n",
       "pedestrians and/or runners a conflict relating to a dog(s) a conflict relating to an in-line skater a conflict between cyclists and pedestrians a conflict between two cyclists                                                                                                                             19\n",
       "a conflict between cyclists and pedestrians a conflict between e-biker and a cyclist                                                                                                                                                                                                                        18\n",
       "a conflict relating to a dog(s) a conflict between cyclists and pedestrians a conflict between an e-biker and a pedestrian                                                                                                                                                                                  18\n",
       "a conflict relating to a dog(s) a conflict between cyclists and pedestrians a conflict between e-biker and a cyclist                                                                                                                                                                                        16\n",
       "a conflict relating to a dog(s) a conflict relating to an in-line skater a conflict between cyclists and pedestrians a conflict between an e-biker and a pedestrian a conflict between e-biker and a cyclist                                                                                                16\n",
       "pedestrians and/or runners a conflict relating to a dog(s) a conflict relating to an in-line skater a conflict between cyclists and pedestrians                                                                                                                                                             16\n",
       "pedestrians and/or runners a conflict relating to a dog(s) a conflict relating to an in-line skater a conflict between cyclists and pedestrians a conflict between two cyclists a conflict between an e-biker and a pedestrian a conflict between e-biker and a cyclist a conflict between two e-bikers     15\n",
       "pedestrians and/or runners                                                                                                                                                                                                                                                                                  15\n",
       "a conflict relating to a dog(s) a conflict between cyclists and pedestrians a conflict between two cyclists                                                                                                                                                                                                 15\n",
       "a conflict between cyclists and pedestrians a conflict between two cyclists a conflict between an e-biker and a pedestrian a conflict between e-biker and a cyclist                                                                                                                                         14\n",
       "pedestrians and/or runners a conflict relating to a dog(s) a conflict relating to an in-line skater a conflict between cyclists and pedestrians a conflict between an e-biker and a pedestrian a conflict between e-biker and a cyclist                                                                     14\n",
       "a conflict relating to a dog(s) a conflict relating to an in-line skater                                                                                                                                                                                                                                    13\n",
       "                                                                                                                                                                                                                                                                                                          ... \n",
       "I am sure there are conflicts but I do not travel on these trails enough to have seen one                                                                                                                                                                                                                    1\n",
       "I've seen issues arrise between many of these groups but not 'conflicts'                                                                                                                                                                                                                                     1\n",
       "a conflict relating to a dog(s) a conflict relating to an in-line skater a conflict between e-biker and a cyclist                                                                                                                                                                                            1\n",
       "Can't remember seeing any but that doesn't mean they don't happen                                                                                                                                                                                                                                            1\n",
       "i have not witness but believe there are conflicts                                                                                                                                                                                                                                                           1\n",
       "pedestrians and/or runners a conflict between two cyclists a conflict between an e-biker and a pedestrian a conflict between e-biker and a cyclist a conflict between two e-bikers                                                                                                                           1\n",
       "a conflict between an e-biker and a pedestrian Electric wheelchair and pedestrian                                                                                                                                                                                                                            1\n",
       "pedestrians and/or runners a conflict relating to a dog(s) a conflict between an e-biker and a pedestrian a conflict between e-biker and a cyclist a conflict between two e-bikers                                                                                                                           1\n",
       "I'm sure conflicts occur I have not witnessed any                                                                                                                                                                                                                                                            1\n",
       "a conflict between cyclists and pedestrians a conflict between an e-biker and a pedestrian car and cyclist car and e bike                                                                                                                                                                                    1\n",
       "I have not witnessed a collision                                                                                                                                                                                                                                                                             1\n",
       "pedestrians and/or runners a conflict relating to a dog(s) a conflict relating to an in-line skater a conflict between cyclists and pedestrians most non ebike cyclists violate the 20kph speed limit                                                                                                        1\n",
       "I am not aware of any conflicts on the trails Did NOT witness any                                                                                                                                                                                                                                            1\n",
       "pedestrians and/or runners a conflict relating to a dog(s) a conflict between cyclists and pedestrians a conflict between e-biker and a cyclist                                                                                                                                                              1\n",
       "a conflict between cyclists and pedestrians witnessed many 'almost' accidents                                                                                                                                                                                                                                1\n",
       "a conflict relating to a dog(s) e-scooter v bicycle                                                                                                                                                                                                                                                          1\n",
       "Aware of but never witnessed conflicts                                                                                                                                                                                                                                                                       1\n",
       "Near miss E bike & cyclist                                                                                                                                                                                                                                                                                   1\n",
       "I have not personally witnessed a conflict but I'm aware they exist                                                                                                                                                                                                                                          1\n",
       "a conflict between cyclists and pedestrians I am not aware of any conflicts on the trails                                                                                                                                                                                                                    1\n",
       "pedestrians or runners                                                                                                                                                                                                                                                                                       1\n",
       "I can understand that these conflicts can occur                                                                                                                                                                                                                                                              1\n",
       "e-biker and skater                                                                                                                                                                                                                                                                                           1\n",
       "POLICE RIDING ON SIDEWALKS??                                                                                                                                                                                                                                                                                 1\n",
       "pedestrians and/or runners a conflict relating to an in-line skater a conflict between two cyclists a conflict between an e-biker and a pedestrian a conflict between e-biker and a cyclist                                                                                                                  1\n",
       "I haven't witnessed any conflict                                                                                                                                                                                                                                                                             1\n",
       "pedestrians and/or runners a conflict relating to an in-line skater a conflict between two cyclists                                                                                                                                                                                                          1\n",
       "pedestrians and/or runners a conflict between two cyclists                                                                                                                                                                                                                                                   1\n",
       "a conflict relating to a dog(s) a conflict relating to an in-line skater a conflict between cyclists and pedestrians a conflict between two cyclists a conflict between e-biker and a cyclist a conflict between two e-bikers                                                                                1\n",
       "I am not aware of any conflicts on the trails Pedestrians wandering around on trails with no concept of lanes and taking up whole width with 3 or more people abreast                                                                                                                                        1\n",
       "Name: Have you witnessed a collision or conflict on a trail between, dtype: int64"
      ]
     },
     "execution_count": 3578,
     "metadata": {},
     "output_type": "execute_result"
    }
   ],
   "source": [
    "collConf = responses[\"Have you witnessed a collision or conflict on a trail between\"]\n",
    "collConf.value_counts()"
   ]
  },
  {
   "cell_type": "code",
   "execution_count": 3579,
   "metadata": {},
   "outputs": [
    {
     "data": {
      "text/plain": [
       "count                                              2238\n",
       "unique                                              221\n",
       "top       I am not aware of any conflicts on the trails\n",
       "freq                                                847\n",
       "Name: Have you witnessed a collision or conflict on a trail between, dtype: object"
      ]
     },
     "execution_count": 3579,
     "metadata": {},
     "output_type": "execute_result"
    }
   ],
   "source": [
    "collConf.describe()"
   ]
  },
  {
   "cell_type": "markdown",
   "metadata": {},
   "source": [
    "Like the other checklist-based options, let's take a look at the categories/choices available to decide how best to group the data:\n",
    "\n",
    "1. a conflict relating to a dog(s)\n",
    "2. a conflict between cyclists and pedestrians\n",
    "3. a conflict between two cyclists\n",
    "4. a conflict between e-biker and a cyclist\n",
    "5. a conflict between two e-bikers\n",
    "6. a conflict between an e-biker and a pedestrian\n",
    "7. a conflict relating to an in-line skater\n",
    "8. pedestrians and/or runners\n",
    "9. I am not aware of any conflicts on the trails\n",
    "\n",
    "Once again, we have to keep/watch the balance between unrolling each category answer into it's own feature (potentially **overfitting the model** since we would be keeping information that may be **irrelevant**) and losing valuable data (potentially **underfitting the model**).\n",
    "\n",
    "In this case, features that seem important to the end goal (determining whether the household has a motorized vehicle or not) are basically whether the collision involved a motorized vehicle (e-bike) or not. Thus, we can group the answers into the categories shown below:\n",
    "\n",
    "1. Number of Conflicts Involving Motorized Vehicles\n",
    "2. Number of Conflicts Not-Involving Motorized Vehicles\n",
    "\n",
    "Let's implement this!"
   ]
  },
  {
   "cell_type": "code",
   "execution_count": 3580,
   "metadata": {},
   "outputs": [
    {
     "data": {
      "text/plain": [
       "Index([u'What age range do you fall in?', u'Sex',\n",
       "       u'How would you describe your level of physical health?',\n",
       "       u'What level of education have you reached?',\n",
       "       u'What is your household income?',\n",
       "       u'Which category best describes your employment?',\n",
       "       u'What Toronto district is your primary address located in?',\n",
       "       u'On average what distance do you travel most days of the week?',\n",
       "       u'On average how long is your commute?',\n",
       "       u'Which transportation option do you end up using most often?',\n",
       "       u'Does your household have access to any of the following private motorized vehicles?',\n",
       "       u'Do you support any of the following statements?',\n",
       "       u'Are you aware that the Multi-Use Paths have a speed limit of 20 km/h?',\n",
       "       u'Do you think more should be done to manage trail users who do not respect the 20 km/h speed limit?',\n",
       "       u'Currently any kind of e-bike may use a multi-use path if they are propelled by pedaling only and those propelled by motor power may be fined ',\n",
       "       u'When you use Toronto's bicycle lanes do you mostly',\n",
       "       u'Currently any kind of e-bike may use a bicycle lane if they are propelled by pedaling only and those propelled by motor power may be fined ',\n",
       "       u'With regards to illegal use of bicycles and e-bikes on sidewalks should the City ',\n",
       "       u'Toronto Bylaws consider personal mobility devices (such as electric wheel chairs) to be pedestrians In your opinion should the City',\n",
       "       u'Multi-Use Trails - # of Different Motorized Transport Modes Used',\n",
       "       u'Multi-Use Trails - # of Different Non Motorized Transport Modes Used',\n",
       "       u'# of Conflicts Involving Motorized Vehicles',\n",
       "       u'# of Conflicts Not-Involving Motorized Vehicles'],\n",
       "      dtype='object')"
      ]
     },
     "execution_count": 3580,
     "metadata": {},
     "output_type": "execute_result"
    }
   ],
   "source": [
    "# Initialize lists\n",
    "motorized_conflicts = np.array([0] * len(responses))\n",
    "non_motorized_conflicts = np.array([0] * len(responses))\n",
    "\n",
    "# Increment non-motorized conflicts accordingly -> TODO: Abstract to function (remove duplication)\n",
    "non_motorized_conflicts[collConf[(collConf.str.contains(\"pedestrians and/or runners\"))  & ~(collConf.str.contains(\"I am not aware of any conflicts on the trails \"))].index] += 1\n",
    "non_motorized_conflicts[collConf[(collConf.str.contains(\"a conflict relating to an in-line skater\"))  & ~(collConf.str.contains(\"I am not aware of any conflicts on the trails \"))].index] += 1\n",
    "non_motorized_conflicts[collConf[(collConf.str.contains(\"a conflict between two cyclists\"))  & ~(collConf.str.contains(\"I am not aware of any conflicts on the trails \"))].index] += 1\n",
    "non_motorized_conflicts[collConf[(collConf.str.contains(\"a conflict relating to a dog\"))  & ~(collConf.str.contains(\"I am not aware of any conflicts on the trails \"))].index] += 1\n",
    "non_motorized_conflicts[collConf[(collConf.str.contains(\"a conflict between cyclists and pedestrians\"))  & ~(collConf.str.contains(\"I am not aware of any conflicts on the trails \"))].index] += 1\n",
    "\n",
    "# Increment motorized conflicts accordingly -> same thing as above\n",
    "motorized_conflicts[collConf[(collConf.str.contains(\"a conflict between e-biker and a cyclist\"))  & ~(collConf.str.contains(\"I am not aware of any conflicts on the trails \"))].index] += 1\n",
    "motorized_conflicts[collConf[(collConf.str.contains(\"a conflict between an e-biker and a pedestrian\"))  & ~(collConf.str.contains(\"I am not aware of any conflicts on the trails \"))].index] += 1\n",
    "motorized_conflicts[collConf[(collConf.str.contains(\"a conflict between two e-bikers\"))  & ~(collConf.str.contains(\"I am not aware of any conflicts on the trails \"))].index] += 1\n",
    "\n",
    "# Remove old column and add these two\n",
    "responses.drop(\"Have you witnessed a collision or conflict on a trail between\", axis=1, inplace=True)\n",
    "responses[\"# of Conflicts Involving Motorized Vehicles\"] = motorized_conflicts\n",
    "responses[\"# of Conflicts Not-Involving Motorized Vehicles\"] = non_motorized_conflicts\n",
    "responses.columns"
   ]
  },
  {
   "cell_type": "markdown",
   "metadata": {},
   "source": [
    "#### Regulating Speed Limit"
   ]
  },
  {
   "cell_type": "code",
   "execution_count": 3581,
   "metadata": {},
   "outputs": [
    {
     "data": {
      "text/plain": [
       "No - the trails are fine as they are                                                                                                                                                                                                                                                                                                                                                                                                                                                                                             646\n",
       "Yes - more signage Yes - more enforcement (ticketing) Yes - more educational programs                                                                                                                                                                                                                                                                                                                                                                                                                                            355\n",
       "Yes - more enforcement (ticketing)                                                                                                                                                                                                                                                                                                                                                                                                                                                                                               276\n",
       "Yes - more signage                                                                                                                                                                                                                                                                                                                                                                                                                                                                                                               260\n",
       "Yes - more signage Yes - more educational programs                                                                                                                                                                                                                                                                                                                                                                                                                                                                               188\n",
       "Yes - more signage Yes - more enforcement (ticketing)                                                                                                                                                                                                                                                                                                                                                                                                                                                                            161\n",
       "Yes - more educational programs                                                                                                                                                                                                                                                                                                                                                                                                                                                                                                  118\n",
       "Yes - more enforcement (ticketing) Yes - more educational programs                                                                                                                                                                                                                                                                                                                                                                                                                                                                93\n",
       "Yes - more educational programs No - the trails are fine as they are                                                                                                                                                                                                                                                                                                                                                                                                                                                               8\n",
       "Yes - more signage No - the trails are fine as they are                                                                                                                                                                                                                                                                                                                                                                                                                                                                            5\n",
       "Yes - more signage Yes - more educational programs No - the trails are fine as they are                                                                                                                                                                                                                                                                                                                                                                                                                                            2\n",
       "Yes - more enforcement (ticketing) No - the trails are fine as they are                                                                                                                                                                                                                                                                                                                                                                                                                                                            2\n",
       "don't know                                                                                                                                                                                                                                                                                                                                                                                                                                                                                                                         2\n",
       "A campaign to raise awareness that the trails have many uses and courtesy is required                                                                                                                                                                                                                                                                                                                                                                                                                                              1\n",
       "Speed can be regulated according to time and conditions - sometimes speed needs to be moderated but other times there is no need for a speed limit                                                                                                                                                                                                                                                                                                                                                                                 1\n",
       "Yes - more signage Split trails where possible for fast vs slow movement                                                                                                                                                                                                                                                                                                                                                                                                                                                           1\n",
       "Yes - more signage Yes - more enforcement (ticketing) Yes - more educational programs AWARENESS COMMUNICATION                                                                                                                                                                                                                                                                                                                                                                                                                      1\n",
       "Not sure                                                                                                                                                                                                                                                                                                                                                                                                                                                                                                                           1\n",
       "Yes - more enforcement (ticketing) raise the speed limit on trails to 30 km/h and do not allow scooter type e-bikes on them                                                                                                                                                                                                                                                                                                                                                                                                        1\n",
       "Divide the trails into slow and fast lanes                                                                                                                                                                                                                                                                                                                                                                                                                                                                                         1\n",
       "No - the trails are fine as they are There is no way for a cyclist to know what speed they are travelling at there any speed limit is next to useless                                                                                                                                                                                                                                                                                                                                                                              1\n",
       "Yes - more educational programs pedestrians also require education and how to share with cyclists and expect users of all speeds                                                                                                                                                                                                                                                                                                                                                                                                   1\n",
       "ebikes should not be allowed on the trails OR in bike lanes                                                                                                                                                                                                                                                                                                                                                                                                                                                                        1\n",
       "signage to encourage users to walk on the GRASS                                                                                                                                                                                                                                                                                                                                                                                                                                                                                    1\n",
       "Yes - more signage Yes - more enforcement (ticketing) Yes - more educational programs No - the trails are fine as they are                                                                                                                                                                                                                                                                                                                                                                                                         1\n",
       "Yes - more signage Right of way needs to be observed Strollers/families in way of bikes                                                                                                                                                                                                                                                                                                                                                                                                                                            1\n",
       "This speed limit is ridiculous                                                                                                                                                                                                                                                                                                                                                                                                                                                                                                     1\n",
       "Build a complete on-street bike network                                                                                                                                                                                                                                                                                                                                                                                                                                                                                            1\n",
       "20 km/hr is too low There should be a minimum too                                                                                                                                                                                                                                                                                                                                                                                                                                                                                  1\n",
       "No just prevent E-bikes on them                                                                                                                                                                                                                                                                                                                                                                                                                                                                                                    1\n",
       "                                                                                                                                                                                                                                                                                                                                                                                                                                                                                                                                ... \n",
       "alongside the Beaches boardwalk direct pedestrians to use the boardwalk                                                                                                                                                                                                                                                                                                                                                                                                                                                            1\n",
       "make it 60kmh                                                                                                                                                                                                                                                                                                                                                                                                                                                                                                                      1\n",
       "I can't say as I don't use them This should be an answer option                                                                                                                                                                                                                                                                                                                                                                                                                                                                    1\n",
       "walk lane run lane fast lane                                                                                                                                                                                                                                                                                                                                                                                                                                                                                                       1\n",
       "Yes - more signage Yes - more enforcement (ticketing) since bicycles don't have speedometers how will they know if they are respecting the speed limit?                                                                                                                                                                                                                                                                                                                                                                            1\n",
       "No - the trails are fine as they are e-scooters don't belong                                                                                                                                                                                                                                                                                                                                                                                                                                                                       1\n",
       "Havn't been on Toronto's trails                                                                                                                                                                                                                                                                                                                                                                                                                                                                                                    1\n",
       "20 km/h is too slow People will travel at safe speeds for the conditions because nobody likes crashing                                                                                                                                                                                                                                                                                                                                                                                                                             1\n",
       "ebike and cyclist only paths                                                                                                                                                                                                                                                                                                                                                                                                                                                                                                       1\n",
       "No - the trails are fine as they are if the speed limit on trails is 20kms where will the cyclist ride?                                                                                                                                                                                                                                                                                                                                                                                                                            1\n",
       "Yes - more signage Yes - more enforcement (ticketing) No e-bikes (the ones with useless pedals) on these trails at all                                                                                                                                                                                                                                                                                                                                                                                                             1\n",
       "Better Trails (more separation) Higher speeds for all cyclists (pedal and e-bike)                                                                                                                                                                                                                                                                                                                                                                                                                                                  1\n",
       "pedastrians need to made aware that bicycles travel fast & they should look before moving onto trails                                                                                                                                                                                                                                                                                                                                                                                                                              1\n",
       "If they're exceeding the speed limit and its crowded; ticket if its empty warning                                                                                                                                                                                                                                                                                                                                                                                                                                                  1\n",
       "Not sure                                                                                                                                                                                                                                                                                                                                                                                                                                                                                                                           1\n",
       "r u talking trails or bike lanes on roads survey is poorly written                                                                                                                                                                                                                                                                                                                                                                                                                                                                 1\n",
       "i have no opinion                                                                                                                                                                                                                                                                                                                                                                                                                                                                                                                  1\n",
       "Yes - more enforcement (ticketing) Yes - more educational programs ebikes should not be permitted only wheel chairs for the disables shuld be permitted                                                                                                                                                                                                                                                                                                                                                                            1\n",
       "Yes - more educational programs Be fair about any new laws or ticketing  Cars speeding on roads injure and kill orders of magnitude more people under age 40 than  well all other causes combined actually                                                                                                                                                                                                                                                                                                                         1\n",
       "the speed is not the problem all trail users need to have high situational awareness                                                                                                                                                                                                                                                                                                                                                                                                                                               1\n",
       "No - the trails are fine as they are 2 problems: corners with limited visibility and pedestrians who are completely unaware of their surroundings  Large portions of the trail have good visibility and few pedestrians so a blanket speed limit makes no sense  Even at 20KM per hour if 2 cyclists hit in a corner or a pedestrian darts out there's potential for injury  Perhaps a designated pedestrian and designated cycle track would work in fact some of the lakeshore multi-use paths are already marked this way       1\n",
       "No - the trails are fine as they are i worry more about runners                                                                                                                                                                                                                                                                                                                                                                                                                                                                    1\n",
       "Yes - more signage Yes - more educational programs Pedestrians need to be made aware  Serious cyclists need to be discouraged from using them to train  E-bikes should not be allowed on the trails at all  No e-bike ever uses the pedals                                                                                                                                                                                                                                                                                         1\n",
       "do not allow any vehicles that are not humanly powered with the exception of wheelchairs                                                                                                                                                                                                                                                                                                                                                                                                                                           1\n",
       "No e-bikes                                                                                                                                                                                                                                                                                                                                                                                                                                                                                                                         1\n",
       "I have not found speeds to necessarily have been a major cause for concern but unsafe passing and lack of awareness by many that these are shared trails seems more important than enforcing speed limits only                                                                                                                                                                                                                                                                                                                     1\n",
       "Yes - more signage signage is only really required in the more congested trail areas (central waterfront) - the speed limit is ridiculously slow for someone on a bike on the outskirts with very few other users on the trail to navigate - common sense should apply with people slowing down when there are more trail users                                                                                                                                                                                                    1\n",
       "Just keep the e-bikes off and all will be fine                                                                                                                                                                                                                                                                                                                                                                                                                                                                                     1\n",
       "speed should not be enforced Travel according to time of day and conditions                                                                                                                                                                                                                                                                                                                                                                                                                                                        1\n",
       "Yes - more signage How is a cyclist supposed to know how if they are exceeding 20km per hour?                                                                                                                                                                                                                                                                                                                                                                                                                                      1\n",
       "Name: Do you think more should be done to manage trail users who do not respect the 20 km/h speed limit?, dtype: int64"
      ]
     },
     "execution_count": 3581,
     "metadata": {},
     "output_type": "execute_result"
    }
   ],
   "source": [
    "moreShouldBeDone = responses[\"Do you think more should be done to manage trail users who do not respect the 20 km/h speed limit?\"]\n",
    "moreShouldBeDone.value_counts()"
   ]
  },
  {
   "cell_type": "code",
   "execution_count": 3582,
   "metadata": {},
   "outputs": [
    {
     "data": {
      "text/plain": [
       "count                                     2237\n",
       "unique                                     134\n",
       "top       No - the trails are fine as they are\n",
       "freq                                       646\n",
       "Name: Do you think more should be done to manage trail users who do not respect the 20 km/h speed limit?, dtype: object"
      ]
     },
     "execution_count": 3582,
     "metadata": {},
     "output_type": "execute_result"
    }
   ],
   "source": [
    "moreShouldBeDone.describe()"
   ]
  },
  {
   "cell_type": "markdown",
   "metadata": {},
   "source": [
    "In this case, there is one missing value and it can be replaced with the majority (No in this case). Similar to the past few features, this question follows a Checklist + Comments format. Since the question has to do with fining rules on the trail, the responses can easily be grouped into a simple boolean \"Yes/No\" format.\n",
    "\n",
    "It's important to note a couple of things:\n",
    "\n",
    "1. There are quite a few entries where the responder has put both Yes and No. This is assumed to default to a \"No\"\n",
    "2. There are one-offs where people have responded with their own custom answers. These will be also defaulted/assumed to be a \"No\". There may be error here, but it will be statistically insignificant (1/2238)."
   ]
  },
  {
   "cell_type": "code",
   "execution_count": 3583,
   "metadata": {},
   "outputs": [
    {
     "data": {
      "text/plain": [
       "count                                     2238\n",
       "unique                                     134\n",
       "top       No - the trails are fine as they are\n",
       "freq                                       647\n",
       "Name: Do you think more should be done to manage trail users who do not respect the 20 km/h speed limit?, dtype: object"
      ]
     },
     "execution_count": 3583,
     "metadata": {},
     "output_type": "execute_result"
    }
   ],
   "source": [
    "# Locate & deal with missing value\n",
    "moreShouldBeDone.fillna(\"No - the trails are fine as they are\", inplace = True)\n",
    "moreShouldBeDone.describe()"
   ]
  },
  {
   "cell_type": "code",
   "execution_count": 3584,
   "metadata": {},
   "outputs": [
    {
     "data": {
      "text/html": [
       "<div>\n",
       "<table border=\"1\" class=\"dataframe\">\n",
       "  <thead>\n",
       "    <tr style=\"text-align: right;\">\n",
       "      <th></th>\n",
       "      <th>What age range do you fall in?</th>\n",
       "      <th>Sex</th>\n",
       "      <th>How would you describe your level of physical health?</th>\n",
       "      <th>What level of education have you reached?</th>\n",
       "      <th>What is your household income?</th>\n",
       "      <th>Which category best describes your employment?</th>\n",
       "      <th>What Toronto district is your primary address located in?</th>\n",
       "      <th>On average what distance do you travel most days of the week?</th>\n",
       "      <th>On average how long is your commute?</th>\n",
       "      <th>Which transportation option do you end up using most often?</th>\n",
       "      <th>...</th>\n",
       "      <th>Do you think more should be done to manage trail users who do not respect the 20 km/h speed limit?</th>\n",
       "      <th>Currently any kind of e-bike may use a multi-use path if they are propelled by pedaling only and those propelled by motor power may be fined</th>\n",
       "      <th>When you use Toronto's bicycle lanes do you mostly</th>\n",
       "      <th>Currently any kind of e-bike may use a bicycle lane if they are propelled by pedaling only and those propelled by motor power may be fined</th>\n",
       "      <th>With regards to illegal use of bicycles and e-bikes on sidewalks should the City</th>\n",
       "      <th>Toronto Bylaws consider personal mobility devices (such as electric wheel chairs) to be pedestrians In your opinion should the City</th>\n",
       "      <th>Multi-Use Trails - # of Different Motorized Transport Modes Used</th>\n",
       "      <th>Multi-Use Trails - # of Different Non Motorized Transport Modes Used</th>\n",
       "      <th># of Conflicts Involving Motorized Vehicles</th>\n",
       "      <th># of Conflicts Not-Involving Motorized Vehicles</th>\n",
       "    </tr>\n",
       "  </thead>\n",
       "  <tbody>\n",
       "    <tr>\n",
       "      <th>0</th>\n",
       "      <td>2</td>\n",
       "      <td>0</td>\n",
       "      <td>3</td>\n",
       "      <td>4</td>\n",
       "      <td>5</td>\n",
       "      <td>6</td>\n",
       "      <td>1</td>\n",
       "      <td>0</td>\n",
       "      <td>1</td>\n",
       "      <td>4</td>\n",
       "      <td>...</td>\n",
       "      <td>0</td>\n",
       "      <td>The bylaw should be modified to allow any kind...</td>\n",
       "      <td>drive a scooter type e-bike propelled by an el...</td>\n",
       "      <td>The bylaw should be modified to allow e-bikes ...</td>\n",
       "      <td>be tolerant of bikes and e-bikes on the walksi...</td>\n",
       "      <td>Institute a speed limit for sidewalks</td>\n",
       "      <td>1</td>\n",
       "      <td>1</td>\n",
       "      <td>0</td>\n",
       "      <td>2</td>\n",
       "    </tr>\n",
       "    <tr>\n",
       "      <th>1</th>\n",
       "      <td>1</td>\n",
       "      <td>0</td>\n",
       "      <td>5</td>\n",
       "      <td>3</td>\n",
       "      <td>2</td>\n",
       "      <td>7</td>\n",
       "      <td>1</td>\n",
       "      <td>2</td>\n",
       "      <td>3</td>\n",
       "      <td>4</td>\n",
       "      <td>...</td>\n",
       "      <td>0</td>\n",
       "      <td>No changes are necessary to the existing bylaw</td>\n",
       "      <td>drive a scooter type e-bike propelled by an el...</td>\n",
       "      <td>The bylaw should be modified to allow e-bikes ...</td>\n",
       "      <td>maintain the existing programs for signage edu...</td>\n",
       "      <td>Do nothing</td>\n",
       "      <td>0</td>\n",
       "      <td>0</td>\n",
       "      <td>0</td>\n",
       "      <td>0</td>\n",
       "    </tr>\n",
       "    <tr>\n",
       "      <th>2</th>\n",
       "      <td>3</td>\n",
       "      <td>0</td>\n",
       "      <td>3</td>\n",
       "      <td>3</td>\n",
       "      <td>2</td>\n",
       "      <td>6</td>\n",
       "      <td>1</td>\n",
       "      <td>2</td>\n",
       "      <td>1</td>\n",
       "      <td>5</td>\n",
       "      <td>...</td>\n",
       "      <td>1</td>\n",
       "      <td>No changes are necessary to the existing bylaw</td>\n",
       "      <td>ride a road bicycle or a fixie</td>\n",
       "      <td>No changes are necessary to the existing bylaw</td>\n",
       "      <td>increase signage increase enforcement increase...</td>\n",
       "      <td>only wheelchairs at walking speed</td>\n",
       "      <td>0</td>\n",
       "      <td>0</td>\n",
       "      <td>0</td>\n",
       "      <td>0</td>\n",
       "    </tr>\n",
       "  </tbody>\n",
       "</table>\n",
       "<p>3 rows × 23 columns</p>\n",
       "</div>"
      ],
      "text/plain": [
       "  What age range do you fall in? Sex  \\\n",
       "0                              2   0   \n",
       "1                              1   0   \n",
       "2                              3   0   \n",
       "\n",
       "  How would you describe your level of physical health?  \\\n",
       "0                                                  3      \n",
       "1                                                  5      \n",
       "2                                                  3      \n",
       "\n",
       "  What level of education have you reached? What is your household income?  \\\n",
       "0                                         4                              5   \n",
       "1                                         3                              2   \n",
       "2                                         3                              2   \n",
       "\n",
       "  Which category best describes your employment?  \\\n",
       "0                                              6   \n",
       "1                                              7   \n",
       "2                                              6   \n",
       "\n",
       "  What Toronto district is your primary address located in?  \\\n",
       "0                                                  1          \n",
       "1                                                  1          \n",
       "2                                                  1          \n",
       "\n",
       "  On average what distance do you travel most days of the week?  \\\n",
       "0                                                  0              \n",
       "1                                                  2              \n",
       "2                                                  2              \n",
       "\n",
       "  On average how long is your commute?  \\\n",
       "0                                    1   \n",
       "1                                    3   \n",
       "2                                    1   \n",
       "\n",
       "  Which transportation option do you end up using most often?  \\\n",
       "0                                                  4            \n",
       "1                                                  4            \n",
       "2                                                  5            \n",
       "\n",
       "                        ...                         \\\n",
       "0                       ...                          \n",
       "1                       ...                          \n",
       "2                       ...                          \n",
       "\n",
       "  Do you think more should be done to manage trail users who do not respect the 20 km/h speed limit?  \\\n",
       "0                                                  0                                                   \n",
       "1                                                  0                                                   \n",
       "2                                                  1                                                   \n",
       "\n",
       "   Currently any kind of e-bike may use a multi-use path if they are propelled by pedaling only and those propelled by motor power may be fined   \\\n",
       "0  The bylaw should be modified to allow any kind...                                                                                               \n",
       "1     No changes are necessary to the existing bylaw                                                                                               \n",
       "2     No changes are necessary to the existing bylaw                                                                                               \n",
       "\n",
       "  When you use Toronto's bicycle lanes do you mostly  \\\n",
       "0  drive a scooter type e-bike propelled by an el...   \n",
       "1  drive a scooter type e-bike propelled by an el...   \n",
       "2                     ride a road bicycle or a fixie   \n",
       "\n",
       "   Currently any kind of e-bike may use a bicycle lane if they are propelled by pedaling only and those propelled by motor power may be fined   \\\n",
       "0  The bylaw should be modified to allow e-bikes ...                                                                                             \n",
       "1  The bylaw should be modified to allow e-bikes ...                                                                                             \n",
       "2     No changes are necessary to the existing bylaw                                                                                             \n",
       "\n",
       "  With regards to illegal use of bicycles and e-bikes on sidewalks should the City   \\\n",
       "0  be tolerant of bikes and e-bikes on the walksi...                                  \n",
       "1  maintain the existing programs for signage edu...                                  \n",
       "2  increase signage increase enforcement increase...                                  \n",
       "\n",
       "  Toronto Bylaws consider personal mobility devices (such as electric wheel chairs) to be pedestrians In your opinion should the City  \\\n",
       "0              Institute a speed limit for sidewalks                                                                                    \n",
       "1                                         Do nothing                                                                                    \n",
       "2                  only wheelchairs at walking speed                                                                                    \n",
       "\n",
       "  Multi-Use Trails - # of Different Motorized Transport Modes Used  \\\n",
       "0                                                  1                 \n",
       "1                                                  0                 \n",
       "2                                                  0                 \n",
       "\n",
       "  Multi-Use Trails - # of Different Non Motorized Transport Modes Used  \\\n",
       "0                                                  1                     \n",
       "1                                                  0                     \n",
       "2                                                  0                     \n",
       "\n",
       "  # of Conflicts Involving Motorized Vehicles  \\\n",
       "0                                           0   \n",
       "1                                           0   \n",
       "2                                           0   \n",
       "\n",
       "   # of Conflicts Not-Involving Motorized Vehicles  \n",
       "0                                                2  \n",
       "1                                                0  \n",
       "2                                                0  \n",
       "\n",
       "[3 rows x 23 columns]"
      ]
     },
     "execution_count": 3584,
     "metadata": {},
     "output_type": "execute_result"
    }
   ],
   "source": [
    "# Filter & Create Boolean category\n",
    "booleanCategory = np.array([0] * len(responses))\n",
    "booleanCategory[moreShouldBeDone[moreShouldBeDone.str.contains(\"Yes\", False) & (~moreShouldBeDone.str.contains(\"No - the trails are fine as they are\"))].index] = 1\n",
    "\n",
    "# Replace Original data\n",
    "responses[\"Do you think more should be done to manage trail users who do not respect the 20 km/h speed limit?\"] = booleanCategory\n",
    "responses.head(3)"
   ]
  },
  {
   "cell_type": "markdown",
   "metadata": {},
   "source": [
    "#### Fining Rules: Multi-Use Trail Path"
   ]
  },
  {
   "cell_type": "code",
   "execution_count": 3585,
   "metadata": {},
   "outputs": [
    {
     "data": {
      "text/plain": [
       "No changes are necessary to the existing bylaw                                                                                                                                                                                                                                                                                                                                                                                                                                                                                                            811\n",
       "Motorized vehicles should generally not be allowed on the trail but a special provision should be made for e-bike users who are medically unable to propel a conventional bicycle using muscular power alone                                                                                                                                                                                                                                                                                                                                              631\n",
       "The bylaw should be modified to allow the 'pedal assist bicycle' type of e-bikes                                                                                                                                                                                                                                                                                                                                                                                                                                                                          289\n",
       "The bylaw should be modified to allow any kind of e-bike including scooter type e-bikes use the trail                                                                                                                                                                                                                                                                                                                                                                                                                                                     141\n",
       "No changes are necessary to the existing bylaw Motorized vehicles should generally not be allowed on the trail but a special provision should be made for e-bike users who are medically unable to propel a conventional bicycle using muscular power alone                                                                                                                                                                                                                                                                                               112\n",
       "The bylaw should be modified to allow the 'pedal assist bicycle' type of e-bikes Motorized vehicles should generally not be allowed on the trail but a special provision should be made for e-bike users who are medically unable to propel a conventional bicycle using muscular power alone                                                                                                                                                                                                                                                              81\n",
       "The bylaw should be modified to allow the 'pedal assist bicycle' type of e-bikes The bylaw should be modified to allow any kind of e-bike including scooter type e-bikes use the trail                                                                                                                                                                                                                                                                                                                                                                     49\n",
       "The bylaw should be rescinded so that any kind of recreational motor vehicle can drive on the trail                                                                                                                                                                                                                                                                                                                                                                                                                                                        27\n",
       "The bylaw should be modified to allow any kind of e-bike including scooter type e-bikes use the trail Motorized vehicles should generally not be allowed on the trail but a special provision should be made for e-bike users who are medically unable to propel a conventional bicycle using muscular power alone                                                                                                                                                                                                                                         20\n",
       "The bylaw should be modified to allow the 'pedal assist bicycle' type of e-bikes The bylaw should be modified to allow any kind of e-bike including scooter type e-bikes use the trail Motorized vehicles should generally not be allowed on the trail but a special provision should be made for e-bike users who are medically unable to propel a conventional bicycle using muscular power alone                                                                                                                                                        14\n",
       "No changes are necessary to the existing bylaw The bylaw should be modified to allow the 'pedal assist bicycle' type of e-bikes Motorized vehicles should generally not be allowed on the trail but a special provision should be made for e-bike users who are medically unable to propel a conventional bicycle using muscular power alone                                                                                                                                                                                                               10\n",
       "The bylaw should be modified to allow any kind of e-bike including scooter type e-bikes use the trail The bylaw should be rescinded so that any kind of recreational motor vehicle can drive on the trail                                                                                                                                                                                                                                                                                                                                                  10\n",
       "No changes are necessary to the existing bylaw The bylaw should be modified to allow the 'pedal assist bicycle' type of e-bikes                                                                                                                                                                                                                                                                                                                                                                                                                             9\n",
       "The bylaw should be modified to allow the 'pedal assist bicycle' type of e-bikes The bylaw should be modified to allow any kind of e-bike including scooter type e-bikes use the trail The bylaw should be rescinded so that any kind of recreational motor vehicle can drive on the trail                                                                                                                                                                                                                                                                  9\n",
       "The bylaw should be rescinded so that any kind of recreational motor vehicle can drive on the trail Motorized vehicles should generally not be allowed on the trail but a special provision should be made for e-bike users who are medically unable to propel a conventional bicycle using muscular power alone                                                                                                                                                                                                                                            6\n",
       "No changes are necessary to the existing bylaw The bylaw should be modified to allow the 'pedal assist bicycle' type of e-bikes The bylaw should be modified to allow any kind of e-bike including scooter type e-bikes use the trail                                                                                                                                                                                                                                                                                                                       5\n",
       "The bylaw should be modified to allow any kind of e-bike including scooter type e-bikes use the trail The bylaw should be rescinded so that any kind of recreational motor vehicle can drive on the trail Motorized vehicles should generally not be allowed on the trail but a special provision should be made for e-bike users who are medically unable to propel a conventional bicycle using muscular power alone                                                                                                                                      4\n",
       "No changes are necessary to the existing bylaw The bylaw should be modified to allow the 'pedal assist bicycle' type of e-bikes The bylaw should be modified to allow any kind of e-bike including scooter type e-bikes use the trail The bylaw should be rescinded so that any kind of recreational motor vehicle can drive on the trail                                                                                                                                                                                                                   2\n",
       "No changes are necessary to the existing bylaw The bylaw should be rescinded so that any kind of recreational motor vehicle can drive on the trail                                                                                                                                                                                                                                                                                                                                                                                                          2\n",
       "The bylaw should be modified to allow e-bikes which can be pedaled and look like bicycles to use power assist up to 32 km/h                                                                                                                                                                                                                                                                                                                                                                                                                                 1\n",
       "No changes are necessary to the existing bylaw The bylaw should be modified to allow the 'pedal assist bicycle' type of e-bikes The bylaw should be modified to allow any kind of e-bike including scooter type e-bikes use the trail The bylaw should be rescinded so that any kind of recreational motor vehicle can drive on the trail Motorized vehicles should generally not be allowed on the trail but a special provision should be made for e-bike users who are medically unable to propel a conventional bicycle using muscular power alone      1\n",
       "No changes are necessary to the existing bylaw The bylaw should be modified to allow any kind of e-bike including scooter type e-bikes use the trail The bylaw should be rescinded so that any kind of recreational motor vehicle can drive on the trail Motorized vehicles should generally not be allowed on the trail but a special provision should be made for e-bike users who are medically unable to propel a conventional bicycle using muscular power alone                                                                                       1\n",
       "No changes are necessary to the existing bylaw The bylaw should be modified to allow any kind of e-bike including scooter type e-bikes use the trail                                                                                                                                                                                                                                                                                                                                                                                                        1\n",
       "The bylaw should be modified to allow the 'pedal assist bicycle' type of e-bikes The bylaw should be rescinded so that any kind of recreational motor vehicle can drive on the trail                                                                                                                                                                                                                                                                                                                                                                        1\n",
       "The bylaw should be modified to allow the 'pedal assist bicycle' type of e-bikes The bylaw should be modified to allow any kind of e-bike including scooter type e-bikes use the trail The bylaw should be rescinded so that any kind of recreational motor vehicle can drive on the trail Motorized vehicles should generally not be allowed on the trail but a special provision should be made for e-bike users who are medically unable to propel a conventional bicycle using muscular power alone                                                     1\n",
       "Name: Currently any kind of e-bike may use a multi-use path if they are propelled by pedaling only and those propelled by motor power may be fined , dtype: int64"
      ]
     },
     "execution_count": 3585,
     "metadata": {},
     "output_type": "execute_result"
    }
   ],
   "source": [
    "finingRules = responses[\"Currently any kind of e-bike may use a multi-use path if they are propelled by pedaling only and those propelled by motor power may be fined \"]\n",
    "finingRules.value_counts()"
   ]
  },
  {
   "cell_type": "markdown",
   "metadata": {},
   "source": [
    "Looking at the checklist categories:\n",
    "\n",
    "1. No changes are necessary to the existing bylaw\n",
    "2. The bylaw should be modified to allow the 'pedal assist bicycle' type of e-bikes\n",
    "3. The bylaw should be modified to allow any kind of e-bike including scooter type e-bikes use the trail\n",
    "4. The bylaw should be rescinded so that any kind of recreational motor vehicle can drive on the trail\n",
    "5. Motorized vehicles should generally not be allowed on the trail but a special provision should be made for e-bike users who are medically unable to propel a conventional bicycle using muscular power alone\n",
    "\n",
    "Similar to the above category, these features can be grouped into a single boolean value, which indicates whether the Bylaw should be changed/modified or not.\n",
    "\n",
    "Following the same edge-case protocol, if someone responds with both \"No changes are necessary to the existing bylaw\" and another bylaw modification, we will assume/default to a \"No\"/0."
   ]
  },
  {
   "cell_type": "code",
   "execution_count": 3586,
   "metadata": {},
   "outputs": [],
   "source": [
    "# Filter & Create Boolean category\n",
    "booleanCategory = np.array([0] * len(responses))\n",
    "booleanCategory[finingRules[(finingRules.str.contains(\"The bylaw should be modified to allow the 'pedal assist bicycle' type of e-bikes\", False) | finingRules.str.contains(\"The bylaw should be modified to allow any kind of e-bike including scooter type e-bikes use the trail\", False) | finingRules.str.contains(\"The bylaw should be rescinded so that any kind of recreational motor vehicle can drive on the trail\", False) | finingRules.str.contains(\"Motorized vehicles should generally not be allowed on the trail but a special provision should be made for e-bike users who are medically unable to propel a conventional bicycle using muscular power alone\", False)) & (~finingRules.str.contains(\"No changes are necessary to the existing bylaw\"))].index] = 1\n",
    "\n",
    "# Replace Original data\n",
    "responses.drop(\"Currently any kind of e-bike may use a multi-use path if they are propelled by pedaling only and those propelled by motor power may be fined \", axis = 1, inplace = True)\n",
    "responses[\"Bylaws regarding e-bikes in multi-use trails should be Changed (1) / Maintained (0)\"] = booleanCategory\n"
   ]
  },
  {
   "cell_type": "code",
   "execution_count": 3587,
   "metadata": {},
   "outputs": [
    {
     "data": {
      "text/html": [
       "<div>\n",
       "<table border=\"1\" class=\"dataframe\">\n",
       "  <thead>\n",
       "    <tr style=\"text-align: right;\">\n",
       "      <th></th>\n",
       "      <th>What age range do you fall in?</th>\n",
       "      <th>Sex</th>\n",
       "      <th>How would you describe your level of physical health?</th>\n",
       "      <th>What level of education have you reached?</th>\n",
       "      <th>What is your household income?</th>\n",
       "      <th>Which category best describes your employment?</th>\n",
       "      <th>What Toronto district is your primary address located in?</th>\n",
       "      <th>On average what distance do you travel most days of the week?</th>\n",
       "      <th>On average how long is your commute?</th>\n",
       "      <th>Which transportation option do you end up using most often?</th>\n",
       "      <th>...</th>\n",
       "      <th>Do you think more should be done to manage trail users who do not respect the 20 km/h speed limit?</th>\n",
       "      <th>When you use Toronto's bicycle lanes do you mostly</th>\n",
       "      <th>Currently any kind of e-bike may use a bicycle lane if they are propelled by pedaling only and those propelled by motor power may be fined</th>\n",
       "      <th>With regards to illegal use of bicycles and e-bikes on sidewalks should the City</th>\n",
       "      <th>Toronto Bylaws consider personal mobility devices (such as electric wheel chairs) to be pedestrians In your opinion should the City</th>\n",
       "      <th>Multi-Use Trails - # of Different Motorized Transport Modes Used</th>\n",
       "      <th>Multi-Use Trails - # of Different Non Motorized Transport Modes Used</th>\n",
       "      <th># of Conflicts Involving Motorized Vehicles</th>\n",
       "      <th># of Conflicts Not-Involving Motorized Vehicles</th>\n",
       "      <th>Bylaws regarding e-bikes in multi-use trails should be Changed (1) / Maintained (0)</th>\n",
       "    </tr>\n",
       "  </thead>\n",
       "  <tbody>\n",
       "    <tr>\n",
       "      <th>0</th>\n",
       "      <td>2</td>\n",
       "      <td>0</td>\n",
       "      <td>3</td>\n",
       "      <td>4</td>\n",
       "      <td>5</td>\n",
       "      <td>6</td>\n",
       "      <td>1</td>\n",
       "      <td>0</td>\n",
       "      <td>1</td>\n",
       "      <td>4</td>\n",
       "      <td>...</td>\n",
       "      <td>0</td>\n",
       "      <td>drive a scooter type e-bike propelled by an el...</td>\n",
       "      <td>The bylaw should be modified to allow e-bikes ...</td>\n",
       "      <td>be tolerant of bikes and e-bikes on the walksi...</td>\n",
       "      <td>Institute a speed limit for sidewalks</td>\n",
       "      <td>1</td>\n",
       "      <td>1</td>\n",
       "      <td>0</td>\n",
       "      <td>2</td>\n",
       "      <td>1</td>\n",
       "    </tr>\n",
       "    <tr>\n",
       "      <th>1</th>\n",
       "      <td>1</td>\n",
       "      <td>0</td>\n",
       "      <td>5</td>\n",
       "      <td>3</td>\n",
       "      <td>2</td>\n",
       "      <td>7</td>\n",
       "      <td>1</td>\n",
       "      <td>2</td>\n",
       "      <td>3</td>\n",
       "      <td>4</td>\n",
       "      <td>...</td>\n",
       "      <td>0</td>\n",
       "      <td>drive a scooter type e-bike propelled by an el...</td>\n",
       "      <td>The bylaw should be modified to allow e-bikes ...</td>\n",
       "      <td>maintain the existing programs for signage edu...</td>\n",
       "      <td>Do nothing</td>\n",
       "      <td>0</td>\n",
       "      <td>0</td>\n",
       "      <td>0</td>\n",
       "      <td>0</td>\n",
       "      <td>0</td>\n",
       "    </tr>\n",
       "    <tr>\n",
       "      <th>2</th>\n",
       "      <td>3</td>\n",
       "      <td>0</td>\n",
       "      <td>3</td>\n",
       "      <td>3</td>\n",
       "      <td>2</td>\n",
       "      <td>6</td>\n",
       "      <td>1</td>\n",
       "      <td>2</td>\n",
       "      <td>1</td>\n",
       "      <td>5</td>\n",
       "      <td>...</td>\n",
       "      <td>1</td>\n",
       "      <td>ride a road bicycle or a fixie</td>\n",
       "      <td>No changes are necessary to the existing bylaw</td>\n",
       "      <td>increase signage increase enforcement increase...</td>\n",
       "      <td>only wheelchairs at walking speed</td>\n",
       "      <td>0</td>\n",
       "      <td>0</td>\n",
       "      <td>0</td>\n",
       "      <td>0</td>\n",
       "      <td>0</td>\n",
       "    </tr>\n",
       "  </tbody>\n",
       "</table>\n",
       "<p>3 rows × 23 columns</p>\n",
       "</div>"
      ],
      "text/plain": [
       "  What age range do you fall in? Sex  \\\n",
       "0                              2   0   \n",
       "1                              1   0   \n",
       "2                              3   0   \n",
       "\n",
       "  How would you describe your level of physical health?  \\\n",
       "0                                                  3      \n",
       "1                                                  5      \n",
       "2                                                  3      \n",
       "\n",
       "  What level of education have you reached? What is your household income?  \\\n",
       "0                                         4                              5   \n",
       "1                                         3                              2   \n",
       "2                                         3                              2   \n",
       "\n",
       "  Which category best describes your employment?  \\\n",
       "0                                              6   \n",
       "1                                              7   \n",
       "2                                              6   \n",
       "\n",
       "  What Toronto district is your primary address located in?  \\\n",
       "0                                                  1          \n",
       "1                                                  1          \n",
       "2                                                  1          \n",
       "\n",
       "  On average what distance do you travel most days of the week?  \\\n",
       "0                                                  0              \n",
       "1                                                  2              \n",
       "2                                                  2              \n",
       "\n",
       "  On average how long is your commute?  \\\n",
       "0                                    1   \n",
       "1                                    3   \n",
       "2                                    1   \n",
       "\n",
       "  Which transportation option do you end up using most often?  \\\n",
       "0                                                  4            \n",
       "1                                                  4            \n",
       "2                                                  5            \n",
       "\n",
       "                                          ...                                           \\\n",
       "0                                         ...                                            \n",
       "1                                         ...                                            \n",
       "2                                         ...                                            \n",
       "\n",
       "  Do you think more should be done to manage trail users who do not respect the 20 km/h speed limit?  \\\n",
       "0                                                  0                                                   \n",
       "1                                                  0                                                   \n",
       "2                                                  1                                                   \n",
       "\n",
       "   When you use Toronto's bicycle lanes do you mostly  \\\n",
       "0  drive a scooter type e-bike propelled by an el...    \n",
       "1  drive a scooter type e-bike propelled by an el...    \n",
       "2                     ride a road bicycle or a fixie    \n",
       "\n",
       "  Currently any kind of e-bike may use a bicycle lane if they are propelled by pedaling only and those propelled by motor power may be fined   \\\n",
       "0  The bylaw should be modified to allow e-bikes ...                                                                                            \n",
       "1  The bylaw should be modified to allow e-bikes ...                                                                                            \n",
       "2     No changes are necessary to the existing bylaw                                                                                            \n",
       "\n",
       "   With regards to illegal use of bicycles and e-bikes on sidewalks should the City   \\\n",
       "0  be tolerant of bikes and e-bikes on the walksi...                                   \n",
       "1  maintain the existing programs for signage edu...                                   \n",
       "2  increase signage increase enforcement increase...                                   \n",
       "\n",
       "  Toronto Bylaws consider personal mobility devices (such as electric wheel chairs) to be pedestrians In your opinion should the City  \\\n",
       "0              Institute a speed limit for sidewalks                                                                                    \n",
       "1                                         Do nothing                                                                                    \n",
       "2                  only wheelchairs at walking speed                                                                                    \n",
       "\n",
       "  Multi-Use Trails - # of Different Motorized Transport Modes Used  \\\n",
       "0                                                  1                 \n",
       "1                                                  0                 \n",
       "2                                                  0                 \n",
       "\n",
       "  Multi-Use Trails - # of Different Non Motorized Transport Modes Used  \\\n",
       "0                                                  1                     \n",
       "1                                                  0                     \n",
       "2                                                  0                     \n",
       "\n",
       "  # of Conflicts Involving Motorized Vehicles  \\\n",
       "0                                           0   \n",
       "1                                           0   \n",
       "2                                           0   \n",
       "\n",
       "   # of Conflicts Not-Involving Motorized Vehicles  \\\n",
       "0                                                2   \n",
       "1                                                0   \n",
       "2                                                0   \n",
       "\n",
       "   Bylaws regarding e-bikes in multi-use trails should be Changed (1) / Maintained (0)  \n",
       "0                                                  1                                    \n",
       "1                                                  0                                    \n",
       "2                                                  0                                    \n",
       "\n",
       "[3 rows x 23 columns]"
      ]
     },
     "execution_count": 3587,
     "metadata": {},
     "output_type": "execute_result"
    }
   ],
   "source": [
    "responses.head(3)"
   ]
  },
  {
   "cell_type": "markdown",
   "metadata": {},
   "source": [
    "#### Bicycle Lanes"
   ]
  },
  {
   "cell_type": "code",
   "execution_count": 3588,
   "metadata": {},
   "outputs": [
    {
     "data": {
      "text/plain": [
       "ride a commuter or cruiser style bicycle                                                                                                                                                                                                             705\n",
       "ride a road bicycle or a fixie                                                                                                                                                                                                                       574\n",
       "ride a mountain downhill or BMX bicycle                                                                                                                                                                                                              347\n",
       "I do not use bicycle lanes                                                                                                                                                                                                                           288\n",
       "pedal a pedal assist type e-bike                                                                                                                                                                                                                     117\n",
       "drive a scooter type e-bike propelled by an electric motor                                                                                                                                                                                           109\n",
       "ride a folding or recumbent                                                                                                                                                                                                                           30\n",
       "Bixi                                                                                                                                                                                                                                                   3\n",
       "ride bike pulling trailer with kids                                                                                                                                                                                                                    2\n",
       "Motorcycle                                                                                                                                                                                                                                             2\n",
       "I ride a hybrid                                                                                                                                                                                                                                        2\n",
       "ride a hybrid bicycle                                                                                                                                                                                                                                  2\n",
       "rollerblades                                                                                                                                                                                                                                           1\n",
       "there are no bicycle lanes on my commute but i use a cruiser/commuter bike                                                                                                                                                                             1\n",
       "Cruisers and single speed                                                                                                                                                                                                                              1\n",
       "unlike mississauga i use the ebike roadway                                                                                                                                                                                                             1\n",
       "cant use bike lanes due to bylaw                                                                                                                                                                                                                       1\n",
       "You folks realize that most pedal-assist e-bikes have throttles too right? Pedaling is optional regardless of the frame type                                                                                                                           1\n",
       "ride a touring bike - a road bicycle built for comfort and efficiency not speed                                                                                                                                                                        1\n",
       "yes in mississauga/no in toronto                                                                                                                                                                                                                       1\n",
       "If lane is in occupied by bikes I do drive on it but if it has lots of bikes I don't                                                                                                                                                                   1\n",
       "there is no option in the previous question to say -- no ebikes at all on bike trails -- no roller blades or assisted vehicles                                                                                                                         1\n",
       "tandem                                                                                                                                                                                                                                                 1\n",
       "motor an electric assist bicycle                                                                                                                                                                                                                       1\n",
       "I commute on different kinds of bikes                                                                                                                                                                                                                  1\n",
       "I ride my motorcycle in the bicycle lanes                                                                                                                                                                                                              1\n",
       "Cargo bike                                                                                                                                                                                                                                             1\n",
       "As a motorcyclist I think bicycle lanes should be used for motorcycles to pass other vehicles when safe to do so and at red lights                                                                                                                     1\n",
       "use bicycle lanes only to avoid slowing down car traffic only when bicycles are not in sight                                                                                                                                                           1\n",
       "50 - 50 road bike and commuter bike depending on weather                                                                                                                                                                                               1\n",
       "                                                                                                                                                                                                                                                    ... \n",
       "I do not like riding my pedal cruiser style bike on the road bike lanes any more too dangerous Even the paths and trails can be dangerous now too                                                                                                      1\n",
       "oops                                                                                                                                                                                                                                                   1\n",
       "I commute on my '80s steel road bike with upright bars a free wheel and a single speed                                                                                                                                                                 1\n",
       "I only use bike lanes with my e-bike when necessary as I know it is currently illegal                                                                                                                                                                  1\n",
       "electric assist recumbent bicycle                                                                                                                                                                                                                      1\n",
       "tandem bike                                                                                                                                                                                                                                            1\n",
       "I used to ride a commuter bicycle but then it got stolen I don't want to buy another one because they just get stolen all the time                                                                                                                     1\n",
       "BIXI                                                                                                                                                                                                                                                   1\n",
       "Do not use e-bikes may not use bike lanes Bylaw #886                                                                                                                                                                                                   1\n",
       "three wheel bicycle                                                                                                                                                                                                                                    1\n",
       "bike with a trailer bike for my son                                                                                                                                                                                                                    1\n",
       "I don't bike any more                                                                                                                                                                                                                                  1\n",
       "Why not just ask if we ride an e-bike or not? Fixie cruiser etc is irrelevant                                                                                                                                                                          1\n",
       "i have several bikes                                                                                                                                                                                                                                   1\n",
       "I do not use bicycle lanes because the city does not put the safety of cyclists first by any means and I would be frankly terrified to cycle downtown I much prefer Montreal's bike lanes that are wholly separate from both roads and sidewalks       1\n",
       "Duel Sport Bicycle                                                                                                                                                                                                                                     1\n",
       "use the motor on a pedal assist type e-bike                                                                                                                                                                                                            1\n",
       "hybrid                                                                                                                                                                                                                                                 1\n",
       "skateboard/longboard                                                                                                                                                                                                                                   1\n",
       "cargo trike                                                                                                                                                                                                                                            1\n",
       "5000W custom high power electric bicycle (non-scooter)                                                                                                                                                                                                 1\n",
       "commuter bike WITH trailer                                                                                                                                                                                                                             1\n",
       "ride a cargo bike                                                                                                                                                                                                                                      1\n",
       "use a bixi                                                                                                                                                                                                                                             1\n",
       "I ride a single speed bike but rarely if ever in bike lanes; I can keep up with motor vehicle traffic traffic on my bike and I feel unsafe in bike lanes due to all of the scooter-style e-bikes                                                       1\n",
       "what's a fixie?                                                                                                                                                                                                                                        1\n",
       "my bicycle is attached to my mom's                                                                                                                                                                                                                     1\n",
       "If I purchase an e-bike them I would like to be able to use it on bike lanes responsiby                                                                                                                                                                1\n",
       "Muscle-powered tricycle                                                                                                                                                                                                                                1\n",
       "A touring bike  It's basically a cross between a commuter and a road bike                                                                                                                                                                              1\n",
       "Name: When you use Toronto's bicycle lanes do you mostly, dtype: int64"
      ]
     },
     "execution_count": 3588,
     "metadata": {},
     "output_type": "execute_result"
    }
   ],
   "source": [
    "bicycleLaneUseage = responses[\"When you use Toronto's bicycle lanes do you mostly\"]\n",
    "bicycleLaneUseage.value_counts()"
   ]
  },
  {
   "cell_type": "code",
   "execution_count": 3589,
   "metadata": {},
   "outputs": [
    {
     "data": {
      "text/plain": [
       "count                                         2238\n",
       "unique                                          69\n",
       "top       ride a commuter or cruiser style bicycle\n",
       "freq                                           705\n",
       "Name: When you use Toronto's bicycle lanes do you mostly, dtype: object"
      ]
     },
     "execution_count": 3589,
     "metadata": {},
     "output_type": "execute_result"
    }
   ],
   "source": [
    "bicycleLaneUseage.describe()"
   ]
  },
  {
   "cell_type": "markdown",
   "metadata": {},
   "source": [
    "Although there are no missing values, there is quite a bit of variability in the input data which needs to be resolved. The common responses seem to be:\n",
    "\n",
    "1. Cruiser/Commuter bicycle\n",
    "2. Road bicycle\n",
    "3. Mountain bicycle\n",
    "4. Pedal assist E-bike\n",
    "5. Motor Propelled E-bike\n",
    "6. Other vehicle/mode of transport (i.e. roller blades, skateboard)\n",
    "7. Do not use bicycle lanes\n",
    "\n",
    "From this information, the features that really seem relevant are whether the person uses an E-bike or not, the actual type of bicycle utilized is not relevant for our final classification task (prediciting access to motorized vehicles). Thus, this feature can be re-engineered as a boolean value!\n"
   ]
  },
  {
   "cell_type": "code",
   "execution_count": 3590,
   "metadata": {},
   "outputs": [
    {
     "data": {
      "text/html": [
       "<div>\n",
       "<table border=\"1\" class=\"dataframe\">\n",
       "  <thead>\n",
       "    <tr style=\"text-align: right;\">\n",
       "      <th></th>\n",
       "      <th>What age range do you fall in?</th>\n",
       "      <th>Sex</th>\n",
       "      <th>How would you describe your level of physical health?</th>\n",
       "      <th>What level of education have you reached?</th>\n",
       "      <th>What is your household income?</th>\n",
       "      <th>Which category best describes your employment?</th>\n",
       "      <th>What Toronto district is your primary address located in?</th>\n",
       "      <th>On average what distance do you travel most days of the week?</th>\n",
       "      <th>On average how long is your commute?</th>\n",
       "      <th>Which transportation option do you end up using most often?</th>\n",
       "      <th>...</th>\n",
       "      <th>Do you think more should be done to manage trail users who do not respect the 20 km/h speed limit?</th>\n",
       "      <th>Currently any kind of e-bike may use a bicycle lane if they are propelled by pedaling only and those propelled by motor power may be fined</th>\n",
       "      <th>With regards to illegal use of bicycles and e-bikes on sidewalks should the City</th>\n",
       "      <th>Toronto Bylaws consider personal mobility devices (such as electric wheel chairs) to be pedestrians In your opinion should the City</th>\n",
       "      <th>Multi-Use Trails - # of Different Motorized Transport Modes Used</th>\n",
       "      <th>Multi-Use Trails - # of Different Non Motorized Transport Modes Used</th>\n",
       "      <th># of Conflicts Involving Motorized Vehicles</th>\n",
       "      <th># of Conflicts Not-Involving Motorized Vehicles</th>\n",
       "      <th>Bylaws regarding e-bikes in multi-use trails should be Changed (1) / Maintained (0)</th>\n",
       "      <th>Use E-bikes on Toronto's bicycle lanes? Yes (1) / No (0)</th>\n",
       "    </tr>\n",
       "  </thead>\n",
       "  <tbody>\n",
       "    <tr>\n",
       "      <th>0</th>\n",
       "      <td>2</td>\n",
       "      <td>0</td>\n",
       "      <td>3</td>\n",
       "      <td>4</td>\n",
       "      <td>5</td>\n",
       "      <td>6</td>\n",
       "      <td>1</td>\n",
       "      <td>0</td>\n",
       "      <td>1</td>\n",
       "      <td>4</td>\n",
       "      <td>...</td>\n",
       "      <td>0</td>\n",
       "      <td>The bylaw should be modified to allow e-bikes ...</td>\n",
       "      <td>be tolerant of bikes and e-bikes on the walksi...</td>\n",
       "      <td>Institute a speed limit for sidewalks</td>\n",
       "      <td>1</td>\n",
       "      <td>1</td>\n",
       "      <td>0</td>\n",
       "      <td>2</td>\n",
       "      <td>1</td>\n",
       "      <td>1</td>\n",
       "    </tr>\n",
       "    <tr>\n",
       "      <th>1</th>\n",
       "      <td>1</td>\n",
       "      <td>0</td>\n",
       "      <td>5</td>\n",
       "      <td>3</td>\n",
       "      <td>2</td>\n",
       "      <td>7</td>\n",
       "      <td>1</td>\n",
       "      <td>2</td>\n",
       "      <td>3</td>\n",
       "      <td>4</td>\n",
       "      <td>...</td>\n",
       "      <td>0</td>\n",
       "      <td>The bylaw should be modified to allow e-bikes ...</td>\n",
       "      <td>maintain the existing programs for signage edu...</td>\n",
       "      <td>Do nothing</td>\n",
       "      <td>0</td>\n",
       "      <td>0</td>\n",
       "      <td>0</td>\n",
       "      <td>0</td>\n",
       "      <td>0</td>\n",
       "      <td>1</td>\n",
       "    </tr>\n",
       "    <tr>\n",
       "      <th>2</th>\n",
       "      <td>3</td>\n",
       "      <td>0</td>\n",
       "      <td>3</td>\n",
       "      <td>3</td>\n",
       "      <td>2</td>\n",
       "      <td>6</td>\n",
       "      <td>1</td>\n",
       "      <td>2</td>\n",
       "      <td>1</td>\n",
       "      <td>5</td>\n",
       "      <td>...</td>\n",
       "      <td>1</td>\n",
       "      <td>No changes are necessary to the existing bylaw</td>\n",
       "      <td>increase signage increase enforcement increase...</td>\n",
       "      <td>only wheelchairs at walking speed</td>\n",
       "      <td>0</td>\n",
       "      <td>0</td>\n",
       "      <td>0</td>\n",
       "      <td>0</td>\n",
       "      <td>0</td>\n",
       "      <td>0</td>\n",
       "    </tr>\n",
       "  </tbody>\n",
       "</table>\n",
       "<p>3 rows × 23 columns</p>\n",
       "</div>"
      ],
      "text/plain": [
       "  What age range do you fall in? Sex  \\\n",
       "0                              2   0   \n",
       "1                              1   0   \n",
       "2                              3   0   \n",
       "\n",
       "  How would you describe your level of physical health?  \\\n",
       "0                                                  3      \n",
       "1                                                  5      \n",
       "2                                                  3      \n",
       "\n",
       "  What level of education have you reached? What is your household income?  \\\n",
       "0                                         4                              5   \n",
       "1                                         3                              2   \n",
       "2                                         3                              2   \n",
       "\n",
       "  Which category best describes your employment?  \\\n",
       "0                                              6   \n",
       "1                                              7   \n",
       "2                                              6   \n",
       "\n",
       "  What Toronto district is your primary address located in?  \\\n",
       "0                                                  1          \n",
       "1                                                  1          \n",
       "2                                                  1          \n",
       "\n",
       "  On average what distance do you travel most days of the week?  \\\n",
       "0                                                  0              \n",
       "1                                                  2              \n",
       "2                                                  2              \n",
       "\n",
       "  On average how long is your commute?  \\\n",
       "0                                    1   \n",
       "1                                    3   \n",
       "2                                    1   \n",
       "\n",
       "  Which transportation option do you end up using most often?  \\\n",
       "0                                                  4            \n",
       "1                                                  4            \n",
       "2                                                  5            \n",
       "\n",
       "                             ...                             \\\n",
       "0                            ...                              \n",
       "1                            ...                              \n",
       "2                            ...                              \n",
       "\n",
       "  Do you think more should be done to manage trail users who do not respect the 20 km/h speed limit?  \\\n",
       "0                                                  0                                                   \n",
       "1                                                  0                                                   \n",
       "2                                                  1                                                   \n",
       "\n",
       "   Currently any kind of e-bike may use a bicycle lane if they are propelled by pedaling only and those propelled by motor power may be fined   \\\n",
       "0  The bylaw should be modified to allow e-bikes ...                                                                                             \n",
       "1  The bylaw should be modified to allow e-bikes ...                                                                                             \n",
       "2     No changes are necessary to the existing bylaw                                                                                             \n",
       "\n",
       "  With regards to illegal use of bicycles and e-bikes on sidewalks should the City   \\\n",
       "0  be tolerant of bikes and e-bikes on the walksi...                                  \n",
       "1  maintain the existing programs for signage edu...                                  \n",
       "2  increase signage increase enforcement increase...                                  \n",
       "\n",
       "   Toronto Bylaws consider personal mobility devices (such as electric wheel chairs) to be pedestrians In your opinion should the City  \\\n",
       "0              Institute a speed limit for sidewalks                                                                                     \n",
       "1                                         Do nothing                                                                                     \n",
       "2                  only wheelchairs at walking speed                                                                                     \n",
       "\n",
       "  Multi-Use Trails - # of Different Motorized Transport Modes Used  \\\n",
       "0                                                  1                 \n",
       "1                                                  0                 \n",
       "2                                                  0                 \n",
       "\n",
       "  Multi-Use Trails - # of Different Non Motorized Transport Modes Used  \\\n",
       "0                                                  1                     \n",
       "1                                                  0                     \n",
       "2                                                  0                     \n",
       "\n",
       "  # of Conflicts Involving Motorized Vehicles  \\\n",
       "0                                           0   \n",
       "1                                           0   \n",
       "2                                           0   \n",
       "\n",
       "   # of Conflicts Not-Involving Motorized Vehicles  \\\n",
       "0                                                2   \n",
       "1                                                0   \n",
       "2                                                0   \n",
       "\n",
       "   Bylaws regarding e-bikes in multi-use trails should be Changed (1) / Maintained (0)  \\\n",
       "0                                                  1                                     \n",
       "1                                                  0                                     \n",
       "2                                                  0                                     \n",
       "\n",
       "   Use E-bikes on Toronto's bicycle lanes? Yes (1) / No (0)  \n",
       "0                                                  1         \n",
       "1                                                  1         \n",
       "2                                                  0         \n",
       "\n",
       "[3 rows x 23 columns]"
      ]
     },
     "execution_count": 3590,
     "metadata": {},
     "output_type": "execute_result"
    }
   ],
   "source": [
    "ebikesBoolean = np.array([0] * len(responses))\n",
    "\n",
    "# Exact responses\n",
    "ebikesBoolean[bicycleLaneUseage[bicycleLaneUseage == \"pedal a pedal assist type e-bike\"].index] = 1\n",
    "ebikesBoolean[bicycleLaneUseage[bicycleLaneUseage == \"drive a scooter type e-bike propelled by an electric motor\"].index] = 1\n",
    "\n",
    "# Filter out edge cases - there's still a few one-offs but they can be accounted for as error\n",
    "ebikesBoolean[bicycleLaneUseage[bicycleLaneUseage.str.contains(\"electric\", False) & (bicycleLaneUseage != \"drive a scooter type e-bike propelled by an electric motor\")].index] = 1\n",
    "\n",
    "# Replace data in current column with boolean values\n",
    "responses.drop(\"When you use Toronto's bicycle lanes do you mostly\", axis = 1, inplace = True)\n",
    "responses[\"Use E-bikes on Toronto's bicycle lanes? Yes (1) / No (0)\"] = ebikesBoolean\n",
    "\n",
    "responses.head(3)"
   ]
  },
  {
   "cell_type": "markdown",
   "metadata": {},
   "source": [
    "#### Bicycle Trail Fining Rules"
   ]
  },
  {
   "cell_type": "code",
   "execution_count": 3591,
   "metadata": {},
   "outputs": [
    {
     "data": {
      "text/plain": [
       "No changes are necessary to the existing bylaw                                                                                                                                                                                                                                                                                                                                                                                                                                                                                                                                                            664\n",
       "Motorized vehicles should generally not be allowed in bicycle lanes but a special provision should be made for e-bike users who are medically unable to propel a conventional bicycle using muscular power alone                                                                                                                                                                                                                                                                                                                                                                                          415\n",
       "The bylaw should be modified to allow 'pedal assist' type e-bikes to pedal but get a battery boost                                                                                                                                                                                                                                                                                                                                                                                                                                                                                                        169\n",
       "The bylaw should be modified to allow all kinds of e-bikes to drive in bicycle lanes without pedalling but there should be some restrictions (eg width weight speed)                                                                                                                                                                                                                                                                                                                                                                                                                                      159\n",
       "The bylaw should be modified to allow e-bikes to drive in bicycle lanes using their motors and not pedalling without any restrictions set in place by the City (eg width weight speed)                                                                                                                                                                                                                                                                                                                                                                                                                    152\n",
       "The bylaw should be modified to allow 'pedal assist' type e-bikes to pedal but get a battery boost The bylaw should be modified to allow all kinds of e-bikes to drive in bicycle lanes without pedalling but there should be some restrictions (eg width weight speed)                                                                                                                                                                                                                                                                                                                                    73\n",
       "No changes are necessary to the existing bylaw Motorized vehicles should generally not be allowed in bicycle lanes but a special provision should be made for e-bike users who are medically unable to propel a conventional bicycle using muscular power alone                                                                                                                                                                                                                                                                                                                                            70\n",
       "The bylaw should be modified to allow e-bikes to use bicycle lanes in suburban areas but not in busy downtown bicycle lanes Motorized vehicles should generally not be allowed in bicycle lanes but a special provision should be made for e-bike users who are medically unable to propel a conventional bicycle using muscular power alone                                                                                                                                                                                                                                                               41\n",
       "The bylaw should be modified to allow 'pedal assist' type e-bikes to pedal but get a battery boost Motorized vehicles should generally not be allowed in bicycle lanes but a special provision should be made for e-bike users who are medically unable to propel a conventional bicycle using muscular power alone                                                                                                                                                                                                                                                                                        37\n",
       "The bylaw should be modified to allow e-bikes to use bicycle lanes in suburban areas but not in busy downtown bicycle lanes                                                                                                                                                                                                                                                                                                                                                                                                                                                                                31\n",
       "The bylaw should be modified to allow 'pedal assist' type e-bikes to pedal but get a battery boost The bylaw should be modified to allow e-bikes to drive in bicycle lanes using their motors and not pedalling without any restrictions set in place by the City (eg width weight speed)                                                                                                                                                                                                                                                                                                                  25\n",
       "The bylaw should be modified to allow all kinds of e-bikes to drive in bicycle lanes without pedalling but there should be some restrictions (eg width weight speed) The bylaw should be modified to allow e-bikes to drive in bicycle lanes using their motors and not pedalling without any restrictions set in place by the City (eg width weight speed)                                                                                                                                                                                                                                                21\n",
       "The bylaw should be modified to allow all kinds of e-bikes to drive in bicycle lanes without pedalling but there should be some restrictions (eg width weight speed) Motorized vehicles should generally not be allowed in bicycle lanes but a special provision should be made for e-bike users who are medically unable to propel a conventional bicycle using muscular power alone                                                                                                                                                                                                                      20\n",
       "The bylaw should be modified to allow 'pedal assist' type e-bikes to pedal but get a battery boost The bylaw should be modified to allow all kinds of e-bikes to drive in bicycle lanes without pedalling but there should be some restrictions (eg width weight speed) The bylaw should be modified to allow e-bikes to drive in bicycle lanes using their motors and not pedalling without any restrictions set in place by the City (eg width weight speed)                                                                                                                                             15\n",
       "The bylaw should be modified to allow 'pedal assist' type e-bikes to pedal but get a battery boost The bylaw should be modified to allow e-bikes to use bicycle lanes in suburban areas but not in busy downtown bicycle lanes Motorized vehicles should generally not be allowed in bicycle lanes but a special provision should be made for e-bike users who are medically unable to propel a conventional bicycle using muscular power alone                                                                                                                                                            13\n",
       "No changes are necessary to the existing bylaw The bylaw should be modified to allow e-bikes to use bicycle lanes in suburban areas but not in busy downtown bicycle lanes                                                                                                                                                                                                                                                                                                                                                                                                                                 11\n",
       "The bylaw should be modified to allow 'pedal assist' type e-bikes to pedal but get a battery boost The bylaw should be modified to allow all kinds of e-bikes to drive in bicycle lanes without pedalling but there should be some restrictions (eg width weight speed) Motorized vehicles should generally not be allowed in bicycle lanes but a special provision should be made for e-bike users who are medically unable to propel a conventional bicycle using muscular power alone                                                                                                                   10\n",
       "No changes are necessary to the existing bylaw The bylaw should be modified to allow 'pedal assist' type e-bikes to pedal but get a battery boost                                                                                                                                                                                                                                                                                                                                                                                                                                                          10\n",
       "The bylaw should be modified to allow e-bikes to drive in bicycle lanes using their motors and not pedalling without any restrictions set in place by the City (eg width weight speed) Motorized vehicles should generally not be allowed in bicycle lanes but a special provision should be made for e-bike users who are medically unable to propel a conventional bicycle using muscular power alone                                                                                                                                                                                                    10\n",
       "The bylaw should be modified to allow 'pedal assist' type e-bikes to pedal but get a battery boost The bylaw should be modified to allow e-bikes to use bicycle lanes in suburban areas but not in busy downtown bicycle lanes                                                                                                                                                                                                                                                                                                                                                                              9\n",
       "No changes are necessary to the existing bylaw The bylaw should be modified to allow e-bikes to use bicycle lanes in suburban areas but not in busy downtown bicycle lanes Motorized vehicles should generally not be allowed in bicycle lanes but a special provision should be made for e-bike users who are medically unable to propel a conventional bicycle using muscular power alone                                                                                                                                                                                                                 8\n",
       "The bylaw should be modified to allow all kinds of e-bikes to drive in bicycle lanes without pedalling but there should be some restrictions (eg width weight speed) The bylaw should be modified to allow e-bikes to use bicycle lanes in suburban areas but not in busy downtown bicycle lanes                                                                                                                                                                                                                                                                                                            8\n",
       "The bylaw should be modified to allow 'pedal assist' type e-bikes to pedal but get a battery boost The bylaw should be modified to allow all kinds of e-bikes to drive in bicycle lanes without pedalling but there should be some restrictions (eg width weight speed) The bylaw should be modified to allow e-bikes to use bicycle lanes in suburban areas but not in busy downtown bicycle lanes                                                                                                                                                                                                         7\n",
       "The bylaw should be modified to allow e-bikes to drive in bicycle lanes using their motors and not pedalling without any restrictions set in place by the City (eg width weight speed) The bylaw should be modified to allow e-bikes to use bicycle lanes in suburban areas but not in busy downtown bicycle lanes                                                                                                                                                                                                                                                                                          5\n",
       "The bylaw should be modified to allow all kinds of e-bikes to drive in bicycle lanes without pedalling but there should be some restrictions (eg width weight speed) The bylaw should be modified to allow e-bikes to use bicycle lanes in suburban areas but not in busy downtown bicycle lanes Motorized vehicles should generally not be allowed in bicycle lanes but a special provision should be made for e-bike users who are medically unable to propel a conventional bicycle using muscular power alone                                                                                           4\n",
       "The bylaw should be modified to allow all kinds of e-bikes to drive in bicycle lanes without pedalling but there should be some restrictions (eg width weight speed) The bylaw should be modified to allow e-bikes to drive in bicycle lanes using their motors and not pedalling without any restrictions set in place by the City (eg width weight speed) Motorized vehicles should generally not be allowed in bicycle lanes but a special provision should be made for e-bike users who are medically unable to propel a conventional bicycle using muscular power alone                                4\n",
       "No changes are necessary to the existing bylaw The bylaw should be modified to allow 'pedal assist' type e-bikes to pedal but get a battery boost Motorized vehicles should generally not be allowed in bicycle lanes but a special provision should be made for e-bike users who are medically unable to propel a conventional bicycle using muscular power alone                                                                                                                                                                                                                                          4\n",
       "No changes are necessary to the existing bylaw The bylaw should be modified to allow 'pedal assist' type e-bikes to pedal but get a battery boost The bylaw should be modified to allow all kinds of e-bikes to drive in bicycle lanes without pedalling but there should be some restrictions (eg width weight speed)                                                                                                                                                                                                                                                                                      3\n",
       "The bylaw should be modified to allow 'pedal assist' type e-bikes to pedal but get a battery boost The bylaw should be modified to allow e-bikes to drive in bicycle lanes using their motors and not pedalling without any restrictions set in place by the City (eg width weight speed) Motorized vehicles should generally not be allowed in bicycle lanes but a special provision should be made for e-bike users who are medically unable to propel a conventional bicycle using muscular power alone                                                                                                  3\n",
       "No changes are necessary to the existing bylaw The bylaw should be modified to allow all kinds of e-bikes to drive in bicycle lanes without pedalling but there should be some restrictions (eg width weight speed)                                                                                                                                                                                                                                                                                                                                                                                         3\n",
       "                                                                                                                                                                                                                                                                                                                                                                                                                                                                                                                                                                                                         ... \n",
       "E-bikes run at almost twice the speed of the average commuting cyclist and should be banned outright from bike lanes                                                                                                                                                                                                                                                                                                                                                                                                                                                                                        1\n",
       "The bylaw should be modified to allow e-bikes to drive in bicycle lanes using their motors and not pedalling without any restrictions set in place by the City (eg width weight speed) it's just as dangerous for an ebike/scooter to be travelling with cars as it is for a bicycle Why isn't this more obvious?                                                                                                                                                                                                                                                                                           1\n",
       "The bylaw should be modified to allow 'pedal assist' type e-bikes to pedal but get a battery boost escooters should not be allowed in bike lane                                                                                                                                                                                                                                                                                                                                                                                                                                                             1\n",
       "Motorized vehicles should generally not be allowed in bicycle lanes but a special provision should be made for e-bike users who are medically unable to propel a conventional bicycle using muscular power alone e-bikes should be banned from both bike lanes and Toronto roads                                                                                                                                                                                                                                                                                                                            1\n",
       "The bylaw should be modified to allow e-bikes to drive in bicycle lanes using their motors and not pedalling without any restrictions set in place by the City (eg width weight speed) All 2 wheeled motor vehicles should be allowed to ride in bicycle lanes to ease traffic congestion and promote alternative transportation methods other than a car                                                                                                                                                                                                                                                   1\n",
       "the current bylaw isn't enforced at all; I see ebikes in bicycle lanes under motor power all the time                                                                                                                                                                                                                                                                                                                                                                                                                                                                                                       1\n",
       "Motorized vehicles should generally not be allowed in bicycle lanes but a special provision should be made for e-bike users who are medically unable to propel a conventional bicycle using muscular power alone the bylaw should be enforced then - I've never seen it enforced                                                                                                                                                                                                                                                                                                                            1\n",
       "Just get rid of the cars and everything is fine                                                                                                                                                                                                                                                                                                                                                                                                                                                                                                                                                             1\n",
       "No changes are necessary to the existing bylaw The bylaw should be modified to allow 'pedal assist' type e-bikes to pedal but get a battery boost I'm not sure I would like to know about studies done re: safety or what other cities are doing about this I'm not an expert in e-bikes                                                                                                                                                                                                                                                                                                                    1\n",
       "Motorized vehicles should generally not be allowed in bicycle lanes but a special provision should be made for e-bike users who are medically unable to propel a conventional bicycle using muscular power alone On a side note I have never in the last 2 years seen an e-bike user pedaling Never  They have always been motorized vehicles occupying bike lane space                                                                                                                                                                                                                                     1\n",
       "The bylaw should be modified to allow 'pedal assist' type e-bikes to pedal but get a battery boost The bylaw should be modified to allow all kinds of e-bikes to drive in bicycle lanes without pedalling but there should be some restrictions (eg width weight speed) Motorized vehicles should generally not be allowed in bicycle lanes but a special provision should be made for e-bike users who are medically unable to propel a conventional bicycle using muscular power alone SPEED SHOULD BE REGULATED                                                                                          1\n",
       "No changes are necessary to the existing bylaw No e-biker has ever actually used the pedals on their bikes except to feign that they're not breaking the law (e g  when driving in a crosswalk or when nearly clipping people in the bike lane or when weaving in and out of vehicle and bike lanes like an olympic slalom skier): their atrophied feet turn those pedals as though they were doing something but the motor does all the work If you do a study to try to disprove this you'll fail miserably and you know it                                                                               1\n",
       "e-bikes should not be allowed in bike lanes because enforcement of this law is non existant                                                                                                                                                                                                                                                                                                                                                                                                                                                                                                                 1\n",
       "The capacity of bike lanes should be increased to accomodate e-bike  ie more bike lanes and wide bike lanes to allow easier passing                                                                                                                                                                                                                                                                                                                                                                                                                                                                         1\n",
       "they must use the street not the bike-lane                                                                                                                                                                                                                                                                                                                                                                                                                                                                                                                                                                  1\n",
       "I think that e-bikes are more a problem since they have been introduced and allowed for use                                                                                                                                                                                                                                                                                                                                                                                                                                                                                                                 1\n",
       "The bylaw should be modified to allow 'pedal assist' type e-bikes to pedal but get a battery boost Pedal-assist safety bicycles excepted no vehicle with an accelerator control should be permitted in bicycle-designated rights-of-way                                                                                                                                                                                                                                                                                                                                                                     1\n",
       "E-bike's have no business in bicycle lanes and should be considered solely motorized vehicles                                                                                                                                                                                                                                                                                                                                                                                                                                                                                                               1\n",
       "No motorized vehicles should be allowed in bike lanes                                                                                                                                                                                                                                                                                                                                                                                                                                                                                                                                                       1\n",
       "Sounds like the cell phone in the car law to me Great idea but you have to enforce it or nobody will take it seriously                                                                                                                                                                                                                                                                                                                                                                                                                                                                                      1\n",
       "No changes are necessary to the existing bylaw Motorized vehicles should generally not be allowed in bicycle lanes but a special provision should be made for e-bike users who are medically unable to propel a conventional bicycle using muscular power alone Enforcement of this fine is crucial There are far too many e-bike riders being propelled by motor power using this bike lanes                                                                                                                                                                                                               1\n",
       "Motorized vehicles should generally not be allowed in bicycle lanes but a special provision should be made for e-bike users who are medically unable to propel a conventional bicycle using muscular power alone  Motorized vehicles should generally not be allowed in bicycle lanes regarless of a person's muscular ability E-Bike's are dangerous and can not stop as quickly as a regular bike due to their mass and kinetic force                                                                                                                                                                     1\n",
       "No changes are necessary to the existing bylaw The bylaw should be modified to allow 'pedal assist' type e-bikes to pedal but get a battery boost The bylaw should be modified to allow all kinds of e-bikes to drive in bicycle lanes without pedalling but there should be some restrictions (eg width weight speed) Motorized vehicles should generally not be allowed in bicycle lanes but a special provision should be made for e-bike users who are medically unable to propel a conventional bicycle using muscular power alone                                                                     1\n",
       "Motorized vehicles should NOT be allowed on trails NOR sidewalks (unless s/he has a physically changelled permit) I've been hit by a cyclist & I never want to be hit again esp NOT by anything MOTORIZED Some cyclists are seemingly unaware they can injure and even kill a pedestrian                                                                                                                                                                                                                                                                                                                    1\n",
       "No ebikes in bicycle lanes                                                                                                                                                                                                                                                                                                                                                                                                                                                                                                                                                                                  1\n",
       "The bylaw should be modified to allow e-bike which which can be pedalled to use some pedal assist                                                                                                                                                                                                                                                                                                                                                                                                                                                                                                           1\n",
       "The bylaw should be modified to allow e-bikes to use bicycle lanes in suburban areas but not in busy downtown bicycle lanes Motorized vehicles should generally not be allowed in bicycle lanes but a special provision should be made for e-bike users who are medically unable to propel a conventional bicycle using muscular power alone motorized vehicles should not be allowed in bike lanes period They are wider heavier and dangerous as no licensing is required they are also not insured should an accident happen and I NEVER have seen e-bikers use pedals on or off bike trails/lanes       1\n",
       "No changes are necessary to the existing bylaw Enforcement is necessary I see the same ebike every day at the same place Not once has he been ticketed                                                                                                                                                                                                                                                                                                                                                                                                                                                      1\n",
       "No changes are necessary to the existing bylaw The By-Law is not enforced They use motors in lanes all the time                                                                                                                                                                                                                                                                                                                                                                                                                                                                                             1\n",
       "No changes to existing bylaw are necessary but enforcement should be increased                                                                                                                                                                                                                                                                                                                                                                                                                                                                                                                              1\n",
       "Name: Currently any kind of e-bike may use a bicycle lane if they are propelled by pedaling only and those propelled by motor power may be fined , dtype: int64"
      ]
     },
     "execution_count": 3591,
     "metadata": {},
     "output_type": "execute_result"
    }
   ],
   "source": [
    "bicycleFining = responses[\"Currently any kind of e-bike may use a bicycle lane if they are propelled by pedaling only and those propelled by motor power may be fined \"]\n",
    "bicycleFining.value_counts()"
   ]
  },
  {
   "cell_type": "code",
   "execution_count": 3592,
   "metadata": {},
   "outputs": [
    {
     "data": {
      "text/plain": [
       "count                                               2238\n",
       "unique                                               258\n",
       "top       No changes are necessary to the existing bylaw\n",
       "freq                                                 664\n",
       "Name: Currently any kind of e-bike may use a bicycle lane if they are propelled by pedaling only and those propelled by motor power may be fined , dtype: object"
      ]
     },
     "execution_count": 3592,
     "metadata": {},
     "output_type": "execute_result"
    }
   ],
   "source": [
    "bicycleFining.describe()"
   ]
  },
  {
   "cell_type": "markdown",
   "metadata": {},
   "source": [
    "Based on the above values, the checklist seems to contain the following options:\n",
    "\n",
    "1. No changes are necessary to the existing bylaw\n",
    "2. Motorized vehicles should generally not be allowed in bicycle lanes but a special provision should be made for e-bike users who are medically unable to propel a conventional bicycle using muscular power alone\n",
    "3. The bylaw should be modified to allow 'pedal assist' type e-bikes to pedal but get a battery boost\n",
    "4. The bylaw should be modified to allow all kinds of e-bikes to drive in bicycle lanes without pedalling but there should be some restrictions (eg width weight speed)\n",
    "5. The bylaw should be modified to allow e-bikes to drive in bicycle lanes using their motors and not pedalling without any restrictions set in place by the City (eg width weight speed) \n",
    "6. The bylaw should be modified to allow e-bikes to use bicycle lanes in suburban areas but not in busy downtown bicycle lanes\n",
    "\n",
    "Similar to the previous preprocessing technique, this feature can be grouped/mapped into a single boolean value, that indicates whether the bylaws should be changed (1) or maintained (0).\n",
    "\n",
    "Just like before, entries where \"no changes are necessary to the existing bylaw\" is included automatically will be set to 0 (regardless of whether additional options are checked). Similarly, any one-offs / edge cases that do not fall under the above categories will be set to 0 by default, so that they don't influence the data."
   ]
  },
  {
   "cell_type": "code",
   "execution_count": 3593,
   "metadata": {},
   "outputs": [
    {
     "name": "stderr",
     "output_type": "stream",
     "text": [
      "/Users/jeet/miniconda2/lib/python2.7/site-packages/ipykernel_launcher.py:3: UserWarning: This pattern has match groups. To actually get the groups, use str.extract.\n",
      "  This is separate from the ipykernel package so we can avoid doing imports until\n"
     ]
    },
    {
     "data": {
      "text/html": [
       "<div>\n",
       "<table border=\"1\" class=\"dataframe\">\n",
       "  <thead>\n",
       "    <tr style=\"text-align: right;\">\n",
       "      <th></th>\n",
       "      <th>What age range do you fall in?</th>\n",
       "      <th>Sex</th>\n",
       "      <th>How would you describe your level of physical health?</th>\n",
       "      <th>What level of education have you reached?</th>\n",
       "      <th>What is your household income?</th>\n",
       "      <th>Which category best describes your employment?</th>\n",
       "      <th>What Toronto district is your primary address located in?</th>\n",
       "      <th>On average what distance do you travel most days of the week?</th>\n",
       "      <th>On average how long is your commute?</th>\n",
       "      <th>Which transportation option do you end up using most often?</th>\n",
       "      <th>...</th>\n",
       "      <th>Do you think more should be done to manage trail users who do not respect the 20 km/h speed limit?</th>\n",
       "      <th>With regards to illegal use of bicycles and e-bikes on sidewalks should the City</th>\n",
       "      <th>Toronto Bylaws consider personal mobility devices (such as electric wheel chairs) to be pedestrians In your opinion should the City</th>\n",
       "      <th>Multi-Use Trails - # of Different Motorized Transport Modes Used</th>\n",
       "      <th>Multi-Use Trails - # of Different Non Motorized Transport Modes Used</th>\n",
       "      <th># of Conflicts Involving Motorized Vehicles</th>\n",
       "      <th># of Conflicts Not-Involving Motorized Vehicles</th>\n",
       "      <th>Bylaws regarding e-bikes in multi-use trails should be Changed (1) / Maintained (0)</th>\n",
       "      <th>Use E-bikes on Toronto's bicycle lanes? Yes (1) / No (0)</th>\n",
       "      <th>Bylaws regarding e-bikes in bicycle lanes should be Changed (1) / Maintained (0)</th>\n",
       "    </tr>\n",
       "  </thead>\n",
       "  <tbody>\n",
       "    <tr>\n",
       "      <th>0</th>\n",
       "      <td>2</td>\n",
       "      <td>0</td>\n",
       "      <td>3</td>\n",
       "      <td>4</td>\n",
       "      <td>5</td>\n",
       "      <td>6</td>\n",
       "      <td>1</td>\n",
       "      <td>0</td>\n",
       "      <td>1</td>\n",
       "      <td>4</td>\n",
       "      <td>...</td>\n",
       "      <td>0</td>\n",
       "      <td>be tolerant of bikes and e-bikes on the walksi...</td>\n",
       "      <td>Institute a speed limit for sidewalks</td>\n",
       "      <td>1</td>\n",
       "      <td>1</td>\n",
       "      <td>0</td>\n",
       "      <td>2</td>\n",
       "      <td>1</td>\n",
       "      <td>1</td>\n",
       "      <td>1</td>\n",
       "    </tr>\n",
       "    <tr>\n",
       "      <th>1</th>\n",
       "      <td>1</td>\n",
       "      <td>0</td>\n",
       "      <td>5</td>\n",
       "      <td>3</td>\n",
       "      <td>2</td>\n",
       "      <td>7</td>\n",
       "      <td>1</td>\n",
       "      <td>2</td>\n",
       "      <td>3</td>\n",
       "      <td>4</td>\n",
       "      <td>...</td>\n",
       "      <td>0</td>\n",
       "      <td>maintain the existing programs for signage edu...</td>\n",
       "      <td>Do nothing</td>\n",
       "      <td>0</td>\n",
       "      <td>0</td>\n",
       "      <td>0</td>\n",
       "      <td>0</td>\n",
       "      <td>0</td>\n",
       "      <td>1</td>\n",
       "      <td>0</td>\n",
       "    </tr>\n",
       "    <tr>\n",
       "      <th>2</th>\n",
       "      <td>3</td>\n",
       "      <td>0</td>\n",
       "      <td>3</td>\n",
       "      <td>3</td>\n",
       "      <td>2</td>\n",
       "      <td>6</td>\n",
       "      <td>1</td>\n",
       "      <td>2</td>\n",
       "      <td>1</td>\n",
       "      <td>5</td>\n",
       "      <td>...</td>\n",
       "      <td>1</td>\n",
       "      <td>increase signage increase enforcement increase...</td>\n",
       "      <td>only wheelchairs at walking speed</td>\n",
       "      <td>0</td>\n",
       "      <td>0</td>\n",
       "      <td>0</td>\n",
       "      <td>0</td>\n",
       "      <td>0</td>\n",
       "      <td>0</td>\n",
       "      <td>0</td>\n",
       "    </tr>\n",
       "  </tbody>\n",
       "</table>\n",
       "<p>3 rows × 23 columns</p>\n",
       "</div>"
      ],
      "text/plain": [
       "  What age range do you fall in? Sex  \\\n",
       "0                              2   0   \n",
       "1                              1   0   \n",
       "2                              3   0   \n",
       "\n",
       "  How would you describe your level of physical health?  \\\n",
       "0                                                  3      \n",
       "1                                                  5      \n",
       "2                                                  3      \n",
       "\n",
       "  What level of education have you reached? What is your household income?  \\\n",
       "0                                         4                              5   \n",
       "1                                         3                              2   \n",
       "2                                         3                              2   \n",
       "\n",
       "  Which category best describes your employment?  \\\n",
       "0                                              6   \n",
       "1                                              7   \n",
       "2                                              6   \n",
       "\n",
       "  What Toronto district is your primary address located in?  \\\n",
       "0                                                  1          \n",
       "1                                                  1          \n",
       "2                                                  1          \n",
       "\n",
       "  On average what distance do you travel most days of the week?  \\\n",
       "0                                                  0              \n",
       "1                                                  2              \n",
       "2                                                  2              \n",
       "\n",
       "  On average how long is your commute?  \\\n",
       "0                                    1   \n",
       "1                                    3   \n",
       "2                                    1   \n",
       "\n",
       "  Which transportation option do you end up using most often?  \\\n",
       "0                                                  4            \n",
       "1                                                  4            \n",
       "2                                                  5            \n",
       "\n",
       "                                         ...                                         \\\n",
       "0                                        ...                                          \n",
       "1                                        ...                                          \n",
       "2                                        ...                                          \n",
       "\n",
       "  Do you think more should be done to manage trail users who do not respect the 20 km/h speed limit?  \\\n",
       "0                                                  0                                                   \n",
       "1                                                  0                                                   \n",
       "2                                                  1                                                   \n",
       "\n",
       "   With regards to illegal use of bicycles and e-bikes on sidewalks should the City   \\\n",
       "0  be tolerant of bikes and e-bikes on the walksi...                                   \n",
       "1  maintain the existing programs for signage edu...                                   \n",
       "2  increase signage increase enforcement increase...                                   \n",
       "\n",
       "  Toronto Bylaws consider personal mobility devices (such as electric wheel chairs) to be pedestrians In your opinion should the City  \\\n",
       "0              Institute a speed limit for sidewalks                                                                                    \n",
       "1                                         Do nothing                                                                                    \n",
       "2                  only wheelchairs at walking speed                                                                                    \n",
       "\n",
       "   Multi-Use Trails - # of Different Motorized Transport Modes Used  \\\n",
       "0                                                  1                  \n",
       "1                                                  0                  \n",
       "2                                                  0                  \n",
       "\n",
       "  Multi-Use Trails - # of Different Non Motorized Transport Modes Used  \\\n",
       "0                                                  1                     \n",
       "1                                                  0                     \n",
       "2                                                  0                     \n",
       "\n",
       "  # of Conflicts Involving Motorized Vehicles  \\\n",
       "0                                           0   \n",
       "1                                           0   \n",
       "2                                           0   \n",
       "\n",
       "   # of Conflicts Not-Involving Motorized Vehicles  \\\n",
       "0                                                2   \n",
       "1                                                0   \n",
       "2                                                0   \n",
       "\n",
       "   Bylaws regarding e-bikes in multi-use trails should be Changed (1) / Maintained (0)  \\\n",
       "0                                                  1                                     \n",
       "1                                                  0                                     \n",
       "2                                                  0                                     \n",
       "\n",
       "   Use E-bikes on Toronto's bicycle lanes? Yes (1) / No (0)  \\\n",
       "0                                                  1          \n",
       "1                                                  1          \n",
       "2                                                  0          \n",
       "\n",
       "   Bylaws regarding e-bikes in bicycle lanes should be Changed (1) / Maintained (0)  \n",
       "0                                                  1                                 \n",
       "1                                                  0                                 \n",
       "2                                                  0                                 \n",
       "\n",
       "[3 rows x 23 columns]"
      ]
     },
     "execution_count": 3593,
     "metadata": {},
     "output_type": "execute_result"
    }
   ],
   "source": [
    "# Filter & Create Boolean category - Ignore UserWarning (it's about regex matching the brackets)\n",
    "booleanCategory = np.array([0] * len(responses))\n",
    "booleanCategory[bicycleFining[(bicycleFining.str.contains(\"Motorized vehicles should generally not be allowed in bicycle lanes but a special provision should be made for e-bike users who are medically unable to propel a conventional bicycle using muscular power alone\", False) | bicycleFining.str.contains(\"The bylaw should be modified to allow 'pedal assist' type e-bikes to pedal but get a battery boost\", False) | bicycleFining.str.contains(\"The bylaw should be modified to allow all kinds of e-bikes to drive in bicycle lanes without pedalling but there should be some restrictions (eg width weight speed)\", False) | bicycleFining.str.contains(\"The bylaw should be modified to allow e-bikes to drive in bicycle lanes using their motors and not pedalling without any restrictions set in place by the City (eg width weight speed)\", False) | bicycleFining.str.contains(\"The bylaw should be modified to allow e-bikes to use bicycle lanes in suburban areas but not in busy downtown bicycle lanes\", False)) & (~bicycleFining.str.contains(\"No changes are necessary to the existing bylaw\"))].index] = 1\n",
    "\n",
    "# Replace Original data\n",
    "responses.drop(\"Currently any kind of e-bike may use a bicycle lane if they are propelled by pedaling only and those propelled by motor power may be fined \", axis = 1, inplace = True)\n",
    "responses[\"Bylaws regarding e-bikes in bicycle lanes should be Changed (1) / Maintained (0)\"] = booleanCategory\n",
    "responses.head(3)"
   ]
  },
  {
   "cell_type": "markdown",
   "metadata": {},
   "source": [
    "#### Illegal Use of E-Bikes and Bicycles"
   ]
  },
  {
   "cell_type": "code",
   "execution_count": 3594,
   "metadata": {},
   "outputs": [
    {
     "data": {
      "text/plain": [
       "maintain the existing programs for signage education and enforcement                                                                                                                                                                                                                493\n",
       "increase enforcement                                                                                                                                                                                                                                                                348\n",
       "increase signage increase enforcement increase education                                                                                                                                                                                                                            347\n",
       "increase enforcement increase education                                                                                                                                                                                                                                             165\n",
       "increase education                                                                                                                                                                                                                                                                  116\n",
       "increase signage increase enforcement                                                                                                                                                                                                                                               112\n",
       "increase signage increase education                                                                                                                                                                                                                                                  87\n",
       "maintain the existing programs for signage education and enforcement increase signage increase enforcement increase education                                                                                                                                                        83\n",
       "maintain the existing programs for signage education and enforcement increase enforcement                                                                                                                                                                                            72\n",
       "maintain the existing programs for signage education and enforcement increase education                                                                                                                                                                                              66\n",
       "increase signage                                                                                                                                                                                                                                                                     44\n",
       "maintain the existing programs for signage education and enforcement increase enforcement increase education                                                                                                                                                                         34\n",
       "maintain the existing programs for signage education and enforcement increase signage increase education                                                                                                                                                                             30\n",
       "maintain the existing programs for signage education and enforcement increase signage increase enforcement                                                                                                                                                                           17\n",
       "maintain the existing programs for signage education and enforcement increase signage                                                                                                                                                                                                15\n",
       "increase education increase education on cars not blocking bike lanes  There's a trickle down effect                                                                                                                                                                                  1\n",
       "Rescind the law for cyclists                                                                                                                                                                                                                                                          1\n",
       "increase signage increase enforcement limited use/speed limit 8k                                                                                                                                                                                                                      1\n",
       "maintain the existing programs for signage education and enforcement increase enforcement increase cycling-specific infrastructure so that cyclists do not feel forced onto the sidewalk for their own safety                                                                         1\n",
       "maintain the existing programs for signage education and enforcement increase education Also include motorist education about cyclists' right to use the roadway                                                                                                                      1\n",
       "increase signage increase enforcement too many ebikes are using sidewalks                                                                                                                                                                                                             1\n",
       "increase signage increase enforcement increase education Give pedestrians scimitars to use on sidewalk bicycle users                                                                                                                                                                  1\n",
       "Short distances on sidewalks should be allowed ie one block                                                                                                                                                                                                                           1\n",
       "Consider sidewalks as multiuse Change the infrastructure to accomodate both types of traffic                                                                                                                                                                                          1\n",
       "increase enforcement increase education paint markings on sidewalks to say no bikes                                                                                                                                                                                                   1\n",
       "allow bikes on sidewalks                                                                                                                                                                                                                                                              1\n",
       "enforce the bylaw where sharing with pedestrians is hazardous                                                                                                                                                                                                                         1\n",
       "increase signage Licence all bicycles & e-bikes                                                                                                                                                                                                                                       1\n",
       "increase enforcement Where construction occurs it is sometimes necessary to use the sidewalk An example is bloor at high park this summer                                                                                                                                             1\n",
       "cyclist should be allowed to use sidewalks on one side of the street after certain hours for safety reasons                                                                                                                                                                           1\n",
       "                                                                                                                                                                                                                                                                                   ... \n",
       "increase signage increase enforcement increase education Enforcement can simply be telling people to get off the sidewalk Education rather than enforcement                                                                                                                           1\n",
       "increase signage increase enforcement increase education make allowances for under rail bridges                                                                                                                                                                                       1\n",
       "treat bikes same as personal mobility devices instead and institute speed limits on sidewalks                                                                                                                                                                                         1\n",
       "increase signage increase enforcement increase education Cycling on the sidewalk is also more dangerous for the cyclist Education!                                                                                                                                                    1\n",
       "Allow cyclists to ride on wide sidewalks along suburban arterials                                                                                                                                                                                                                     1\n",
       "increase enforcement Everybody knows there should be no bikes on the sidewalks but many people ignore this rule  Need to crack down and start ticketing                                                                                                                               1\n",
       "increase enforcement increase education don't fine enforceducate!                                                                                                                                                                                                                     1\n",
       "maintain the existing programs for signage education and enforcement Also ensure that there are safe options for biking on the road for example I won t bike along Sheppard so I'm on the sidewalk for safety                                                                         1\n",
       "Senior should be able to use electric vehicles including e bikes                                                                                                                                                                                                                      1\n",
       "increase enforcement Major fines for any type of bicycle/e-bike/whatever on a sidewalk with exception of riders under age of 12                                                                                                                                                       1\n",
       "maintain the existing programs for signage education and enforcement provide space for bikelanes                                                                                                                                                                                      1\n",
       "Build more bicycle paths before you can enforce  Children should not be cycling on the road                                                                                                                                                                                           1\n",
       "Ensure sufficient bike lanes so that bicyclist aren't made to feel they have to choose between riding on the sidewalk and risking their lives                                                                                                                                         1\n",
       "make exceptions for areas where cyclists feel danger riding on the road                                                                                                                                                                                                               1\n",
       "Add bike lanes or Cyclist Dismout signs I will switch to (riding very slowly) on a sidewalk if the road is too dangerous or high speed (ie certain parts of Bathurst Dufferin travelling under bridges)                                                                               1\n",
       "Maintain existing but make exceptions for sidewalks on roads where speed limit is 50km or higher It is very dangerous for cyclists on these streets (and pedestrians are few)                                                                                                         1\n",
       "maintain the existing programs for signage education and enforcement make sure the roads are passable by bike in all areas  occasionally there are spots where it's almost necessary to use the sidewalk respectfully for safety reasons                                              1\n",
       "increase enforcement fines                                                                                                                                                                                                                                                            1\n",
       "maintain the existing programs for signage education and enforcement increase enforcement increase education If you make rules you have to enforce them  Unfortunately if you make too many rules it becomes more difficult to enforce them all if you have to little resources       1\n",
       "maintain the existing programs for signage education and enforcement Get more bike lanes to reduce bikes on sidewalks and increase safety all around                                                                                                                                  1\n",
       "Non-motor assisted bicycles should be allowed on sidewalks as they are often a hazard on the street                                                                                                                                                                                   1\n",
       "Allow cyclists to use sidewalks on roads not provide with bike lanes or sharrows where regular lanes are 3 2 m wide or less                                                                                                                                                           1\n",
       "Cyclists should be allowed to drive on sidewalks outside Toronto boundary                                                                                                                                                                                                             1\n",
       "increase enforcement increase education increase bike lanes                                                                                                                                                                                                                           1\n",
       "i notice there is no choice here to decrease enforcement I am tired of cyclists being targeted by police when car drivers are still texting at alarming rates                                                                                                                         1\n",
       "increase enforcement increase education Children are the only people who should be allowed to cycle on sidewalks                                                                                                                                                                      1\n",
       "I ride on sidewalks when I consider the road too dangerous                                                                                                                                                                                                                            1\n",
       "ban e-bikes from sidewalks and allow bicycles on sidewalks at slow speeds if no bike lanes are available                                                                                                                                                                              1\n",
       "should share the sidewalks where and when it is prudent                                                                                                                                                                                                                               1\n",
       "Revoke or not enforce this There are many roads in which it is safer for the cyclists to not share space with the cars but there is no bicycle lane nor is there room or demand for one                                                                                               1\n",
       "Name: With regards to illegal use of bicycles and e-bikes on sidewalks should the City , dtype: int64"
      ]
     },
     "execution_count": 3594,
     "metadata": {},
     "output_type": "execute_result"
    }
   ],
   "source": [
    "illegal = responses[\"With regards to illegal use of bicycles and e-bikes on sidewalks should the City \"]\n",
    "illegal.value_counts()"
   ]
  },
  {
   "cell_type": "code",
   "execution_count": 3595,
   "metadata": {},
   "outputs": [
    {
     "data": {
      "text/plain": [
       "count                                                  2238\n",
       "unique                                                  224\n",
       "top       maintain the existing programs for signage edu...\n",
       "freq                                                    493\n",
       "Name: With regards to illegal use of bicycles and e-bikes on sidewalks should the City , dtype: object"
      ]
     },
     "execution_count": 3595,
     "metadata": {},
     "output_type": "execute_result"
    }
   ],
   "source": [
    "illegal.describe()"
   ]
  },
  {
   "cell_type": "markdown",
   "metadata": {},
   "source": [
    "Checklist categories are:\n",
    "\n",
    "1. Increase Signage\n",
    "2. Increase Enforcement\n",
    "3. Increase Education\n",
    "4. Maintain the existing programs\n",
    "\n",
    "Since the exact nature of change/increase isn't necessarily relevant to detecting the presence of a motorized vehicle, we can group this into a single boolean value, indicating an increase (1) or a maintenance (0) of the program."
   ]
  },
  {
   "cell_type": "code",
   "execution_count": 3596,
   "metadata": {},
   "outputs": [
    {
     "data": {
      "text/html": [
       "<div>\n",
       "<table border=\"1\" class=\"dataframe\">\n",
       "  <thead>\n",
       "    <tr style=\"text-align: right;\">\n",
       "      <th></th>\n",
       "      <th>What age range do you fall in?</th>\n",
       "      <th>Sex</th>\n",
       "      <th>How would you describe your level of physical health?</th>\n",
       "      <th>What level of education have you reached?</th>\n",
       "      <th>What is your household income?</th>\n",
       "      <th>Which category best describes your employment?</th>\n",
       "      <th>What Toronto district is your primary address located in?</th>\n",
       "      <th>On average what distance do you travel most days of the week?</th>\n",
       "      <th>On average how long is your commute?</th>\n",
       "      <th>Which transportation option do you end up using most often?</th>\n",
       "      <th>...</th>\n",
       "      <th>Do you think more should be done to manage trail users who do not respect the 20 km/h speed limit?</th>\n",
       "      <th>Toronto Bylaws consider personal mobility devices (such as electric wheel chairs) to be pedestrians In your opinion should the City</th>\n",
       "      <th>Multi-Use Trails - # of Different Motorized Transport Modes Used</th>\n",
       "      <th>Multi-Use Trails - # of Different Non Motorized Transport Modes Used</th>\n",
       "      <th># of Conflicts Involving Motorized Vehicles</th>\n",
       "      <th># of Conflicts Not-Involving Motorized Vehicles</th>\n",
       "      <th>Bylaws regarding e-bikes in multi-use trails should be Changed (1) / Maintained (0)</th>\n",
       "      <th>Use E-bikes on Toronto's bicycle lanes? Yes (1) / No (0)</th>\n",
       "      <th>Bylaws regarding e-bikes in bicycle lanes should be Changed (1) / Maintained (0)</th>\n",
       "      <th>For illegal use of bicycle and e-bikes on sidewalks, the City should Increase (1) / Maintain (0) programs</th>\n",
       "    </tr>\n",
       "  </thead>\n",
       "  <tbody>\n",
       "    <tr>\n",
       "      <th>0</th>\n",
       "      <td>2</td>\n",
       "      <td>0</td>\n",
       "      <td>3</td>\n",
       "      <td>4</td>\n",
       "      <td>5</td>\n",
       "      <td>6</td>\n",
       "      <td>1</td>\n",
       "      <td>0</td>\n",
       "      <td>1</td>\n",
       "      <td>4</td>\n",
       "      <td>...</td>\n",
       "      <td>0</td>\n",
       "      <td>Institute a speed limit for sidewalks</td>\n",
       "      <td>1</td>\n",
       "      <td>1</td>\n",
       "      <td>0</td>\n",
       "      <td>2</td>\n",
       "      <td>1</td>\n",
       "      <td>1</td>\n",
       "      <td>1</td>\n",
       "      <td>0</td>\n",
       "    </tr>\n",
       "    <tr>\n",
       "      <th>1</th>\n",
       "      <td>1</td>\n",
       "      <td>0</td>\n",
       "      <td>5</td>\n",
       "      <td>3</td>\n",
       "      <td>2</td>\n",
       "      <td>7</td>\n",
       "      <td>1</td>\n",
       "      <td>2</td>\n",
       "      <td>3</td>\n",
       "      <td>4</td>\n",
       "      <td>...</td>\n",
       "      <td>0</td>\n",
       "      <td>Do nothing</td>\n",
       "      <td>0</td>\n",
       "      <td>0</td>\n",
       "      <td>0</td>\n",
       "      <td>0</td>\n",
       "      <td>0</td>\n",
       "      <td>1</td>\n",
       "      <td>0</td>\n",
       "      <td>0</td>\n",
       "    </tr>\n",
       "    <tr>\n",
       "      <th>2</th>\n",
       "      <td>3</td>\n",
       "      <td>0</td>\n",
       "      <td>3</td>\n",
       "      <td>3</td>\n",
       "      <td>2</td>\n",
       "      <td>6</td>\n",
       "      <td>1</td>\n",
       "      <td>2</td>\n",
       "      <td>1</td>\n",
       "      <td>5</td>\n",
       "      <td>...</td>\n",
       "      <td>1</td>\n",
       "      <td>only wheelchairs at walking speed</td>\n",
       "      <td>0</td>\n",
       "      <td>0</td>\n",
       "      <td>0</td>\n",
       "      <td>0</td>\n",
       "      <td>0</td>\n",
       "      <td>0</td>\n",
       "      <td>0</td>\n",
       "      <td>1</td>\n",
       "    </tr>\n",
       "  </tbody>\n",
       "</table>\n",
       "<p>3 rows × 23 columns</p>\n",
       "</div>"
      ],
      "text/plain": [
       "  What age range do you fall in? Sex  \\\n",
       "0                              2   0   \n",
       "1                              1   0   \n",
       "2                              3   0   \n",
       "\n",
       "  How would you describe your level of physical health?  \\\n",
       "0                                                  3      \n",
       "1                                                  5      \n",
       "2                                                  3      \n",
       "\n",
       "  What level of education have you reached? What is your household income?  \\\n",
       "0                                         4                              5   \n",
       "1                                         3                              2   \n",
       "2                                         3                              2   \n",
       "\n",
       "  Which category best describes your employment?  \\\n",
       "0                                              6   \n",
       "1                                              7   \n",
       "2                                              6   \n",
       "\n",
       "  What Toronto district is your primary address located in?  \\\n",
       "0                                                  1          \n",
       "1                                                  1          \n",
       "2                                                  1          \n",
       "\n",
       "  On average what distance do you travel most days of the week?  \\\n",
       "0                                                  0              \n",
       "1                                                  2              \n",
       "2                                                  2              \n",
       "\n",
       "  On average how long is your commute?  \\\n",
       "0                                    1   \n",
       "1                                    3   \n",
       "2                                    1   \n",
       "\n",
       "  Which transportation option do you end up using most often?  \\\n",
       "0                                                  4            \n",
       "1                                                  4            \n",
       "2                                                  5            \n",
       "\n",
       "                                                     ...                                                      \\\n",
       "0                                                    ...                                                       \n",
       "1                                                    ...                                                       \n",
       "2                                                    ...                                                       \n",
       "\n",
       "  Do you think more should be done to manage trail users who do not respect the 20 km/h speed limit?  \\\n",
       "0                                                  0                                                   \n",
       "1                                                  0                                                   \n",
       "2                                                  1                                                   \n",
       "\n",
       "   Toronto Bylaws consider personal mobility devices (such as electric wheel chairs) to be pedestrians In your opinion should the City  \\\n",
       "0              Institute a speed limit for sidewalks                                                                                     \n",
       "1                                         Do nothing                                                                                     \n",
       "2                  only wheelchairs at walking speed                                                                                     \n",
       "\n",
       "  Multi-Use Trails - # of Different Motorized Transport Modes Used  \\\n",
       "0                                                  1                 \n",
       "1                                                  0                 \n",
       "2                                                  0                 \n",
       "\n",
       "   Multi-Use Trails - # of Different Non Motorized Transport Modes Used  \\\n",
       "0                                                  1                      \n",
       "1                                                  0                      \n",
       "2                                                  0                      \n",
       "\n",
       "  # of Conflicts Involving Motorized Vehicles  \\\n",
       "0                                           0   \n",
       "1                                           0   \n",
       "2                                           0   \n",
       "\n",
       "   # of Conflicts Not-Involving Motorized Vehicles  \\\n",
       "0                                                2   \n",
       "1                                                0   \n",
       "2                                                0   \n",
       "\n",
       "   Bylaws regarding e-bikes in multi-use trails should be Changed (1) / Maintained (0)  \\\n",
       "0                                                  1                                     \n",
       "1                                                  0                                     \n",
       "2                                                  0                                     \n",
       "\n",
       "   Use E-bikes on Toronto's bicycle lanes? Yes (1) / No (0)  \\\n",
       "0                                                  1          \n",
       "1                                                  1          \n",
       "2                                                  0          \n",
       "\n",
       "   Bylaws regarding e-bikes in bicycle lanes should be Changed (1) / Maintained (0)  \\\n",
       "0                                                  1                                  \n",
       "1                                                  0                                  \n",
       "2                                                  0                                  \n",
       "\n",
       "   For illegal use of bicycle and e-bikes on sidewalks, the City should Increase (1) / Maintain (0) programs  \n",
       "0                                                  0                                                          \n",
       "1                                                  0                                                          \n",
       "2                                                  1                                                          \n",
       "\n",
       "[3 rows x 23 columns]"
      ]
     },
     "execution_count": 3596,
     "metadata": {},
     "output_type": "execute_result"
    }
   ],
   "source": [
    "# Filter & Create Boolean category - Ignore UserWarning (it's about regex matching the brackets)\n",
    "booleanCategory = np.array([0] * len(responses))\n",
    "booleanCategory[illegal[(illegal.str.contains(\"increase signage\", False) | illegal.str.contains(\"increase enforcement\", False) | illegal.str.contains(\"increase education\", False)) & (~illegal.str.contains(\"maintain the existing programs for signage education and enforcement\"))].index] = 1\n",
    "\n",
    "# Replace Original data\n",
    "responses.drop(\"With regards to illegal use of bicycles and e-bikes on sidewalks should the City \", axis = 1, inplace = True)\n",
    "responses[\"For illegal use of bicycle and e-bikes on sidewalks, the City should Increase (1) / Maintain (0) programs\"] = booleanCategory\n",
    "responses.head(3)"
   ]
  },
  {
   "cell_type": "markdown",
   "metadata": {},
   "source": [
    "#### Personal Mobility Vehicles"
   ]
  },
  {
   "cell_type": "code",
   "execution_count": 3597,
   "metadata": {},
   "outputs": [
    {
     "data": {
      "text/plain": [
       "Update the definition of a personal mobility device so that they must travel at speeds close to walking speed                                                                                                                                                                                                                                                                                                                                                                                                                                                                                                                                                                                                                                                                                                                                                                                                                                                                                                                                                                                                                                                                                                                                                                                                                                                                                                                                                                                                                                                                                                                                                                                                                                                                                                                                                                                                                                                                                                                                                                                                                                                                                                                                                                                                                                                                         1379\n",
       "Institute a speed limit for sidewalks                                                                                                                                                                                                                                                                                                                                                                                                                                                                                                                                                                                                                                                                                                                                                                                                                                                                                                                                                                                                                                                                                                                                                                                                                                                                                                                                                                                                                                                                                                                                                                                                                                                                                                                                                                                                                                                                                                                                                                                                                                                                                                                                                                                                                                                                                                                                                  374\n",
       "Do nothing                                                                                                                                                                                                                                                                                                                                                                                                                                                                                                                                                                                                                                                                                                                                                                                                                                                                                                                                                                                                                                                                                                                                                                                                                                                                                                                                                                                                                                                                                                                                                                                                                                                                                                                                                                                                                                                                                                                                                                                                                                                                                                                                                                                                                                                                                                                                                                             235\n",
       "Don't Know / Rather Not Answer                                                                                                                                                                                                                                                                                                                                                                                                                                                                                                                                                                                                                                                                                                                                                                                                                                                                                                                                                                                                                                                                                                                                                                                                                                                                                                                                                                                                                                                                                                                                                                                                                                                                                                                                                                                                                                                                                                                                                                                                                                                                                                                                                                                                                                                                                                                                                         167\n",
       "allow sidewalk travel except within 5m of pedestrians                                                                                                                                                                                                                                                                                                                                                                                                                                                                                                                                                                                                                                                                                                                                                                                                                                                                                                                                                                                                                                                                                                                                                                                                                                                                                                                                                                                                                                                                                                                                                                                                                                                                                                                                                                                                                                                                                                                                                                                                                                                                                                                                                                                                                                                                                                                                    1\n",
       "remove from sidewalk                                                                                                                                                                                                                                                                                                                                                                                                                                                                                                                                                                                                                                                                                                                                                                                                                                                                                                                                                                                                                                                                                                                                                                                                                                                                                                                                                                                                                                                                                                                                                                                                                                                                                                                                                                                                                                                                                                                                                                                                                                                                                                                                                                                                                                                                                                                                                                     1\n",
       "Again I'd need to see some research and hear about what's happening in other cities I'm not sure                                                                                                                                                                                                                                                                                                                                                                                                                                                                                                                                                                                                                                                                                                                                                                                                                                                                                                                                                                                                                                                                                                                                                                                                                                                                                                                                                                                                                                                                                                                                                                                                                                                                                                                                                                                                                                                                                                                                                                                                                                                                                                                                                                                                                                                                                         1\n",
       "ebikes should not be allowed on the side walk                                                                                                                                                                                                                                                                                                                                                                                                                                                                                                                                                                                                                                                                                                                                                                                                                                                                                                                                                                                                                                                                                                                                                                                                                                                                                                                                                                                                                                                                                                                                                                                                                                                                                                                                                                                                                                                                                                                                                                                                                                                                                                                                                                                                                                                                                                                                            1\n",
       "institute a speed limit - for personal mobility devices when used on sidewalks                                                                                                                                                                                                                                                                                                                                                                                                                                                                                                                                                                                                                                                                                                                                                                                                                                                                                                                                                                                                                                                                                                                                                                                                                                                                                                                                                                                                                                                                                                                                                                                                                                                                                                                                                                                                                                                                                                                                                                                                                                                                                                                                                                                                                                                                                                           1\n",
       "encourage people to be reasonable and kind                                                                                                                                                                                                                                                                                                                                                                                                                                                                                                                                                                                                                                                                                                                                                                                                                                                                                                                                                                                                                                                                                                                                                                                                                                                                                                                                                                                                                                                                                                                                                                                                                                                                                                                                                                                                                                                                                                                                                                                                                                                                                                                                                                                                                                                                                                                                               1\n",
       "PMDs on sidewalks should have speed limit also allow bike lane use at higher speeds where available                                                                                                                                                                                                                                                                                                                                                                                                                                                                                                                                                                                                                                                                                                                                                                                                                                                                                                                                                                                                                                                                                                                                                                                                                                                                                                                                                                                                                                                                                                                                                                                                                                                                                                                                                                                                                                                                                                                                                                                                                                                                                                                                                                                                                                                                                      1\n",
       "If personal mobility devices must be on the sidewalk their speed needs to be much slower - if that it is not possible speed limits are necessary and need to be enforced however I see this as contuing risk and think where if they can't be slowed down they can't be on the sidewalk                                                                                                                                                                                                                                                                                                                                                                                                                                                                                                                                                                                                                                                                                                                                                                                                                                                                                                                                                                                                                                                                                                                                                                                                                                                                                                                                                                                                                                                                                                                                                                                                                                                                                                                                                                                                                                                                                                                                                                                                                                                                                                  1\n",
       "I have often seen motorized wheelchairs being driven in bicycle lanes or along the side of the road as if they were cars Mobility devices ought to be on the sidewalk and being driven at reasonable speeds depending on sidewalk traffic                                                                                                                                                                                                                                                                                                                                                                                                                                                                                                                                                                                                                                                                                                                                                                                                                                                                                                                                                                                                                                                                                                                                                                                                                                                                                                                                                                                                                                                                                                                                                                                                                                                                                                                                                                                                                                                                                                                                                                                                                                                                                                                                                1\n",
       "Reduce the speeds of mobile wheelchairs They are too fast for side walks                                                                                                                                                                                                                                                                                                                                                                                                                                                                                                                                                                                                                                                                                                                                                                                                                                                                                                                                                                                                                                                                                                                                                                                                                                                                                                                                                                                                                                                                                                                                                                                                                                                                                                                                                                                                                                                                                                                                                                                                                                                                                                                                                                                                                                                                                                                 1\n",
       "pedal assisted bikes should travel on the road with other bikes Sidewalks are for pedestrians and those traveling by wheel chair                                                                                                                                                                                                                                                                                                                                                                                                                                                                                                                                                                                                                                                                                                                                                                                                                                                                                                                                                                                                                                                                                                                                                                                                                                                                                                                                                                                                                                                                                                                                                                                                                                                                                                                                                                                                                                                                                                                                                                                                                                                                                                                                                                                                                                                         1\n",
       "seniors are responsible mobility users                                                                                                                                                                                                                                                                                                                                                                                                                                                                                                                                                                                                                                                                                                                                                                                                                                                                                                                                                                                                                                                                                                                                                                                                                                                                                                                                                                                                                                                                                                                                                                                                                                                                                                                                                                                                                                                                                                                                                                                                                                                                                                                                                                                                                                                                                                                                                   1\n",
       "No one will pay attention to sidewalk speed limits unless there is enforcement I live near a retirement home and many people use these superfast chairs on the road and the sidewalk This should be prohibited especially since the home is next to a school I have nearly been run over by these superfast chairs and the owners give ME a dirty look for not moving out of the way!                                                                                                                                                                                                                                                                                                                                                                                                                                                                                                                                                                                                                                                                                                                                                                                                                                                                                                                                                                                                                                                                                                                                                                                                                                                                                                                                                                                                                                                                                                                                                                                                                                                                                                                                                                                                                                                                                                                                                                                                    1\n",
       "All devices (high speed wheel chairs e-bikes in-line skates bicycles etc ) must be operated responsibly Individuals must be made responsible for the safety of all Perhaps the City can post Rules of the Road for trails and bike paths and sidewalks--No passing at more than a walking speed; Provide an audible notice of intent to pass (e g  call out Bike on your right when contemplating a pass on the right side of a slower moving individual); Stop and/or move off the trail or sidewalk when meeting an individual with lesser mobility (e g  baby stroller wheelchair walker etc );  The bottom line is that when 2 individuals with highly different speeds collide there will be damage A bicycle hitting a car or a Mack truck will result in more damage than a runner hitting a pedestrian Pedestrians wheelchair passengers and bicyclists have no protective cocoon around them like a motor vehicle passenger Motor vehicles (i e  cars and trucks not bicyles or e-bikes) should not mix with other less massive less protective and less speedy forms of transportation And all forms of transportation sharing a common thoroughfare must be courteous and responsible for everyone's safety I am nearly 65 years old I used to ride a 10 speed bicycle about 10 km to work but I can't make it up some of the hills now Fortunately the Province of Ontario had the foresight to allow something called an e-bike to be used like a bicycle and I can now ride my e-bike to work using the electric assist on hills I can't negotiate under my own steam I ride on a few sidestreets with very little traffic on the Waterfront Trail through unofficial trails in fields and occassionally on sidewalks rather than busy 4-lane roads I am careful to slow down and move off the trail whenever I encounter another individual I have never had any sort of problem meeting a pedestrian baby stroller other cyclist etc The only times I have witnessed a problem is when one individual is travelling at high speed overtaking another with no regard for the safety of others It has nothing to do with the mode of transportation it is a problem of a lack of responsiblity and respect for others in a specific individual Perhaps better education at home in school and through posted Rules of the Road would help change this bad behaviour        1\n",
       "most I have seen if they want to go fast will go in the bike lane - I feel having mobility issues is difficult enough without making things tougher                                                                                                                                                                                                                                                                                                                                                                                                                                                                                                                                                                                                                                                                                                                                                                                                                                                                                                                                                                                                                                                                                                                                                                                                                                                                                                                                                                                                                                                                                                                                                                                                                                                                                                                                                                                                                                                                                                                                                                                                                                                                                                                                                                                                                                      1\n",
       "Need more bike lanes                                                                                                                                                                                                                                                                                                                                                                                                                                                                                                                                                                                                                                                                                                                                                                                                                                                                                                                                                                                                                                                                                                                                                                                                                                                                                                                                                                                                                                                                                                                                                                                                                                                                                                                                                                                                                                                                                                                                                                                                                                                                                                                                                                                                                                                                                                                                                                     1\n",
       "NO BIKES ON SIDEWALKS - EVER!                                                                                                                                                                                                                                                                                                                                                                                                                                                                                                                                                                                                                                                                                                                                                                                                                                                                                                                                                                                                                                                                                                                                                                                                                                                                                                                                                                                                                                                                                                                                                                                                                                                                                                                                                                                                                                                                                                                                                                                                                                                                                                                                                                                                                                                                                                                                                            1\n",
       "doesn't make sense to limit as runners are going faster than walking speed and allowed to be in the same spot as pedestrians                                                                                                                                                                                                                                                                                                                                                                                                                                                                                                                                                                                                                                                                                                                                                                                                                                                                                                                                                                                                                                                                                                                                                                                                                                                                                                                                                                                                                                                                                                                                                                                                                                                                                                                                                                                                                                                                                                                                                                                                                                                                                                                                                                                                                                                             1\n",
       "Hold individuals responsible for their actions                                                                                                                                                                                                                                                                                                                                                                                                                                                                                                                                                                                                                                                                                                                                                                                                                                                                                                                                                                                                                                                                                                                                                                                                                                                                                                                                                                                                                                                                                                                                                                                                                                                                                                                                                                                                                                                                                                                                                                                                                                                                                                                                                                                                                                                                                                                                           1\n",
       "Personal mobility devices which resemble e-bikes should not be considered pedestrians                                                                                                                                                                                                                                                                                                                                                                                                                                                                                                                                                                                                                                                                                                                                                                                                                                                                                                                                                                                                                                                                                                                                                                                                                                                                                                                                                                                                                                                                                                                                                                                                                                                                                                                                                                                                                                                                                                                                                                                                                                                                                                                                                                                                                                                                                                    1\n",
       "both update the definition and institute speed limits for sidewalks                                                                                                                                                                                                                                                                                                                                                                                                                                                                                                                                                                                                                                                                                                                                                                                                                                                                                                                                                                                                                                                                                                                                                                                                                                                                                                                                                                                                                                                                                                                                                                                                                                                                                                                                                                                                                                                                                                                                                                                                                                                                                                                                                                                                                                                                                                                      1\n",
       "These vehicles are fine so long as they are travelling at the same pace as pedestrians  The ability to go faster on the road is obviously very beneficial to people that need them since they can move around similarly to an e-bike rather than be geographically restricted  They shouldn't need two separate PMDs to travel on the sidewalk vs the road but the pedestrian's safety and rights come first  Limit speeds on sidewalks go as fast as is legal and safe on the roads                                                                                                                                                                                                                                                                                                                                                                                                                                                                                                                                                                                                                                                                                                                                                                                                                                                                                                                                                                                                                                                                                                                                                                                                                                                                                                                                                                                                                                                                                                                                                                                                                                                                                                                                                                                                                                                                                                     1\n",
       "Update the definition Limit speeds on sidewalks And make them responsible and tickitable for violation I have almost had my foot ran over twice On top of that The one time one of them cut me off the one time as i walked She did run over my foot The only reson I didn't suffer any real injury was because my boot was shanked with Carbon Fiber Plates                                                                                                                                                                                                                                                                                                                                                                                                                                                                                                                                                                                                                                                                                                                                                                                                                                                                                                                                                                                                                                                                                                                                                                                                                                                                                                                                                                                                                                                                                                                                                                                                                                                                                                                                                                                                                                                                                                                                                                                                                             1\n",
       "Implement maximum speed to be jogging speed?                                                                                                                                                                                                                                                                                                                                                                                                                                                                                                                                                                                                                                                                                                                                                                                                                                                                                                                                                                                                                                                                                                                                                                                                                                                                                                                                                                                                                                                                                                                                                                                                                                                                                                                                                                                                                                                                                                                                                                                                                                                                                                                                                                                                                                                                                                                                             1\n",
       "Fast ebikes should not be allowed on sidewalks                                                                                                                                                                                                                                                                                                                                                                                                                                                                                                                                                                                                                                                                                                                                                                                                                                                                                                                                                                                                                                                                                                                                                                                                                                                                                                                                                                                                                                                                                                                                                                                                                                                                                                                                                                                                                                                                                                                                                                                                                                                                                                                                                                                                                                                                                                                                           1\n",
       "Jogging limit                                                                                                                                                                                                                                                                                                                                                                                                                                                                                                                                                                                                                                                                                                                                                                                                                                                                                                                                                                                                                                                                                                                                                                                                                                                                                                                                                                                                                                                                                                                                                                                                                                                                                                                                                                                                                                                                                                                                                                                                                                                                                                                                                                                                                                                                                                                                                                            1\n",
       "                                                                                                                                                                                                                                                                                                                                                                                                                                                                                                                                                                                                                                                                                                                                                                                                                                                                                                                                                                                                                                                                                                                                                                                                                                                                                                                                                                                                                                                                                                                                                                                                                                                                                                                                                                                                                                                                                                                                                                                                                                                                                                                                                                                                                                                                                                                                                                                      ... \n",
       "Do nothing as these green transportation devices should be encouraged not regulated Even free charging stations in the city should be offered                                                                                                                                                                                                                                                                                                                                                                                                                                                                                                                                                                                                                                                                                                                                                                                                                                                                                                                                                                                                                                                                                                                                                                                                                                                                                                                                                                                                                                                                                                                                                                                                                                                                                                                                                                                                                                                                                                                                                                                                                                                                                                                                                                                                                                            1\n",
       "I cant walk! You are trying to make it so it takes 1/2 hr to get to the store instead of 5 minutes                                                                                                                                                                                                                                                                                                                                                                                                                                                                                                                                                                                                                                                                                                                                                                                                                                                                                                                                                                                                                                                                                                                                                                                                                                                                                                                                                                                                                                                                                                                                                                                                                                                                                                                                                                                                                                                                                                                                                                                                                                                                                                                                                                                                                                                                                       1\n",
       "don't allow the sale of these high-speed mobility devices Why not stop the problem at the root?                                                                                                                                                                                                                                                                                                                                                                                                                                                                                                                                                                                                                                                                                                                                                                                                                                                                                                                                                                                                                                                                                                                                                                                                                                                                                                                                                                                                                                                                                                                                                                                                                                                                                                                                                                                                                                                                                                                                                                                                                                                                                                                                                                                                                                                                                          1\n",
       "the city needs to increase enforcement so people don't drive personal mobility devices on the road and/or bikes lanes                                                                                                                                                                                                                                                                                                                                                                                                                                                                                                                                                                                                                                                                                                                                                                                                                                                                                                                                                                                                                                                                                                                                                                                                                                                                                                                                                                                                                                                                                                                                                                                                                                                                                                                                                                                                                                                                                                                                                                                                                                                                                                                                                                                                                                                                    1\n",
       "limit sidewalks to pedestrians and those legitimately using a wheel chair                                                                                                                                                                                                                                                                                                                                                                                                                                                                                                                                                                                                                                                                                                                                                                                                                                                                                                                                                                                                                                                                                                                                                                                                                                                                                                                                                                                                                                                                                                                                                                                                                                                                                                                                                                                                                                                                                                                                                                                                                                                                                                                                                                                                                                                                                                                1\n",
       "I know they are not fast enough to be in my bike lane Perhaps a speed limit on the sidewalk? Seems silly but I can't think of any other ideas                                                                                                                                                                                                                                                                                                                                                                                                                                                                                                                                                                                                                                                                                                                                                                                                                                                                                                                                                                                                                                                                                                                                                                                                                                                                                                                                                                                                                                                                                                                                                                                                                                                                                                                                                                                                                                                                                                                                                                                                                                                                                                                                                                                                                                            1\n",
       "Please keep electric wheelchairs out of bike lanes Its not safe                                                                                                                                                                                                                                                                                                                                                                                                                                                                                                                                                                                                                                                                                                                                                                                                                                                                                                                                                                                                                                                                                                                                                                                                                                                                                                                                                                                                                                                                                                                                                                                                                                                                                                                                                                                                                                                                                                                                                                                                                                                                                                                                                                                                                                                                                                                          1\n",
       "Educate those users; a by-law with a flexible reasonable and safe or appropriate to circumstances condition IT is reasonable for someone on one of these machines to travel more quickly than walking speed on many large sparsely used sidewalks                                                                                                                                                                                                                                                                                                                                                                                                                                                                                                                                                                                                                                                                                                                                                                                                                                                                                                                                                                                                                                                                                                                                                                                                                                                                                                                                                                                                                                                                                                                                                                                                                                                                                                                                                                                                                                                                                                                                                                                                                                                                                                                                        1\n",
       "Allow wheelchairs to be either on sidewalks or in bike lanes as long as they follow the rules of the road                                                                                                                                                                                                                                                                                                                                                                                                                                                                                                                                                                                                                                                                                                                                                                                                                                                                                                                                                                                                                                                                                                                                                                                                                                                                                                                                                                                                                                                                                                                                                                                                                                                                                                                                                                                                                                                                                                                                                                                                                                                                                                                                                                                                                                                                                1\n",
       "When travelling on a sidewalk personal mobility devices should be capped at 5K an hour                                                                                                                                                                                                                                                                                                                                                                                                                                                                                                                                                                                                                                                                                                                                                                                                                                                                                                                                                                                                                                                                                                                                                                                                                                                                                                                                                                                                                                                                                                                                                                                                                                                                                                                                                                                                                                                                                                                                                                                                                                                                                                                                                                                                                                                                                                   1\n",
       "Require bells                                                                                                                                                                                                                                                                                                                                                                                                                                                                                                                                                                                                                                                                                                                                                                                                                                                                                                                                                                                                                                                                                                                                                                                                                                                                                                                                                                                                                                                                                                                                                                                                                                                                                                                                                                                                                                                                                                                                                                                                                                                                                                                                                                                                                                                                                                                                                                            1\n",
       "mobility scooters are not to slow and I have seen them really moving down sidewalks and on bike lanes so don't pin it all on ebikes Just get rid of the car and all problems are solved They are the only ones complaining                                                                                                                                                                                                                                                                                                                                                                                                                                                                                                                                                                                                                                                                                                                                                                                                                                                                                                                                                                                                                                                                                                                                                                                                                                                                                                                                                                                                                                                                                                                                                                                                                                                                                                                                                                                                                                                                                                                                                                                                                                                                                                                                                               1\n",
       "Include a requirement for bells or other device to be used when travelling at faster speeds                                                                                                                                                                                                                                                                                                                                                                                                                                                                                                                                                                                                                                                                                                                                                                                                                                                                                                                                                                                                                                                                                                                                                                                                                                                                                                                                                                                                                                                                                                                                                                                                                                                                                                                                                                                                                                                                                                                                                                                                                                                                                                                                                                                                                                                                                              1\n",
       "Institute a speed limit for sidewalks WHEN pedestrians are present and ahead of the electric traveler                                                                                                                                                                                                                                                                                                                                                                                                                                                                                                                                                                                                                                                                                                                                                                                                                                                                                                                                                                                                                                                                                                                                                                                                                                                                                                                                                                                                                                                                                                                                                                                                                                                                                                                                                                                                                                                                                                                                                                                                                                                                                                                                                                                                                                                                                    1\n",
       "provide more education on the safety implications of mobility devices (and bicycles) and sidewalks                                                                                                                                                                                                                                                                                                                                                                                                                                                                                                                                                                                                                                                                                                                                                                                                                                                                                                                                                                                                                                                                                                                                                                                                                                                                                                                                                                                                                                                                                                                                                                                                                                                                                                                                                                                                                                                                                                                                                                                                                                                                                                                                                                                                                                                                                       1\n",
       "As a pedestrian I have been personally afraid of quick moving individuals driving mobility devices on sidewalks  I believe a speed limit may be appropriate but I am not sure if this infringes the rights of the physically challenged                                                                                                                                                                                                                                                                                                                                                                                                                                                                                                                                                                                                                                                                                                                                                                                                                                                                                                                                                                                                                                                                                                                                                                                                                                                                                                                                                                                                                                                                                                                                                                                                                                                                                                                                                                                                                                                                                                                                                                                                                                                                                                                                                  1\n",
       "if these vehicles are treated like pedestrians and allowed on sidewalks and indoors then get them out the road/bike lanes                                                                                                                                                                                                                                                                                                                                                                                                                                                                                                                                                                                                                                                                                                                                                                                                                                                                                                                                                                                                                                                                                                                                                                                                                                                                                                                                                                                                                                                                                                                                                                                                                                                                                                                                                                                                                                                                                                                                                                                                                                                                                                                                                                                                                                                                1\n",
       "They should stay on the sidewalk not the roads and should not have high speeds                                                                                                                                                                                                                                                                                                                                                                                                                                                                                                                                                                                                                                                                                                                                                                                                                                                                                                                                                                                                                                                                                                                                                                                                                                                                                                                                                                                                                                                                                                                                                                                                                                                                                                                                                                                                                                                                                                                                                                                                                                                                                                                                                                                                                                                                                                           1\n",
       "Just as running is permitted on sidewalks so too should faster mobility devices be permitted in principle with risk and liability placed on the user's discretion                                                                                                                                                                                                                                                                                                                                                                                                                                                                                                                                                                                                                                                                                                                                                                                                                                                                                                                                                                                                                                                                                                                                                                                                                                                                                                                                                                                                                                                                                                                                                                                                                                                                                                                                                                                                                                                                                                                                                                                                                                                                                                                                                                                                                        1\n",
       "Many such devices go on the road                                                                                                                                                                                                                                                                                                                                                                                                                                                                                                                                                                                                                                                                                                                                                                                                                                                                                                                                                                                                                                                                                                                                                                                                                                                                                                                                                                                                                                                                                                                                                                                                                                                                                                                                                                                                                                                                                                                                                                                                                                                                                                                                                                                                                                                                                                                                                         1\n",
       "You're missing the point  It's not the slow moving vehicles that are the problem it's the cars                                                                                                                                                                                                                                                                                                                                                                                                                                                                                                                                                                                                                                                                                                                                                                                                                                                                                                                                                                                                                                                                                                                                                                                                                                                                                                                                                                                                                                                                                                                                                                                                                                                                                                                                                                                                                                                                                                                                                                                                                                                                                                                                                                                                                                                                                           1\n",
       "Allow them in the bike lane as sidewalks are too bumpy for those speeds                                                                                                                                                                                                                                                                                                                                                                                                                                                                                                                                                                                                                                                                                                                                                                                                                                                                                                                                                                                                                                                                                                                                                                                                                                                                                                                                                                                                                                                                                                                                                                                                                                                                                                                                                                                                                                                                                                                                                                                                                                                                                                                                                                                                                                                                                                                  1\n",
       "speed limit and mobility vehicles for health reasons should require a doctors note                                                                                                                                                                                                                                                                                                                                                                                                                                                                                                                                                                                                                                                                                                                                                                                                                                                                                                                                                                                                                                                                                                                                                                                                                                                                                                                                                                                                                                                                                                                                                                                                                                                                                                                                                                                                                                                                                                                                                                                                                                                                                                                                                                                                                                                                                                       1\n",
       "I have no problem what a person mobility device that acts as a wheelchair otherwise bikes ebikes cars are all vehicles and belong on the road period                                                                                                                                                                                                                                                                                                                                                                                                                                                                                                                                                                                                                                                                                                                                                                                                                                                                                                                                                                                                                                                                                                                                                                                                                                                                                                                                                                                                                                                                                                                                                                                                                                                                                                                                                                                                                                                                                                                                                                                                                                                                                                                                                                                                                                     1\n",
       "Frankly even electric wheelchairs now have been causing issues on sidewalks I notice I've nearly been run over by them I don't know what to do about it but it is an issue I see this as a different issue from that for e-bikes                                                                                                                                                                                                                                                                                                                                                                                                                                                                                                                                                                                                                                                                                                                                                                                                                                                                                                                                                                                                                                                                                                                                                                                                                                                                                                                                                                                                                                                                                                                                                                                                                                                                                                                                                                                                                                                                                                                                                                                                                                                                                                                                                         1\n",
       "The people that operate them are reckless; driving in the road running lights I saw one hit a pedestrian                                                                                                                                                                                                                                                                                                                                                                                                                                                                                                                                                                                                                                                                                                                                                                                                                                                                                                                                                                                                                                                                                                                                                                                                                                                                                                                                                                                                                                                                                                                                                                                                                                                                                                                                                                                                                                                                                                                                                                                                                                                                                                                                                                                                                                                                                 1\n",
       "they seem to think they own the sidewalks speed gonvenors and education and fines should be considered                                                                                                                                                                                                                                                                                                                                                                                                                                                                                                                                                                                                                                                                                                                                                                                                                                                                                                                                                                                                                                                                                                                                                                                                                                                                                                                                                                                                                                                                                                                                                                                                                                                                                                                                                                                                                                                                                                                                                                                                                                                                                                                                                                                                                                                                                   1\n",
       "ban sale or use of mobility devices which go more than 120% of average walking speed                                                                                                                                                                                                                                                                                                                                                                                                                                                                                                                                                                                                                                                                                                                                                                                                                                                                                                                                                                                                                                                                                                                                                                                                                                                                                                                                                                                                                                                                                                                                                                                                                                                                                                                                                                                                                                                                                                                                                                                                                                                                                                                                                                                                                                                                                                     1\n",
       "Education for personal mobility devices to travel safely                                                                                                                                                                                                                                                                                                                                                                                                                                                                                                                                                                                                                                                                                                                                                                                                                                                                                                                                                                                                                                                                                                                                                                                                                                                                                                                                                                                                                                                                                                                                                                                                                                                                                                                                                                                                                                                                                                                                                                                                                                                                                                                                                                                                                                                                                                                                 1\n",
       "Tough to say Wish the other questions had the Don't Know option like this one Leaning towards your second option but City should work with disabled orgs on this one                                                                                                                                                                                                                                                                                                                                                                                                                                                                                                                                                                                                                                                                                                                                                                                                                                                                                                                                                                                                                                                                                                                                                                                                                                                                                                                                                                                                                                                                                                                                                                                                                                                                                                                                                                                                                                                                                                                                                                                                                                                                                                                                                                                                                     1\n",
       "Name: Toronto Bylaws consider personal mobility devices (such as electric wheel chairs) to be pedestrians In your opinion should the City, dtype: int64"
      ]
     },
     "execution_count": 3597,
     "metadata": {},
     "output_type": "execute_result"
    }
   ],
   "source": [
    "personal = responses[\"Toronto Bylaws consider personal mobility devices (such as electric wheel chairs) to be pedestrians In your opinion should the City\"]\n",
    "personal.value_counts()"
   ]
  },
  {
   "cell_type": "code",
   "execution_count": 3598,
   "metadata": {},
   "outputs": [
    {
     "data": {
      "text/plain": [
       "count                                                  2232\n",
       "unique                                                   81\n",
       "top       Update the definition of a personal mobility d...\n",
       "freq                                                   1379\n",
       "Name: Toronto Bylaws consider personal mobility devices (such as electric wheel chairs) to be pedestrians In your opinion should the City, dtype: object"
      ]
     },
     "execution_count": 3598,
     "metadata": {},
     "output_type": "execute_result"
    }
   ],
   "source": [
    "personal.describe()"
   ]
  },
  {
   "cell_type": "markdown",
   "metadata": {},
   "source": [
    "Although there are 6 missing values, we can easily use the majority (Update the definition ... > 60%) to reassign them.\n",
    "\n",
    "Dealing with the data variability can be done in a similar fashion as done so far. Checklist values seem to be:\n",
    "\n",
    "1. Update the definition of a personal mobility device so that they must travel at speeds close to walking speed \n",
    "2. Institute a speed limit for sidewalks\n",
    "3. Don't Know / Rather Not Answer\n",
    "4. Do nothing\n",
    "5. Allow sidewalk travel except within 5m of pedestrians\n",
    "\n",
    "This can be grouped categorically into the following 3 categories:\n",
    "1. Do nothing\n",
    "2. Don't Know/Rather Not Answer\n",
    "3. Do something\n",
    "\n",
    "Judging from the one-offs / custom answers in this category, most of them point towards taking some action. Thus, the default in this category will be to \"Do Something\""
   ]
  },
  {
   "cell_type": "code",
   "execution_count": 3599,
   "metadata": {},
   "outputs": [
    {
     "data": {
      "text/plain": [
       "count                                                  2238\n",
       "unique                                                   81\n",
       "top       Update the definition of a personal mobility d...\n",
       "freq                                                   1385\n",
       "Name: Toronto Bylaws consider personal mobility devices (such as electric wheel chairs) to be pedestrians In your opinion should the City, dtype: object"
      ]
     },
     "execution_count": 3599,
     "metadata": {},
     "output_type": "execute_result"
    }
   ],
   "source": [
    "# Fill in missing values\n",
    "personal.fillna(\"Update the definition of a personal mobility device so that they must travel at speeds close to walking speed \", inplace = True)\n",
    "personal.describe()"
   ]
  },
  {
   "cell_type": "code",
   "execution_count": 3600,
   "metadata": {},
   "outputs": [
    {
     "data": {
      "text/html": [
       "<div>\n",
       "<table border=\"1\" class=\"dataframe\">\n",
       "  <thead>\n",
       "    <tr style=\"text-align: right;\">\n",
       "      <th></th>\n",
       "      <th>What age range do you fall in?</th>\n",
       "      <th>Sex</th>\n",
       "      <th>How would you describe your level of physical health?</th>\n",
       "      <th>What level of education have you reached?</th>\n",
       "      <th>What is your household income?</th>\n",
       "      <th>Which category best describes your employment?</th>\n",
       "      <th>What Toronto district is your primary address located in?</th>\n",
       "      <th>On average what distance do you travel most days of the week?</th>\n",
       "      <th>On average how long is your commute?</th>\n",
       "      <th>Which transportation option do you end up using most often?</th>\n",
       "      <th>...</th>\n",
       "      <th>Do you think more should be done to manage trail users who do not respect the 20 km/h speed limit?</th>\n",
       "      <th>Multi-Use Trails - # of Different Motorized Transport Modes Used</th>\n",
       "      <th>Multi-Use Trails - # of Different Non Motorized Transport Modes Used</th>\n",
       "      <th># of Conflicts Involving Motorized Vehicles</th>\n",
       "      <th># of Conflicts Not-Involving Motorized Vehicles</th>\n",
       "      <th>Bylaws regarding e-bikes in multi-use trails should be Changed (1) / Maintained (0)</th>\n",
       "      <th>Use E-bikes on Toronto's bicycle lanes? Yes (1) / No (0)</th>\n",
       "      <th>Bylaws regarding e-bikes in bicycle lanes should be Changed (1) / Maintained (0)</th>\n",
       "      <th>For illegal use of bicycle and e-bikes on sidewalks, the City should Increase (1) / Maintain (0) programs</th>\n",
       "      <th>Regarding the bylaws classifying personal mobility devices as pedestrians, the City of Toronto should Do nothing (0) / Don't Know or Rather Not Answer (1) / Do something (2)</th>\n",
       "    </tr>\n",
       "  </thead>\n",
       "  <tbody>\n",
       "    <tr>\n",
       "      <th>0</th>\n",
       "      <td>2</td>\n",
       "      <td>0</td>\n",
       "      <td>3</td>\n",
       "      <td>4</td>\n",
       "      <td>5</td>\n",
       "      <td>6</td>\n",
       "      <td>1</td>\n",
       "      <td>0</td>\n",
       "      <td>1</td>\n",
       "      <td>4</td>\n",
       "      <td>...</td>\n",
       "      <td>0</td>\n",
       "      <td>1</td>\n",
       "      <td>1</td>\n",
       "      <td>0</td>\n",
       "      <td>2</td>\n",
       "      <td>1</td>\n",
       "      <td>1</td>\n",
       "      <td>1</td>\n",
       "      <td>0</td>\n",
       "      <td>2</td>\n",
       "    </tr>\n",
       "    <tr>\n",
       "      <th>1</th>\n",
       "      <td>1</td>\n",
       "      <td>0</td>\n",
       "      <td>5</td>\n",
       "      <td>3</td>\n",
       "      <td>2</td>\n",
       "      <td>7</td>\n",
       "      <td>1</td>\n",
       "      <td>2</td>\n",
       "      <td>3</td>\n",
       "      <td>4</td>\n",
       "      <td>...</td>\n",
       "      <td>0</td>\n",
       "      <td>0</td>\n",
       "      <td>0</td>\n",
       "      <td>0</td>\n",
       "      <td>0</td>\n",
       "      <td>0</td>\n",
       "      <td>1</td>\n",
       "      <td>0</td>\n",
       "      <td>0</td>\n",
       "      <td>0</td>\n",
       "    </tr>\n",
       "    <tr>\n",
       "      <th>2</th>\n",
       "      <td>3</td>\n",
       "      <td>0</td>\n",
       "      <td>3</td>\n",
       "      <td>3</td>\n",
       "      <td>2</td>\n",
       "      <td>6</td>\n",
       "      <td>1</td>\n",
       "      <td>2</td>\n",
       "      <td>1</td>\n",
       "      <td>5</td>\n",
       "      <td>...</td>\n",
       "      <td>1</td>\n",
       "      <td>0</td>\n",
       "      <td>0</td>\n",
       "      <td>0</td>\n",
       "      <td>0</td>\n",
       "      <td>0</td>\n",
       "      <td>0</td>\n",
       "      <td>0</td>\n",
       "      <td>1</td>\n",
       "      <td>2</td>\n",
       "    </tr>\n",
       "    <tr>\n",
       "      <th>3</th>\n",
       "      <td>3</td>\n",
       "      <td>0</td>\n",
       "      <td>3</td>\n",
       "      <td>1</td>\n",
       "      <td>4</td>\n",
       "      <td>6</td>\n",
       "      <td>1</td>\n",
       "      <td>0</td>\n",
       "      <td>1</td>\n",
       "      <td>2</td>\n",
       "      <td>...</td>\n",
       "      <td>1</td>\n",
       "      <td>0</td>\n",
       "      <td>0</td>\n",
       "      <td>1</td>\n",
       "      <td>2</td>\n",
       "      <td>1</td>\n",
       "      <td>0</td>\n",
       "      <td>1</td>\n",
       "      <td>1</td>\n",
       "      <td>2</td>\n",
       "    </tr>\n",
       "    <tr>\n",
       "      <th>4</th>\n",
       "      <td>1</td>\n",
       "      <td>0</td>\n",
       "      <td>4</td>\n",
       "      <td>2</td>\n",
       "      <td>2</td>\n",
       "      <td>6</td>\n",
       "      <td>1</td>\n",
       "      <td>1</td>\n",
       "      <td>1</td>\n",
       "      <td>2</td>\n",
       "      <td>...</td>\n",
       "      <td>0</td>\n",
       "      <td>0</td>\n",
       "      <td>0</td>\n",
       "      <td>0</td>\n",
       "      <td>0</td>\n",
       "      <td>1</td>\n",
       "      <td>0</td>\n",
       "      <td>1</td>\n",
       "      <td>0</td>\n",
       "      <td>2</td>\n",
       "    </tr>\n",
       "    <tr>\n",
       "      <th>5</th>\n",
       "      <td>2</td>\n",
       "      <td>0</td>\n",
       "      <td>4</td>\n",
       "      <td>2</td>\n",
       "      <td>2</td>\n",
       "      <td>7</td>\n",
       "      <td>1</td>\n",
       "      <td>2</td>\n",
       "      <td>2</td>\n",
       "      <td>2</td>\n",
       "      <td>...</td>\n",
       "      <td>1</td>\n",
       "      <td>0</td>\n",
       "      <td>0</td>\n",
       "      <td>1</td>\n",
       "      <td>0</td>\n",
       "      <td>1</td>\n",
       "      <td>0</td>\n",
       "      <td>1</td>\n",
       "      <td>1</td>\n",
       "      <td>2</td>\n",
       "    </tr>\n",
       "    <tr>\n",
       "      <th>6</th>\n",
       "      <td>1</td>\n",
       "      <td>0</td>\n",
       "      <td>3</td>\n",
       "      <td>2</td>\n",
       "      <td>5</td>\n",
       "      <td>7</td>\n",
       "      <td>1</td>\n",
       "      <td>1</td>\n",
       "      <td>1</td>\n",
       "      <td>2</td>\n",
       "      <td>...</td>\n",
       "      <td>1</td>\n",
       "      <td>0</td>\n",
       "      <td>0</td>\n",
       "      <td>2</td>\n",
       "      <td>2</td>\n",
       "      <td>1</td>\n",
       "      <td>0</td>\n",
       "      <td>0</td>\n",
       "      <td>1</td>\n",
       "      <td>2</td>\n",
       "    </tr>\n",
       "    <tr>\n",
       "      <th>7</th>\n",
       "      <td>2</td>\n",
       "      <td>0</td>\n",
       "      <td>4</td>\n",
       "      <td>4</td>\n",
       "      <td>5</td>\n",
       "      <td>7</td>\n",
       "      <td>1</td>\n",
       "      <td>0</td>\n",
       "      <td>1</td>\n",
       "      <td>2</td>\n",
       "      <td>...</td>\n",
       "      <td>1</td>\n",
       "      <td>0</td>\n",
       "      <td>0</td>\n",
       "      <td>2</td>\n",
       "      <td>4</td>\n",
       "      <td>1</td>\n",
       "      <td>0</td>\n",
       "      <td>1</td>\n",
       "      <td>0</td>\n",
       "      <td>2</td>\n",
       "    </tr>\n",
       "    <tr>\n",
       "      <th>8</th>\n",
       "      <td>2</td>\n",
       "      <td>1</td>\n",
       "      <td>2</td>\n",
       "      <td>4</td>\n",
       "      <td>4</td>\n",
       "      <td>1</td>\n",
       "      <td>1</td>\n",
       "      <td>1</td>\n",
       "      <td>1</td>\n",
       "      <td>0</td>\n",
       "      <td>...</td>\n",
       "      <td>1</td>\n",
       "      <td>0</td>\n",
       "      <td>0</td>\n",
       "      <td>0</td>\n",
       "      <td>2</td>\n",
       "      <td>0</td>\n",
       "      <td>0</td>\n",
       "      <td>1</td>\n",
       "      <td>1</td>\n",
       "      <td>2</td>\n",
       "    </tr>\n",
       "    <tr>\n",
       "      <th>9</th>\n",
       "      <td>1</td>\n",
       "      <td>0</td>\n",
       "      <td>3</td>\n",
       "      <td>2</td>\n",
       "      <td>3</td>\n",
       "      <td>7</td>\n",
       "      <td>1</td>\n",
       "      <td>3</td>\n",
       "      <td>1</td>\n",
       "      <td>0</td>\n",
       "      <td>...</td>\n",
       "      <td>1</td>\n",
       "      <td>0</td>\n",
       "      <td>0</td>\n",
       "      <td>0</td>\n",
       "      <td>0</td>\n",
       "      <td>0</td>\n",
       "      <td>0</td>\n",
       "      <td>0</td>\n",
       "      <td>1</td>\n",
       "      <td>2</td>\n",
       "    </tr>\n",
       "  </tbody>\n",
       "</table>\n",
       "<p>10 rows × 23 columns</p>\n",
       "</div>"
      ],
      "text/plain": [
       "  What age range do you fall in? Sex  \\\n",
       "0                              2   0   \n",
       "1                              1   0   \n",
       "2                              3   0   \n",
       "3                              3   0   \n",
       "4                              1   0   \n",
       "5                              2   0   \n",
       "6                              1   0   \n",
       "7                              2   0   \n",
       "8                              2   1   \n",
       "9                              1   0   \n",
       "\n",
       "  How would you describe your level of physical health?  \\\n",
       "0                                                  3      \n",
       "1                                                  5      \n",
       "2                                                  3      \n",
       "3                                                  3      \n",
       "4                                                  4      \n",
       "5                                                  4      \n",
       "6                                                  3      \n",
       "7                                                  4      \n",
       "8                                                  2      \n",
       "9                                                  3      \n",
       "\n",
       "  What level of education have you reached? What is your household income?  \\\n",
       "0                                         4                              5   \n",
       "1                                         3                              2   \n",
       "2                                         3                              2   \n",
       "3                                         1                              4   \n",
       "4                                         2                              2   \n",
       "5                                         2                              2   \n",
       "6                                         2                              5   \n",
       "7                                         4                              5   \n",
       "8                                         4                              4   \n",
       "9                                         2                              3   \n",
       "\n",
       "  Which category best describes your employment?  \\\n",
       "0                                              6   \n",
       "1                                              7   \n",
       "2                                              6   \n",
       "3                                              6   \n",
       "4                                              6   \n",
       "5                                              7   \n",
       "6                                              7   \n",
       "7                                              7   \n",
       "8                                              1   \n",
       "9                                              7   \n",
       "\n",
       "  What Toronto district is your primary address located in?  \\\n",
       "0                                                  1          \n",
       "1                                                  1          \n",
       "2                                                  1          \n",
       "3                                                  1          \n",
       "4                                                  1          \n",
       "5                                                  1          \n",
       "6                                                  1          \n",
       "7                                                  1          \n",
       "8                                                  1          \n",
       "9                                                  1          \n",
       "\n",
       "  On average what distance do you travel most days of the week?  \\\n",
       "0                                                  0              \n",
       "1                                                  2              \n",
       "2                                                  2              \n",
       "3                                                  0              \n",
       "4                                                  1              \n",
       "5                                                  2              \n",
       "6                                                  1              \n",
       "7                                                  0              \n",
       "8                                                  1              \n",
       "9                                                  3              \n",
       "\n",
       "  On average how long is your commute?  \\\n",
       "0                                    1   \n",
       "1                                    3   \n",
       "2                                    1   \n",
       "3                                    1   \n",
       "4                                    1   \n",
       "5                                    2   \n",
       "6                                    1   \n",
       "7                                    1   \n",
       "8                                    1   \n",
       "9                                    1   \n",
       "\n",
       "  Which transportation option do you end up using most often?  \\\n",
       "0                                                  4            \n",
       "1                                                  4            \n",
       "2                                                  5            \n",
       "3                                                  2            \n",
       "4                                                  2            \n",
       "5                                                  2            \n",
       "6                                                  2            \n",
       "7                                                  2            \n",
       "8                                                  0            \n",
       "9                                                  0            \n",
       "\n",
       "                                                                                       ...                                                                                        \\\n",
       "0                                                                                      ...                                                                                         \n",
       "1                                                                                      ...                                                                                         \n",
       "2                                                                                      ...                                                                                         \n",
       "3                                                                                      ...                                                                                         \n",
       "4                                                                                      ...                                                                                         \n",
       "5                                                                                      ...                                                                                         \n",
       "6                                                                                      ...                                                                                         \n",
       "7                                                                                      ...                                                                                         \n",
       "8                                                                                      ...                                                                                         \n",
       "9                                                                                      ...                                                                                         \n",
       "\n",
       "  Do you think more should be done to manage trail users who do not respect the 20 km/h speed limit?  \\\n",
       "0                                                  0                                                   \n",
       "1                                                  0                                                   \n",
       "2                                                  1                                                   \n",
       "3                                                  1                                                   \n",
       "4                                                  0                                                   \n",
       "5                                                  1                                                   \n",
       "6                                                  1                                                   \n",
       "7                                                  1                                                   \n",
       "8                                                  1                                                   \n",
       "9                                                  1                                                   \n",
       "\n",
       "   Multi-Use Trails - # of Different Motorized Transport Modes Used  \\\n",
       "0                                                  1                  \n",
       "1                                                  0                  \n",
       "2                                                  0                  \n",
       "3                                                  0                  \n",
       "4                                                  0                  \n",
       "5                                                  0                  \n",
       "6                                                  0                  \n",
       "7                                                  0                  \n",
       "8                                                  0                  \n",
       "9                                                  0                  \n",
       "\n",
       "  Multi-Use Trails - # of Different Non Motorized Transport Modes Used  \\\n",
       "0                                                  1                     \n",
       "1                                                  0                     \n",
       "2                                                  0                     \n",
       "3                                                  0                     \n",
       "4                                                  0                     \n",
       "5                                                  0                     \n",
       "6                                                  0                     \n",
       "7                                                  0                     \n",
       "8                                                  0                     \n",
       "9                                                  0                     \n",
       "\n",
       "   # of Conflicts Involving Motorized Vehicles  \\\n",
       "0                                            0   \n",
       "1                                            0   \n",
       "2                                            0   \n",
       "3                                            1   \n",
       "4                                            0   \n",
       "5                                            1   \n",
       "6                                            2   \n",
       "7                                            2   \n",
       "8                                            0   \n",
       "9                                            0   \n",
       "\n",
       "   # of Conflicts Not-Involving Motorized Vehicles  \\\n",
       "0                                                2   \n",
       "1                                                0   \n",
       "2                                                0   \n",
       "3                                                2   \n",
       "4                                                0   \n",
       "5                                                0   \n",
       "6                                                2   \n",
       "7                                                4   \n",
       "8                                                2   \n",
       "9                                                0   \n",
       "\n",
       "   Bylaws regarding e-bikes in multi-use trails should be Changed (1) / Maintained (0)  \\\n",
       "0                                                  1                                     \n",
       "1                                                  0                                     \n",
       "2                                                  0                                     \n",
       "3                                                  1                                     \n",
       "4                                                  1                                     \n",
       "5                                                  1                                     \n",
       "6                                                  1                                     \n",
       "7                                                  1                                     \n",
       "8                                                  0                                     \n",
       "9                                                  0                                     \n",
       "\n",
       "   Use E-bikes on Toronto's bicycle lanes? Yes (1) / No (0)  \\\n",
       "0                                                  1          \n",
       "1                                                  1          \n",
       "2                                                  0          \n",
       "3                                                  0          \n",
       "4                                                  0          \n",
       "5                                                  0          \n",
       "6                                                  0          \n",
       "7                                                  0          \n",
       "8                                                  0          \n",
       "9                                                  0          \n",
       "\n",
       "   Bylaws regarding e-bikes in bicycle lanes should be Changed (1) / Maintained (0)  \\\n",
       "0                                                  1                                  \n",
       "1                                                  0                                  \n",
       "2                                                  0                                  \n",
       "3                                                  1                                  \n",
       "4                                                  1                                  \n",
       "5                                                  1                                  \n",
       "6                                                  0                                  \n",
       "7                                                  1                                  \n",
       "8                                                  1                                  \n",
       "9                                                  0                                  \n",
       "\n",
       "   For illegal use of bicycle and e-bikes on sidewalks, the City should Increase (1) / Maintain (0) programs  \\\n",
       "0                                                  0                                                           \n",
       "1                                                  0                                                           \n",
       "2                                                  1                                                           \n",
       "3                                                  1                                                           \n",
       "4                                                  0                                                           \n",
       "5                                                  1                                                           \n",
       "6                                                  1                                                           \n",
       "7                                                  0                                                           \n",
       "8                                                  1                                                           \n",
       "9                                                  1                                                           \n",
       "\n",
       "   Regarding the bylaws classifying personal mobility devices as pedestrians, the City of Toronto should Do nothing (0) / Don't Know or Rather Not Answer (1) / Do something (2)  \n",
       "0                                                  2                                                                                                                              \n",
       "1                                                  0                                                                                                                              \n",
       "2                                                  2                                                                                                                              \n",
       "3                                                  2                                                                                                                              \n",
       "4                                                  2                                                                                                                              \n",
       "5                                                  2                                                                                                                              \n",
       "6                                                  2                                                                                                                              \n",
       "7                                                  2                                                                                                                              \n",
       "8                                                  2                                                                                                                              \n",
       "9                                                  2                                                                                                                              \n",
       "\n",
       "[10 rows x 23 columns]"
      ]
     },
     "execution_count": 3600,
     "metadata": {},
     "output_type": "execute_result"
    }
   ],
   "source": [
    "# Categorize variability\n",
    "actions = np.array([2] * len(responses)) # default = Do something\n",
    "\n",
    "actions[personal[personal == \"Do nothing\"].index] = 0\n",
    "actions[personal[personal == \"Don't Know / Rather Not Answer\"].index] = 1\n",
    "\n",
    "# Replace data with re-categorized info\n",
    "responses.drop(\"Toronto Bylaws consider personal mobility devices (such as electric wheel chairs) to be pedestrians In your opinion should the City\", axis = 1, inplace = True)\n",
    "responses[\"Regarding the bylaws classifying personal mobility devices as pedestrians, the City of Toronto should Do nothing (0) / Don't Know or Rather Not Answer (1) / Do something (2)\"] = actions\n",
    "responses.head(10)"
   ]
  },
  {
   "cell_type": "markdown",
   "metadata": {},
   "source": [
    "### Convert Categorical Variables to Numerical\n",
    "\n",
    "Having gone through all the features in the dataset, and modified them accordingly, we're almost done the cleaning step! The last thing is to convert any categorical variables (i.e. Sex: \"Male\", \"Female\", \"Other\") to numerical features (i.e. Sex: 0, 1, 2) so that we can utilize the features in our ML models!\n",
    "\n",
    "Looking at the current data types in the frame:"
   ]
  },
  {
   "cell_type": "code",
   "execution_count": 3601,
   "metadata": {},
   "outputs": [
    {
     "data": {
      "text/plain": [
       "What age range do you fall in?                                                                                                                                                   object\n",
       "Sex                                                                                                                                                                              object\n",
       "How would you describe your level of physical health?                                                                                                                            object\n",
       "What level of education have you reached?                                                                                                                                        object\n",
       "What is your household income?                                                                                                                                                   object\n",
       "Which category best describes your employment?                                                                                                                                   object\n",
       "What Toronto district is your primary address located in?                                                                                                                        object\n",
       "On average what distance do you travel most days of the week?                                                                                                                    object\n",
       "On average how long is your commute?                                                                                                                                             object\n",
       "Which transportation option do you end up using most often?                                                                                                                      object\n",
       "Does your household have access to any of the following private motorized vehicles?                                                                                              object\n",
       "Do you support any of the following statements?                                                                                                                                   int64\n",
       "Are you aware that the Multi-Use Paths have a speed limit of 20 km/h?                                                                                                            object\n",
       "Do you think more should be done to manage trail users who do not respect the 20 km/h speed limit?                                                                                int64\n",
       "Multi-Use Trails - # of Different Motorized Transport Modes Used                                                                                                                  int64\n",
       "Multi-Use Trails - # of Different Non Motorized Transport Modes Used                                                                                                              int64\n",
       "# of Conflicts Involving Motorized Vehicles                                                                                                                                       int64\n",
       "# of Conflicts Not-Involving Motorized Vehicles                                                                                                                                   int64\n",
       "Bylaws regarding e-bikes in multi-use trails should be Changed (1) / Maintained (0)                                                                                               int64\n",
       "Use E-bikes on Toronto's bicycle lanes? Yes (1) / No (0)                                                                                                                          int64\n",
       "Bylaws regarding e-bikes in bicycle lanes should be Changed (1) / Maintained (0)                                                                                                  int64\n",
       "For illegal use of bicycle and e-bikes on sidewalks, the City should Increase (1) / Maintain (0) programs                                                                         int64\n",
       "Regarding the bylaws classifying personal mobility devices as pedestrians, the City of Toronto should Do nothing (0) / Don't Know or Rather Not Answer (1) / Do something (2)     int64\n",
       "dtype: object"
      ]
     },
     "execution_count": 3601,
     "metadata": {},
     "output_type": "execute_result"
    }
   ],
   "source": [
    "responses.dtypes"
   ]
  },
  {
   "cell_type": "markdown",
   "metadata": {},
   "source": [
    "**IMPORTANT: **\n",
    "Although we converted each feature to be numeric as we cleaned it, for the ones where we just replaced the data in an existing column (i.e. Sex, Education etc.), it's data type **has not changed**. In order to completely map it to a numeric, we can simply use a transform given by the LabelEncoder!"
   ]
  },
  {
   "cell_type": "code",
   "execution_count": 3602,
   "metadata": {},
   "outputs": [
    {
     "data": {
      "text/plain": [
       "What age range do you fall in?                                                                                                                                                   int64\n",
       "Sex                                                                                                                                                                              int64\n",
       "How would you describe your level of physical health?                                                                                                                            int64\n",
       "What level of education have you reached?                                                                                                                                        int64\n",
       "What is your household income?                                                                                                                                                   int64\n",
       "Which category best describes your employment?                                                                                                                                   int64\n",
       "What Toronto district is your primary address located in?                                                                                                                        int64\n",
       "On average what distance do you travel most days of the week?                                                                                                                    int64\n",
       "On average how long is your commute?                                                                                                                                             int64\n",
       "Which transportation option do you end up using most often?                                                                                                                      int64\n",
       "Does your household have access to any of the following private motorized vehicles?                                                                                              int64\n",
       "Do you support any of the following statements?                                                                                                                                  int64\n",
       "Are you aware that the Multi-Use Paths have a speed limit of 20 km/h?                                                                                                            int64\n",
       "Do you think more should be done to manage trail users who do not respect the 20 km/h speed limit?                                                                               int64\n",
       "Multi-Use Trails - # of Different Motorized Transport Modes Used                                                                                                                 int64\n",
       "Multi-Use Trails - # of Different Non Motorized Transport Modes Used                                                                                                             int64\n",
       "# of Conflicts Involving Motorized Vehicles                                                                                                                                      int64\n",
       "# of Conflicts Not-Involving Motorized Vehicles                                                                                                                                  int64\n",
       "Bylaws regarding e-bikes in multi-use trails should be Changed (1) / Maintained (0)                                                                                              int64\n",
       "Use E-bikes on Toronto's bicycle lanes? Yes (1) / No (0)                                                                                                                         int64\n",
       "Bylaws regarding e-bikes in bicycle lanes should be Changed (1) / Maintained (0)                                                                                                 int64\n",
       "For illegal use of bicycle and e-bikes on sidewalks, the City should Increase (1) / Maintain (0) programs                                                                        int64\n",
       "Regarding the bylaws classifying personal mobility devices as pedestrians, the City of Toronto should Do nothing (0) / Don't Know or Rather Not Answer (1) / Do something (2)    int64\n",
       "dtype: object"
      ]
     },
     "execution_count": 3602,
     "metadata": {},
     "output_type": "execute_result"
    }
   ],
   "source": [
    "from sklearn.preprocessing import LabelEncoder\n",
    "\n",
    "var_mod = [\"What age range do you fall in?\", \"Sex\", \"How would you describe your level of physical health?\", \"What level of education have you reached?\", \"What is your household income?\", \"Which category best describes your employment?\", \"What Toronto district is your primary address located in?\", \"On average what distance do you travel most days of the week?\", \"On average how long is your commute?\", \"Which transportation option do you end up using most often?\", \"Does your household have access to any of the following private motorized vehicles?\", \"Are you aware that the Multi-Use Paths have a speed limit of 20 km/h?\"]\n",
    "le = LabelEncoder()\n",
    "for i in var_mod:\n",
    "    responses[i] = le.fit_transform(responses[i])\n",
    "responses.dtypes"
   ]
  },
  {
   "cell_type": "markdown",
   "metadata": {},
   "source": [
    "Clearly from above, all our features are now numeric!! Based on LabelEncoder, the categories for each of the features, and their numeric counterparts looks like this:\n",
    "\n",
    "**Age Range**\n",
    "\n",
    "    0 - 17 or younger\n",
    "    \n",
    "    1 - 18 to 34\n",
    "    \n",
    "    2 - 35 to 49\n",
    "    \n",
    "    3 - 50 to 64\n",
    "    \n",
    "    4 - 65 years or more\n",
    "\n",
    "\n",
    "**Sex**\n",
    "\n",
    "    0 - Male\n",
    "\n",
    "    1 - Female\n",
    "\n",
    "    2 - Other/Unspecified\n",
    "    \n",
    "**Physical Health Level**\n",
    "\n",
    "    0 - Disabled\n",
    "\n",
    "    1 - Poor\n",
    "\n",
    "    2 - Fairly good\n",
    "\n",
    "    3 - Good\n",
    "\n",
    "    4 - Very good\n",
    "\n",
    "    5 - Excellent\n",
    "\n",
    "**Education Level**\n",
    "\n",
    "    0 - No formal educational credential\n",
    "\n",
    "    1 - High school diploma\n",
    "    \n",
    "    2 - College or trade school diploma\n",
    "\n",
    "    3 - University degree\n",
    "\n",
    "    4 - Post graduate\n",
    "\n",
    "**Househould Income**\n",
    "\n",
    "    0 - Under $20K\n",
    "\n",
    "    1 - $20K to $39K\n",
    "    \n",
    "    2 - $40K to $59K\n",
    "\n",
    "    3 - $60K to $79K\n",
    "\n",
    "    4 - $80K to $99K\n",
    "\n",
    "    5 - $100K+\n",
    "\n",
    "**Employment**\n",
    "\n",
    "    0 - Disabled\n",
    "\n",
    "    1 - Unemployed\n",
    "\n",
    "    2 - Retired\n",
    "\n",
    "    3 - Home Maker\n",
    "\n",
    "    4 - Student\n",
    "\n",
    "    5 - Part Time\n",
    "\n",
    "    6 - Self Employed\n",
    "\n",
    "    7 - Full Time\n",
    "\n",
    "**Toronto District**\n",
    "\n",
    "    0 - Outside of the above 4 primary districts of Toronto\n",
    "\n",
    "    1 - Central Toronto York or East York\n",
    "\n",
    "    2 - Etobicoke\n",
    "\n",
    "    3 - North York\n",
    "\n",
    "    4 - Scarborough\n",
    "\n",
    "**Commute Distance**\n",
    "\n",
    "    0 - Under 2 km\n",
    "\n",
    "    1 - 5 - 10 km\n",
    "\n",
    "    2 - 10 - 20 km\n",
    "\n",
    "    3 - 20 - 35 km\n",
    "\n",
    "    4 - Over 35 km\n",
    "\n",
    "**Commute Time**\n",
    "\n",
    "    0 - I do not commute\n",
    "\n",
    "    1 - 15 minutes or less\n",
    "\n",
    "    2 - 16 - 29 minutes\n",
    "\n",
    "    3 - 30 - 44 minutes\n",
    "\n",
    "    4 - 45 minutes - 1 hour\n",
    "\n",
    "    5 - over 1 hour each way\n",
    "    \n",
    "**Preferred Transportation Option**\n",
    "\n",
    "    0 - walking\n",
    "    \n",
    "    1 - personal mobility devices\n",
    "    \n",
    "    2 - bicycle\n",
    "    \n",
    "    3 - pedal assist type e-bike\n",
    "    \n",
    "    4 - scooter type e-bike\n",
    "    \n",
    "    5 - private motor vehicle (car truck SUV van motorcycle gas limited speed motorcycle or moped)\n",
    "    \n",
    "    6 - transit\n",
    "    \n",
    "    "
   ]
  },
  {
   "cell_type": "code",
   "execution_count": 3603,
   "metadata": {},
   "outputs": [
    {
     "data": {
      "text/html": [
       "<div>\n",
       "<table border=\"1\" class=\"dataframe\">\n",
       "  <thead>\n",
       "    <tr style=\"text-align: right;\">\n",
       "      <th></th>\n",
       "      <th>What age range do you fall in?</th>\n",
       "      <th>Sex</th>\n",
       "      <th>How would you describe your level of physical health?</th>\n",
       "      <th>What level of education have you reached?</th>\n",
       "      <th>What is your household income?</th>\n",
       "      <th>Which category best describes your employment?</th>\n",
       "      <th>What Toronto district is your primary address located in?</th>\n",
       "      <th>On average what distance do you travel most days of the week?</th>\n",
       "      <th>On average how long is your commute?</th>\n",
       "      <th>Which transportation option do you end up using most often?</th>\n",
       "      <th>...</th>\n",
       "      <th>Do you think more should be done to manage trail users who do not respect the 20 km/h speed limit?</th>\n",
       "      <th>Multi-Use Trails - # of Different Motorized Transport Modes Used</th>\n",
       "      <th>Multi-Use Trails - # of Different Non Motorized Transport Modes Used</th>\n",
       "      <th># of Conflicts Involving Motorized Vehicles</th>\n",
       "      <th># of Conflicts Not-Involving Motorized Vehicles</th>\n",
       "      <th>Bylaws regarding e-bikes in multi-use trails should be Changed (1) / Maintained (0)</th>\n",
       "      <th>Use E-bikes on Toronto's bicycle lanes? Yes (1) / No (0)</th>\n",
       "      <th>Bylaws regarding e-bikes in bicycle lanes should be Changed (1) / Maintained (0)</th>\n",
       "      <th>For illegal use of bicycle and e-bikes on sidewalks, the City should Increase (1) / Maintain (0) programs</th>\n",
       "      <th>Regarding the bylaws classifying personal mobility devices as pedestrians, the City of Toronto should Do nothing (0) / Don't Know or Rather Not Answer (1) / Do something (2)</th>\n",
       "    </tr>\n",
       "  </thead>\n",
       "  <tbody>\n",
       "    <tr>\n",
       "      <th>0</th>\n",
       "      <td>2</td>\n",
       "      <td>0</td>\n",
       "      <td>3</td>\n",
       "      <td>4</td>\n",
       "      <td>5</td>\n",
       "      <td>6</td>\n",
       "      <td>1</td>\n",
       "      <td>0</td>\n",
       "      <td>1</td>\n",
       "      <td>4</td>\n",
       "      <td>...</td>\n",
       "      <td>0</td>\n",
       "      <td>1</td>\n",
       "      <td>1</td>\n",
       "      <td>0</td>\n",
       "      <td>2</td>\n",
       "      <td>1</td>\n",
       "      <td>1</td>\n",
       "      <td>1</td>\n",
       "      <td>0</td>\n",
       "      <td>2</td>\n",
       "    </tr>\n",
       "    <tr>\n",
       "      <th>1</th>\n",
       "      <td>1</td>\n",
       "      <td>0</td>\n",
       "      <td>5</td>\n",
       "      <td>3</td>\n",
       "      <td>2</td>\n",
       "      <td>7</td>\n",
       "      <td>1</td>\n",
       "      <td>2</td>\n",
       "      <td>3</td>\n",
       "      <td>4</td>\n",
       "      <td>...</td>\n",
       "      <td>0</td>\n",
       "      <td>0</td>\n",
       "      <td>0</td>\n",
       "      <td>0</td>\n",
       "      <td>0</td>\n",
       "      <td>0</td>\n",
       "      <td>1</td>\n",
       "      <td>0</td>\n",
       "      <td>0</td>\n",
       "      <td>0</td>\n",
       "    </tr>\n",
       "    <tr>\n",
       "      <th>2</th>\n",
       "      <td>3</td>\n",
       "      <td>0</td>\n",
       "      <td>3</td>\n",
       "      <td>3</td>\n",
       "      <td>2</td>\n",
       "      <td>6</td>\n",
       "      <td>1</td>\n",
       "      <td>2</td>\n",
       "      <td>1</td>\n",
       "      <td>5</td>\n",
       "      <td>...</td>\n",
       "      <td>1</td>\n",
       "      <td>0</td>\n",
       "      <td>0</td>\n",
       "      <td>0</td>\n",
       "      <td>0</td>\n",
       "      <td>0</td>\n",
       "      <td>0</td>\n",
       "      <td>0</td>\n",
       "      <td>1</td>\n",
       "      <td>2</td>\n",
       "    </tr>\n",
       "    <tr>\n",
       "      <th>3</th>\n",
       "      <td>3</td>\n",
       "      <td>0</td>\n",
       "      <td>3</td>\n",
       "      <td>1</td>\n",
       "      <td>4</td>\n",
       "      <td>6</td>\n",
       "      <td>1</td>\n",
       "      <td>0</td>\n",
       "      <td>1</td>\n",
       "      <td>2</td>\n",
       "      <td>...</td>\n",
       "      <td>1</td>\n",
       "      <td>0</td>\n",
       "      <td>0</td>\n",
       "      <td>1</td>\n",
       "      <td>2</td>\n",
       "      <td>1</td>\n",
       "      <td>0</td>\n",
       "      <td>1</td>\n",
       "      <td>1</td>\n",
       "      <td>2</td>\n",
       "    </tr>\n",
       "    <tr>\n",
       "      <th>4</th>\n",
       "      <td>1</td>\n",
       "      <td>0</td>\n",
       "      <td>4</td>\n",
       "      <td>2</td>\n",
       "      <td>2</td>\n",
       "      <td>6</td>\n",
       "      <td>1</td>\n",
       "      <td>1</td>\n",
       "      <td>1</td>\n",
       "      <td>2</td>\n",
       "      <td>...</td>\n",
       "      <td>0</td>\n",
       "      <td>0</td>\n",
       "      <td>0</td>\n",
       "      <td>0</td>\n",
       "      <td>0</td>\n",
       "      <td>1</td>\n",
       "      <td>0</td>\n",
       "      <td>1</td>\n",
       "      <td>0</td>\n",
       "      <td>2</td>\n",
       "    </tr>\n",
       "  </tbody>\n",
       "</table>\n",
       "<p>5 rows × 23 columns</p>\n",
       "</div>"
      ],
      "text/plain": [
       "   What age range do you fall in?  Sex  \\\n",
       "0                               2    0   \n",
       "1                               1    0   \n",
       "2                               3    0   \n",
       "3                               3    0   \n",
       "4                               1    0   \n",
       "\n",
       "   How would you describe your level of physical health?  \\\n",
       "0                                                  3       \n",
       "1                                                  5       \n",
       "2                                                  3       \n",
       "3                                                  3       \n",
       "4                                                  4       \n",
       "\n",
       "   What level of education have you reached?  What is your household income?  \\\n",
       "0                                          4                               5   \n",
       "1                                          3                               2   \n",
       "2                                          3                               2   \n",
       "3                                          1                               4   \n",
       "4                                          2                               2   \n",
       "\n",
       "   Which category best describes your employment?  \\\n",
       "0                                               6   \n",
       "1                                               7   \n",
       "2                                               6   \n",
       "3                                               6   \n",
       "4                                               6   \n",
       "\n",
       "   What Toronto district is your primary address located in?  \\\n",
       "0                                                  1           \n",
       "1                                                  1           \n",
       "2                                                  1           \n",
       "3                                                  1           \n",
       "4                                                  1           \n",
       "\n",
       "   On average what distance do you travel most days of the week?  \\\n",
       "0                                                  0               \n",
       "1                                                  2               \n",
       "2                                                  2               \n",
       "3                                                  0               \n",
       "4                                                  1               \n",
       "\n",
       "   On average how long is your commute?  \\\n",
       "0                                     1   \n",
       "1                                     3   \n",
       "2                                     1   \n",
       "3                                     1   \n",
       "4                                     1   \n",
       "\n",
       "   Which transportation option do you end up using most often?  \\\n",
       "0                                                  4             \n",
       "1                                                  4             \n",
       "2                                                  5             \n",
       "3                                                  2             \n",
       "4                                                  2             \n",
       "\n",
       "                                                                                       ...                                                                                        \\\n",
       "0                                                                                      ...                                                                                         \n",
       "1                                                                                      ...                                                                                         \n",
       "2                                                                                      ...                                                                                         \n",
       "3                                                                                      ...                                                                                         \n",
       "4                                                                                      ...                                                                                         \n",
       "\n",
       "   Do you think more should be done to manage trail users who do not respect the 20 km/h speed limit?  \\\n",
       "0                                                  0                                                    \n",
       "1                                                  0                                                    \n",
       "2                                                  1                                                    \n",
       "3                                                  1                                                    \n",
       "4                                                  0                                                    \n",
       "\n",
       "   Multi-Use Trails - # of Different Motorized Transport Modes Used  \\\n",
       "0                                                  1                  \n",
       "1                                                  0                  \n",
       "2                                                  0                  \n",
       "3                                                  0                  \n",
       "4                                                  0                  \n",
       "\n",
       "   Multi-Use Trails - # of Different Non Motorized Transport Modes Used  \\\n",
       "0                                                  1                      \n",
       "1                                                  0                      \n",
       "2                                                  0                      \n",
       "3                                                  0                      \n",
       "4                                                  0                      \n",
       "\n",
       "   # of Conflicts Involving Motorized Vehicles  \\\n",
       "0                                            0   \n",
       "1                                            0   \n",
       "2                                            0   \n",
       "3                                            1   \n",
       "4                                            0   \n",
       "\n",
       "   # of Conflicts Not-Involving Motorized Vehicles  \\\n",
       "0                                                2   \n",
       "1                                                0   \n",
       "2                                                0   \n",
       "3                                                2   \n",
       "4                                                0   \n",
       "\n",
       "   Bylaws regarding e-bikes in multi-use trails should be Changed (1) / Maintained (0)  \\\n",
       "0                                                  1                                     \n",
       "1                                                  0                                     \n",
       "2                                                  0                                     \n",
       "3                                                  1                                     \n",
       "4                                                  1                                     \n",
       "\n",
       "   Use E-bikes on Toronto's bicycle lanes? Yes (1) / No (0)  \\\n",
       "0                                                  1          \n",
       "1                                                  1          \n",
       "2                                                  0          \n",
       "3                                                  0          \n",
       "4                                                  0          \n",
       "\n",
       "   Bylaws regarding e-bikes in bicycle lanes should be Changed (1) / Maintained (0)  \\\n",
       "0                                                  1                                  \n",
       "1                                                  0                                  \n",
       "2                                                  0                                  \n",
       "3                                                  1                                  \n",
       "4                                                  1                                  \n",
       "\n",
       "   For illegal use of bicycle and e-bikes on sidewalks, the City should Increase (1) / Maintain (0) programs  \\\n",
       "0                                                  0                                                           \n",
       "1                                                  0                                                           \n",
       "2                                                  1                                                           \n",
       "3                                                  1                                                           \n",
       "4                                                  0                                                           \n",
       "\n",
       "   Regarding the bylaws classifying personal mobility devices as pedestrians, the City of Toronto should Do nothing (0) / Don't Know or Rather Not Answer (1) / Do something (2)  \n",
       "0                                                  2                                                                                                                              \n",
       "1                                                  0                                                                                                                              \n",
       "2                                                  2                                                                                                                              \n",
       "3                                                  2                                                                                                                              \n",
       "4                                                  2                                                                                                                              \n",
       "\n",
       "[5 rows x 23 columns]"
      ]
     },
     "execution_count": 3603,
     "metadata": {},
     "output_type": "execute_result"
    }
   ],
   "source": [
    "responses.head(5)"
   ]
  },
  {
   "cell_type": "code",
   "execution_count": 3604,
   "metadata": {},
   "outputs": [
    {
     "data": {
      "text/html": [
       "<div>\n",
       "<table border=\"1\" class=\"dataframe\">\n",
       "  <thead>\n",
       "    <tr style=\"text-align: right;\">\n",
       "      <th></th>\n",
       "      <th>What age range do you fall in?</th>\n",
       "      <th>Sex</th>\n",
       "      <th>How would you describe your level of physical health?</th>\n",
       "      <th>What level of education have you reached?</th>\n",
       "      <th>What is your household income?</th>\n",
       "      <th>Which category best describes your employment?</th>\n",
       "      <th>What Toronto district is your primary address located in?</th>\n",
       "      <th>On average what distance do you travel most days of the week?</th>\n",
       "      <th>On average how long is your commute?</th>\n",
       "      <th>Which transportation option do you end up using most often?</th>\n",
       "      <th>...</th>\n",
       "      <th>Do you think more should be done to manage trail users who do not respect the 20 km/h speed limit?</th>\n",
       "      <th>Multi-Use Trails - # of Different Motorized Transport Modes Used</th>\n",
       "      <th>Multi-Use Trails - # of Different Non Motorized Transport Modes Used</th>\n",
       "      <th># of Conflicts Involving Motorized Vehicles</th>\n",
       "      <th># of Conflicts Not-Involving Motorized Vehicles</th>\n",
       "      <th>Bylaws regarding e-bikes in multi-use trails should be Changed (1) / Maintained (0)</th>\n",
       "      <th>Use E-bikes on Toronto's bicycle lanes? Yes (1) / No (0)</th>\n",
       "      <th>Bylaws regarding e-bikes in bicycle lanes should be Changed (1) / Maintained (0)</th>\n",
       "      <th>For illegal use of bicycle and e-bikes on sidewalks, the City should Increase (1) / Maintain (0) programs</th>\n",
       "      <th>Regarding the bylaws classifying personal mobility devices as pedestrians, the City of Toronto should Do nothing (0) / Don't Know or Rather Not Answer (1) / Do something (2)</th>\n",
       "    </tr>\n",
       "  </thead>\n",
       "  <tbody>\n",
       "    <tr>\n",
       "      <th>count</th>\n",
       "      <td>2238.000000</td>\n",
       "      <td>2238.000000</td>\n",
       "      <td>2238.000000</td>\n",
       "      <td>2238.000000</td>\n",
       "      <td>2238.000000</td>\n",
       "      <td>2238.000000</td>\n",
       "      <td>2238.000000</td>\n",
       "      <td>2238.000000</td>\n",
       "      <td>2238.000000</td>\n",
       "      <td>2238.000000</td>\n",
       "      <td>...</td>\n",
       "      <td>2238.000000</td>\n",
       "      <td>2238.000000</td>\n",
       "      <td>2238.000000</td>\n",
       "      <td>2238.000000</td>\n",
       "      <td>2238.000000</td>\n",
       "      <td>2238.000000</td>\n",
       "      <td>2238.000000</td>\n",
       "      <td>2238.000000</td>\n",
       "      <td>2238.000000</td>\n",
       "      <td>2238.000000</td>\n",
       "    </tr>\n",
       "    <tr>\n",
       "      <th>mean</th>\n",
       "      <td>1.945487</td>\n",
       "      <td>0.302502</td>\n",
       "      <td>3.628239</td>\n",
       "      <td>2.847632</td>\n",
       "      <td>3.441466</td>\n",
       "      <td>6.098302</td>\n",
       "      <td>1.328865</td>\n",
       "      <td>1.818588</td>\n",
       "      <td>2.292225</td>\n",
       "      <td>3.436997</td>\n",
       "      <td>...</td>\n",
       "      <td>0.664879</td>\n",
       "      <td>0.074620</td>\n",
       "      <td>0.074620</td>\n",
       "      <td>0.570599</td>\n",
       "      <td>1.093834</td>\n",
       "      <td>0.573280</td>\n",
       "      <td>0.102324</td>\n",
       "      <td>0.427614</td>\n",
       "      <td>0.578195</td>\n",
       "      <td>1.715371</td>\n",
       "    </tr>\n",
       "    <tr>\n",
       "      <th>std</th>\n",
       "      <td>0.877715</td>\n",
       "      <td>0.469073</td>\n",
       "      <td>0.969055</td>\n",
       "      <td>0.927174</td>\n",
       "      <td>1.583305</td>\n",
       "      <td>1.582534</td>\n",
       "      <td>0.873786</td>\n",
       "      <td>1.153864</td>\n",
       "      <td>1.218044</td>\n",
       "      <td>1.964665</td>\n",
       "      <td>...</td>\n",
       "      <td>0.472138</td>\n",
       "      <td>0.277722</td>\n",
       "      <td>0.277722</td>\n",
       "      <td>0.886078</td>\n",
       "      <td>1.399645</td>\n",
       "      <td>0.494711</td>\n",
       "      <td>0.303141</td>\n",
       "      <td>0.494843</td>\n",
       "      <td>0.493958</td>\n",
       "      <td>0.643280</td>\n",
       "    </tr>\n",
       "    <tr>\n",
       "      <th>min</th>\n",
       "      <td>0.000000</td>\n",
       "      <td>0.000000</td>\n",
       "      <td>0.000000</td>\n",
       "      <td>0.000000</td>\n",
       "      <td>0.000000</td>\n",
       "      <td>0.000000</td>\n",
       "      <td>0.000000</td>\n",
       "      <td>0.000000</td>\n",
       "      <td>0.000000</td>\n",
       "      <td>0.000000</td>\n",
       "      <td>...</td>\n",
       "      <td>0.000000</td>\n",
       "      <td>0.000000</td>\n",
       "      <td>0.000000</td>\n",
       "      <td>0.000000</td>\n",
       "      <td>0.000000</td>\n",
       "      <td>0.000000</td>\n",
       "      <td>0.000000</td>\n",
       "      <td>0.000000</td>\n",
       "      <td>0.000000</td>\n",
       "      <td>0.000000</td>\n",
       "    </tr>\n",
       "    <tr>\n",
       "      <th>25%</th>\n",
       "      <td>1.000000</td>\n",
       "      <td>0.000000</td>\n",
       "      <td>3.000000</td>\n",
       "      <td>2.000000</td>\n",
       "      <td>2.000000</td>\n",
       "      <td>6.000000</td>\n",
       "      <td>1.000000</td>\n",
       "      <td>1.000000</td>\n",
       "      <td>2.000000</td>\n",
       "      <td>2.000000</td>\n",
       "      <td>...</td>\n",
       "      <td>0.000000</td>\n",
       "      <td>0.000000</td>\n",
       "      <td>0.000000</td>\n",
       "      <td>0.000000</td>\n",
       "      <td>0.000000</td>\n",
       "      <td>0.000000</td>\n",
       "      <td>0.000000</td>\n",
       "      <td>0.000000</td>\n",
       "      <td>0.000000</td>\n",
       "      <td>2.000000</td>\n",
       "    </tr>\n",
       "    <tr>\n",
       "      <th>50%</th>\n",
       "      <td>2.000000</td>\n",
       "      <td>0.000000</td>\n",
       "      <td>4.000000</td>\n",
       "      <td>3.000000</td>\n",
       "      <td>4.000000</td>\n",
       "      <td>7.000000</td>\n",
       "      <td>1.000000</td>\n",
       "      <td>2.000000</td>\n",
       "      <td>2.000000</td>\n",
       "      <td>3.500000</td>\n",
       "      <td>...</td>\n",
       "      <td>1.000000</td>\n",
       "      <td>0.000000</td>\n",
       "      <td>0.000000</td>\n",
       "      <td>0.000000</td>\n",
       "      <td>1.000000</td>\n",
       "      <td>1.000000</td>\n",
       "      <td>0.000000</td>\n",
       "      <td>0.000000</td>\n",
       "      <td>1.000000</td>\n",
       "      <td>2.000000</td>\n",
       "    </tr>\n",
       "    <tr>\n",
       "      <th>75%</th>\n",
       "      <td>3.000000</td>\n",
       "      <td>1.000000</td>\n",
       "      <td>4.000000</td>\n",
       "      <td>4.000000</td>\n",
       "      <td>5.000000</td>\n",
       "      <td>7.000000</td>\n",
       "      <td>1.000000</td>\n",
       "      <td>2.000000</td>\n",
       "      <td>3.000000</td>\n",
       "      <td>5.000000</td>\n",
       "      <td>...</td>\n",
       "      <td>1.000000</td>\n",
       "      <td>0.000000</td>\n",
       "      <td>0.000000</td>\n",
       "      <td>1.000000</td>\n",
       "      <td>2.000000</td>\n",
       "      <td>1.000000</td>\n",
       "      <td>0.000000</td>\n",
       "      <td>1.000000</td>\n",
       "      <td>1.000000</td>\n",
       "      <td>2.000000</td>\n",
       "    </tr>\n",
       "    <tr>\n",
       "      <th>max</th>\n",
       "      <td>4.000000</td>\n",
       "      <td>2.000000</td>\n",
       "      <td>5.000000</td>\n",
       "      <td>4.000000</td>\n",
       "      <td>5.000000</td>\n",
       "      <td>7.000000</td>\n",
       "      <td>4.000000</td>\n",
       "      <td>4.000000</td>\n",
       "      <td>5.000000</td>\n",
       "      <td>6.000000</td>\n",
       "      <td>...</td>\n",
       "      <td>1.000000</td>\n",
       "      <td>2.000000</td>\n",
       "      <td>2.000000</td>\n",
       "      <td>3.000000</td>\n",
       "      <td>5.000000</td>\n",
       "      <td>1.000000</td>\n",
       "      <td>1.000000</td>\n",
       "      <td>1.000000</td>\n",
       "      <td>1.000000</td>\n",
       "      <td>2.000000</td>\n",
       "    </tr>\n",
       "  </tbody>\n",
       "</table>\n",
       "<p>8 rows × 23 columns</p>\n",
       "</div>"
      ],
      "text/plain": [
       "       What age range do you fall in?          Sex  \\\n",
       "count                     2238.000000  2238.000000   \n",
       "mean                         1.945487     0.302502   \n",
       "std                          0.877715     0.469073   \n",
       "min                          0.000000     0.000000   \n",
       "25%                          1.000000     0.000000   \n",
       "50%                          2.000000     0.000000   \n",
       "75%                          3.000000     1.000000   \n",
       "max                          4.000000     2.000000   \n",
       "\n",
       "       How would you describe your level of physical health?  \\\n",
       "count                                        2238.000000       \n",
       "mean                                            3.628239       \n",
       "std                                             0.969055       \n",
       "min                                             0.000000       \n",
       "25%                                             3.000000       \n",
       "50%                                             4.000000       \n",
       "75%                                             4.000000       \n",
       "max                                             5.000000       \n",
       "\n",
       "       What level of education have you reached?  \\\n",
       "count                                2238.000000   \n",
       "mean                                    2.847632   \n",
       "std                                     0.927174   \n",
       "min                                     0.000000   \n",
       "25%                                     2.000000   \n",
       "50%                                     3.000000   \n",
       "75%                                     4.000000   \n",
       "max                                     4.000000   \n",
       "\n",
       "       What is your household income?  \\\n",
       "count                     2238.000000   \n",
       "mean                         3.441466   \n",
       "std                          1.583305   \n",
       "min                          0.000000   \n",
       "25%                          2.000000   \n",
       "50%                          4.000000   \n",
       "75%                          5.000000   \n",
       "max                          5.000000   \n",
       "\n",
       "       Which category best describes your employment?  \\\n",
       "count                                     2238.000000   \n",
       "mean                                         6.098302   \n",
       "std                                          1.582534   \n",
       "min                                          0.000000   \n",
       "25%                                          6.000000   \n",
       "50%                                          7.000000   \n",
       "75%                                          7.000000   \n",
       "max                                          7.000000   \n",
       "\n",
       "       What Toronto district is your primary address located in?  \\\n",
       "count                                        2238.000000           \n",
       "mean                                            1.328865           \n",
       "std                                             0.873786           \n",
       "min                                             0.000000           \n",
       "25%                                             1.000000           \n",
       "50%                                             1.000000           \n",
       "75%                                             1.000000           \n",
       "max                                             4.000000           \n",
       "\n",
       "       On average what distance do you travel most days of the week?  \\\n",
       "count                                        2238.000000               \n",
       "mean                                            1.818588               \n",
       "std                                             1.153864               \n",
       "min                                             0.000000               \n",
       "25%                                             1.000000               \n",
       "50%                                             2.000000               \n",
       "75%                                             2.000000               \n",
       "max                                             4.000000               \n",
       "\n",
       "       On average how long is your commute?  \\\n",
       "count                           2238.000000   \n",
       "mean                               2.292225   \n",
       "std                                1.218044   \n",
       "min                                0.000000   \n",
       "25%                                2.000000   \n",
       "50%                                2.000000   \n",
       "75%                                3.000000   \n",
       "max                                5.000000   \n",
       "\n",
       "       Which transportation option do you end up using most often?  \\\n",
       "count                                        2238.000000             \n",
       "mean                                            3.436997             \n",
       "std                                             1.964665             \n",
       "min                                             0.000000             \n",
       "25%                                             2.000000             \n",
       "50%                                             3.500000             \n",
       "75%                                             5.000000             \n",
       "max                                             6.000000             \n",
       "\n",
       "                                                                                           ...                                                                                        \\\n",
       "count                                                                                      ...                                                                                         \n",
       "mean                                                                                       ...                                                                                         \n",
       "std                                                                                        ...                                                                                         \n",
       "min                                                                                        ...                                                                                         \n",
       "25%                                                                                        ...                                                                                         \n",
       "50%                                                                                        ...                                                                                         \n",
       "75%                                                                                        ...                                                                                         \n",
       "max                                                                                        ...                                                                                         \n",
       "\n",
       "       Do you think more should be done to manage trail users who do not respect the 20 km/h speed limit?  \\\n",
       "count                                        2238.000000                                                    \n",
       "mean                                            0.664879                                                    \n",
       "std                                             0.472138                                                    \n",
       "min                                             0.000000                                                    \n",
       "25%                                             0.000000                                                    \n",
       "50%                                             1.000000                                                    \n",
       "75%                                             1.000000                                                    \n",
       "max                                             1.000000                                                    \n",
       "\n",
       "       Multi-Use Trails - # of Different Motorized Transport Modes Used  \\\n",
       "count                                        2238.000000                  \n",
       "mean                                            0.074620                  \n",
       "std                                             0.277722                  \n",
       "min                                             0.000000                  \n",
       "25%                                             0.000000                  \n",
       "50%                                             0.000000                  \n",
       "75%                                             0.000000                  \n",
       "max                                             2.000000                  \n",
       "\n",
       "       Multi-Use Trails - # of Different Non Motorized Transport Modes Used  \\\n",
       "count                                        2238.000000                      \n",
       "mean                                            0.074620                      \n",
       "std                                             0.277722                      \n",
       "min                                             0.000000                      \n",
       "25%                                             0.000000                      \n",
       "50%                                             0.000000                      \n",
       "75%                                             0.000000                      \n",
       "max                                             2.000000                      \n",
       "\n",
       "       # of Conflicts Involving Motorized Vehicles  \\\n",
       "count                                  2238.000000   \n",
       "mean                                      0.570599   \n",
       "std                                       0.886078   \n",
       "min                                       0.000000   \n",
       "25%                                       0.000000   \n",
       "50%                                       0.000000   \n",
       "75%                                       1.000000   \n",
       "max                                       3.000000   \n",
       "\n",
       "       # of Conflicts Not-Involving Motorized Vehicles  \\\n",
       "count                                      2238.000000   \n",
       "mean                                          1.093834   \n",
       "std                                           1.399645   \n",
       "min                                           0.000000   \n",
       "25%                                           0.000000   \n",
       "50%                                           1.000000   \n",
       "75%                                           2.000000   \n",
       "max                                           5.000000   \n",
       "\n",
       "       Bylaws regarding e-bikes in multi-use trails should be Changed (1) / Maintained (0)  \\\n",
       "count                                        2238.000000                                     \n",
       "mean                                            0.573280                                     \n",
       "std                                             0.494711                                     \n",
       "min                                             0.000000                                     \n",
       "25%                                             0.000000                                     \n",
       "50%                                             1.000000                                     \n",
       "75%                                             1.000000                                     \n",
       "max                                             1.000000                                     \n",
       "\n",
       "       Use E-bikes on Toronto's bicycle lanes? Yes (1) / No (0)  \\\n",
       "count                                        2238.000000          \n",
       "mean                                            0.102324          \n",
       "std                                             0.303141          \n",
       "min                                             0.000000          \n",
       "25%                                             0.000000          \n",
       "50%                                             0.000000          \n",
       "75%                                             0.000000          \n",
       "max                                             1.000000          \n",
       "\n",
       "       Bylaws regarding e-bikes in bicycle lanes should be Changed (1) / Maintained (0)  \\\n",
       "count                                        2238.000000                                  \n",
       "mean                                            0.427614                                  \n",
       "std                                             0.494843                                  \n",
       "min                                             0.000000                                  \n",
       "25%                                             0.000000                                  \n",
       "50%                                             0.000000                                  \n",
       "75%                                             1.000000                                  \n",
       "max                                             1.000000                                  \n",
       "\n",
       "       For illegal use of bicycle and e-bikes on sidewalks, the City should Increase (1) / Maintain (0) programs  \\\n",
       "count                                        2238.000000                                                           \n",
       "mean                                            0.578195                                                           \n",
       "std                                             0.493958                                                           \n",
       "min                                             0.000000                                                           \n",
       "25%                                             0.000000                                                           \n",
       "50%                                             1.000000                                                           \n",
       "75%                                             1.000000                                                           \n",
       "max                                             1.000000                                                           \n",
       "\n",
       "       Regarding the bylaws classifying personal mobility devices as pedestrians, the City of Toronto should Do nothing (0) / Don't Know or Rather Not Answer (1) / Do something (2)  \n",
       "count                                        2238.000000                                                                                                                              \n",
       "mean                                            1.715371                                                                                                                              \n",
       "std                                             0.643280                                                                                                                              \n",
       "min                                             0.000000                                                                                                                              \n",
       "25%                                             2.000000                                                                                                                              \n",
       "50%                                             2.000000                                                                                                                              \n",
       "75%                                             2.000000                                                                                                                              \n",
       "max                                             2.000000                                                                                                                              \n",
       "\n",
       "[8 rows x 23 columns]"
      ]
     },
     "execution_count": 3604,
     "metadata": {},
     "output_type": "execute_result"
    }
   ],
   "source": [
    "responses.describe()"
   ]
  },
  {
   "cell_type": "markdown",
   "metadata": {},
   "source": [
    "**The dataset is now clean, and ready for some exploratory data analysis!**"
   ]
  },
  {
   "cell_type": "markdown",
   "metadata": {},
   "source": [
    "## Exploratory Data Analysis\n",
    "\n",
    "Having finally cleaned the data, we can now investigate the various different relationships and biases that exist within it! This step is really helpful in identifying key features, and is essential before the modelling is done. Visual tools like histograms, boxplots, pivot tables and bar graphs are really useful in this phase of the data science process."
   ]
  },
  {
   "cell_type": "code",
   "execution_count": null,
   "metadata": {},
   "outputs": [],
   "source": []
  }
 ],
 "metadata": {
  "kernelspec": {
   "display_name": "Python 2",
   "language": "python",
   "name": "python2"
  },
  "language_info": {
   "codemirror_mode": {
    "name": "ipython",
    "version": 2
   },
   "file_extension": ".py",
   "mimetype": "text/x-python",
   "name": "python",
   "nbconvert_exporter": "python",
   "pygments_lexer": "ipython2",
   "version": "2.7.13"
  }
 },
 "nbformat": 4,
 "nbformat_minor": 2
}
