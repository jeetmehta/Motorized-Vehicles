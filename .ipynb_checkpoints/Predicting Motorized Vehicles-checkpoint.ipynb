{
 "cells": [
  {
   "cell_type": "markdown",
   "metadata": {},
   "source": [
    "# Motorized Vehicles: Data Science Challenge\n",
    "\n",
    "Based on the E-Bike Survey Response Results from TO Open Data, the goal is to train a model to predict whether the responder will answer \"No - I do not have access to a private motorized vehicle\" to the question \"Does your household have access to any of the following types of private motorized vehicles?\". \n",
    "\n",
    "Clearly, since the goal is to predict whether the output for this feature is a given category, this is a problem of classification. The dataset is labelled (since we have access to survey respones to that question), and hence it is a supervised learning classification problem.\n",
    "\n",
    "The following notebook will cover the entire Data Science process, starting from loading the data, cleaning it, doing exploratory data analysis, creating a classification model and finally, evaluating the model.\n",
    "\n",
    "## Data Import & First Look\n",
    "\n",
    "Let's start by importing any necessary modules we need for data manipulation."
   ]
  },
  {
   "cell_type": "code",
   "execution_count": 572,
   "metadata": {},
   "outputs": [],
   "source": [
    "# Import necessary modules\n",
    "import numpy as np\n",
    "import pandas as pd\n",
    "import matplotlib.pyplot as plt"
   ]
  },
  {
   "cell_type": "code",
   "execution_count": 573,
   "metadata": {},
   "outputs": [],
   "source": [
    "# Read in survey data\n",
    "responses = pd.read_csv(\"E-Bike_Survey_Responses.csv\")"
   ]
  },
  {
   "cell_type": "code",
   "execution_count": 574,
   "metadata": {},
   "outputs": [
    {
     "data": {
      "text/html": [
       "<div>\n",
       "<table border=\"1\" class=\"dataframe\">\n",
       "  <thead>\n",
       "    <tr style=\"text-align: right;\">\n",
       "      <th></th>\n",
       "      <th>Timestamp</th>\n",
       "      <th>What age range do you fall in?</th>\n",
       "      <th>Sex</th>\n",
       "      <th>How would you describe your level of physical health?</th>\n",
       "      <th>What level of education have you reached?</th>\n",
       "      <th>What is your household income?</th>\n",
       "      <th>Which category best describes your employment?</th>\n",
       "      <th>What Toronto district is your primary address located in?</th>\n",
       "      <th>On average what distance do you travel most days of the week?</th>\n",
       "      <th>On average how long is your commute?</th>\n",
       "      <th>...</th>\n",
       "      <th>Do you support any of the following statements?</th>\n",
       "      <th>When you use Toronto's Multi-Use Trails do you mostly</th>\n",
       "      <th>Are you aware that the Multi-Use Paths have a speed limit of 20 km/h?</th>\n",
       "      <th>Have you witnessed a collision or conflict on a trail between</th>\n",
       "      <th>Do you think more should be done to manage trail users who do not respect the 20 km/h speed limit?</th>\n",
       "      <th>Currently any kind of e-bike may use a multi-use path if they are propelled by pedaling only and those propelled by motor power may be fined</th>\n",
       "      <th>When you use Toronto's bicycle lanes do you mostly</th>\n",
       "      <th>Currently any kind of e-bike may use a bicycle lane if they are propelled by pedaling only and those propelled by motor power may be fined</th>\n",
       "      <th>With regards to illegal use of bicycles and e-bikes on sidewalks should the City</th>\n",
       "      <th>Toronto Bylaws consider personal mobility devices (such as electric wheel chairs) to be pedestrians In your opinion should the City</th>\n",
       "    </tr>\n",
       "  </thead>\n",
       "  <tbody>\n",
       "    <tr>\n",
       "      <th>0</th>\n",
       "      <td>2013-04-10 12:10</td>\n",
       "      <td>35 to 49</td>\n",
       "      <td>Male</td>\n",
       "      <td>Good</td>\n",
       "      <td>Post graduate</td>\n",
       "      <td>$100K+</td>\n",
       "      <td>Self Employed</td>\n",
       "      <td>Central Toronto York or East York</td>\n",
       "      <td>Under 2 km</td>\n",
       "      <td>15 minutes or less</td>\n",
       "      <td>...</td>\n",
       "      <td>On scooter type e-bikes the pedals are unneces...</td>\n",
       "      <td>drive a motor propelled e-bike</td>\n",
       "      <td>No</td>\n",
       "      <td>pedestrians and/or runners a conflict relating...</td>\n",
       "      <td>No - the trails are fine as they are</td>\n",
       "      <td>The bylaw should be modified to allow any kind...</td>\n",
       "      <td>drive a scooter type e-bike propelled by an el...</td>\n",
       "      <td>The bylaw should be modified to allow e-bikes ...</td>\n",
       "      <td>be tolerant of bikes and e-bikes on the walksi...</td>\n",
       "      <td>Institute a speed limit for sidewalks</td>\n",
       "    </tr>\n",
       "    <tr>\n",
       "      <th>1</th>\n",
       "      <td>2013-04-10 12:30</td>\n",
       "      <td>18 to 34</td>\n",
       "      <td>Male</td>\n",
       "      <td>Excellent</td>\n",
       "      <td>University degree</td>\n",
       "      <td>$40K to $59K</td>\n",
       "      <td>Full Time</td>\n",
       "      <td>Central Toronto York or East York</td>\n",
       "      <td>10 - 20 km</td>\n",
       "      <td>30 - 44 minutes</td>\n",
       "      <td>...</td>\n",
       "      <td>On scooter type e-bikes the pedals are unneces...</td>\n",
       "      <td>I very rarely use any of Toronto's Multi-Use P...</td>\n",
       "      <td>No</td>\n",
       "      <td>I am not aware of any conflicts on the trails</td>\n",
       "      <td>No - the trails are fine as they are</td>\n",
       "      <td>No changes are necessary to the existing bylaw</td>\n",
       "      <td>drive a scooter type e-bike propelled by an el...</td>\n",
       "      <td>The bylaw should be modified to allow e-bikes ...</td>\n",
       "      <td>maintain the existing programs for signage edu...</td>\n",
       "      <td>Do nothing</td>\n",
       "    </tr>\n",
       "    <tr>\n",
       "      <th>2</th>\n",
       "      <td>2013-04-10 12:33</td>\n",
       "      <td>50 to 64</td>\n",
       "      <td>Male</td>\n",
       "      <td>Good</td>\n",
       "      <td>University degree</td>\n",
       "      <td>$40K to $59K</td>\n",
       "      <td>Self Employed</td>\n",
       "      <td>Central Toronto York or East York</td>\n",
       "      <td>10 - 20 km</td>\n",
       "      <td>15 minutes or less</td>\n",
       "      <td>...</td>\n",
       "      <td>Most scooter type e-bikes are wider than a bic...</td>\n",
       "      <td>cycle I very rarely use any of Toronto's Multi...</td>\n",
       "      <td>No</td>\n",
       "      <td>I am not aware of any conflicts on the trails</td>\n",
       "      <td>Yes - more signage Yes - more enforcement (tic...</td>\n",
       "      <td>No changes are necessary to the existing bylaw</td>\n",
       "      <td>ride a road bicycle or a fixie</td>\n",
       "      <td>No changes are necessary to the existing bylaw</td>\n",
       "      <td>increase signage increase enforcement increase...</td>\n",
       "      <td>only wheelchairs at walking speed</td>\n",
       "    </tr>\n",
       "    <tr>\n",
       "      <th>3</th>\n",
       "      <td>2013-04-10 12:52</td>\n",
       "      <td>50 to 64</td>\n",
       "      <td>Male</td>\n",
       "      <td>Good</td>\n",
       "      <td>4 years university no degree</td>\n",
       "      <td>$80K to $99K</td>\n",
       "      <td>Self Employed</td>\n",
       "      <td>Central Toronto York or East York</td>\n",
       "      <td>Under 2 km</td>\n",
       "      <td>15 minutes or less</td>\n",
       "      <td>...</td>\n",
       "      <td>On scooter type e-bikes the pedals are unneces...</td>\n",
       "      <td>cycle</td>\n",
       "      <td>No</td>\n",
       "      <td>a conflict between cyclists and pedestrians a ...</td>\n",
       "      <td>Yes - more signage Yes - more enforcement (tic...</td>\n",
       "      <td>Motorized vehicles should generally not be all...</td>\n",
       "      <td>ride a commuter or cruiser style bicycle</td>\n",
       "      <td>Motorized vehicles should generally not be all...</td>\n",
       "      <td>increase signage increase enforcement</td>\n",
       "      <td>Update the definition of a personal mobility d...</td>\n",
       "    </tr>\n",
       "    <tr>\n",
       "      <th>4</th>\n",
       "      <td>2013-04-10 13:24</td>\n",
       "      <td>18 to 34</td>\n",
       "      <td>Male</td>\n",
       "      <td>Very good</td>\n",
       "      <td>College or trade school diploma</td>\n",
       "      <td>$40K to $59K</td>\n",
       "      <td>Self Employed</td>\n",
       "      <td>Central Toronto York or East York</td>\n",
       "      <td>5 - 10 km</td>\n",
       "      <td>15 minutes or less</td>\n",
       "      <td>...</td>\n",
       "      <td>Most scooter type e-bikes are wider than a bic...</td>\n",
       "      <td>cycle I very rarely use any of Toronto's Multi...</td>\n",
       "      <td>No</td>\n",
       "      <td>I am not aware of any conflicts on the trails</td>\n",
       "      <td>No - the trails are fine as they are</td>\n",
       "      <td>Motorized vehicles should generally not be all...</td>\n",
       "      <td>ride a road bicycle or a fixie</td>\n",
       "      <td>Motorized vehicles should generally not be all...</td>\n",
       "      <td>maintain the existing programs for signage edu...</td>\n",
       "      <td>Update the definition of a personal mobility d...</td>\n",
       "    </tr>\n",
       "    <tr>\n",
       "      <th>5</th>\n",
       "      <td>2013-04-10 13:26</td>\n",
       "      <td>35 to 49</td>\n",
       "      <td>Male</td>\n",
       "      <td>Very good</td>\n",
       "      <td>College or trade school diploma</td>\n",
       "      <td>$40K to $59K</td>\n",
       "      <td>Full Time</td>\n",
       "      <td>Central Toronto York or East York</td>\n",
       "      <td>10 - 20 km</td>\n",
       "      <td>16 - 29 minutes</td>\n",
       "      <td>...</td>\n",
       "      <td>scooter style e-bikes are different than pedal...</td>\n",
       "      <td>cycle</td>\n",
       "      <td>No</td>\n",
       "      <td>a conflict between e-biker and a cyclist</td>\n",
       "      <td>Yes - more educational programs</td>\n",
       "      <td>Motorized vehicles should generally not be all...</td>\n",
       "      <td>ride a road bicycle or a fixie</td>\n",
       "      <td>Motorized vehicles should generally not be all...</td>\n",
       "      <td>increase education</td>\n",
       "      <td>Update the definition of a personal mobility d...</td>\n",
       "    </tr>\n",
       "    <tr>\n",
       "      <th>6</th>\n",
       "      <td>2013-04-10 13:27</td>\n",
       "      <td>18 to 34</td>\n",
       "      <td>Male</td>\n",
       "      <td>Good</td>\n",
       "      <td>College or trade school diploma</td>\n",
       "      <td>$100K+</td>\n",
       "      <td>Full Time</td>\n",
       "      <td>Central Toronto York or East York</td>\n",
       "      <td>5 - 10 km</td>\n",
       "      <td>15 minutes or less</td>\n",
       "      <td>...</td>\n",
       "      <td>scooter style e-bikes are different than pedal...</td>\n",
       "      <td>cycle</td>\n",
       "      <td>No</td>\n",
       "      <td>a conflict relating to a dog(s) a conflict bet...</td>\n",
       "      <td>Yes - more signage Yes - more educational prog...</td>\n",
       "      <td>The bylaw should be modified to allow any kind...</td>\n",
       "      <td>ride a commuter or cruiser style bicycle</td>\n",
       "      <td>An e-bike should never be in a bike lane</td>\n",
       "      <td>increase signage increase enforcement increase...</td>\n",
       "      <td>Update the definition of a personal mobility d...</td>\n",
       "    </tr>\n",
       "    <tr>\n",
       "      <th>7</th>\n",
       "      <td>2013-04-10 13:28</td>\n",
       "      <td>35 to 49</td>\n",
       "      <td>Male</td>\n",
       "      <td>Very good</td>\n",
       "      <td>Post graduate</td>\n",
       "      <td>$100K+</td>\n",
       "      <td>Full Time</td>\n",
       "      <td>Central Toronto York or East York</td>\n",
       "      <td>Under 2 km</td>\n",
       "      <td>15 minutes or less</td>\n",
       "      <td>...</td>\n",
       "      <td>scooter style e-bikes are different than pedal...</td>\n",
       "      <td>run</td>\n",
       "      <td>No</td>\n",
       "      <td>pedestrians and/or runners a conflict relating...</td>\n",
       "      <td>Yes - more signage</td>\n",
       "      <td>Motorized vehicles should generally not be all...</td>\n",
       "      <td>ride a mountain downhill or BMX bicycle</td>\n",
       "      <td>Motorized vehicles should generally not be all...</td>\n",
       "      <td>maintain the existing programs for signage edu...</td>\n",
       "      <td>Update the definition of a personal mobility d...</td>\n",
       "    </tr>\n",
       "    <tr>\n",
       "      <th>8</th>\n",
       "      <td>2013-04-10 13:31</td>\n",
       "      <td>35 to 49</td>\n",
       "      <td>Female</td>\n",
       "      <td>Fairly good</td>\n",
       "      <td>Post graduate</td>\n",
       "      <td>$80K to $99K</td>\n",
       "      <td>Unemployed</td>\n",
       "      <td>Central Toronto York or East York</td>\n",
       "      <td>5 - 10 km</td>\n",
       "      <td>15 minutes or less</td>\n",
       "      <td>...</td>\n",
       "      <td>scooter style e-bikes are different than pedal...</td>\n",
       "      <td>walk</td>\n",
       "      <td>No</td>\n",
       "      <td>a conflict relating to a dog(s) a conflict bet...</td>\n",
       "      <td>Yes - more signage Yes - more enforcement (tic...</td>\n",
       "      <td>No changes are necessary to the existing bylaw</td>\n",
       "      <td>ride a mountain downhill or BMX bicycle</td>\n",
       "      <td>The bylaw should be modified to allow e-bikes ...</td>\n",
       "      <td>increase signage increase enforcement increase...</td>\n",
       "      <td>Update the definition of a personal mobility d...</td>\n",
       "    </tr>\n",
       "    <tr>\n",
       "      <th>9</th>\n",
       "      <td>2013-04-10 13:33</td>\n",
       "      <td>18 to 34</td>\n",
       "      <td>Male</td>\n",
       "      <td>Good</td>\n",
       "      <td>College or trade school diploma</td>\n",
       "      <td>$60K to $79K</td>\n",
       "      <td>Full Time</td>\n",
       "      <td>Central Toronto York or East York</td>\n",
       "      <td>20 -35 km</td>\n",
       "      <td>15 minutes or less</td>\n",
       "      <td>...</td>\n",
       "      <td>scooter style e-bikes are different than pedal...</td>\n",
       "      <td>walk</td>\n",
       "      <td>No</td>\n",
       "      <td>I am not aware of any conflicts on the trails</td>\n",
       "      <td>Yes - more signage Yes - more enforcement (tic...</td>\n",
       "      <td>No changes are necessary to the existing bylaw</td>\n",
       "      <td>ride a commuter or cruiser style bicycle</td>\n",
       "      <td>No changes are necessary to the existing bylaw</td>\n",
       "      <td>increase signage increase enforcement increase...</td>\n",
       "      <td>Update the definition of a personal mobility d...</td>\n",
       "    </tr>\n",
       "  </tbody>\n",
       "</table>\n",
       "<p>10 rows × 22 columns</p>\n",
       "</div>"
      ],
      "text/plain": [
       "          Timestamp What age range do you fall in?     Sex  \\\n",
       "0  2013-04-10 12:10                       35 to 49    Male   \n",
       "1  2013-04-10 12:30                       18 to 34    Male   \n",
       "2  2013-04-10 12:33                       50 to 64    Male   \n",
       "3  2013-04-10 12:52                       50 to 64    Male   \n",
       "4  2013-04-10 13:24                       18 to 34    Male   \n",
       "5  2013-04-10 13:26                       35 to 49    Male   \n",
       "6  2013-04-10 13:27                       18 to 34    Male   \n",
       "7  2013-04-10 13:28                       35 to 49    Male   \n",
       "8  2013-04-10 13:31                       35 to 49  Female   \n",
       "9  2013-04-10 13:33                       18 to 34    Male   \n",
       "\n",
       "  How would you describe your level of physical health?  \\\n",
       "0                                               Good      \n",
       "1                                          Excellent      \n",
       "2                                               Good      \n",
       "3                                               Good      \n",
       "4                                          Very good      \n",
       "5                                          Very good      \n",
       "6                                               Good      \n",
       "7                                          Very good      \n",
       "8                                        Fairly good      \n",
       "9                                               Good      \n",
       "\n",
       "  What level of education have you reached? What is your household income?  \\\n",
       "0                             Post graduate                         $100K+   \n",
       "1                         University degree                   $40K to $59K   \n",
       "2                         University degree                   $40K to $59K   \n",
       "3              4 years university no degree                   $80K to $99K   \n",
       "4           College or trade school diploma                   $40K to $59K   \n",
       "5           College or trade school diploma                   $40K to $59K   \n",
       "6           College or trade school diploma                         $100K+   \n",
       "7                             Post graduate                         $100K+   \n",
       "8                             Post graduate                   $80K to $99K   \n",
       "9           College or trade school diploma                   $60K to $79K   \n",
       "\n",
       "  Which category best describes your employment?  \\\n",
       "0                                  Self Employed   \n",
       "1                                      Full Time   \n",
       "2                                  Self Employed   \n",
       "3                                  Self Employed   \n",
       "4                                  Self Employed   \n",
       "5                                      Full Time   \n",
       "6                                      Full Time   \n",
       "7                                      Full Time   \n",
       "8                                     Unemployed   \n",
       "9                                      Full Time   \n",
       "\n",
       "  What Toronto district is your primary address located in?  \\\n",
       "0                  Central Toronto York or East York          \n",
       "1                  Central Toronto York or East York          \n",
       "2                  Central Toronto York or East York          \n",
       "3                  Central Toronto York or East York          \n",
       "4                  Central Toronto York or East York          \n",
       "5                  Central Toronto York or East York          \n",
       "6                  Central Toronto York or East York          \n",
       "7                  Central Toronto York or East York          \n",
       "8                  Central Toronto York or East York          \n",
       "9                  Central Toronto York or East York          \n",
       "\n",
       "  On average what distance do you travel most days of the week?  \\\n",
       "0                                         Under 2 km              \n",
       "1                                         10 - 20 km              \n",
       "2                                         10 - 20 km              \n",
       "3                                         Under 2 km              \n",
       "4                                          5 - 10 km              \n",
       "5                                         10 - 20 km              \n",
       "6                                          5 - 10 km              \n",
       "7                                         Under 2 km              \n",
       "8                                          5 - 10 km              \n",
       "9                                          20 -35 km              \n",
       "\n",
       "  On average how long is your commute?  \\\n",
       "0                   15 minutes or less   \n",
       "1                      30 - 44 minutes   \n",
       "2                   15 minutes or less   \n",
       "3                   15 minutes or less   \n",
       "4                   15 minutes or less   \n",
       "5                      16 - 29 minutes   \n",
       "6                   15 minutes or less   \n",
       "7                   15 minutes or less   \n",
       "8                   15 minutes or less   \n",
       "9                   15 minutes or less   \n",
       "\n",
       "                                                                  ...                                                                  \\\n",
       "0                                                                 ...                                                                   \n",
       "1                                                                 ...                                                                   \n",
       "2                                                                 ...                                                                   \n",
       "3                                                                 ...                                                                   \n",
       "4                                                                 ...                                                                   \n",
       "5                                                                 ...                                                                   \n",
       "6                                                                 ...                                                                   \n",
       "7                                                                 ...                                                                   \n",
       "8                                                                 ...                                                                   \n",
       "9                                                                 ...                                                                   \n",
       "\n",
       "     Do you support any of the following statements?  \\\n",
       "0  On scooter type e-bikes the pedals are unneces...   \n",
       "1  On scooter type e-bikes the pedals are unneces...   \n",
       "2  Most scooter type e-bikes are wider than a bic...   \n",
       "3  On scooter type e-bikes the pedals are unneces...   \n",
       "4  Most scooter type e-bikes are wider than a bic...   \n",
       "5  scooter style e-bikes are different than pedal...   \n",
       "6  scooter style e-bikes are different than pedal...   \n",
       "7  scooter style e-bikes are different than pedal...   \n",
       "8  scooter style e-bikes are different than pedal...   \n",
       "9  scooter style e-bikes are different than pedal...   \n",
       "\n",
       "  When you use Toronto's Multi-Use Trails do you mostly  \\\n",
       "0                     drive a motor propelled e-bike      \n",
       "1  I very rarely use any of Toronto's Multi-Use P...      \n",
       "2  cycle I very rarely use any of Toronto's Multi...      \n",
       "3                                              cycle      \n",
       "4  cycle I very rarely use any of Toronto's Multi...      \n",
       "5                                              cycle      \n",
       "6                                              cycle      \n",
       "7                                                run      \n",
       "8                                               walk      \n",
       "9                                               walk      \n",
       "\n",
       "  Are you aware that the Multi-Use Paths have a speed limit of 20 km/h?  \\\n",
       "0                                                 No                      \n",
       "1                                                 No                      \n",
       "2                                                 No                      \n",
       "3                                                 No                      \n",
       "4                                                 No                      \n",
       "5                                                 No                      \n",
       "6                                                 No                      \n",
       "7                                                 No                      \n",
       "8                                                 No                      \n",
       "9                                                 No                      \n",
       "\n",
       "  Have you witnessed a collision or conflict on a trail between  \\\n",
       "0  pedestrians and/or runners a conflict relating...              \n",
       "1      I am not aware of any conflicts on the trails              \n",
       "2      I am not aware of any conflicts on the trails              \n",
       "3  a conflict between cyclists and pedestrians a ...              \n",
       "4      I am not aware of any conflicts on the trails              \n",
       "5           a conflict between e-biker and a cyclist              \n",
       "6  a conflict relating to a dog(s) a conflict bet...              \n",
       "7  pedestrians and/or runners a conflict relating...              \n",
       "8  a conflict relating to a dog(s) a conflict bet...              \n",
       "9      I am not aware of any conflicts on the trails              \n",
       "\n",
       "  Do you think more should be done to manage trail users who do not respect the 20 km/h speed limit?  \\\n",
       "0               No - the trails are fine as they are                                                   \n",
       "1               No - the trails are fine as they are                                                   \n",
       "2  Yes - more signage Yes - more enforcement (tic...                                                   \n",
       "3  Yes - more signage Yes - more enforcement (tic...                                                   \n",
       "4               No - the trails are fine as they are                                                   \n",
       "5                    Yes - more educational programs                                                   \n",
       "6  Yes - more signage Yes - more educational prog...                                                   \n",
       "7                                 Yes - more signage                                                   \n",
       "8  Yes - more signage Yes - more enforcement (tic...                                                   \n",
       "9  Yes - more signage Yes - more enforcement (tic...                                                   \n",
       "\n",
       "  Currently any kind of e-bike may use a multi-use path if they are propelled by pedaling only and those propelled by motor power may be fined   \\\n",
       "0  The bylaw should be modified to allow any kind...                                                                                              \n",
       "1     No changes are necessary to the existing bylaw                                                                                              \n",
       "2     No changes are necessary to the existing bylaw                                                                                              \n",
       "3  Motorized vehicles should generally not be all...                                                                                              \n",
       "4  Motorized vehicles should generally not be all...                                                                                              \n",
       "5  Motorized vehicles should generally not be all...                                                                                              \n",
       "6  The bylaw should be modified to allow any kind...                                                                                              \n",
       "7  Motorized vehicles should generally not be all...                                                                                              \n",
       "8     No changes are necessary to the existing bylaw                                                                                              \n",
       "9     No changes are necessary to the existing bylaw                                                                                              \n",
       "\n",
       "  When you use Toronto's bicycle lanes do you mostly  \\\n",
       "0  drive a scooter type e-bike propelled by an el...   \n",
       "1  drive a scooter type e-bike propelled by an el...   \n",
       "2                     ride a road bicycle or a fixie   \n",
       "3           ride a commuter or cruiser style bicycle   \n",
       "4                     ride a road bicycle or a fixie   \n",
       "5                     ride a road bicycle or a fixie   \n",
       "6           ride a commuter or cruiser style bicycle   \n",
       "7            ride a mountain downhill or BMX bicycle   \n",
       "8            ride a mountain downhill or BMX bicycle   \n",
       "9           ride a commuter or cruiser style bicycle   \n",
       "\n",
       "  Currently any kind of e-bike may use a bicycle lane if they are propelled by pedaling only and those propelled by motor power may be fined   \\\n",
       "0  The bylaw should be modified to allow e-bikes ...                                                                                            \n",
       "1  The bylaw should be modified to allow e-bikes ...                                                                                            \n",
       "2     No changes are necessary to the existing bylaw                                                                                            \n",
       "3  Motorized vehicles should generally not be all...                                                                                            \n",
       "4  Motorized vehicles should generally not be all...                                                                                            \n",
       "5  Motorized vehicles should generally not be all...                                                                                            \n",
       "6          An e-bike should never be in a bike lane                                                                                             \n",
       "7  Motorized vehicles should generally not be all...                                                                                            \n",
       "8  The bylaw should be modified to allow e-bikes ...                                                                                            \n",
       "9     No changes are necessary to the existing bylaw                                                                                            \n",
       "\n",
       "  With regards to illegal use of bicycles and e-bikes on sidewalks should the City   \\\n",
       "0  be tolerant of bikes and e-bikes on the walksi...                                  \n",
       "1  maintain the existing programs for signage edu...                                  \n",
       "2  increase signage increase enforcement increase...                                  \n",
       "3              increase signage increase enforcement                                  \n",
       "4  maintain the existing programs for signage edu...                                  \n",
       "5                                 increase education                                  \n",
       "6  increase signage increase enforcement increase...                                  \n",
       "7  maintain the existing programs for signage edu...                                  \n",
       "8  increase signage increase enforcement increase...                                  \n",
       "9  increase signage increase enforcement increase...                                  \n",
       "\n",
       "  Toronto Bylaws consider personal mobility devices (such as electric wheel chairs) to be pedestrians In your opinion should the City  \n",
       "0              Institute a speed limit for sidewalks                                                                                   \n",
       "1                                         Do nothing                                                                                   \n",
       "2                  only wheelchairs at walking speed                                                                                   \n",
       "3  Update the definition of a personal mobility d...                                                                                   \n",
       "4  Update the definition of a personal mobility d...                                                                                   \n",
       "5  Update the definition of a personal mobility d...                                                                                   \n",
       "6  Update the definition of a personal mobility d...                                                                                   \n",
       "7  Update the definition of a personal mobility d...                                                                                   \n",
       "8  Update the definition of a personal mobility d...                                                                                   \n",
       "9  Update the definition of a personal mobility d...                                                                                   \n",
       "\n",
       "[10 rows x 22 columns]"
      ]
     },
     "execution_count": 574,
     "metadata": {},
     "output_type": "execute_result"
    }
   ],
   "source": [
    "# Take a look at available features + responses\n",
    "responses.head(10)"
   ]
  },
  {
   "cell_type": "markdown",
   "metadata": {},
   "source": [
    "**Note: ** Looking at the above dataframe, we can see that there's 22 different columns/features of data, each one corresponding to a different survey question. Since Pandas shortens the df to fit the given view, let's look at the complete list of columns below.\n",
    "\n"
   ]
  },
  {
   "cell_type": "code",
   "execution_count": 575,
   "metadata": {},
   "outputs": [
    {
     "data": {
      "text/plain": [
       "Index([u'Timestamp', u'What age range do you fall in?', u'Sex',\n",
       "       u'How would you describe your level of physical health?',\n",
       "       u'What level of education have you reached?',\n",
       "       u'What is your household income?',\n",
       "       u'Which category best describes your employment?',\n",
       "       u'What Toronto district is your primary address located in?',\n",
       "       u'On average what distance do you travel most days of the week?',\n",
       "       u'On average how long is your commute?',\n",
       "       u'Which transportation option do you end up using most often?',\n",
       "       u'Does your household have access to any of the following private motorized vehicles?',\n",
       "       u'Do you support any of the following statements?',\n",
       "       u'When you use Toronto's Multi-Use Trails do you mostly',\n",
       "       u'Are you aware that the Multi-Use Paths have a speed limit of 20 km/h?',\n",
       "       u'Have you witnessed a collision or conflict on a trail between',\n",
       "       u'Do you think more should be done to manage trail users who do not respect the 20 km/h speed limit?',\n",
       "       u'Currently any kind of e-bike may use a multi-use path if they are propelled by pedaling only and those propelled by motor power may be fined ',\n",
       "       u'When you use Toronto's bicycle lanes do you mostly',\n",
       "       u'Currently any kind of e-bike may use a bicycle lane if they are propelled by pedaling only and those propelled by motor power may be fined ',\n",
       "       u'With regards to illegal use of bicycles and e-bikes on sidewalks should the City ',\n",
       "       u'Toronto Bylaws consider personal mobility devices (such as electric wheel chairs) to be pedestrians In your opinion should the City'],\n",
       "      dtype='object')"
      ]
     },
     "execution_count": 575,
     "metadata": {},
     "output_type": "execute_result"
    }
   ],
   "source": [
    "responses.columns"
   ]
  },
  {
   "cell_type": "markdown",
   "metadata": {},
   "source": [
    "The target/output variable (\"Does your household have access to any of the following private motorized vehicles?\") is one of the given columns (Column # 10 to be precise). The remaining variables will be the *feature variables* used to train the model. \n",
    "\n",
    "Noticing that almost all the questions are *categorical* in nature (meaning they take on a fixed value from a given set of multiple possiblities), let's take a look at all the possible values that each category can have:"
   ]
  },
  {
   "cell_type": "code",
   "execution_count": 576,
   "metadata": {},
   "outputs": [
    {
     "data": {
      "text/html": [
       "<div>\n",
       "<table border=\"1\" class=\"dataframe\">\n",
       "  <thead>\n",
       "    <tr style=\"text-align: right;\">\n",
       "      <th></th>\n",
       "      <th>Timestamp</th>\n",
       "      <th>What age range do you fall in?</th>\n",
       "      <th>Sex</th>\n",
       "      <th>How would you describe your level of physical health?</th>\n",
       "      <th>What level of education have you reached?</th>\n",
       "      <th>What is your household income?</th>\n",
       "      <th>Which category best describes your employment?</th>\n",
       "      <th>What Toronto district is your primary address located in?</th>\n",
       "      <th>On average what distance do you travel most days of the week?</th>\n",
       "      <th>On average how long is your commute?</th>\n",
       "      <th>...</th>\n",
       "      <th>Do you support any of the following statements?</th>\n",
       "      <th>When you use Toronto's Multi-Use Trails do you mostly</th>\n",
       "      <th>Are you aware that the Multi-Use Paths have a speed limit of 20 km/h?</th>\n",
       "      <th>Have you witnessed a collision or conflict on a trail between</th>\n",
       "      <th>Do you think more should be done to manage trail users who do not respect the 20 km/h speed limit?</th>\n",
       "      <th>Currently any kind of e-bike may use a multi-use path if they are propelled by pedaling only and those propelled by motor power may be fined</th>\n",
       "      <th>When you use Toronto's bicycle lanes do you mostly</th>\n",
       "      <th>Currently any kind of e-bike may use a bicycle lane if they are propelled by pedaling only and those propelled by motor power may be fined</th>\n",
       "      <th>With regards to illegal use of bicycles and e-bikes on sidewalks should the City</th>\n",
       "      <th>Toronto Bylaws consider personal mobility devices (such as electric wheel chairs) to be pedestrians In your opinion should the City</th>\n",
       "    </tr>\n",
       "  </thead>\n",
       "  <tbody>\n",
       "    <tr>\n",
       "      <th>count</th>\n",
       "      <td>2238</td>\n",
       "      <td>2234</td>\n",
       "      <td>2221</td>\n",
       "      <td>2227</td>\n",
       "      <td>2220</td>\n",
       "      <td>2178</td>\n",
       "      <td>2223</td>\n",
       "      <td>2237</td>\n",
       "      <td>2237</td>\n",
       "      <td>2237</td>\n",
       "      <td>...</td>\n",
       "      <td>2238</td>\n",
       "      <td>2238</td>\n",
       "      <td>2238</td>\n",
       "      <td>2238</td>\n",
       "      <td>2237</td>\n",
       "      <td>2238</td>\n",
       "      <td>2238</td>\n",
       "      <td>2238</td>\n",
       "      <td>2238</td>\n",
       "      <td>2232</td>\n",
       "    </tr>\n",
       "    <tr>\n",
       "      <th>unique</th>\n",
       "      <td>1722</td>\n",
       "      <td>5</td>\n",
       "      <td>12</td>\n",
       "      <td>12</td>\n",
       "      <td>24</td>\n",
       "      <td>6</td>\n",
       "      <td>33</td>\n",
       "      <td>68</td>\n",
       "      <td>5</td>\n",
       "      <td>6</td>\n",
       "      <td>...</td>\n",
       "      <td>534</td>\n",
       "      <td>89</td>\n",
       "      <td>2</td>\n",
       "      <td>221</td>\n",
       "      <td>134</td>\n",
       "      <td>25</td>\n",
       "      <td>69</td>\n",
       "      <td>258</td>\n",
       "      <td>224</td>\n",
       "      <td>81</td>\n",
       "    </tr>\n",
       "    <tr>\n",
       "      <th>top</th>\n",
       "      <td>2013-04-12 11:19</td>\n",
       "      <td>35 to 49</td>\n",
       "      <td>Male</td>\n",
       "      <td>Very good</td>\n",
       "      <td>University degree</td>\n",
       "      <td>$100K+</td>\n",
       "      <td>Full Time</td>\n",
       "      <td>Central Toronto York or East York</td>\n",
       "      <td>5 - 10 km</td>\n",
       "      <td>16 - 29 minutes</td>\n",
       "      <td>...</td>\n",
       "      <td>scooter style e-bikes are different than pedal...</td>\n",
       "      <td>cycle</td>\n",
       "      <td>No</td>\n",
       "      <td>I am not aware of any conflicts on the trails</td>\n",
       "      <td>No - the trails are fine as they are</td>\n",
       "      <td>No changes are necessary to the existing bylaw</td>\n",
       "      <td>ride a commuter or cruiser style bicycle</td>\n",
       "      <td>No changes are necessary to the existing bylaw</td>\n",
       "      <td>maintain the existing programs for signage edu...</td>\n",
       "      <td>Update the definition of a personal mobility d...</td>\n",
       "    </tr>\n",
       "    <tr>\n",
       "      <th>freq</th>\n",
       "      <td>7</td>\n",
       "      <td>863</td>\n",
       "      <td>1554</td>\n",
       "      <td>891</td>\n",
       "      <td>895</td>\n",
       "      <td>831</td>\n",
       "      <td>1405</td>\n",
       "      <td>1634</td>\n",
       "      <td>847</td>\n",
       "      <td>782</td>\n",
       "      <td>...</td>\n",
       "      <td>84</td>\n",
       "      <td>738</td>\n",
       "      <td>1131</td>\n",
       "      <td>847</td>\n",
       "      <td>646</td>\n",
       "      <td>811</td>\n",
       "      <td>705</td>\n",
       "      <td>664</td>\n",
       "      <td>493</td>\n",
       "      <td>1379</td>\n",
       "    </tr>\n",
       "  </tbody>\n",
       "</table>\n",
       "<p>4 rows × 22 columns</p>\n",
       "</div>"
      ],
      "text/plain": [
       "               Timestamp What age range do you fall in?   Sex  \\\n",
       "count               2238                           2234  2221   \n",
       "unique              1722                              5    12   \n",
       "top     2013-04-12 11:19                       35 to 49  Male   \n",
       "freq                   7                            863  1554   \n",
       "\n",
       "       How would you describe your level of physical health?  \\\n",
       "count                                                2227      \n",
       "unique                                                 12      \n",
       "top                                             Very good      \n",
       "freq                                                  891      \n",
       "\n",
       "       What level of education have you reached?  \\\n",
       "count                                       2220   \n",
       "unique                                        24   \n",
       "top                            University degree   \n",
       "freq                                         895   \n",
       "\n",
       "       What is your household income?  \\\n",
       "count                            2178   \n",
       "unique                              6   \n",
       "top                            $100K+   \n",
       "freq                              831   \n",
       "\n",
       "       Which category best describes your employment?  \\\n",
       "count                                            2223   \n",
       "unique                                             33   \n",
       "top                                         Full Time   \n",
       "freq                                             1405   \n",
       "\n",
       "       What Toronto district is your primary address located in?  \\\n",
       "count                                                2237          \n",
       "unique                                                 68          \n",
       "top                     Central Toronto York or East York          \n",
       "freq                                                 1634          \n",
       "\n",
       "       On average what distance do you travel most days of the week?  \\\n",
       "count                                                2237              \n",
       "unique                                                  5              \n",
       "top                                             5 - 10 km              \n",
       "freq                                                  847              \n",
       "\n",
       "       On average how long is your commute?  \\\n",
       "count                                  2237   \n",
       "unique                                    6   \n",
       "top                         16 - 29 minutes   \n",
       "freq                                    782   \n",
       "\n",
       "                                                                       ...                                                                  \\\n",
       "count                                                                  ...                                                                   \n",
       "unique                                                                 ...                                                                   \n",
       "top                                                                    ...                                                                   \n",
       "freq                                                                   ...                                                                   \n",
       "\n",
       "          Do you support any of the following statements?  \\\n",
       "count                                                2238   \n",
       "unique                                                534   \n",
       "top     scooter style e-bikes are different than pedal...   \n",
       "freq                                                   84   \n",
       "\n",
       "       When you use Toronto's Multi-Use Trails do you mostly  \\\n",
       "count                                                2238      \n",
       "unique                                                 89      \n",
       "top                                                 cycle      \n",
       "freq                                                  738      \n",
       "\n",
       "       Are you aware that the Multi-Use Paths have a speed limit of 20 km/h?  \\\n",
       "count                                                2238                      \n",
       "unique                                                  2                      \n",
       "top                                                    No                      \n",
       "freq                                                 1131                      \n",
       "\n",
       "       Have you witnessed a collision or conflict on a trail between  \\\n",
       "count                                                2238              \n",
       "unique                                                221              \n",
       "top         I am not aware of any conflicts on the trails              \n",
       "freq                                                  847              \n",
       "\n",
       "       Do you think more should be done to manage trail users who do not respect the 20 km/h speed limit?  \\\n",
       "count                                                2237                                                   \n",
       "unique                                                134                                                   \n",
       "top                  No - the trails are fine as they are                                                   \n",
       "freq                                                  646                                                   \n",
       "\n",
       "       Currently any kind of e-bike may use a multi-use path if they are propelled by pedaling only and those propelled by motor power may be fined   \\\n",
       "count                                                2238                                                                                              \n",
       "unique                                                 25                                                                                              \n",
       "top        No changes are necessary to the existing bylaw                                                                                              \n",
       "freq                                                  811                                                                                              \n",
       "\n",
       "       When you use Toronto's bicycle lanes do you mostly  \\\n",
       "count                                                2238   \n",
       "unique                                                 69   \n",
       "top              ride a commuter or cruiser style bicycle   \n",
       "freq                                                  705   \n",
       "\n",
       "       Currently any kind of e-bike may use a bicycle lane if they are propelled by pedaling only and those propelled by motor power may be fined   \\\n",
       "count                                                2238                                                                                            \n",
       "unique                                                258                                                                                            \n",
       "top        No changes are necessary to the existing bylaw                                                                                            \n",
       "freq                                                  664                                                                                            \n",
       "\n",
       "       With regards to illegal use of bicycles and e-bikes on sidewalks should the City   \\\n",
       "count                                                2238                                  \n",
       "unique                                                224                                  \n",
       "top     maintain the existing programs for signage edu...                                  \n",
       "freq                                                  493                                  \n",
       "\n",
       "       Toronto Bylaws consider personal mobility devices (such as electric wheel chairs) to be pedestrians In your opinion should the City  \n",
       "count                                                2232                                                                                   \n",
       "unique                                                 81                                                                                   \n",
       "top     Update the definition of a personal mobility d...                                                                                   \n",
       "freq                                                 1379                                                                                   \n",
       "\n",
       "[4 rows x 22 columns]"
      ]
     },
     "execution_count": 576,
     "metadata": {},
     "output_type": "execute_result"
    }
   ],
   "source": [
    "responses.describe()"
   ]
  },
  {
   "cell_type": "markdown",
   "metadata": {},
   "source": [
    "There's a few things we can immediately observe:\n",
    "\n",
    "**1) Missing Values**\n",
    "\n",
    "The total number of values/responses should be 2238, but many columns have a total # of responses less than this. This will need to be dealt with during cleaning.\n",
    "\n",
    "**2) Unique Values**\n",
    "\n",
    "Notice that each of the questions have a varying set of possible responses. Whereas the survey probably only lists a few given options, those answering likely have responded outside of those given options. For example, a few questions have a pretty small/contained set of answers (Age Range - 5 possible types of values, likely the different age ranges), whereas in contrast categories like Education or Support of Statements have a large variance in type of input. This will also need to be dealt with during cleaning.\n",
    "\n",
    "Having identified these issues and taken a first look at the data, we can now start the data cleaning process."
   ]
  },
  {
   "cell_type": "markdown",
   "metadata": {},
   "source": [
    "## Data Cleaning\n",
    "\n",
    "Like every Data Science process, the most important and time-consuming segment is cleaning the data and getting it ready for modelling. Since there's 22 total features (21 - X, 1 - Y), this will take some time but it is vital. \n",
    "\n",
    "\n",
    "### Target Variable\n",
    "\n",
    "Let's start with the target variable, which is the responses to the question * \"Does your household have access to any of the following private motorized vehicles?\"*\n",
    "\n",
    "Looking at the range of input responses:"
   ]
  },
  {
   "cell_type": "code",
   "execution_count": 577,
   "metadata": {},
   "outputs": [
    {
     "data": {
      "text/plain": [
       "Yes - a car SUV truck or van                                                                                                                 1146\n",
       "No - I do not have access to a private motorized vehicle                                                                                      522\n",
       "Yes a motorcycle                                                                                                                              162\n",
       "Yes - a pedal assist type e-bike                                                                                                               99\n",
       "Yes - a scooter style e-bike                                                                                                                   85\n",
       "Yes - a car SUV truck or van Yes a motorcycle                                                                                                  25\n",
       "Yes - a car SUV truck or van Yes - a scooter style e-bike                                                                                      22\n",
       "Yes - a car SUV truck or van Yes - a pedal assist type e-bike                                                                                  20\n",
       "Yes a limited speed motorcycle (eg gas powered vespa)                                                                                          17\n",
       "Autoshare                                                                                                                                       9\n",
       "car share                                                                                                                                       4\n",
       "Yes - a gas moped                                                                                                                               4\n",
       "Yes - a car SUV truck or van Yes - a scooter style e-bike Yes - a pedal assist type e-bike                                                      3\n",
       "car and motorcycle                                                                                                                              3\n",
       "Car and motorcycle                                                                                                                              2\n",
       "zipcar                                                                                                                                          2\n",
       "car rental                                                                                                                                      2\n",
       "SUV and motorcycle                                                                                                                              2\n",
       "car & motorcycle                                                                                                                                2\n",
       "Yes - a car SUV truck or van Yes a motorcycle Yes - a scooter style e-bike Yes - a pedal assist type e-bike                                     2\n",
       "Yes - a car SUV truck or van No - I do not have access to a private motorized vehicle                                                           2\n",
       "Yes - a car SUV truck or van Yes a limited speed motorcycle (eg gas powered vespa)                                                              2\n",
       "motorcycle ebike car transit                                                                                                                    1\n",
       "this Q is set up to only allow one answer - we have a car m/c 2 gas-powered scooters (Vespa 200cc not LSM)                                      1\n",
       "the survey is only letting me click one but i have a scooter-style ebike as well                                                                1\n",
       "car van motorcycle                                                                                                                              1\n",
       "considering an e-bike                                                                                                                           1\n",
       "Survey does not allow for multiple answers                                                                                                      1\n",
       "autoshare                                                                                                                                       1\n",
       "zip car                                                                                                                                         1\n",
       "                                                                                                                                             ... \n",
       "Yes A Maxi-Scooter                                                                                                                              1\n",
       "SUV motorcycle limited speed motorcycle                                                                                                         1\n",
       "I can borrow a car from time to time                                                                                                            1\n",
       "yes Autoshare for use of car                                                                                                                    1\n",
       "car/truck/motorcycle/peddle bike                                                                                                                1\n",
       "SUV motorcycle scooter style ebike                                                                                                              1\n",
       "car and motorcycle (buttons don't work)                                                                                                         1\n",
       "i rent Zip cars when I need them                                                                                                                1\n",
       "No - I do not own a private motorized vehicle                                                                                                   1\n",
       "Car-sharing                                                                                                                                     1\n",
       "Yes - a car SUV truck or van I have a 200cc scooter  It's like a vespa but it's not limited speed  Considered a motorcycle by MTO               1\n",
       "can't choose ore than on the form                                                                                                               1\n",
       "bicycle                                                                                                                                         1\n",
       "car sharing                                                                                                                                     1\n",
       "Cars2Go                                                                                                                                         1\n",
       "Carshare                                                                                                                                        1\n",
       "have a Car2Go membership                                                                                                                        1\n",
       "car and motorcycle (survey only allows single value selection)                                                                                  1\n",
       "this does not accept all that apply                                                                                                             1\n",
       "AutoShare vehicles                                                                                                                              1\n",
       "5000W custom high power electric bicycle (non-scooter)                                                                                          1\n",
       "AutoShare                                                                                                                                       1\n",
       "Yes - a car SUV truck or van Yes - a gas moped Yes - a scooter style e-bike Yes - a pedal assist type e-bike                                    1\n",
       "membership in car-sharing service which we have not used to date                                                                                1\n",
       "Please note that this form does not allow the user to choose more than one option here My household has a car and a scooter style e-bike        1\n",
       "AutoShare when needed                                                                                                                           1\n",
       "car motorcycle gas scooter                                                                                                                      1\n",
       "A motor scooter                                                                                                                                 1\n",
       "Car motorcycle and SUV                                                                                                                          1\n",
       "Yes - a truck motorcycle and pedal assist e-bike                                                                                                1\n",
       "Name: Does your household have access to any of the following private motorized vehicles?, dtype: int64"
      ]
     },
     "execution_count": 577,
     "metadata": {},
     "output_type": "execute_result"
    }
   ],
   "source": [
    "responses[\"Does your household have access to any of the following private motorized vehicles?\"].value_counts()"
   ]
  },
  {
   "cell_type": "markdown",
   "metadata": {},
   "source": [
    "We can see that although a majority of responses fall under a small set of values (either No, pedal assist type e-bike, scooter style e-bike, car SUV truck or van, Autoshare or limited speed motorcycle), there are a large number of values (approx. 140 values) that do ** not ** fit the given standard.\n",
    "\n",
    "These need to be intelligently dealt with/filtered, with some heurestics. Before we start, it's important to remember that we want to predict how likely the responder is to say **No**, so a negative response will be assigned a class of 1, and all positive responses (regardless of type of vehicle) will be assigned a class of 0.\n",
    "\n",
    "Regarding filtering heuristics, let's start with the basics\n",
    "\n",
    "1) If the response is \"No - I do not have access to a private motorized vehicle\", we assign it a value of 1\n",
    "\n",
    "2) One hypothesis I have is that if the response contains the word \"Yes\", it implies that they have access to some type of private motorized vehicle, and the resulting value is a 0. To test this hypothesis, let's look at the above *value_counts()* call, and all the values that have the word \"Yes\" in them:"
   ]
  },
  {
   "cell_type": "code",
   "execution_count": 578,
   "metadata": {},
   "outputs": [
    {
     "data": {
      "text/plain": [
       "0                            Yes - a scooter style e-bike\n",
       "1                            Yes - a scooter style e-bike\n",
       "2                            Yes - a car SUV truck or van\n",
       "3                            Yes - a car SUV truck or van\n",
       "4                            Yes - a car SUV truck or van\n",
       "6                                        Yes a motorcycle\n",
       "7                            Yes - a car SUV truck or van\n",
       "8                            Yes - a car SUV truck or van\n",
       "9                            Yes - a car SUV truck or van\n",
       "11                           Yes - a car SUV truck or van\n",
       "13                           Yes - a car SUV truck or van\n",
       "15                           Yes - a car SUV truck or van\n",
       "16                           Yes - a car SUV truck or van\n",
       "18                           Yes - a car SUV truck or van\n",
       "19                           Yes - a car SUV truck or van\n",
       "20                           Yes - a car SUV truck or van\n",
       "21                           Yes - a car SUV truck or van\n",
       "22                           Yes - a car SUV truck or van\n",
       "23                           Yes - a car SUV truck or van\n",
       "25                           Yes - a car SUV truck or van\n",
       "27                           Yes - a car SUV truck or van\n",
       "28                           Yes - a car SUV truck or van\n",
       "29                           Yes - a car SUV truck or van\n",
       "30                           Yes - a scooter style e-bike\n",
       "31                           Yes - a car SUV truck or van\n",
       "32                           Yes - a car SUV truck or van\n",
       "34                           Yes - a car SUV truck or van\n",
       "36                           Yes - a car SUV truck or van\n",
       "38                           Yes - a car SUV truck or van\n",
       "39                           Yes - a car SUV truck or van\n",
       "                              ...                        \n",
       "2191    Yes - a car SUV truck or van No - I do not hav...\n",
       "2192                         Yes - a car SUV truck or van\n",
       "2194                         Yes - a car SUV truck or van\n",
       "2195                         Yes - a car SUV truck or van\n",
       "2196                         Yes - a car SUV truck or van\n",
       "2198                         Yes - a car SUV truck or van\n",
       "2199                         Yes - a car SUV truck or van\n",
       "2200                         Yes - a car SUV truck or van\n",
       "2202                         Yes - a car SUV truck or van\n",
       "2204                         Yes - a car SUV truck or van\n",
       "2205        Yes - a car SUV truck or van Yes a motorcycle\n",
       "2206    Yes - a car SUV truck or van Yes a limited spe...\n",
       "2208                         Yes - a car SUV truck or van\n",
       "2209    Yes - a car SUV truck or van Yes a motorcycle ...\n",
       "2210    Yes - a car SUV truck or van Yes - a scooter s...\n",
       "2211                         Yes - a car SUV truck or van\n",
       "2212    Yes - a car SUV truck or van Yes - a pedal ass...\n",
       "2213                         Yes - a car SUV truck or van\n",
       "2217                         Yes - a car SUV truck or van\n",
       "2218    Yes - a car SUV truck or van Yes - a scooter s...\n",
       "2219                         Yes - a car SUV truck or van\n",
       "2221                         Yes - a car SUV truck or van\n",
       "2225                         Yes - a car SUV truck or van\n",
       "2230                         Yes - a car SUV truck or van\n",
       "2231    Yes - a car SUV truck or van Yes - a pedal ass...\n",
       "2232                         Yes - a car SUV truck or van\n",
       "2234                         Yes - a car SUV truck or van\n",
       "2235    Yes - a car SUV truck or van Yes - a scooter s...\n",
       "2236                         Yes - a car SUV truck or van\n",
       "2237    Yes - a car SUV truck or van Yes - a pedal ass...\n",
       "Name: Does your household have access to any of the following private motorized vehicles?, dtype: object"
      ]
     },
     "execution_count": 578,
     "metadata": {},
     "output_type": "execute_result"
    }
   ],
   "source": [
    "Y = responses[\"Does your household have access to any of the following private motorized vehicles?\"]\n",
    "Y[Y.str.contains(\"Yes\")]"
   ]
  },
  {
   "cell_type": "markdown",
   "metadata": {},
   "source": [
    "Given the above list + the original *value_counts()*, it's fair to say that the hypothesis does work. It's important to note the underlying assumption asssumes a \"Yes\" for this type of response (Yes - a car SUV truck or van No - I do not have access to a private motorized vehicle). This response, where the user has given both options, only occurs twice (as seen in *value_counts()*), and thus setting that to a Yes should be okay.\n",
    "\n",
    "After applying this rule, there's still quite a few values that are left out (probably to do with car rentals + people who didn't know how to deal with multiple options). Let's take a look:"
   ]
  },
  {
   "cell_type": "code",
   "execution_count": 579,
   "metadata": {},
   "outputs": [
    {
     "data": {
      "text/plain": [
       "40      also motorcycle - not allowing more than one c...\n",
       "44                                   No - only autoshare \n",
       "45                   I can borrow a car from time to time\n",
       "72                                              Autoshare\n",
       "132     The author of this survey is a fuk'g idiot how...\n",
       "143                                             Car share\n",
       "156                               Car van motorcycle bike\n",
       "168     will only let you choose one so i will choose ...\n",
       "306                                             Autoshare\n",
       "316                                         Car and Vespa\n",
       "341                                    AutoShare vehicles\n",
       "372                      car and limited speed motorcycle\n",
       "393                                             autoshare\n",
       "422     Please note that this form does not allow the ...\n",
       "461                                                zipcar\n",
       "499                                           Car-sharing\n",
       "503                     can't choose ore than on the form\n",
       "518                                           car bicycle\n",
       "522            Survey does not allow for multiple answers\n",
       "542                                      car & motorcycle\n",
       "550                                  car truck motorcycle\n",
       "556            SUV Motorcycle (couldn't select multiples)\n",
       "582     Menu does not allow multiple selections despit...\n",
       "591                                             Autoshare\n",
       "599                                    Car and motorcycle\n",
       "646                                    Motorcycle and SUV\n",
       "677     a car motorcycle gas powered vespa-not limited...\n",
       "681     Car and pedal assist e-bike (the form doesn't ...\n",
       "691               car motorcycle limited speed motorcycle\n",
       "695                      car/truck/motorcycle/peddle bike\n",
       "                              ...                        \n",
       "1652           SUV and motorcycle only lets me choose one\n",
       "1654                                   car and motorcycle\n",
       "1655                                              Cars2Go\n",
       "1673              car and motorcycle (buttons don't work)\n",
       "1675                           car motorcycle gas scooter\n",
       "1677                   2 Cars 2 motorcycles and 1 scooter\n",
       "1682                    car and limited speed motorcycle \n",
       "1715    form will only accept one selection! I have a ...\n",
       "1732                            car and pedal assist bike\n",
       "1772                                            car share\n",
       "1787    I have a truck  Used this field to let you kno...\n",
       "1824                                   car van motorcycle\n",
       "1837                     i rent Zip cars when I need them\n",
       "1846                                              zip car\n",
       "1857                                               zipcar\n",
       "1863                                            car share\n",
       "1920                                          car rental \n",
       "1967    No - I do not have access to a private motoriz...\n",
       "1973                               rent or borrow vehicle\n",
       "1985                   pedal assisted scooter type e-bike\n",
       "2018    membership in car-sharing service which we hav...\n",
       "2068                                          car rental \n",
       "2106                                            Autoshare\n",
       "2108                                bicycle and autoshare\n",
       "2133                                    Car2Go membership\n",
       "2151                             have a Car2Go membership\n",
       "2176                                            Autoshare\n",
       "2177                                            Autoshare\n",
       "2197                                          car sharing\n",
       "2222    No - I do not have access to a private motoriz...\n",
       "Name: Does your household have access to any of the following private motorized vehicles?, dtype: object"
      ]
     },
     "execution_count": 579,
     "metadata": {},
     "output_type": "execute_result"
    }
   ],
   "source": [
    "# Rule 1: If they said no -> Set value to 1\n",
    "Y[Y == \"No - I do not have access to a private motorized vehicle\"] = 1\n",
    "Y[Y == \"No - I do not own a private motorized vehicle\"] = 1\n",
    "\n",
    "# Rule 2: If their response contains the word Yes -> Set value to 0\n",
    "Y[Y.str.contains(\"Yes\").fillna(False)] = 0\n",
    "\n",
    "# Check out remaining data\n",
    "Y[Y != 0][Y != 1]"
   ]
  },
  {
   "cell_type": "markdown",
   "metadata": {},
   "source": [
    "Having gone through the dataset and cleaned a bulk of the data, it's clear that from what's remaining, there are a few standouts:\n",
    "\n",
    "1. Car Rental (Autoshare, Car2Go, Car Sharing, Rent/Borrow)\n",
    "2. People who have listed multiple vehicles\n",
    "\n",
    "For the purpose of this study, I'm assuming that a car rental/sharing service does **not count as the household having access to a motorized vehicle**. Thus, it will be mapped to a value of 1 (representing a \"No\"). Detecting this as a response also needs to be done intelligently, since there are string variants of the terms present throughout the dataset (i.e. Autoshare vs. autoshoare, Car2Go vs. Cars2Go etc.)\n",
    "\n",
    "For those that have listed multiple vehicles, this should be mapped to a value of 0 (representing a \"Yes\" to the question). Clearly from the numerous mentions regarding not being able to submit multiple options, this is a point of improvement for the form that will be discussed in the analysis section.\n",
    "\n",
    "Let's try and clean this remaining data"
   ]
  },
  {
   "cell_type": "code",
   "execution_count": 580,
   "metadata": {},
   "outputs": [
    {
     "data": {
      "text/plain": [
       "0                                                                                                                                            1605\n",
       "1                                                                                                                                             523\n",
       "Autoshare                                                                                                                                       9\n",
       "car share                                                                                                                                       4\n",
       "car and motorcycle                                                                                                                              3\n",
       "SUV and motorcycle                                                                                                                              2\n",
       "car rental                                                                                                                                      2\n",
       "zipcar                                                                                                                                          2\n",
       "Car and motorcycle                                                                                                                              2\n",
       "car & motorcycle                                                                                                                                2\n",
       "Car and Motorcycle                                                                                                                              1\n",
       "zip car                                                                                                                                         1\n",
       "autoshare                                                                                                                                       1\n",
       "bicycle and autoshare                                                                                                                           1\n",
       "this Q is set up to only allow one answer - we have a car m/c 2 gas-powered scooters (Vespa 200cc not LSM)                                      1\n",
       "car motorcycle limited speed motorcycle                                                                                                         1\n",
       "I have access to car share car                                                                                                                  1\n",
       "2 Cars 2 motorcycles and 1 scooter                                                                                                              1\n",
       "form will only accept one selection! I have a car motorcycle limited speed motorcycle                                                           1\n",
       "motorcycle ebike car transit                                                                                                                    1\n",
       "occasional car rental                                                                                                                           1\n",
       "No - I do not have access to a private motorized vehicle car sharing                                                                            1\n",
       "A car and a motorcycle but your survey is flawed and wont let me select both options                                                            1\n",
       "AUTOSHARE                                                                                                                                       1\n",
       "Survey does not allow for multiple answers                                                                                                      1\n",
       "considering an e-bike                                                                                                                           1\n",
       "this should be a checkbox not a radio button                                                                                                    1\n",
       "also motorcycle - not allowing more than one choice                                                                                             1\n",
       "car van motorcycle                                                                                                                              1\n",
       "the survey is only letting me click one but i have a scooter-style ebike as well                                                                1\n",
       "                                                                                                                                             ... \n",
       "No - only autoshare                                                                                                                             1\n",
       "pedal assisted scooter type e-bike                                                                                                              1\n",
       "rent or borrow vehicle                                                                                                                          1\n",
       "Menu does not allow multiple selections despite the title Car and motorcycle                                                                    1\n",
       "car truck motorcycle                                                                                                                            1\n",
       "yes - car and motorcycle                                                                                                                        1\n",
       "SUV motorcycle limited speed motorcycle                                                                                                         1\n",
       "yes Autoshare for use of car                                                                                                                    1\n",
       "Car motorcycle                                                                                                                                  1\n",
       "car and motorcycle (survey only allows single value selection)                                                                                  1\n",
       "Car-sharing                                                                                                                                     1\n",
       "can't choose ore than on the form                                                                                                               1\n",
       "bicycle                                                                                                                                         1\n",
       "car sharing                                                                                                                                     1\n",
       "I have a truck  Used this field to let you know that I cannot select all that apply  This uses radio buttons                                    1\n",
       "Cars2Go                                                                                                                                         1\n",
       "Carshare                                                                                                                                        1\n",
       "car/truck/motorcycle/peddle bike                                                                                                                1\n",
       "have a Car2Go membership                                                                                                                        1\n",
       "this does not accept all that apply                                                                                                             1\n",
       "AutoShare vehicles                                                                                                                              1\n",
       "5000W custom high power electric bicycle (non-scooter)                                                                                          1\n",
       "AutoShare                                                                                                                                       1\n",
       "membership in car-sharing service which we have not used to date                                                                                1\n",
       "Please note that this form does not allow the user to choose more than one option here My household has a car and a scooter style e-bike        1\n",
       "AutoShare when needed                                                                                                                           1\n",
       "car motorcycle gas scooter                                                                                                                      1\n",
       "A motor scooter                                                                                                                                 1\n",
       "Car motorcycle and SUV                                                                                                                          1\n",
       "car and motorcycle (buttons don't work)                                                                                                         1\n",
       "Name: Does your household have access to any of the following private motorized vehicles?, dtype: int64"
      ]
     },
     "execution_count": 580,
     "metadata": {},
     "output_type": "execute_result"
    }
   ],
   "source": [
    "Y.value_counts()"
   ]
  },
  {
   "cell_type": "code",
   "execution_count": 581,
   "metadata": {},
   "outputs": [
    {
     "data": {
      "text/plain": [
       "0                                                                                                                                            1605\n",
       "1                                                                                                                                             568\n",
       "car and motorcycle                                                                                                                              3\n",
       "SUV and motorcycle                                                                                                                              2\n",
       "car & motorcycle                                                                                                                                2\n",
       "Car and motorcycle                                                                                                                              2\n",
       "2 Cars 2 motorcycles and 1 scooter                                                                                                              1\n",
       "bike                                                                                                                                            1\n",
       "motorcycle ebike car transit                                                                                                                    1\n",
       "form will only accept one selection! I have a car motorcycle limited speed motorcycle                                                           1\n",
       "car motorcycle limited speed motorcycle                                                                                                         1\n",
       "this Q is set up to only allow one answer - we have a car m/c 2 gas-powered scooters (Vespa 200cc not LSM)                                      1\n",
       "car van motorcycle                                                                                                                              1\n",
       "the survey is only letting me click one but i have a scooter-style ebike as well                                                                1\n",
       "atv sled                                                                                                                                        1\n",
       "Car motorcycle and SUV                                                                                                                          1\n",
       "car and limited speed motorcycle                                                                                                                1\n",
       "SUV Velomobile pedal assist ebike                                                                                                               1\n",
       "SUV and motorcycle only lets me choose one                                                                                                      1\n",
       "Bicycle                                                                                                                                         1\n",
       "A car and a motorcycle but your survey is flawed and wont let me select both options                                                            1\n",
       "car and limited speed motorcycle                                                                                                                1\n",
       "Car and pedal assist e-bike (the form doesn't allow multiple options)                                                                           1\n",
       "Cars and Motorcycles                                                                                                                            1\n",
       "SUV Motorcycle (couldn't select multiples)                                                                                                      1\n",
       "Motorcycle and SUV                                                                                                                              1\n",
       "a car motorcycle gas powered vespa-not limited speed survet wont let me choose all                                                              1\n",
       "Car and Motorcycle                                                                                                                              1\n",
       "will only let you choose one so i will choose scooter style ebike but i would have checked off a car as well                                    1\n",
       "The author of this survey is a fuk'g idiot how do i answer if i have more than one of these?                                                    1\n",
       "                                                                                                                                             ... \n",
       "car truck motorcycle                                                                                                                            1\n",
       "considering an e-bike                                                                                                                           1\n",
       "Menu does not allow multiple selections despite the title Car and motorcycle                                                                    1\n",
       "pedal assisted scooter type e-bike                                                                                                              1\n",
       "I can't choose all that apply  Car e-bike and pedal bike                                                                                        1\n",
       "A car and a scooter style ebike - this only allowed me one selection                                                                            1\n",
       "Car Motorcycle                                                                                                                                  1\n",
       "car bicycle                                                                                                                                     1\n",
       "both truck and many motorcycles and motorscooters all gas                                                                                       1\n",
       "motorcycle and car you set up this survey wrong so I cant choose two options                                                                    1\n",
       "Car suv motorcycle                                                                                                                              1\n",
       "Car and Vespa                                                                                                                                   1\n",
       "SUV motorcycle limited speed motorcycle                                                                                                         1\n",
       "car and motorcycle (survey only allows single value selection)                                                                                  1\n",
       "A motor scooter                                                                                                                                 1\n",
       "car motorcycle gas scooter                                                                                                                      1\n",
       "Please note that this form does not allow the user to choose more than one option here My household has a car and a scooter style e-bike        1\n",
       "5000W custom high power electric bicycle (non-scooter)                                                                                          1\n",
       "this does not accept all that apply                                                                                                             1\n",
       "car/truck/motorcycle/peddle bike                                                                                                                1\n",
       "I have a truck  Used this field to let you know that I cannot select all that apply  This uses radio buttons                                    1\n",
       "bicycle                                                                                                                                         1\n",
       "can't choose ore than on the form                                                                                                               1\n",
       "Car motorcycle                                                                                                                                  1\n",
       "car and motorcycle (buttons don't work)                                                                                                         1\n",
       "SUV motorcycle scooter style ebike                                                                                                              1\n",
       "car and pedal assist bike                                                                                                                       1\n",
       "also motorcycle - not allowing more than one choice                                                                                             1\n",
       "this should be a checkbox not a radio button                                                                                                    1\n",
       "Survey does not allow for multiple answers                                                                                                      1\n",
       "Name: Does your household have access to any of the following private motorized vehicles?, dtype: int64"
      ]
     },
     "execution_count": 581,
     "metadata": {},
     "output_type": "execute_result"
    }
   ],
   "source": [
    "# Autoshare\n",
    "Y[Y.str.contains(\"Autoshare\") | Y.str.contains(\"AutoShare\") | Y.str.contains(\"autoshare\") | Y.str.contains(\"AUTOSHARE\")] = 1\n",
    "\n",
    "# Zipcar\n",
    "Y[Y.str.contains(\"Zipcar\") | Y.str.contains(\"zipcar\") | Y.str.contains(\"zip car\") | Y.str.contains(\"ZIPCAR\")] = 1\n",
    "\n",
    "# Car2Go\n",
    "Y[Y.str.contains(\"Car2Go\") | Y.str.contains(\"car2go\") | Y.str.contains(\"Cars2Go\") | Y.str.contains(\"CAR2GO\") | Y.str.contains(\"cars2go\")] = 1\n",
    "\n",
    "# Car rental\n",
    "Y[Y.str.contains(\"rent\").fillna(False)] = 1\n",
    "\n",
    "# Car sharing\n",
    "Y[Y.str.contains(\"shar\").fillna(False)] = 1\n",
    "\n",
    "# Car borrowing\n",
    "Y[Y.str.contains(\"borrow\").fillna(False)] = 1\n",
    "\n",
    "Y.value_counts()"
   ]
  },
  {
   "cell_type": "markdown",
   "metadata": {},
   "source": [
    "To complete this cleaning, based on the above responses a fair assumption is that the remaining answers all correspond to the multiple vehicles category. There are responders who have left comments regarding the inavailability of multiple options, and for them, I'm assuming that they require multiple options (and hence, have access to a private motorized vehicle).\n",
    "\n",
    "This assumption for the remaining values works really well, the only possible edge case being the entry \"Considering an e-bike\", in which case it can be written off as a false negative (statistically, the error is fairly insiginificant because of the massive ratio of 1's to 0's).\n",
    "\n",
    "Completing the target variable cleaning:"
   ]
  },
  {
   "cell_type": "code",
   "execution_count": 582,
   "metadata": {},
   "outputs": [
    {
     "data": {
      "text/plain": [
       "0    1605\n",
       "1     633\n",
       "Name: Does your household have access to any of the following private motorized vehicles?, dtype: int64"
      ]
     },
     "execution_count": 582,
     "metadata": {},
     "output_type": "execute_result"
    }
   ],
   "source": [
    "# Assume remaining values correspond to multiple vehicles -> YES\n",
    "Y[(Y != 0) & (Y != 1)] = 1\n",
    "Y.value_counts()"
   ]
  },
  {
   "cell_type": "markdown",
   "metadata": {},
   "source": [
    "### Feature Variables\n",
    "\n",
    "Having prepared the target variable, we now need to go through each feature variable and clean it accordingly. Let's start with age range, and make our way through the different features.\n",
    "\n",
    "#### Age Range\n",
    "\n",
    "Looking at the different age ranges, and the given number of values:"
   ]
  },
  {
   "cell_type": "code",
   "execution_count": 583,
   "metadata": {},
   "outputs": [
    {
     "data": {
      "text/plain": [
       "35 to 49            863\n",
       "18 to 34            789\n",
       "50 to 64            463\n",
       "65 years or more    111\n",
       "17 or younger         8\n",
       "Name: What age range do you fall in?, dtype: int64"
      ]
     },
     "execution_count": 583,
     "metadata": {},
     "output_type": "execute_result"
    }
   ],
   "source": [
    "ageRange = responses[\"What age range do you fall in?\"]\n",
    "ageRange.value_counts()"
   ]
  },
  {
   "cell_type": "code",
   "execution_count": 584,
   "metadata": {},
   "outputs": [
    {
     "data": {
      "text/plain": [
       "count         2234\n",
       "unique           5\n",
       "top       35 to 49\n",
       "freq           863\n",
       "Name: What age range do you fall in?, dtype: object"
      ]
     },
     "execution_count": 584,
     "metadata": {},
     "output_type": "execute_result"
    }
   ],
   "source": [
    "ageRange.describe()"
   ]
  },
  {
   "cell_type": "markdown",
   "metadata": {},
   "source": [
    "From the above information, we can see that the 5 available age ranges are:\n",
    "\n",
    "1. 17 or younger\n",
    "2. 18 to 34\n",
    "3. 35 to 49\n",
    "4. 50 to 64\n",
    "5. 65 years or more\n",
    "\n",
    "Since there's only 5 unique values in the dataset, we know that there isn't an issue with erroneous / invalid age ranges. However, instead of 2238 values we have 2234. Thus, we're **missing 4 values**. These numbers can be filled in simply by following the existing distribution in ages.\n",
    "\n",
    "As seen above, a majority of survey responders fall within the 18 to 34 / 35 to 49 categories (it's almost an equal split, 863 - 789). Thus, in order to fill the missing values we can just follow this distribution and assign 2 values to the 18 to 34 bucket, and another 2 to the 35 to 49 bucket. This ensures that we aren't meddling with the inherent distribution in the data.\n",
    "\n",
    "This can also be done in other ways (i.e creating a pivot table and looking at other factors like Education & Employment to determine Age Range), however since it's only 4 values within a dataset of 2238, this simple method will work well!"
   ]
  },
  {
   "cell_type": "code",
   "execution_count": 585,
   "metadata": {},
   "outputs": [
    {
     "data": {
      "text/plain": [
       "count         2238\n",
       "unique           5\n",
       "top       35 to 49\n",
       "freq           865\n",
       "Name: What age range do you fall in?, dtype: object"
      ]
     },
     "execution_count": 585,
     "metadata": {},
     "output_type": "execute_result"
    }
   ],
   "source": [
    "# Locate missing values\n",
    "ageRange[ageRange.isnull()]\n",
    "\n",
    "# Fill them in - 18 to 34\n",
    "ageRange[782] = \"18 to 34\"\n",
    "ageRange[845] = \"18 to 34\"\n",
    "\n",
    "# Fill them in - 35 to 49\n",
    "ageRange[868] = \"35 to 49\"\n",
    "ageRange[1931] = \"35 to 49\"\n",
    "\n",
    "ageRange.describe()"
   ]
  },
  {
   "cell_type": "markdown",
   "metadata": {},
   "source": [
    "#### Sex\n",
    "\n",
    "Similarly, let's take a look at the distribution of values for the gender/sex category."
   ]
  },
  {
   "cell_type": "code",
   "execution_count": 586,
   "metadata": {},
   "outputs": [
    {
     "data": {
      "text/plain": [
       "Male                       1554\n",
       "Female                      657\n",
       "Genderqueer                   1\n",
       "Irrelevant                    1\n",
       "please                        1\n",
       "Transgender                   1\n",
       "trans                         1\n",
       "Trans Female                  1\n",
       "they                          1\n",
       "unspecified                   1\n",
       "prefer not to disclose        1\n",
       "fifth                         1\n",
       "Name: Sex, dtype: int64"
      ]
     },
     "execution_count": 586,
     "metadata": {},
     "output_type": "execute_result"
    }
   ],
   "source": [
    "gender = responses[\"Sex\"]\n",
    "gender.value_counts()"
   ]
  },
  {
   "cell_type": "code",
   "execution_count": 587,
   "metadata": {},
   "outputs": [
    {
     "data": {
      "text/plain": [
       "count     2221\n",
       "unique      12\n",
       "top       Male\n",
       "freq      1554\n",
       "Name: Sex, dtype: object"
      ]
     },
     "execution_count": 587,
     "metadata": {},
     "output_type": "execute_result"
    }
   ],
   "source": [
    "gender.describe()"
   ]
  },
  {
   "cell_type": "markdown",
   "metadata": {},
   "source": [
    "There are two issues here:\n",
    "\n",
    "1. Missing values (2221 total values instead of 2238)\n",
    "2. Unspecified/Other genders\n",
    "\n",
    "Missing values can be dealt similarly to how it was dealt above, by following the distribution in the data. In this case, the survey is heavily male dominant (1554 Males to 657 Females) and thus the remaining 17 values can be added as \"Males\" without skewing the existing data.\n",
    "\n",
    "There are 10 other unique values that responders have provided, ranging from \"Transgender\" to \"Prefer not to disclose\". All of these can be grouped under one \"Other category\" to simplify analysis."
   ]
  },
  {
   "cell_type": "code",
   "execution_count": 588,
   "metadata": {},
   "outputs": [
    {
     "data": {
      "text/plain": [
       "count     2238\n",
       "unique      12\n",
       "top       Male\n",
       "freq      1571\n",
       "Name: Sex, dtype: object"
      ]
     },
     "execution_count": 588,
     "metadata": {},
     "output_type": "execute_result"
    }
   ],
   "source": [
    "# Fill in missing values\n",
    "gender[gender.isnull()] = \"Male\"\n",
    "gender.describe()"
   ]
  },
  {
   "cell_type": "code",
   "execution_count": 589,
   "metadata": {},
   "outputs": [
    {
     "data": {
      "text/plain": [
       "Male      1571\n",
       "Female     657\n",
       "Other       10\n",
       "Name: Sex, dtype: int64"
      ]
     },
     "execution_count": 589,
     "metadata": {},
     "output_type": "execute_result"
    }
   ],
   "source": [
    "# Group all other genders (other than Male/Female) into their own \"Other\" category\n",
    "gender[(gender != \"Male\") & (gender != \"Female\")] = \"Other\"\n",
    "gender.value_counts()"
   ]
  },
  {
   "cell_type": "markdown",
   "metadata": {},
   "source": [
    "#### Physical Health\n",
    "\n",
    "Let's observe the distribution of values for physical health:"
   ]
  },
  {
   "cell_type": "code",
   "execution_count": 590,
   "metadata": {},
   "outputs": [
    {
     "data": {
      "text/plain": [
       "Very good                                    891\n",
       "Good                                         667\n",
       "Excellent                                    411\n",
       "Fairly good                                  210\n",
       "Poor                                          41\n",
       "healing fractured heel                         1\n",
       "Disabled                                       1\n",
       "need knee replacement                          1\n",
       "In poor shape but active & improving           1\n",
       "healthy but with arthritis mobilty issues      1\n",
       "Back Injury                                    1\n",
       "Obese diabetic but trying to be healthy        1\n",
       "Name: How would you describe your level of physical health?, dtype: int64"
      ]
     },
     "execution_count": 590,
     "metadata": {},
     "output_type": "execute_result"
    }
   ],
   "source": [
    "physicalHealth = responses[\"How would you describe your level of physical health?\"]\n",
    "physicalHealth.value_counts()"
   ]
  },
  {
   "cell_type": "code",
   "execution_count": 591,
   "metadata": {},
   "outputs": [
    {
     "data": {
      "text/plain": [
       "count          2227\n",
       "unique           12\n",
       "top       Very good\n",
       "freq            891\n",
       "Name: How would you describe your level of physical health?, dtype: object"
      ]
     },
     "execution_count": 591,
     "metadata": {},
     "output_type": "execute_result"
    }
   ],
   "source": [
    "physicalHealth.describe()"
   ]
  },
  {
   "cell_type": "markdown",
   "metadata": {},
   "source": [
    "Judging from the above categories, there seems to be the following hiearchy of buckets/values (this is the assumed distribution moving forward):\n",
    "\n",
    "Disabled -> Poor -> Fairly good -> Good -> Very good -> Excellent\n",
    "\n",
    "The disabled category is assumed to include responders that are either permanently or temporarily disabled (via an injury / illness / health impairment). \n",
    "\n",
    "With regards to issues with this feature, the same two problem persist:\n",
    "\n",
    "1. Missing Values (2227 as opposed to 2238)\n",
    "2. Unique Values (most of which fall under the disabled category -> easy to deal with)\n",
    "\n",
    "Dealing with the missing values can be done in the same manner as done so far, by following the given distribution in the data (since the number of missing values is pretty small, only 11). As seen above, a majority of responders report themselves in \"Very good\" shape, or \"Good\" shape. There's approximately twice as many people that reported being in \"Excellent\" shape, as opposed to \"Fairly good\" shape. Following this distribution, we can fill out 4/11 values as \"Very good\", 3/11 values as \"Good\", 2 values as \"Excellent\", and one each for \"Fairly good\" and \"Poor\". The goal is to distribute values in a way that produces the least amount of skew in the existing distribution. Let's do this:"
   ]
  },
  {
   "cell_type": "code",
   "execution_count": 592,
   "metadata": {},
   "outputs": [
    {
     "data": {
      "text/plain": [
       "count          2238\n",
       "unique           12\n",
       "top       Very good\n",
       "freq            895\n",
       "Name: How would you describe your level of physical health?, dtype: object"
      ]
     },
     "execution_count": 592,
     "metadata": {},
     "output_type": "execute_result"
    }
   ],
   "source": [
    "# Locate missing values\n",
    "physicalHealth[physicalHealth.isnull()]\n",
    "\n",
    "# Update missing values based on distribution\n",
    "physicalHealth[215] = \"Very good\"\n",
    "physicalHealth[357] = \"Very good\"\n",
    "physicalHealth[555] = \"Very good\"\n",
    "physicalHealth[782] = \"Very good\"\n",
    "\n",
    "physicalHealth[868] = \"Good\"\n",
    "physicalHealth[1079] = \"Good\"\n",
    "physicalHealth[1131] = \"Good\"\n",
    "\n",
    "physicalHealth[1656] = \"Excellent\"\n",
    "physicalHealth[1693] = \"Excellent\"\n",
    "\n",
    "physicalHealth[1931] = \"Fairly good\"\n",
    "\n",
    "physicalHealth[2076] = \"Poor\"\n",
    "\n",
    "physicalHealth.describe()"
   ]
  },
  {
   "cell_type": "code",
   "execution_count": 593,
   "metadata": {},
   "outputs": [
    {
     "data": {
      "text/plain": [
       "Very good                                    895\n",
       "Good                                         670\n",
       "Excellent                                    413\n",
       "Fairly good                                  211\n",
       "Poor                                          42\n",
       "healing fractured heel                         1\n",
       "Disabled                                       1\n",
       "need knee replacement                          1\n",
       "In poor shape but active & improving           1\n",
       "healthy but with arthritis mobilty issues      1\n",
       "Back Injury                                    1\n",
       "Obese diabetic but trying to be healthy        1\n",
       "Name: How would you describe your level of physical health?, dtype: int64"
      ]
     },
     "execution_count": 593,
     "metadata": {},
     "output_type": "execute_result"
    }
   ],
   "source": [
    "physicalHealth.value_counts()"
   ]
  },
  {
   "cell_type": "code",
   "execution_count": 594,
   "metadata": {},
   "outputs": [
    {
     "data": {
      "text/plain": [
       "Very good      895\n",
       "Good           670\n",
       "Excellent      413\n",
       "Fairly good    211\n",
       "Poor            43\n",
       "Disabled         6\n",
       "Name: How would you describe your level of physical health?, dtype: int64"
      ]
     },
     "execution_count": 594,
     "metadata": {},
     "output_type": "execute_result"
    }
   ],
   "source": [
    "# Single edge case: belongs to Poor category\n",
    "physicalHealth[physicalHealth == \"In poor shape but active & improving\"] = \"Poor\"\n",
    "\n",
    "# Remaining entries can be filed as Disabled\n",
    "physicalHealth[(physicalHealth != \"Very good\") & (physicalHealth != \"Fairly good\") & (physicalHealth != \"Good\") & (physicalHealth != \"Excellent\") & (physicalHealth != \"Poor\")] = \"Disabled\"\n",
    "physicalHealth.value_counts()"
   ]
  },
  {
   "cell_type": "markdown",
   "metadata": {},
   "source": [
    "#### Education\n"
   ]
  },
  {
   "cell_type": "code",
   "execution_count": 595,
   "metadata": {},
   "outputs": [
    {
     "data": {
      "text/plain": [
       "University degree                                    895\n",
       "Post graduate                                        591\n",
       "College or trade school diploma                      521\n",
       "High school diploma                                  192\n",
       "Some university                                        2\n",
       "Professional Certifications                            1\n",
       "college degree (not university and not a diploma)      1\n",
       "Grade 9                                                1\n",
       "Graduate                                               1\n",
       "still in school                                        1\n",
       "in HS                                                  1\n",
       "Professional degree                                    1\n",
       "University Student                                     1\n",
       "university                                             1\n",
       "M D                                                    1\n",
       "working towards OSSD                                   1\n",
       "some university                                        1\n",
       "some uni                                               1\n",
       "PhD                                                    1\n",
       "4 years university no degree                           1\n",
       "High school Student                                    1\n",
       "Some University                                        1\n",
       "Law School                                             1\n",
       "Grade 8                                                1\n",
       "Name: What level of education have you reached?, dtype: int64"
      ]
     },
     "execution_count": 595,
     "metadata": {},
     "output_type": "execute_result"
    }
   ],
   "source": [
    "education = responses[\"What level of education have you reached?\"]\n",
    "education.value_counts()"
   ]
  },
  {
   "cell_type": "code",
   "execution_count": 596,
   "metadata": {},
   "outputs": [
    {
     "data": {
      "text/plain": [
       "count                  2220\n",
       "unique                   24\n",
       "top       University degree\n",
       "freq                    895\n",
       "Name: What level of education have you reached?, dtype: object"
      ]
     },
     "execution_count": 596,
     "metadata": {},
     "output_type": "execute_result"
    }
   ],
   "source": [
    "education.describe()"
   ]
  },
  {
   "cell_type": "markdown",
   "metadata": {},
   "source": [
    "As we can see above, there is a quite a bit of variability in the answers provided. There are also 18 missing values in the data, although if we follow the distribution these values will not be difficult to fill in.\n",
    "\n",
    "The primary issue with the Education category is dealing with the variability in responses. Some of the responses include people who dropped out of high school, others are currently students (either in high school or in university). \n",
    "\n",
    "Here, an assumption is made that the question \"What level of education have you reached?\" implies/equals \"What is the highest degree of education/schooling you have **attained/completed?**\". The latter is typical wording for a question of this nature, and it allows you to group existing students into buckets as well (for example: a University student has attained a High School Diploma). Thus, there's also room for improvement with regards to the question in this category.\n",
    "\n",
    "Note that we're also assuming that professional/online certifications do **not** count as a formal \"education\" level/category.\n",
    "\n",
    "Given this information, the set of categories that can be created are:\n",
    "\n",
    "1. Postgraduate (implies a Masters, PhD, M.D., Law etc)\n",
    "2. University degree\n",
    "3. College or Trade School Diploma\n",
    "4. High School Diploma (OSSD or equivalent)\n",
    "5. No formal educational credential (implies that the responder is still a high school student, or had dropped out)\n",
    "\n",
    "Let's see if we can get this:"
   ]
  },
  {
   "cell_type": "code",
   "execution_count": 597,
   "metadata": {},
   "outputs": [
    {
     "data": {
      "text/plain": [
       "University degree                                    895\n",
       "Post graduate                                        591\n",
       "College or trade school diploma                      521\n",
       "High school diploma                                  193\n",
       "No formal educational credential                       4\n",
       "Some university                                        2\n",
       "Professional Certifications                            1\n",
       "college degree (not university and not a diploma)      1\n",
       "Grade 9                                                1\n",
       "Graduate                                               1\n",
       "Professional degree                                    1\n",
       "university                                             1\n",
       "M D                                                    1\n",
       "Law School                                             1\n",
       "some university                                        1\n",
       "some uni                                               1\n",
       "PhD                                                    1\n",
       "4 years university no degree                           1\n",
       "Some University                                        1\n",
       "Grade 8                                                1\n",
       "Name: What level of education have you reached?, dtype: int64"
      ]
     },
     "execution_count": 597,
     "metadata": {},
     "output_type": "execute_result"
    }
   ],
   "source": [
    "# Filter existing students\n",
    "education[(education.str.contains(\"student\", False).fillna(False)) & (education.str.contains(\"University\", False))] = \"High school diploma \"\n",
    "education[(education.str.contains(\"student\", False).fillna(False)) & (education.str.contains(\"High school\", False))] = \"No formal educational credential\"\n",
    "\n",
    "education[education.str.contains(\"in\", False).fillna(False) & ((education.str.contains(\"HS\", False)) | (education.str.contains(\"school\", False)) | (education.str.contains(\"OSSD\", False)))] = \"No formal educational credential\"\n",
    "education.value_counts()"
   ]
  },
  {
   "cell_type": "code",
   "execution_count": 598,
   "metadata": {},
   "outputs": [
    {
     "data": {
      "text/plain": [
       "3                            4 years university no degree\n",
       "630                                       Some university\n",
       "764     college degree (not university and not a diploma)\n",
       "880                                       Some University\n",
       "1712                                      some university\n",
       "1784                                           university\n",
       "1787                                      Some university\n",
       "2048                                             some uni\n",
       "Name: What level of education have you reached?, dtype: object"
      ]
     },
     "execution_count": 598,
     "metadata": {},
     "output_type": "execute_result"
    }
   ],
   "source": [
    "# Look at university graduates\n",
    "education[((education.str.contains(\"university\", False)) | (education.str.contains(\"uni\", False))) & (education != \"University degree\")]"
   ]
  },
  {
   "cell_type": "markdown",
   "metadata": {},
   "source": [
    "From the above breakdown, we can see two edge cases:\n",
    "\n",
    "1. 4 years university no degree (should be classified as a high school diploma)\n",
    "2. College Degree (not university and not a diploma)\n",
    "\n",
    "The second category is a tricky response, and essentially a design decision as to which category it should fall under. Since generally degree's are a higher form of education / higher education level in comparison to diplomas (regardless of whether it's achieved from a university or a college), I'm assuming that this should fall under the \"University degree\" category.\n",
    "\n",
    "Let's deal with these edge cases (again, ideally the survey question should be changed to better the input responses, or the edge case filtering can be done more intelligently, but for the sake of brevity we can deal with these 2 cases individually)."
   ]
  },
  {
   "cell_type": "code",
   "execution_count": 599,
   "metadata": {},
   "outputs": [
    {
     "data": {
      "text/plain": [
       "630     Some university\n",
       "689            Graduate\n",
       "880     Some University\n",
       "1712    some university\n",
       "1784         university\n",
       "1787    Some university\n",
       "2048           some uni\n",
       "Name: What level of education have you reached?, dtype: object"
      ]
     },
     "execution_count": 599,
     "metadata": {},
     "output_type": "execute_result"
    }
   ],
   "source": [
    "# Deal with one-offs / edge cases\n",
    "education[3] = \"High school diploma \"\n",
    "education[764] = \"University degree\"\n",
    "education[((education.str.contains(\"university\", False)) | (education.str.contains(\"uni\", False)) | (education.str.contains(\"graduate\", False))) & (education != \"University degree\") & (education != \"Post graduate\")]"
   ]
  },
  {
   "cell_type": "code",
   "execution_count": 600,
   "metadata": {},
   "outputs": [
    {
     "data": {
      "text/plain": [
       "University degree                   903\n",
       "Post graduate                       591\n",
       "College or trade school diploma     521\n",
       "High school diploma                 194\n",
       "No formal educational credential      4\n",
       "Professional Certifications           1\n",
       "Law School                            1\n",
       "PhD                                   1\n",
       "M D                                   1\n",
       "Professional degree                   1\n",
       "Grade 9                               1\n",
       "Grade 8                               1\n",
       "Name: What level of education have you reached?, dtype: int64"
      ]
     },
     "execution_count": 600,
     "metadata": {},
     "output_type": "execute_result"
    }
   ],
   "source": [
    "# Assuming that responders that have put \"some university/uni\" or \"graduate\" are graduates from that/a university\n",
    "education[((education.str.contains(\"university\", False)) | (education.str.contains(\"uni\", False)) | (education.str.contains(\"graduate\", False))) & (education != \"University degree\") & (education != \"Post graduate\")] = \"University degree\"\n",
    "education.value_counts()"
   ]
  },
  {
   "cell_type": "markdown",
   "metadata": {},
   "source": [
    "Having done a bulk of the filtering, now the only unique values left either correspond to post graduate programs (i.e. PhD, M.D, LLB etc.) or those with no formal educational credential (i.e. Professional certification, high school dropouts etc.).\n",
    "\n",
    "Note that ideally, doctorate programs should be their own category. It doesn't make sense to add that category now however, since it's impossible to tell how many responders that responded with \"Post graduate\" held doctorate degrees (and wrote that down as the best possible answer). This is another point of improvement for the survey."
   ]
  },
  {
   "cell_type": "code",
   "execution_count": 601,
   "metadata": {},
   "outputs": [
    {
     "data": {
      "text/plain": [
       "University degree                   903\n",
       "Post graduate                       594\n",
       "College or trade school diploma     521\n",
       "High school diploma                 194\n",
       "No formal educational credential      4\n",
       "Professional Certifications           1\n",
       "Professional degree                   1\n",
       "Grade 9                               1\n",
       "Grade 8                               1\n",
       "Name: What level of education have you reached?, dtype: int64"
      ]
     },
     "execution_count": 601,
     "metadata": {},
     "output_type": "execute_result"
    }
   ],
   "source": [
    "# Classify doctorate/post graduate programs\n",
    "education[(education.str.contains(\"PhD\", False)) | (education.str.contains(\"M D\", False)) | (education.str.contains(\"Law School\", False))] = \"Post graduate\"\n",
    "education.value_counts()"
   ]
  },
  {
   "cell_type": "code",
   "execution_count": 602,
   "metadata": {},
   "outputs": [
    {
     "data": {
      "text/plain": [
       "University degree                   903\n",
       "Post graduate                       594\n",
       "College or trade school diploma     521\n",
       "High school diploma                 194\n",
       "No formal educational credential      8\n",
       "Name: What level of education have you reached?, dtype: int64"
      ]
     },
     "execution_count": 602,
     "metadata": {},
     "output_type": "execute_result"
    }
   ],
   "source": [
    "# Classify remaining as \"No formal educational credential\"\n",
    "education[(education != \"University degree\") & (education != \"Post graduate\") & (education != \"College or trade school diploma\") & (education != \"High school diploma \") & (education != \"No formal educational credential\") & (education.notnull())] = \"No formal educational credential\"\n",
    "education.value_counts()"
   ]
  },
  {
   "cell_type": "markdown",
   "metadata": {},
   "source": [
    "Having dealt with the variability in input, we now need to go in and fill missing values. Again, this can be done in numerous ways, like looking at other categories, ie. Income or Employment and inferring the education. However, inferrence based methods are both complex (for the given number of missing values, it doens't necessarily make sense) and also require the other categories to be clean data (which isn't true).\n",
    "\n",
    "Hence, we'll follow the method of using the existing distribution of data to our advantage. Currently, there's an overwhelming majority of responders that have university degrees. Twice as many responders have university degrees, in comparison to those with post graduate degrees or college diplomas. Following this distribution, we get:"
   ]
  },
  {
   "cell_type": "code",
   "execution_count": 603,
   "metadata": {},
   "outputs": [
    {
     "data": {
      "text/plain": [
       "232     NaN\n",
       "245     NaN\n",
       "491     NaN\n",
       "782     NaN\n",
       "805     NaN\n",
       "845     NaN\n",
       "868     NaN\n",
       "877     NaN\n",
       "887     NaN\n",
       "1058    NaN\n",
       "1197    NaN\n",
       "1340    NaN\n",
       "1376    NaN\n",
       "1656    NaN\n",
       "1841    NaN\n",
       "1931    NaN\n",
       "1958    NaN\n",
       "1991    NaN\n",
       "Name: What level of education have you reached?, dtype: object"
      ]
     },
     "execution_count": 603,
     "metadata": {},
     "output_type": "execute_result"
    }
   ],
   "source": [
    "# Locate missing values\n",
    "education[education.isnull()]"
   ]
  },
  {
   "cell_type": "code",
   "execution_count": 604,
   "metadata": {},
   "outputs": [
    {
     "data": {
      "text/plain": [
       "count                  2238\n",
       "unique                    5\n",
       "top       University degree\n",
       "freq                    912\n",
       "Name: What level of education have you reached?, dtype: object"
      ]
     },
     "execution_count": 604,
     "metadata": {},
     "output_type": "execute_result"
    }
   ],
   "source": [
    "# Fill missing values\n",
    "education.fillna(\"University degree\", limit = 9, inplace=True)\n",
    "education.fillna(\"Post graduate\", limit = 4, inplace=True)\n",
    "education.fillna(\"College or trade school diploma\", limit = 4, inplace=True)\n",
    "education.fillna(\"High school diploma \", limit = 1, inplace=True)\n",
    "education.describe()"
   ]
  },
  {
   "cell_type": "markdown",
   "metadata": {},
   "source": [
    "#### Household Income\n"
   ]
  },
  {
   "cell_type": "code",
   "execution_count": 605,
   "metadata": {},
   "outputs": [
    {
     "data": {
      "text/plain": [
       "$100K+          831\n",
       "$60K to $79K    372\n",
       "$80K to $99K    335\n",
       "$40K to $59K    298\n",
       "$20K to $39K    235\n",
       "Under $20K      107\n",
       "Name: What is your household income?, dtype: int64"
      ]
     },
     "execution_count": 605,
     "metadata": {},
     "output_type": "execute_result"
    }
   ],
   "source": [
    "income = responses[\"What is your household income?\"]\n",
    "income.value_counts()"
   ]
  },
  {
   "cell_type": "code",
   "execution_count": 606,
   "metadata": {},
   "outputs": [
    {
     "data": {
      "text/plain": [
       "count       2178\n",
       "unique         6\n",
       "top       $100K+\n",
       "freq         831\n",
       "Name: What is your household income?, dtype: object"
      ]
     },
     "execution_count": 606,
     "metadata": {},
     "output_type": "execute_result"
    }
   ],
   "source": [
    "income.describe()"
   ]
  },
  {
   "cell_type": "markdown",
   "metadata": {},
   "source": [
    "The only issue here is **missing values**, we're missing 60 values to be precise. \n",
    "\n",
    "Rather than just trying to mimic the distribution, let's see if we can be more intelligent here. Intuitively, a primary hypothesis that makes sense is that the **higher your education level, the greater your household income**. Thus, in order to assign the missing incomes, we can do it based on the responder's education level.\n",
    "\n",
    "Let's take a look at the education level of those missing values:"
   ]
  },
  {
   "cell_type": "code",
   "execution_count": 607,
   "metadata": {},
   "outputs": [
    {
     "data": {
      "text/plain": [
       "23                        Post graduate\n",
       "60                    University degree\n",
       "245                   University degree\n",
       "361                   University degree\n",
       "417                   University degree\n",
       "530     College or trade school diploma\n",
       "609                   University degree\n",
       "659                   University degree\n",
       "678                       Post graduate\n",
       "696                   University degree\n",
       "706     College or trade school diploma\n",
       "755                       Post graduate\n",
       "782                   University degree\n",
       "810                       Post graduate\n",
       "827                       Post graduate\n",
       "845                   University degree\n",
       "868                   University degree\n",
       "877                   University degree\n",
       "887                   University degree\n",
       "908     College or trade school diploma\n",
       "917                   University degree\n",
       "939                   University degree\n",
       "1008    College or trade school diploma\n",
       "1089                      Post graduate\n",
       "1136                      Post graduate\n",
       "1197                      Post graduate\n",
       "1208                      Post graduate\n",
       "1211    College or trade school diploma\n",
       "1376                      Post graduate\n",
       "1385                  University degree\n",
       "1490                  University degree\n",
       "1604                  University degree\n",
       "1621               High school diploma \n",
       "1653    College or trade school diploma\n",
       "1676                      Post graduate\n",
       "1684                  University degree\n",
       "1711    College or trade school diploma\n",
       "1783    College or trade school diploma\n",
       "1796    College or trade school diploma\n",
       "1805                      Post graduate\n",
       "1828                      Post graduate\n",
       "1841    College or trade school diploma\n",
       "1899                  University degree\n",
       "1931    College or trade school diploma\n",
       "1935    College or trade school diploma\n",
       "1937    College or trade school diploma\n",
       "1975                  University degree\n",
       "1991               High school diploma \n",
       "2014                  University degree\n",
       "2028                  University degree\n",
       "2029                  University degree\n",
       "2050                      Post graduate\n",
       "2059                      Post graduate\n",
       "2061                      Post graduate\n",
       "2073                  University degree\n",
       "2137                      Post graduate\n",
       "2184                  University degree\n",
       "2187                  University degree\n",
       "2205               High school diploma \n",
       "2222    College or trade school diploma\n",
       "Name: What level of education have you reached?, dtype: object"
      ]
     },
     "execution_count": 607,
     "metadata": {},
     "output_type": "execute_result"
    }
   ],
   "source": [
    "# Education Level of missing income values\n",
    "responses[\"What level of education have you reached?\"][income[income.isnull()].index]"
   ]
  },
  {
   "cell_type": "code",
   "execution_count": 608,
   "metadata": {},
   "outputs": [
    {
     "data": {
      "text/plain": [
       "University degree                   346\n",
       "Post graduate                       294\n",
       "College or trade school diploma     138\n",
       "High school diploma                  50\n",
       "No formal educational credential      3\n",
       "Name: What level of education have you reached?, dtype: int64"
      ]
     },
     "execution_count": 608,
     "metadata": {},
     "output_type": "execute_result"
    }
   ],
   "source": [
    "# Education level of people with 100K+ incomes\n",
    "responses[\"What level of education have you reached?\"][income[income == \"$100K+\"].index].value_counts()"
   ]
  },
  {
   "cell_type": "code",
   "execution_count": 609,
   "metadata": {},
   "outputs": [
    {
     "data": {
      "text/plain": [
       "University degree                   147\n",
       "College or trade school diploma      86\n",
       "Post graduate                        76\n",
       "High school diploma                  24\n",
       "No formal educational credential      2\n",
       "Name: What level of education have you reached?, dtype: int64"
      ]
     },
     "execution_count": 609,
     "metadata": {},
     "output_type": "execute_result"
    }
   ],
   "source": [
    "# Education level of people with $80K to $99K incomes\n",
    "responses[\"What level of education have you reached?\"][income[income == \"$80K to $99K\"].index].value_counts()"
   ]
  },
  {
   "cell_type": "code",
   "execution_count": 610,
   "metadata": {},
   "outputs": [
    {
     "data": {
      "text/plain": [
       "University degree                  81\n",
       "College or trade school diploma    61\n",
       "High school diploma                47\n",
       "Post graduate                      46\n",
       "Name: What level of education have you reached?, dtype: int64"
      ]
     },
     "execution_count": 610,
     "metadata": {},
     "output_type": "execute_result"
    }
   ],
   "source": [
    "# Education level of people with $20K to #39K incomes\n",
    "responses[\"What level of education have you reached?\"][income[income == \"$20K to $39K\"].index].value_counts()"
   ]
  },
  {
   "cell_type": "markdown",
   "metadata": {},
   "source": [
    "Based on the above information, it's clear that the hypothesis mentioned earlier generally holds true. There's definitely exceptions (where people with no formal educational credential have a $100K+ income or postgraduate degree holders have a lower income), but generally the rule holds. This can be seen above, where 100K+ incomes are generally dominated by Education levels of \"University degree\" or \"Post graduate\". In contrast, 60-79K incomes are dominated by Education levels of \"University degree\" or \"College/Trade School diploma\".\n",
    "\n",
    "Based on the above information, we can make the following split:\n",
    "\n",
    "Post graduate -> 100K+ income\n",
    "\n",
    "1/2 of University degree holders -> 100K+ income\n",
    "\n",
    "1/2 of University degree holders -> 80K - 99K\n",
    "\n",
    "College or Trade school diploma -> 60K - 79K\n",
    "\n",
    "High school diploma -> 20K - 39K"
   ]
  },
  {
   "cell_type": "code",
   "execution_count": 611,
   "metadata": {},
   "outputs": [
    {
     "data": {
      "text/plain": [
       "count       2195\n",
       "unique         6\n",
       "top       $100K+\n",
       "freq         848\n",
       "Name: What is your household income?, dtype: object"
      ]
     },
     "execution_count": 611,
     "metadata": {},
     "output_type": "execute_result"
    }
   ],
   "source": [
    "# Post graduate (have to use temp because of the way pandas does inplace with variables)\n",
    "temp = income[responses[\"What level of education have you reached?\"] == \"Post graduate\"]\n",
    "temp.fillna(\"$100K+\", inplace=True)\n",
    "income[responses[\"What level of education have you reached?\"] == \"Post graduate\"] = temp\n",
    "income.describe()"
   ]
  },
  {
   "cell_type": "code",
   "execution_count": 612,
   "metadata": {},
   "outputs": [
    {
     "data": {
      "text/plain": [
       "count       2221\n",
       "unique         6\n",
       "top       $100K+\n",
       "freq         874\n",
       "Name: What is your household income?, dtype: object"
      ]
     },
     "execution_count": 612,
     "metadata": {},
     "output_type": "execute_result"
    }
   ],
   "source": [
    "# University degree\n",
    "temp = income[responses[\"What level of education have you reached?\"] == \"University degree\"]\n",
    "temp.fillna(\"$100K+\", limit = len(temp)/2, inplace=True)\n",
    "temp.fillna(\"$80K to $99K\", inplace=True)\n",
    "income[responses[\"What level of education have you reached?\"] == \"University degree\"] = temp\n",
    "income.describe()"
   ]
  },
  {
   "cell_type": "code",
   "execution_count": 613,
   "metadata": {},
   "outputs": [
    {
     "data": {
      "text/plain": [
       "count       2235\n",
       "unique         6\n",
       "top       $100K+\n",
       "freq         874\n",
       "Name: What is your household income?, dtype: object"
      ]
     },
     "execution_count": 613,
     "metadata": {},
     "output_type": "execute_result"
    }
   ],
   "source": [
    "# College or Trade School diploma\n",
    "temp = income[responses[\"What level of education have you reached?\"] == \"College or trade school diploma\"]\n",
    "temp.fillna(\"$60K to $79K\", inplace=True)\n",
    "income[responses[\"What level of education have you reached?\"] == \"College or trade school diploma\"] = temp\n",
    "income.describe()"
   ]
  },
  {
   "cell_type": "code",
   "execution_count": 614,
   "metadata": {},
   "outputs": [
    {
     "data": {
      "text/plain": [
       "count       2238\n",
       "unique         6\n",
       "top       $100K+\n",
       "freq         874\n",
       "Name: What is your household income?, dtype: object"
      ]
     },
     "execution_count": 614,
     "metadata": {},
     "output_type": "execute_result"
    }
   ],
   "source": [
    "# High school diploma\n",
    "temp = income[responses[\"What level of education have you reached?\"] == \"High school diploma \"]\n",
    "temp.fillna(\"$20K to $39K\", inplace=True)\n",
    "income[responses[\"What level of education have you reached?\"] == \"High school diploma \"] = temp\n",
    "income.describe()"
   ]
  },
  {
   "cell_type": "markdown",
   "metadata": {},
   "source": [
    "#### Employment"
   ]
  },
  {
   "cell_type": "code",
   "execution_count": 617,
   "metadata": {},
   "outputs": [
    {
     "data": {
      "text/plain": [
       "Full Time                                                                                                                            1405\n",
       "Self Employed                                                                                                                         361\n",
       "Retired                                                                                                                               136\n",
       "Part Time                                                                                                                             121\n",
       "Student                                                                                                                               118\n",
       "Unemployed                                                                                                                             37\n",
       "Home Maker                                                                                                                             17\n",
       "disabled                                                                                                                                2\n",
       "ODSP                                                                                                                                    2\n",
       "part time while I write                                                                                                                 1\n",
       "Free-lance and home maker                                                                                                               1\n",
       "full time casual                                                                                                                        1\n",
       "Extreme full-time                                                                                                                       1\n",
       "DISSABLE                                                                                                                                1\n",
       "I don't understand the rationale for these demographic questions and I'm not sure the privacy statements meets CIMS requirements        1\n",
       "Disability pension                                                                                                                      1\n",
       "ltip disability                                                                                                                         1\n",
       "Contract                                                                                                                                1\n",
       "semi-retired self-employed                                                                                                              1\n",
       "FT Contract                                                                                                                             1\n",
       "Freelance Contractor                                                                                                                    1\n",
       "contract                                                                                                                                1\n",
       "Seasonal Full-Time                                                                                                                      1\n",
       "full time work and student                                                                                                              1\n",
       "DISABLED                                                                                                                                1\n",
       "occasional teacher                                                                                                                      1\n",
       "Full time job 3 days a week own startup rest of time                                                                                    1\n",
       "arts worker - partial full time                                                                                                         1\n",
       "none of your business                                                                                                                   1\n",
       "Free Lance                                                                                                                              1\n",
       "Freelance Artist                                                                                                                        1\n",
       "Student/internship                                                                                                                      1\n",
       "Doctoral Student                                                                                                                        1\n",
       "Name: Which category best describes your employment?, dtype: int64"
      ]
     },
     "execution_count": 617,
     "metadata": {},
     "output_type": "execute_result"
    }
   ],
   "source": [
    "employment = responses['Which category best describes your employment?']\n",
    "employment.value_counts()"
   ]
  },
  {
   "cell_type": "code",
   "execution_count": 618,
   "metadata": {},
   "outputs": [
    {
     "data": {
      "text/plain": [
       "count          2223\n",
       "unique           33\n",
       "top       Full Time\n",
       "freq           1405\n",
       "Name: Which category best describes your employment?, dtype: object"
      ]
     },
     "execution_count": 618,
     "metadata": {},
     "output_type": "execute_result"
    }
   ],
   "source": [
    "employment.describe()"
   ]
  },
  {
   "cell_type": "markdown",
   "metadata": {},
   "source": [
    "Similar to other categories, there are:\n",
    "\n",
    "1. 15 Missing Values\n",
    "2. Unique Values needed to be categorized\n",
    "\n",
    "Since there is an overwhelmingly large majority of Full Time workers (> 60%), we will categorize the 15 missing values as Full Time as well.\n",
    "\n",
    "Regarding the unique values, judging from the responses, it's reasonable to assume that Free Lance / Contract falls under the \"Self Employed\" category. For answers like \"None of your business\", we will assume \"Unemployed\". For responders that fall under both category, as long as they're placed under one of the corresponding labels we will assume that their \"employment\" has been recorded (this may need to change when we manipulate features during model selection and prediction)."
   ]
  },
  {
   "cell_type": "code",
   "execution_count": 620,
   "metadata": {},
   "outputs": [
    {
     "data": {
      "text/plain": [
       "count          2238\n",
       "unique           33\n",
       "top       Full Time\n",
       "freq           1420\n",
       "Name: Which category best describes your employment?, dtype: object"
      ]
     },
     "execution_count": 620,
     "metadata": {},
     "output_type": "execute_result"
    }
   ],
   "source": [
    "# Missing values\n",
    "employment.fillna(\"Full Time\", inplace = True)\n",
    "employment.describe()"
   ]
  },
  {
   "cell_type": "code",
   "execution_count": 640,
   "metadata": {},
   "outputs": [
    {
     "data": {
      "text/plain": [
       "Full Time                                                                                                                            1420\n",
       "Self Employed                                                                                                                         369\n",
       "Retired                                                                                                                               136\n",
       "Part Time                                                                                                                             124\n",
       "Student                                                                                                                               121\n",
       "Unemployed                                                                                                                             37\n",
       "Home Maker                                                                                                                             17\n",
       "Disabled                                                                                                                                8\n",
       "none of your business                                                                                                                   1\n",
       "Full time job 3 days a week own startup rest of time                                                                                    1\n",
       "Seasonal Full-Time                                                                                                                      1\n",
       "I don't understand the rationale for these demographic questions and I'm not sure the privacy statements meets CIMS requirements        1\n",
       "full time casual                                                                                                                        1\n",
       "Extreme full-time                                                                                                                       1\n",
       "Name: Which category best describes your employment?, dtype: int64"
      ]
     },
     "execution_count": 640,
     "metadata": {},
     "output_type": "execute_result"
    }
   ],
   "source": [
    "# Filter unique values and categorize accordingly\n",
    "\n",
    "employment[(employment.str.contains(\"student\", False)) & (employment != \"Student\")] = \"Student\"\n",
    "\n",
    "employment[(employment.str.contains(\"disab\", False) | (employment.str.contains(\"dissab\", False)) | employment.str.contains(\"odsp\", False))] = \"Disabled\"\n",
    "\n",
    "employment[employment.str.contains(\"contract\", False) | employment.str.contains(\"free\", False) | employment.str.contains(\"self\")] = \"Self Employed\"\n",
    "\n",
    "employment[(employment.str.contains(\"occas\", False) | employment.str.contains(\"part\")) & (employment != \"Part Time\")] = \"Part Time\"\n",
    "\n",
    "employment.value_counts()"
   ]
  },
  {
   "cell_type": "code",
   "execution_count": 647,
   "metadata": {},
   "outputs": [
    {
     "data": {
      "text/plain": [
       "Full Time        1424\n",
       "Self Employed     369\n",
       "Retired           136\n",
       "Part Time         124\n",
       "Student           121\n",
       "Unemployed         39\n",
       "Home Maker         17\n",
       "Disabled            8\n",
       "Name: Which category best describes your employment?, dtype: int64"
      ]
     },
     "execution_count": 647,
     "metadata": {},
     "output_type": "execute_result"
    }
   ],
   "source": [
    "# Assuming casual/seasonal employees are still full-time (based on Google search of Employment Rules/Categories)\n",
    "employment[employment.str.contains(\"full\", False) & (employment != \"Full Time\")] = \"Full Time\"\n",
    "\n",
    "# Classify remaining as Unemployed (only 2 values, an incorrect assumption doesn't necessarily hurt us)\n",
    "employment[(employment != \"Full Time\") & (employment != \"Part Time\") & (employment != \"Self Employed\") & (employment != \"Retired\") & (employment != \"Student\") & (employment != \"Home Maker\") & (employment != \"Disabled\") & (employment != \"Unemployed\")] = \"Unemployed\"\n",
    "\n",
    "employment.value_counts()"
   ]
  },
  {
   "cell_type": "markdown",
   "metadata": {},
   "source": [
    "#### Toronto District"
   ]
  },
  {
   "cell_type": "code",
   "execution_count": 648,
   "metadata": {},
   "outputs": [
    {
     "data": {
      "text/plain": [
       "Central Toronto York or East York                                                1634\n",
       "Etobicoke                                                                         236\n",
       "North York                                                                        129\n",
       "Scarborough                                                                       120\n",
       "Mississauga                                                                        24\n",
       "Brampton                                                                            9\n",
       "Waterloo                                                                            4\n",
       "Pickering                                                                           4\n",
       "Guelph                                                                              3\n",
       "oshawa                                                                              3\n",
       "Richmond Hill                                                                       3\n",
       "Oakville                                                                            3\n",
       "GTA                                                                                 2\n",
       "Markham                                                                             2\n",
       "Hamilton                                                                            2\n",
       "Ottawa                                                                              2\n",
       "markham                                                                             2\n",
       "Bulington                                                                           2\n",
       "Vaughan                                                                             2\n",
       "mississauga                                                                         2\n",
       "ottawa                                                                              2\n",
       "Beaches                                                                             1\n",
       "Whitby                                                                              1\n",
       "mississauga east                                                                    1\n",
       "York Region                                                                         1\n",
       "South Africa                                                                        1\n",
       "out of town                                                                         1\n",
       "Kingston                                                                            1\n",
       "niagara region                                                                      1\n",
       "i live in hamilton partner lives in north york                                      1\n",
       "                                                                                 ... \n",
       "Paris Ontario                                                                       1\n",
       "Guelph                                                                              1\n",
       "Barrie                                                                              1\n",
       "Ajax                                                                                1\n",
       "I used to live in central Toronto still visit for extended periods regularly        1\n",
       "Richmomd Hill                                                                       1\n",
       "durham region                                                                       1\n",
       "whitby                                                                              1\n",
       "Victoria BC                                                                         1\n",
       "other                                                                               1\n",
       "Bangkok                                                                             1\n",
       "Milton                                                                              1\n",
       "St Catharines Ontario                                                               1\n",
       "High Park                                                                           1\n",
       "Beach                                                                               1\n",
       "Burlington                                                                          1\n",
       "Bloor West Village                                                                  1\n",
       "west end                                                                            1\n",
       "Halton                                                                              1\n",
       "brampton                                                                            1\n",
       "Thornhill                                                                           1\n",
       "St Catharines                                                                       1\n",
       "Work in TO                                                                          1\n",
       "KW                                                                                  1\n",
       "Durham                                                                              1\n",
       "Woodbridge                                                                          1\n",
       "City of Orillia                                                                     1\n",
       "beaches                                                                             1\n",
       "YORK REGION                                                                         1\n",
       "cambridge                                                                           1\n",
       "Name: What Toronto district is your primary address located in?, dtype: int64"
      ]
     },
     "execution_count": 648,
     "metadata": {},
     "output_type": "execute_result"
    }
   ],
   "source": [
    "torontoDistrict = responses[\"What Toronto district is your primary address located in?\"]\n",
    "torontoDistrict.value_counts()"
   ]
  },
  {
   "cell_type": "code",
   "execution_count": 649,
   "metadata": {},
   "outputs": [
    {
     "data": {
      "text/plain": [
       "count                                  2237\n",
       "unique                                   68\n",
       "top       Central Toronto York or East York\n",
       "freq                                   1634\n",
       "Name: What Toronto district is your primary address located in?, dtype: object"
      ]
     },
     "execution_count": 649,
     "metadata": {},
     "output_type": "execute_result"
    }
   ],
   "source": [
    "torontoDistrict.describe()"
   ]
  },
  {
   "cell_type": "code",
   "execution_count": 651,
   "metadata": {},
   "outputs": [
    {
     "data": {
      "text/plain": [
       "count                                  2238\n",
       "unique                                   68\n",
       "top       Central Toronto York or East York\n",
       "freq                                   1635\n",
       "Name: What Toronto district is your primary address located in?, dtype: object"
      ]
     },
     "execution_count": 651,
     "metadata": {},
     "output_type": "execute_result"
    }
   ],
   "source": [
    "# Only one missing value -> assign to the majority (Central Toronto York or East York)\n",
    "torontoDistrict.fillna(\"Central Toronto York or East York\", inplace = True)\n",
    "torontoDistrict.describe()"
   ]
  },
  {
   "cell_type": "markdown",
   "metadata": {},
   "source": [
    "Regarding the number of unique answers that exist, it's important to remember that the question is *What Toronto District is your primary address located in*.\n",
    "\n",
    "Toronto has 4 primary districts:\n",
    "1. Toronto East/Central York\n",
    "2. Etobicoke\n",
    "3. Scarborough\n",
    "4. North York\n",
    "\n",
    "This is seen in the image below:\n",
    "<img src = \"https://www1.toronto.ca/City%20Of%20Toronto/Toronto%20Building/Shared%20Content/Images/Ward%20Images/torontoWard_1540x1140.jpg\" />\n",
    "\n",
    "Thus, all cities outside of these 4 entries can be grouped together into a common \"Outside the above 4 districts\" entry! This includes the GTA, and any other residences outside of the 4 primary districts of the city. This should also be how the survey is structured, and thus acts as an additional improvement reccomendation."
   ]
  },
  {
   "cell_type": "code",
   "execution_count": 659,
   "metadata": {},
   "outputs": [
    {
     "data": {
      "text/plain": [
       "21                         Mississauga\n",
       "49                            Hamilton\n",
       "61                         out of town\n",
       "79                         Mississauga\n",
       "96                         mississauga\n",
       "130                              other\n",
       "135                             oshawa\n",
       "171                           Hamilton\n",
       "218                          Pickering\n",
       "235                           Brampton\n",
       "241                             Guelph\n",
       "248                           Waterloo\n",
       "274                             oshawa\n",
       "321                        Mississauga\n",
       "323                            Markham\n",
       "330                      Richmomd Hill\n",
       "360                             Durham\n",
       "364                        Leslieville\n",
       "391                              Ajax \n",
       "395                             ottawa\n",
       "447                           Oakville\n",
       "451                          Thornhill\n",
       "458                        Mississauga\n",
       "463                        Mississauga\n",
       "465                           Brampton\n",
       "485                        Mississauga\n",
       "496                             oshawa\n",
       "510                      GTA FOR LIFE!\n",
       "519                        Mississauga\n",
       "522                         Work in TO\n",
       "                     ...              \n",
       "1567                           Vaughan\n",
       "1585                          brampton\n",
       "1625                          Brampton\n",
       "1641                          Brampton\n",
       "1645                           leaside\n",
       "1678                          Brampton\n",
       "1679    never north of bloor downtown \n",
       "1690                       Mississauga\n",
       "1708               Peterborough County\n",
       "1711             St Catharines Ontario\n",
       "1720                    niagara region\n",
       "1723                           beaches\n",
       "1731                     durham region\n",
       "1735                           Guelph \n",
       "1741                       Mississauga\n",
       "1742                       Mississauga\n",
       "1810                         cambridge\n",
       "1880                       Mississauga\n",
       "1895                          west end\n",
       "1897                          Brampton\n",
       "1956                            ottawa\n",
       "2053                       Mississauga\n",
       "2080                   City of Orillia\n",
       "2082                  mississauga east\n",
       "2092                       Mississauga\n",
       "2096                       not sharing\n",
       "2138                           markham\n",
       "2180                       Mississauga\n",
       "2184                            Guelph\n",
       "2210                       Mississauga\n",
       "Name: What Toronto district is your primary address located in?, dtype: object"
      ]
     },
     "execution_count": 659,
     "metadata": {},
     "output_type": "execute_result"
    }
   ],
   "source": [
    "# Get values outside of Toronto\n",
    "torontoDistrict[~torontoDistrict.str.contains(\"York\", False) & ~torontoDistrict.str.contains(\"Etobicoke\", False) & ~torontoDistrict.str.contains(\"Scarborough\", False)]"
   ]
  },
  {
   "cell_type": "code",
   "execution_count": 660,
   "metadata": {},
   "outputs": [
    {
     "data": {
      "text/plain": [
       "Central Toronto York or East York                      1635\n",
       "Etobicoke                                               236\n",
       "North York                                              129\n",
       "Scarborough                                             120\n",
       "Outside of the above 4 primary districts of Toronto     115\n",
       "York Region                                               1\n",
       "YORK REGION                                               1\n",
       "i live in hamilton partner lives in north york            1\n",
       "Name: What Toronto district is your primary address located in?, dtype: int64"
      ]
     },
     "execution_count": 660,
     "metadata": {},
     "output_type": "execute_result"
    }
   ],
   "source": [
    "# Assign to new category\n",
    "torontoDistrict[~torontoDistrict.str.contains(\"York\", False) & ~torontoDistrict.str.contains(\"Etobicoke\", False) & ~torontoDistrict.str.contains(\"Scarborough\", False)] = \"Outside of the above 4 primary districts of Toronto\"\n",
    "torontoDistrict.value_counts()"
   ]
  },
  {
   "cell_type": "code",
   "execution_count": 663,
   "metadata": {},
   "outputs": [
    {
     "data": {
      "text/plain": [
       "Central Toronto York or East York                      1635\n",
       "Etobicoke                                               236\n",
       "North York                                              129\n",
       "Scarborough                                             120\n",
       "Outside of the above 4 primary districts of Toronto     118\n",
       "Name: What Toronto district is your primary address located in?, dtype: int64"
      ]
     },
     "execution_count": 663,
     "metadata": {},
     "output_type": "execute_result"
    }
   ],
   "source": [
    "# Assign remaining values to appropriate region -> York Region is NOT a part of Toronto\n",
    "torontoDistrict[torontoDistrict.str.contains(\"york region\", False)] = \"Outside of the above 4 primary districts of Toronto\"\n",
    "\n",
    "# The person responding has their primary residence in Hamilton -> not in Toronto\n",
    "torontoDistrict[torontoDistrict.str.contains(\"hamilton\")] = \"Outside of the above 4 primary districts of Toronto\"\n",
    "\n",
    "torontoDistrict.value_counts()"
   ]
  },
  {
   "cell_type": "code",
   "execution_count": null,
   "metadata": {},
   "outputs": [],
   "source": []
  }
 ],
 "metadata": {
  "kernelspec": {
   "display_name": "Python 2",
   "language": "python",
   "name": "python2"
  },
  "language_info": {
   "codemirror_mode": {
    "name": "ipython",
    "version": 2
   },
   "file_extension": ".py",
   "mimetype": "text/x-python",
   "name": "python",
   "nbconvert_exporter": "python",
   "pygments_lexer": "ipython2",
   "version": "2.7.13"
  }
 },
 "nbformat": 4,
 "nbformat_minor": 2
}
